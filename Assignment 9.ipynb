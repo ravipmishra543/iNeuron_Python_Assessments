{
 "cells": [
  {
   "cell_type": "markdown",
   "id": "bc26bdb1",
   "metadata": {},
   "source": [
    "# ASSIGNMENT NO 9 - SOLUTION"
   ]
  },
  {
   "cell_type": "markdown",
   "id": "58264231",
   "metadata": {},
   "source": [
    "### Q.1 To what does a relative path refer?"
   ]
  },
  {
   "cell_type": "markdown",
   "id": "b76c5ad2",
   "metadata": {},
   "source": [
    "**ANS** = The `relative path` is the path to some file with respect to your current working directory (PWD).\n",
    "\n",
    "For example: If Absolute path to a file called `stuff.txt` is: `C:/users/admin/docs/stuff.txt`. If my `PWD` is `C:/users/admin/`, then the relative path to `stuff.txt` would be: `docs/stuff.txt`.\n",
    "\n",
    "Note: PWD + relative path = absolute path"
   ]
  },
  {
   "cell_type": "markdown",
   "id": "8e6323a5",
   "metadata": {},
   "source": [
    "### Q.2 What does an absolute path start with your operating system?"
   ]
  },
  {
   "cell_type": "markdown",
   "id": "b119bffb",
   "metadata": {},
   "source": [
    "**ANS** = In Linux based systems the absolute path starts with **`/`**. Where as in Windows based systems absolute path starts with **`C:`**."
   ]
  },
  {
   "cell_type": "markdown",
   "id": "242c6fd2",
   "metadata": {},
   "source": [
    "### Q.3 What do the functions os.getcwd( ) and os.chdir( ) do?"
   ]
  },
  {
   "cell_type": "markdown",
   "id": "4c2eb7a1",
   "metadata": {},
   "source": [
    "**ANS** = `os.getcwd()` method tells us the location of current working directory (CWD). Whereas `os.chdir()` method in Python used to change the current working directory to specified path. These functions are similar to linux commands pwd and cd."
   ]
  },
  {
   "cell_type": "code",
   "execution_count": 1,
   "id": "f388a47c",
   "metadata": {},
   "outputs": [
    {
     "name": "stdout",
     "output_type": "stream",
     "text": [
      "C:\\Users\\krish\\Jupyter Notebook\\0. Assignments\n",
      "C:\\Users\\krish\n"
     ]
    }
   ],
   "source": [
    "import os\n",
    "print(os.getcwd()) # Prints the current Working Directory\n",
    "path = r'C:\\Users\\krish'\n",
    "os.chdir(path)\n",
    "print(os.getcwd())"
   ]
  },
  {
   "cell_type": "markdown",
   "id": "2eed4de8",
   "metadata": {},
   "source": [
    "### Q.4 What are the `.` and `..` folders?"
   ]
  },
  {
   "cell_type": "markdown",
   "id": "5ac4c61f",
   "metadata": {},
   "source": [
    "**ANS** = **`.`** Represents the Current Directory whereas **`..`** represents the Parent Directory of the Current Directory.\n",
    "\n",
    "**For Example:** If the below path is my absolute path:\n",
    "\n",
    "`C:\\\\Users\\\\vishnu\\\\Documents\\\\iNeuron-Assignments\\\\Python Basic Assignment`\n",
    "\n",
    "Then **`.`** represents the path `C:\\\\Users\\\\vishnu\\\\Documents\\\\iNeuron-Assignments\\\\Python Basic Assignment`\n",
    "\n",
    "Where as **`..`** represents the path `C:\\\\Users\\\\vishnu\\\\Documents\\\\iNeuron-Assignments`"
   ]
  },
  {
   "cell_type": "markdown",
   "id": "65ebb626",
   "metadata": {},
   "source": [
    "### Q.5 In `C:\\bacon\\eggs\\spam.txt`, which part is the dir name, and which part is the base name?"
   ]
  },
  {
   "cell_type": "markdown",
   "id": "c2c28c74",
   "metadata": {},
   "source": [
    "**ANS** = For **`C:\\bacon\\eggs\\spam.txt`**\n",
    "\n",
    "The dir name is **`C:\\\\bacon\\\\eggs`**\n",
    "\n",
    "The Base name is **`spam.txt`**"
   ]
  },
  {
   "cell_type": "markdown",
   "id": "2fe25ab5",
   "metadata": {},
   "source": [
    "### Q.6 What are the three “mode” arguments that can be passed to the `open()` function?"
   ]
  },
  {
   "cell_type": "markdown",
   "id": "37bf74fd",
   "metadata": {},
   "source": [
    "**ANS** = A file can be Accessed in python using `open() function`. open function takes two arguments filename and mode of operation (optional). If mode is not provided the default mode of opening is read mode.\n",
    "\n",
    "So, the syntax being: open(filename, mode)\n",
    "\n",
    "**`‘r’`** – Read Mode: This is the default mode for open(). The file is opened and a pointer is positioned at the beginning of the file’s content.\n",
    "\n",
    "**`‘w’`** – Write Mode: Using this mode will overwrite any existing content in a file. If the given file does not exist, a new one will be created.\n",
    "\n",
    "**`‘r+’`** – Read/Write Mode: Use this mode if you need to simultaneously read and write to a file.\n",
    "\n",
    "**`‘a’`** – Append Mode: With this mode the user can append the data without overwriting any already existing data in the file.\n",
    "\n",
    "**`‘a+’`** – Append and Read Mode: In this mode you can read and append the data without overwriting the original file.\n",
    "\n",
    "**`‘x’`** – Exclusive Creating Mode: This mode is for the sole purpose of creating new files. Use this mode if you know the file to be written doesn’t exist beforehand."
   ]
  },
  {
   "cell_type": "markdown",
   "id": "0a93da96",
   "metadata": {},
   "source": [
    "### Q.7 What happens if an existing file is opened in `write` mode?"
   ]
  },
  {
   "cell_type": "markdown",
   "id": "2ac12a0a",
   "metadata": {},
   "source": [
    "**ANS** = Using this mode will overwrite any existing content in a file. If the given file does not exist, a new one will be created."
   ]
  },
  {
   "cell_type": "markdown",
   "id": "beec83c7",
   "metadata": {},
   "source": [
    "### Q.8 How do you tell the difference between `read()` and `readlines()`?"
   ]
  },
  {
   "cell_type": "markdown",
   "id": "ce389211",
   "metadata": {},
   "source": [
    "**ANS** = The main difference is that `read()` will read the whole file at once and then print out the first characters that take up as many bytes as you specify in the parenthesis.\n",
    "\n",
    "Whereas the `readline()` that will read and print out only the first characters that take up as many bytes as you specify in the parenthesis. You may want to use readline() when you're reading files that are too big for your RAM.\n",
    "\n",
    "The `read()` would treat each character in the file separately, meaning that the iteration would happen for every character.\n",
    "\n",
    "The `readline()` function, on the other hand, only reads a single line of the file. This means that if the first line of the file were three lines long, the `readline()` function would only parse (or iterate/operate) on the first line of the file."
   ]
  },
  {
   "cell_type": "markdown",
   "id": "51771e42",
   "metadata": {},
   "source": [
    "### Q.9 What data structure does a shelf value resemble?"
   ]
  },
  {
   "cell_type": "markdown",
   "id": "2efc181a",
   "metadata": {},
   "source": [
    "**ANS** = It contains key and values it represents dictionary."
   ]
  }
 ],
 "metadata": {
  "kernelspec": {
   "display_name": "Python 3 (ipykernel)",
   "language": "python",
   "name": "python3"
  },
  "language_info": {
   "codemirror_mode": {
    "name": "ipython",
    "version": 3
   },
   "file_extension": ".py",
   "mimetype": "text/x-python",
   "name": "python",
   "nbconvert_exporter": "python",
   "pygments_lexer": "ipython3",
   "version": "3.9.13"
  }
 },
 "nbformat": 4,
 "nbformat_minor": 5
}
