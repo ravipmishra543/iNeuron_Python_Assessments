{
 "cells": [
  {
   "cell_type": "markdown",
   "id": "4de13542",
   "metadata": {},
   "source": [
    "# ASSIGNMENT NO 12 - SOLUTION"
   ]
  },
  {
   "cell_type": "markdown",
   "id": "8289f05e",
   "metadata": {},
   "source": [
    "### Q.1 In what modes should the PdfFileReader() and PdfFileWriter() File objects will be opened?"
   ]
  },
  {
   "cell_type": "markdown",
   "id": "1fb7c2f1",
   "metadata": {},
   "source": [
    "**ANS** = For PdfFileReader() file objects should be opened in rb -> read binary mode, Whereas for PdfFileWriter() file objects should be opened in wb -> write binary mode."
   ]
  },
  {
   "cell_type": "markdown",
   "id": "54c7d2e9",
   "metadata": {},
   "source": [
    "### Q.2 From a PdfFileReader object, how do you get a Page object for page 5?"
   ]
  },
  {
   "cell_type": "markdown",
   "id": "344509ac",
   "metadata": {},
   "source": [
    "**ANS** = PdfFileReader class provides a method called getPage(page_no) to get a page object."
   ]
  },
  {
   "cell_type": "code",
   "execution_count": null,
   "id": "69555a9a",
   "metadata": {},
   "outputs": [],
   "source": [
    "# Example Code:\n",
    "from PyPDF2 import PdfFileReader\n",
    "pdf_reader = PdfFileReader(\"C:\\\\Users\\\\krish\\\\Jupyter Notebook\\\\Mega_Living.pdf\")\n",
    "for page in pdf_reader.getNumPages():\n",
    "    pdf_reader.getPage(page)"
   ]
  },
  {
   "cell_type": "code",
   "execution_count": null,
   "id": "8fe8e3f8",
   "metadata": {},
   "outputs": [],
   "source": [
    "# PdfFileReader is depreciated in new version, so use following code.\n",
    "# Example Code:\n",
    "from PyPDF2 import PdfReader\n",
    "pdf_read = PdfReader(\"C:\\\\Users\\\\krish\\\\Jupyter Notebook\\\\Mega_Living.pdf\")\n",
    "for page_no in range(len(pdf_read.pages)):\n",
    "    pdf_read.pages[page_no]"
   ]
  },
  {
   "cell_type": "markdown",
   "id": "e2ea53a4",
   "metadata": {},
   "source": [
    "### Q.3 What PdfFileReader variable stores the number of pages in the PDF document?"
   ]
  },
  {
   "cell_type": "markdown",
   "id": "983a1444",
   "metadata": {},
   "source": [
    "**ANS** = **`getNumPages()`** method of **`PdfFileReader`** class stores the no pages in a PDF document."
   ]
  },
  {
   "cell_type": "code",
   "execution_count": null,
   "id": "dcf91b95",
   "metadata": {},
   "outputs": [],
   "source": [
    "#Example Code:\n",
    "from PyPDF2 import PdfFileReader\n",
    "pdf_reader = PdfFileReader(file_path)\n",
    "print(pdf_reader.getNumPages()) # Prints the no of pages in a input document"
   ]
  },
  {
   "cell_type": "markdown",
   "id": "b60c995b",
   "metadata": {},
   "source": [
    "### Q.4 If a PdfFileReader object’s PDF is encrypted with the password swordfish, what must you do before you can obtain Page objects from it?"
   ]
  },
  {
   "cell_type": "markdown",
   "id": "c42b4afb",
   "metadata": {},
   "source": [
    "**ANS** = If a **`PdfFileReader`** object’s PDF is encrypted with the password **`swordfish`** and you're not aware of it. first read the Pdf using the PdfFileReader Class. PdfFileReader class provides a attribute called **`isEncrypted`** to check whether a pdf is encrypted or not. the method returns true if a pdf is encrypted and vice versa. If pdf is encrypted use the **`decrypt()`** method provided by PdfFileReader class first then try to read the contents/pages of the pdf, else PyPDF2 will raise the following error **`PyPDF2.utils.PdfReadError: file has not been decrypted`**."
   ]
  },
  {
   "cell_type": "code",
   "execution_count": null,
   "id": "900d987d",
   "metadata": {},
   "outputs": [],
   "source": [
    "#Example Code:\n",
    "from PyPDF2 import PdfFileReader\n",
    "pdf_reader = PdfFileReader(file_path)\n",
    "if pdf_reader.isEncrypted: # to check whether the pdf is encrypted or not\n",
    "    pdf_reader.decrypt(\"swordfish\")\n",
    "for page in pdf_reader.pages:\n",
    "    print(page.extractText()) # to print the text data of a page from pdf"
   ]
  },
  {
   "cell_type": "markdown",
   "id": "be917620",
   "metadata": {},
   "source": [
    "### Q.5 What methods do you use to rotate a page?"
   ]
  },
  {
   "cell_type": "markdown",
   "id": "8f49274a",
   "metadata": {},
   "source": [
    "**ANS** = \n",
    "PyPDF2 Package provides 2 methods to rotate a page:\n",
    "```\n",
    "1. rotateClockWise() -> For Clockwise rotation\n",
    "2. rotateCounterClockWise() -> For Counter Clockwise rotation\n",
    "The PyPDF2 package only allows you to rotate a page in increments of 90 degrees. You will receive an AssertionError otherwise.\n",
    "```"
   ]
  },
  {
   "cell_type": "markdown",
   "id": "23241e9c",
   "metadata": {},
   "source": [
    "### Q.6 What is the difference between a Run object and a Paragraph object?"
   ]
  },
  {
   "cell_type": "markdown",
   "id": "91af139c",
   "metadata": {},
   "source": [
    "**ANS** = \n",
    "`\n",
    "The structure of a document is represented by three different data types in `**python-Docx**`. At the highest level, a Document object represents the entire document. The Document object contains a list of `**Paragraph**` objects for the paragraphs in the document. (A new paragraph begins whenever the user presses ENTER or RETURN while typing in a Word document.) Each of these Paragraph objects contains a list of one or more `**Run**` objects.\n",
    "`\n",
    "\n",
    "`\n",
    "The text in a Word document is more than just a string. It has font, size, color, and other styling information associated with it. A style in Word is a collection of these attributes. A Run object is a contiguous run of text with the same style. A new Run object is needed whenever the text style changes.\n",
    "`"
   ]
  },
  {
   "cell_type": "markdown",
   "id": "43a3bc73",
   "metadata": {},
   "source": [
    "### Q.7 How do you obtain a list of Paragraph objects for a Document object that’s stored in a variable named doc?"
   ]
  },
  {
   "cell_type": "markdown",
   "id": "8679d839",
   "metadata": {},
   "source": [
    "**ANS** =  Run object has bold, underline, italic, strike, and outline variables. The text in a Word document is more than just a string. It has font, size, color, and other styling information associated with it.\n",
    "\n",
    "A style in Word is a collection of these attributes. A Run object is a contiguous run of text with the same style. A new Run object is needed whenever the text style changes."
   ]
  },
  {
   "cell_type": "markdown",
   "id": "c163e2e8",
   "metadata": {},
   "source": [
    "### Q.9 What is the difference between False, True, and None for the bold variable?"
   ]
  },
  {
   "cell_type": "code",
   "execution_count": null,
   "id": "f01bffc3",
   "metadata": {},
   "outputs": [],
   "source": [
    "bold = True  # Style Set to Bold\n",
    "bold = False # Style Not Set to Bold\n",
    "bold = None # Style is Not Applicable"
   ]
  },
  {
   "cell_type": "markdown",
   "id": "4be20dd5",
   "metadata": {},
   "source": [
    "### Q.10 How do you create a Document object for a new Word document?"
   ]
  },
  {
   "cell_type": "code",
   "execution_count": null,
   "id": "d852ff78",
   "metadata": {},
   "outputs": [],
   "source": [
    "# Example Program\n",
    "from docx import Document\n",
    "document = Document()\n",
    "document.add_paragraph(\"iNeuron Full Stack DataScience Course\")\n",
    "document.save('mydocument.docx')"
   ]
  },
  {
   "cell_type": "markdown",
   "id": "9b08fd8d",
   "metadata": {},
   "source": [
    "### Q.11 How do you add a paragraph with the text 'Hello, there!' to a Document object stored in a variable named doc?"
   ]
  },
  {
   "cell_type": "code",
   "execution_count": null,
   "id": "da3d3b2d",
   "metadata": {},
   "outputs": [],
   "source": [
    "# Example Program\n",
    "from docx import Document\n",
    "doc = Document()\n",
    "doc.add_paragraph('Hello, there!')\n",
    "doc.save('hello.docx')"
   ]
  },
  {
   "cell_type": "markdown",
   "id": "60747e39",
   "metadata": {},
   "source": [
    "### Q.12 What integers represent the levels of headings available in Word documents?"
   ]
  },
  {
   "cell_type": "markdown",
   "id": "45b96b51",
   "metadata": {},
   "source": [
    "**ANS** = The levels for a heading in a word document can be specified by using the **`level`** attribute inside the **`add_heading`** method. There are a total of 5 levels statring for 0 t0 4. where level 0 makes a headline with the horizontal line below the text, whereas the heading level 1 is the main heading. Similarly, the other headings are sub-heading with their's font-sizes in decreasing order."
   ]
  }
 ],
 "metadata": {
  "kernelspec": {
   "display_name": "Python 3 (ipykernel)",
   "language": "python",
   "name": "python3"
  },
  "language_info": {
   "codemirror_mode": {
    "name": "ipython",
    "version": 3
   },
   "file_extension": ".py",
   "mimetype": "text/x-python",
   "name": "python",
   "nbconvert_exporter": "python",
   "pygments_lexer": "ipython3",
   "version": "3.10.9"
  }
 },
 "nbformat": 4,
 "nbformat_minor": 5
}
