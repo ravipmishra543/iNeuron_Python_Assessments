{
 "cells": [
  {
   "cell_type": "markdown",
   "id": "6e8c34b4",
   "metadata": {},
   "source": [
    "# PROGRAMMING ASSIGNMENT NO 17 - SOLUTION"
   ]
  },
  {
   "cell_type": "markdown",
   "id": "8b33b405",
   "metadata": {},
   "source": [
    "### Question1:\n",
    "```\n",
    "Create a function that takes three arguments a, b, c and returns the sum of the numbers that are \n",
    "evenly divided by c from the range a, b inclusive.\n",
    "Examples\n",
    "evenly_divisible(1, 10, 20) ➞ 0\n",
    "# No number between 1 and 10 can be evenly divided by 20.\n",
    "\n",
    "evenly_divisible(1, 10, 2) ➞ 30\n",
    "# 2 + 4 + 6 + 8 + 10 = 30\n",
    "\n",
    "evenly_divisible(1, 10, 3) ➞ 18\n",
    "# 3 + 6 + 9 = 18\n",
    "```"
   ]
  },
  {
   "cell_type": "code",
   "execution_count": 1,
   "id": "ddbf883e",
   "metadata": {},
   "outputs": [],
   "source": [
    "# ANS =\n",
    "\n",
    "def evenly_divisible(a, b, c):\n",
    "    \"\"\"function that takes three arguments a, b, c and returns the sum of the numbers that are \n",
    "evenly divided by c from the range a, b inclusive\"\"\"\n",
    "    try:\n",
    "        numb = []\n",
    "        addtn = 0\n",
    "        for i in range(b+1):\n",
    "            numb.append(i)\n",
    "        for i in numb[0:b+1:c]:\n",
    "            addtn += i\n",
    "        return addtn\n",
    "    except Exception as error:\n",
    "        return error"
   ]
  },
  {
   "cell_type": "code",
   "execution_count": 2,
   "id": "2a51f2db",
   "metadata": {
    "scrolled": true
   },
   "outputs": [
    {
     "data": {
      "text/plain": [
       "0"
      ]
     },
     "execution_count": 2,
     "metadata": {},
     "output_type": "execute_result"
    }
   ],
   "source": [
    "evenly_divisible(1, 10, 20)"
   ]
  },
  {
   "cell_type": "code",
   "execution_count": 3,
   "id": "6e32f913",
   "metadata": {},
   "outputs": [
    {
     "data": {
      "text/plain": [
       "30"
      ]
     },
     "execution_count": 3,
     "metadata": {},
     "output_type": "execute_result"
    }
   ],
   "source": [
    "evenly_divisible(1, 10, 2)"
   ]
  },
  {
   "cell_type": "code",
   "execution_count": 4,
   "id": "19514f9a",
   "metadata": {},
   "outputs": [
    {
     "data": {
      "text/plain": [
       "18"
      ]
     },
     "execution_count": 4,
     "metadata": {},
     "output_type": "execute_result"
    }
   ],
   "source": [
    "evenly_divisible(1, 10, 3)"
   ]
  },
  {
   "cell_type": "markdown",
   "id": "45dd716f",
   "metadata": {},
   "source": [
    "### Question2:\n",
    "```\n",
    "Create a function that returns True if a given inequality expression is correct and False otherwise.\n",
    "Examples\n",
    "correct_signs(\"3 < 7 < 11\") ➞ True\n",
    "\n",
    "correct_signs(\"13 > 44 > 33 > 1\") ➞ False\n",
    "\n",
    "correct_signs(\"1 < 2 < 6 < 9 > 3\") ➞ True\n",
    "```"
   ]
  },
  {
   "cell_type": "code",
   "execution_count": 5,
   "id": "db3ce5db",
   "metadata": {},
   "outputs": [],
   "source": [
    "# ANS =\n",
    "\n",
    "def correct_signs(sign):\n",
    "    \"\"\"Program that returns True if a given inequality expression is correct and False otherwise\"\"\"\n",
    "    try:\n",
    "        check = eval(sign)\n",
    "        return check        \n",
    "    except Exception as error:\n",
    "        return error"
   ]
  },
  {
   "cell_type": "code",
   "execution_count": 6,
   "id": "7e589475",
   "metadata": {},
   "outputs": [
    {
     "data": {
      "text/plain": [
       "True"
      ]
     },
     "execution_count": 6,
     "metadata": {},
     "output_type": "execute_result"
    }
   ],
   "source": [
    "correct_signs(\"3 < 7 < 11\")"
   ]
  },
  {
   "cell_type": "code",
   "execution_count": 7,
   "id": "ecfd794c",
   "metadata": {},
   "outputs": [
    {
     "data": {
      "text/plain": [
       "False"
      ]
     },
     "execution_count": 7,
     "metadata": {},
     "output_type": "execute_result"
    }
   ],
   "source": [
    "correct_signs(\"13 > 44 > 33 > 1\")"
   ]
  },
  {
   "cell_type": "code",
   "execution_count": 8,
   "id": "c7bfff52",
   "metadata": {},
   "outputs": [
    {
     "data": {
      "text/plain": [
       "True"
      ]
     },
     "execution_count": 8,
     "metadata": {},
     "output_type": "execute_result"
    }
   ],
   "source": [
    "correct_signs(\"1 < 2 < 6 < 9 > 3\")"
   ]
  },
  {
   "cell_type": "markdown",
   "id": "56dd4494",
   "metadata": {},
   "source": [
    "### Question3:\n",
    "```\n",
    "Create a function that replaces all the vowels in a string with a specified character.\n",
    "Examples\n",
    "replace_vowels(\"the aardvark\", \"#\") ➞ \"th# ##rdv#rk\"\n",
    "\n",
    "replace_vowels(\"minnie mouse\", \"?\") ➞ \"m?nn?? m??s?\"\n",
    "\n",
    "replace_vowels(\"shakespeare\", \"*\") ➞ \"sh*k*sp**r*\"\n",
    "```"
   ]
  },
  {
   "cell_type": "code",
   "execution_count": 9,
   "id": "00250089",
   "metadata": {},
   "outputs": [],
   "source": [
    "# ANS =\n",
    "\n",
    "def replace_vowels(string, char):\n",
    "    \"\"\"Program that replaces all the vowels in a string with a specified character\"\"\"\n",
    "    try:\n",
    "        new_string = ''\n",
    "        for i in string:\n",
    "            if i in \"aeiouAEIOU\":\n",
    "                new_string += char\n",
    "            else:\n",
    "                new_string += i\n",
    "        return f\"\"\"replace_vowels(\"{string}\", \"{char}\" ) ➞ \"{new_string}\" \"\"\"\n",
    "    except Exception as error:\n",
    "        return error"
   ]
  },
  {
   "cell_type": "code",
   "execution_count": 10,
   "id": "ecccbbcd",
   "metadata": {},
   "outputs": [
    {
     "data": {
      "text/plain": [
       "'replace_vowels(\"the aardvark\", \"#\" ) ➞ \"th# ##rdv#rk\" '"
      ]
     },
     "execution_count": 10,
     "metadata": {},
     "output_type": "execute_result"
    }
   ],
   "source": [
    "replace_vowels(\"the aardvark\", \"#\")"
   ]
  },
  {
   "cell_type": "code",
   "execution_count": 11,
   "id": "446570ff",
   "metadata": {},
   "outputs": [
    {
     "data": {
      "text/plain": [
       "'replace_vowels(\"minnie mouse\", \"?\" ) ➞ \"m?nn?? m??s?\" '"
      ]
     },
     "execution_count": 11,
     "metadata": {},
     "output_type": "execute_result"
    }
   ],
   "source": [
    "replace_vowels(\"minnie mouse\", \"?\")"
   ]
  },
  {
   "cell_type": "code",
   "execution_count": 12,
   "id": "f6824031",
   "metadata": {},
   "outputs": [
    {
     "data": {
      "text/plain": [
       "'replace_vowels(\"shakespeare\", \"*\" ) ➞ \"sh*k*sp**r*\" '"
      ]
     },
     "execution_count": 12,
     "metadata": {},
     "output_type": "execute_result"
    }
   ],
   "source": [
    "replace_vowels(\"shakespeare\", \"*\")"
   ]
  },
  {
   "cell_type": "markdown",
   "id": "96077c74",
   "metadata": {},
   "source": [
    "### Question4:\n",
    "```\n",
    "Write a function that calculates the factorial of a number recursively.\n",
    "Examples\n",
    "factorial(5) ➞ 120\n",
    "\n",
    "factorial(3) ➞ 6\n",
    "\n",
    "factorial(1) ➞ 1\n",
    "\n",
    "factorial(0) ➞ 1\n",
    "```"
   ]
  },
  {
   "cell_type": "code",
   "execution_count": 13,
   "id": "478ce7da",
   "metadata": {},
   "outputs": [],
   "source": [
    "# ANS =\n",
    "\n",
    "def factorial(num):\n",
    "    \"\"\"Function that calculates the factorial of a number\"\"\"\n",
    "    try:\n",
    "        if num == 0:\n",
    "            return 1\n",
    "        else:\n",
    "            return num*factorial(num-1)\n",
    "    except Exception as error:\n",
    "        return error"
   ]
  },
  {
   "cell_type": "code",
   "execution_count": 14,
   "id": "e6c4075f",
   "metadata": {},
   "outputs": [
    {
     "name": "stdout",
     "output_type": "stream",
     "text": [
      "factorial(5) ➞ 120\n"
     ]
    }
   ],
   "source": [
    "print(f\"factorial(5) ➞ {factorial(5)}\")"
   ]
  },
  {
   "cell_type": "code",
   "execution_count": 15,
   "id": "5f78af72",
   "metadata": {},
   "outputs": [
    {
     "name": "stdout",
     "output_type": "stream",
     "text": [
      "factorial(3) ➞ 6\n"
     ]
    }
   ],
   "source": [
    "print(f\"factorial(3) ➞ {factorial(3)}\")"
   ]
  },
  {
   "cell_type": "code",
   "execution_count": 16,
   "id": "c218da6d",
   "metadata": {},
   "outputs": [
    {
     "name": "stdout",
     "output_type": "stream",
     "text": [
      "factorial(1) ➞ 1\n"
     ]
    }
   ],
   "source": [
    "print(f\"factorial(1) ➞ {factorial(1)}\")"
   ]
  },
  {
   "cell_type": "code",
   "execution_count": 17,
   "id": "a6f2eb3c",
   "metadata": {},
   "outputs": [
    {
     "name": "stdout",
     "output_type": "stream",
     "text": [
      "factorial(0) ➞ 1\n"
     ]
    }
   ],
   "source": [
    "print(f\"factorial(0) ➞ {factorial(0)}\")"
   ]
  },
  {
   "cell_type": "markdown",
   "id": "20cb0f99",
   "metadata": {},
   "source": [
    "### Question 5:\n",
    "```\n",
    "Hamming distance is the number of characters that differ between two strings.\n",
    "To illustrate:\n",
    "String1: \"abcbba\"\n",
    "String2: \"abcbda\"\n",
    "\n",
    "Hamming Distance: 1 - \"b\" vs. \"d\" is the only difference.\n",
    "Create a function that computes the hamming distance between two strings.\n",
    "Examples\n",
    "hamming_distance(\"abcde\", \"bcdef\") ➞ 5\n",
    "\n",
    "hamming_distance(\"abcde\", \"abcde\") ➞ 0\n",
    "\n",
    "hamming_distance(\"strong\", \"strung\") ➞ 1\n",
    "```"
   ]
  },
  {
   "cell_type": "code",
   "execution_count": 18,
   "id": "a076e385",
   "metadata": {},
   "outputs": [],
   "source": [
    "# ANS =\n",
    "\n",
    "def hamming_distance(str1, str2):\n",
    "    \"\"\"Hamming distance is the number of characters that differ between two strings\"\"\"\n",
    "    try:\n",
    "        if len(str1) == len(str2):\n",
    "            count = 0\n",
    "            for i in range(len(str1)):\n",
    "                if str1[i] != str2[i]:\n",
    "                    count += 1\n",
    "            return f'''hamming_distance(\"{str1}\", \"{str2}\") ➞ {count}'''\n",
    "        else:\n",
    "            return f\"Hamming distance is not possible.\"\n",
    "    except Exception as error:\n",
    "        return error"
   ]
  },
  {
   "cell_type": "code",
   "execution_count": 19,
   "id": "6a0394af",
   "metadata": {},
   "outputs": [
    {
     "data": {
      "text/plain": [
       "'hamming_distance(\"abcde\", \"bcdef\") ➞ 5'"
      ]
     },
     "execution_count": 19,
     "metadata": {},
     "output_type": "execute_result"
    }
   ],
   "source": [
    "hamming_distance(\"abcde\", \"bcdef\")"
   ]
  },
  {
   "cell_type": "code",
   "execution_count": 20,
   "id": "130a2031",
   "metadata": {},
   "outputs": [
    {
     "data": {
      "text/plain": [
       "'hamming_distance(\"abcde\", \"abcde\") ➞ 0'"
      ]
     },
     "execution_count": 20,
     "metadata": {},
     "output_type": "execute_result"
    }
   ],
   "source": [
    "hamming_distance(\"abcde\", \"abcde\")"
   ]
  },
  {
   "cell_type": "code",
   "execution_count": 21,
   "id": "34d0fd6d",
   "metadata": {},
   "outputs": [
    {
     "data": {
      "text/plain": [
       "'hamming_distance(\"strong\", \"strung\") ➞ 1'"
      ]
     },
     "execution_count": 21,
     "metadata": {},
     "output_type": "execute_result"
    }
   ],
   "source": [
    "hamming_distance(\"strong\", \"strung\")"
   ]
  }
 ],
 "metadata": {
  "kernelspec": {
   "display_name": "Python 3 (ipykernel)",
   "language": "python",
   "name": "python3"
  },
  "language_info": {
   "codemirror_mode": {
    "name": "ipython",
    "version": 3
   },
   "file_extension": ".py",
   "mimetype": "text/x-python",
   "name": "python",
   "nbconvert_exporter": "python",
   "pygments_lexer": "ipython3",
   "version": "3.9.12"
  }
 },
 "nbformat": 4,
 "nbformat_minor": 5
}
