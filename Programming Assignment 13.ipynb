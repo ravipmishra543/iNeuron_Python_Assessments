{
 "cells": [
  {
   "cell_type": "markdown",
   "id": "8bf6f73f",
   "metadata": {},
   "source": [
    "# PROGRAMMING ASSIGNMENT NO 13 - SOLUTION"
   ]
  },
  {
   "cell_type": "markdown",
   "id": "862d0f31",
   "metadata": {},
   "source": [
    "\n",
    "### Question 1:\n",
    "```\n",
    "Write a program that calculates and prints the value according to the given formula:\n",
    "\n",
    "Q = Square root of [(2 * C * D)/H]\n",
    "\n",
    "Following are the fixed values of C and H:\n",
    "\n",
    "C is 50. H is 30.\n",
    "\n",
    "D is the variable whose values should be input to your program in a comma-separated sequence.\n",
    "\n",
    "Example\n",
    "\n",
    "Let us assume the following comma separated input sequence is given to the program:\n",
    "\n",
    "100,150,180\n",
    "\n",
    "The output of the program should be:\n",
    "\n",
    "18,22,24\n",
    "\n",
    "```"
   ]
  },
  {
   "cell_type": "code",
   "execution_count": 1,
   "id": "a6069e9a",
   "metadata": {},
   "outputs": [
    {
     "name": "stdout",
     "output_type": "stream",
     "text": [
      "Given equation is'Q = sqrt((2*C*D)/H)'.\n",
      "Values of C & D are 50 & 30, resp.\n",
      "Enter value for D : 100,150,180\n",
      "The output of equation is 18,22,24.\n"
     ]
    }
   ],
   "source": [
    "# ANS =\n",
    "\n",
    "from math import sqrt\n",
    "C = 50\n",
    "H = 30\n",
    "print(\"Given equation is'Q = sqrt((2*C*D)/H)'.\")\n",
    "print(\"Values of C & D are 50 & 30, resp.\")\n",
    "D = eval(input(\"Enter value for D : \"))\n",
    "answer = []\n",
    "for i in D:\n",
    "    Q = sqrt((2*C*i)/H)\n",
    "    answer.append(str(int(round(Q, 0))))\n",
    "print(f\"The output of equation is {','.join(answer)}.\")"
   ]
  },
  {
   "cell_type": "markdown",
   "id": "e87126c9",
   "metadata": {},
   "source": [
    "### Question 2:\n",
    "```\n",
    "Write a program which takes 2 digits, X,Y as input and generates a 2-dimensional array.\n",
    "The element value in the i-th row and j-th column of the array should be i*j.\n",
    "\n",
    "Note: i=0,1.., X-1; j=0,1,¡¬Y-1.\n",
    "\n",
    "Example\n",
    "\n",
    "Suppose the following inputs are given to the program:\n",
    "\n",
    "3,5\n",
    "\n",
    "Then, the output of the program should be:\n",
    "\n",
    "[[0, 0, 0, 0, 0], [0, 1, 2, 3, 4], [0, 2, 4, 6, 8]] \n",
    "```"
   ]
  },
  {
   "cell_type": "code",
   "execution_count": 2,
   "id": "5484a4fb",
   "metadata": {},
   "outputs": [],
   "source": [
    "# ANS =\n",
    "\n",
    "def array_2D(x, y):\n",
    "    \"\"\"Program takes 2 digits, X, Y as input and generates a 2-dimensional array.\n",
    "    Where x & y are no of rows & no of columns resp.\"\"\"\n",
    "    try:\n",
    "        row = x\n",
    "        column = y\n",
    "        output2 = []\n",
    "        for i in range(row):\n",
    "            output1 = []\n",
    "            for j in range(column):\n",
    "                output1.append(i*j)\n",
    "            output2.append(output1)\n",
    "        return f\"The output of 2D array is '{output2}'.\"\n",
    "    except Exception as error:\n",
    "        return error"
   ]
  },
  {
   "cell_type": "code",
   "execution_count": 3,
   "id": "e271b939",
   "metadata": {},
   "outputs": [
    {
     "data": {
      "text/plain": [
       "\"The output of 2D array is '[[0, 0, 0, 0, 0], [0, 1, 2, 3, 4], [0, 2, 4, 6, 8]]'.\""
      ]
     },
     "execution_count": 3,
     "metadata": {},
     "output_type": "execute_result"
    }
   ],
   "source": [
    "row = 3\n",
    "column = 5\n",
    "\n",
    "array_2D(row, column)"
   ]
  },
  {
   "cell_type": "code",
   "execution_count": 4,
   "id": "4cdc7081",
   "metadata": {},
   "outputs": [
    {
     "data": {
      "text/plain": [
       "\"The output of 2D array is '[[0, 0, 0, 0, 0, 0, 0, 0], [0, 1, 2, 3, 4, 5, 6, 7], [0, 2, 4, 6, 8, 10, 12, 14], [0, 3, 6, 9, 12, 15, 18, 21], [0, 4, 8, 12, 16, 20, 24, 28], [0, 5, 10, 15, 20, 25, 30, 35]]'.\""
      ]
     },
     "execution_count": 4,
     "metadata": {},
     "output_type": "execute_result"
    }
   ],
   "source": [
    "x = 6\n",
    "y = 8\n",
    "\n",
    "array_2D(x, y)"
   ]
  },
  {
   "cell_type": "markdown",
   "id": "dfa6306f",
   "metadata": {},
   "source": [
    "### Question 3:\n",
    "```\n",
    "Write a program that accepts a comma separated sequence of words as input and prints the words in a comma-separated sequence after sorting them alphabetically.\n",
    "\n",
    "Suppose the following input is supplied to the program:\n",
    "\n",
    "without,hello,bag,world\n",
    "\n",
    "Then, the output should be:\n",
    "\n",
    "bag,hello,without,world\n",
    "```"
   ]
  },
  {
   "cell_type": "code",
   "execution_count": 5,
   "id": "a9ddb8fa",
   "metadata": {},
   "outputs": [],
   "source": [
    "# ANS =\n",
    "\n",
    "def sort_seq(seq):\n",
    "    \"\"\"Program that accepts a comma separated sequence of words as input\n",
    "    and prints the words in a comma-separated sequence after sorting them alphabetically\"\"\"\n",
    "    try:\n",
    "        seq1 = seq.split(',')\n",
    "        seq1.sort()\n",
    "        seq2 = ','.join(seq1)\n",
    "        print(f\"The enterred sequence is '{seq}'.\")\n",
    "        return f\"The sorted sequence is '{seq2}'.\"\n",
    "    except Exception as error:\n",
    "        return error"
   ]
  },
  {
   "cell_type": "code",
   "execution_count": 6,
   "id": "9aafc1e9",
   "metadata": {},
   "outputs": [
    {
     "name": "stdout",
     "output_type": "stream",
     "text": [
      "The enterred sequence is 'without,hello,bag,world'.\n"
     ]
    },
    {
     "data": {
      "text/plain": [
       "\"The sorted sequence is 'bag,hello,without,world'.\""
      ]
     },
     "execution_count": 6,
     "metadata": {},
     "output_type": "execute_result"
    }
   ],
   "source": [
    "sequence = 'without,hello,bag,world'\n",
    "\n",
    "sort_seq(sequence)"
   ]
  },
  {
   "cell_type": "code",
   "execution_count": 7,
   "id": "f24edea0",
   "metadata": {},
   "outputs": [
    {
     "name": "stdout",
     "output_type": "stream",
     "text": [
      "The enterred sequence is ' hi, hello, how, who, what, when, where, ok'.\n"
     ]
    },
    {
     "data": {
      "text/plain": [
       "\"The sorted sequence is ' hello, hi, how, ok, what, when, where, who'.\""
      ]
     },
     "execution_count": 7,
     "metadata": {},
     "output_type": "execute_result"
    }
   ],
   "source": [
    "c = ' hi, hello, how, who, what, when, where, ok'\n",
    "\n",
    "sort_seq(c)"
   ]
  },
  {
   "cell_type": "markdown",
   "id": "7688394c",
   "metadata": {},
   "source": [
    "### Question 4:\n",
    "```\n",
    "Write a program that accepts a sequence of whitespace separated words as input and prints the words after removing all duplicate words and sorting them alphanumerically.\n",
    "\n",
    "Suppose the following input is supplied to the program:\n",
    "\n",
    "hello world and practice makes perfect and hello world again\n",
    "\n",
    "Then, the output should be:\n",
    "\n",
    "again and hello makes perfect practice world\n",
    "```"
   ]
  },
  {
   "cell_type": "code",
   "execution_count": 8,
   "id": "45c7fd95",
   "metadata": {},
   "outputs": [],
   "source": [
    "# ANS =\n",
    "\n",
    "def remove_duplicate(sequence):\n",
    "    \"\"\"program that accepts a sequence of whitespace separated words as input \n",
    "    and prints the words after removing all duplicate words and sorting them alphanumerically\"\"\"\n",
    "    try:\n",
    "        seq1 = sequence.split(' ')\n",
    "        seq2 = list(set(seq1))\n",
    "        seq2.sort()\n",
    "        seq3 = ' '.join(seq2)\n",
    "        print(f\"The entered sequence is \\n'{sequence}'.\")\n",
    "        return f\"The sequence after removing duplicate words and sorting is '{seq3}'.\"\n",
    "    except Exception as error:\n",
    "        return error"
   ]
  },
  {
   "cell_type": "code",
   "execution_count": 9,
   "id": "99d86ca1",
   "metadata": {},
   "outputs": [
    {
     "name": "stdout",
     "output_type": "stream",
     "text": [
      "The entered sequence is \n",
      "'hello world and practice makes perfect and hello world again'.\n"
     ]
    },
    {
     "data": {
      "text/plain": [
       "\"The sequence after removing duplicate words and sorting is 'again and hello makes perfect practice world'.\""
      ]
     },
     "execution_count": 9,
     "metadata": {},
     "output_type": "execute_result"
    }
   ],
   "source": [
    "sentence = 'hello world and practice makes perfect and hello world again'\n",
    "\n",
    "remove_duplicate(sentence)"
   ]
  },
  {
   "cell_type": "code",
   "execution_count": 10,
   "id": "77acb033",
   "metadata": {},
   "outputs": [
    {
     "name": "stdout",
     "output_type": "stream",
     "text": [
      "The entered sequence is \n",
      "' python is a high-level, general-purpose programming language. its design philosophy emphasizes code readability with the use of significant indentation. python is dynamically-typed and garbage-collected.'.\n"
     ]
    },
    {
     "data": {
      "text/plain": [
       "\"The sequence after removing duplicate words and sorting is ' a and code design dynamically-typed emphasizes garbage-collected. general-purpose high-level, indentation. is its language. of philosophy programming python readability significant the use with'.\""
      ]
     },
     "execution_count": 10,
     "metadata": {},
     "output_type": "execute_result"
    }
   ],
   "source": [
    "new_sentence = ' python is a high-level, general-purpose programming language. its design philosophy emphasizes code readability with the use of significant indentation. python is dynamically-typed and garbage-collected.'\n",
    "\n",
    "remove_duplicate(new_sentence)"
   ]
  },
  {
   "cell_type": "markdown",
   "id": "50d8a2f0",
   "metadata": {},
   "source": [
    "### Question 5:\n",
    "```\n",
    "Write a program that accepts a sentence and calculate the number of letters and digits.\n",
    "\n",
    "Suppose the following input is supplied to the program:\n",
    "\n",
    "hello world! 123\n",
    "\n",
    "Then, the output should be:\n",
    "\n",
    "LETTERS 10\n",
    "\n",
    "DIGITS 3\n",
    "```"
   ]
  },
  {
   "cell_type": "code",
   "execution_count": 11,
   "id": "12508fec",
   "metadata": {},
   "outputs": [],
   "source": [
    "# ANS =\n",
    "\n",
    "def no_of_letters_digits(sentence):\n",
    "    \"\"\"Program that accepts a sentence and calculate the number of letters and digits\"\"\"\n",
    "    try:\n",
    "        cal_num = 0\n",
    "        calc_letters = 0\n",
    "        numbers = '0123456789'\n",
    "        letters = 'abcdefghijklmnopqrstuvwxyzABCDEFGHIJKLMNOPQRSTUVWXYZ'\n",
    "        for i in sentence:\n",
    "            if i in numbers:\n",
    "                cal_num +=1\n",
    "            if i in letters:\n",
    "                calc_letters +=1\n",
    "        print(f\"LETTERS {calc_letters}\\nDIGITS {cal_num}\")\n",
    "    except Exception as error:\n",
    "        return error"
   ]
  },
  {
   "cell_type": "code",
   "execution_count": 12,
   "id": "9cacc420",
   "metadata": {},
   "outputs": [
    {
     "name": "stdout",
     "output_type": "stream",
     "text": [
      "LETTERS 10\n",
      "DIGITS 3\n"
     ]
    }
   ],
   "source": [
    "input_1 = 'hello world! 123'\n",
    "\n",
    "no_of_letters_digits(input_1)"
   ]
  },
  {
   "cell_type": "code",
   "execution_count": 13,
   "id": "8873f375",
   "metadata": {},
   "outputs": [
    {
     "name": "stdout",
     "output_type": "stream",
     "text": [
      "LETTERS 47\n",
      "DIGITS 4\n"
     ]
    }
   ],
   "source": [
    "input2 = 'ok this is y assignment no 13 and it going to complete till 12 pm'\n",
    "\n",
    "no_of_letters_digits(input2)"
   ]
  },
  {
   "cell_type": "markdown",
   "id": "057d78cf",
   "metadata": {},
   "source": [
    "### Question 6:\n",
    "\n",
    "A website requires the users to input username and password to register. Write a program to check the validity of password input by users.\n",
    "\n",
    "Following are the criteria for checking the password:\n",
    "\n",
    "1. At least 1 letter between [a-z]\n",
    "\n",
    "2. At least 1 number between [0-9]\n",
    "\n",
    "1. At least 1 letter between [A-Z]\n",
    "\n",
    "3. At least 1 character from [$#@]\n",
    "\n",
    "4. Minimum length of transaction password: 6\n",
    "\n",
    "5. Maximum length of transaction password: 12\n",
    "\n",
    "Your program should accept a sequence of comma separated passwords and will check them according to the above criteria. Passwords that match the criteria are to be printed, each separated by a comma.\n",
    "\n",
    "Example\n",
    "\n",
    "If the following passwords are given as input to the program:\n",
    "\n",
    "ABd1234@1,a F1#,2w3E*,2We3345\n",
    "\n",
    "Then, the output of the program should be:\n",
    "\n",
    "ABd1234@1"
   ]
  },
  {
   "cell_type": "code",
   "execution_count": 14,
   "id": "50c40a05",
   "metadata": {},
   "outputs": [],
   "source": [
    "# ANS =\n",
    "\n",
    "def check_pswrd(password):\n",
    "    \"\"\"Python program to check criteria of n no of passwords\"\"\"\n",
    "    try:\n",
    "        password1 = password.split(',')\n",
    "        small_letters = 'abcdefghijklmnopqrstuvwxyz'\n",
    "        cap_letters = 'ABCDEFGHIJKLMNOPQRSTUVWXYZ'\n",
    "        numbers = '0123456789'\n",
    "        special = '$#@'\n",
    "        correct_pass = []\n",
    "        for i in password1:\n",
    "            if 6 <= len(i) <= 12:\n",
    "                for j in i :\n",
    "                    if j in small_letters:\n",
    "                        for j in i:\n",
    "                            if j in cap_letters:\n",
    "                                for j in i:\n",
    "                                    if j in numbers:\n",
    "                                        for j in i:\n",
    "                                            if j in special:\n",
    "                                                correct_pass.append(i)\n",
    "                                                break\n",
    "                                        break\n",
    "                                break\n",
    "                        break\n",
    "        correct_pass = ','.join(correct_pass)\n",
    "        return correct_pass\n",
    "    except Exception as error:\n",
    "        return error"
   ]
  },
  {
   "cell_type": "code",
   "execution_count": 15,
   "id": "d0014c84",
   "metadata": {
    "scrolled": true
   },
   "outputs": [
    {
     "data": {
      "text/plain": [
       "'ABd1234@1'"
      ]
     },
     "execution_count": 15,
     "metadata": {},
     "output_type": "execute_result"
    }
   ],
   "source": [
    "check_pswrd('ABd1234@1,a F1#,2w3E*,2We3345')"
   ]
  }
 ],
 "metadata": {
  "kernelspec": {
   "display_name": "Python 3 (ipykernel)",
   "language": "python",
   "name": "python3"
  },
  "language_info": {
   "codemirror_mode": {
    "name": "ipython",
    "version": 3
   },
   "file_extension": ".py",
   "mimetype": "text/x-python",
   "name": "python",
   "nbconvert_exporter": "python",
   "pygments_lexer": "ipython3",
   "version": "3.9.12"
  }
 },
 "nbformat": 4,
 "nbformat_minor": 5
}
