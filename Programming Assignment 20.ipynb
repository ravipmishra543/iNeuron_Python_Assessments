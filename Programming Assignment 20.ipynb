{
 "cells": [
  {
   "cell_type": "markdown",
   "id": "8c4bdc5a",
   "metadata": {},
   "source": [
    "# PROGRAMMING ASSIGNMENT NO 20 - SOLUTION"
   ]
  },
  {
   "cell_type": "markdown",
   "id": "df65895e",
   "metadata": {},
   "source": [
    "### Question1\n",
    "```\n",
    "Create a function that takes a list of strings and integers, and filters out the list so that \n",
    "it returns a list of integers only.\n",
    "Examples\n",
    "filter_list([1, 2, 3, \"a\", \"b\", 4]) ➞ [1, 2, 3, 4]\n",
    "\n",
    "filter_list([\"A\", 0, \"Edabit\", 1729, \"Python\", \"1729\"]) ➞ [0, 1729]\n",
    "\n",
    "filter_list([\"Nothing\", \"here\"]) ➞ []\n",
    "```"
   ]
  },
  {
   "cell_type": "code",
   "execution_count": 1,
   "id": "0bceb1b0",
   "metadata": {},
   "outputs": [],
   "source": [
    "# ANS =\n",
    "\n",
    "def filter_list(list1):\n",
    "    \"\"\"function that takes a list of non-negative integers and strings and return a new list without the strings\"\"\"\n",
    "    try:\n",
    "        filtered = []\n",
    "        for i in list1:\n",
    "            if type(i) == int:\n",
    "                filtered.append(i)\n",
    "        return f\"filter_list({list1}) ➞ {filtered}\"\n",
    "    except Exception as error:\n",
    "        return error"
   ]
  },
  {
   "cell_type": "code",
   "execution_count": 2,
   "id": "6738bd66",
   "metadata": {},
   "outputs": [
    {
     "data": {
      "text/plain": [
       "\"filter_list([1, 2, 3, 'a', 'b', 4]) ➞ [1, 2, 3, 4]\""
      ]
     },
     "execution_count": 2,
     "metadata": {},
     "output_type": "execute_result"
    }
   ],
   "source": [
    "filter_list([1, 2, 3, \"a\", \"b\", 4])"
   ]
  },
  {
   "cell_type": "code",
   "execution_count": 3,
   "id": "7d6e2ba7",
   "metadata": {},
   "outputs": [
    {
     "data": {
      "text/plain": [
       "\"filter_list(['A', 0, 'Edabit', 1729, 'Python', '1729']) ➞ [0, 1729]\""
      ]
     },
     "execution_count": 3,
     "metadata": {},
     "output_type": "execute_result"
    }
   ],
   "source": [
    "filter_list([\"A\", 0, \"Edabit\", 1729, \"Python\", \"1729\"])"
   ]
  },
  {
   "cell_type": "code",
   "execution_count": 4,
   "id": "f5bd024a",
   "metadata": {},
   "outputs": [
    {
     "data": {
      "text/plain": [
       "\"filter_list(['Nothing', 'here']) ➞ []\""
      ]
     },
     "execution_count": 4,
     "metadata": {},
     "output_type": "execute_result"
    }
   ],
   "source": [
    "filter_list([\"Nothing\", \"here\"])"
   ]
  },
  {
   "cell_type": "markdown",
   "id": "7f5e519d",
   "metadata": {},
   "source": [
    "### Question2\n",
    "```\n",
    "Given a list of numbers, create a function which returns the list but with each element's index in the list added to itself. This means you add 0 to the number at index 0, add 1 to the number at index 1, etc...\n",
    "Examples\n",
    "add_indexes([0, 0, 0, 0, 0]) ➞ [0, 1, 2, 3, 4]\n",
    "\n",
    "add_indexes([1, 2, 3, 4, 5]) ➞ [1, 3, 5, 7, 9]\n",
    "\n",
    "add_indexes([5, 4, 3, 2, 1]) ➞ [5, 5, 5, 5, 5]\n",
    "```"
   ]
  },
  {
   "cell_type": "code",
   "execution_count": 5,
   "id": "879fc088",
   "metadata": {},
   "outputs": [],
   "source": [
    "# ANS =\n",
    "\n",
    "def add_indexes(ip_list):\n",
    "    \"\"\"function which returns the list but with each element's index in the list added to itself\"\"\"\n",
    "    try:\n",
    "        new_list = []\n",
    "        for i in range(len(ip_list)):\n",
    "            new_list.append( i + ip_list[i] )\n",
    "        return f\"add_indexes({ip_list}) ➞ {new_list}\"\n",
    "    except Exception as error:\n",
    "        return error"
   ]
  },
  {
   "cell_type": "code",
   "execution_count": 6,
   "id": "caa4fd4b",
   "metadata": {},
   "outputs": [
    {
     "data": {
      "text/plain": [
       "'add_indexes([0, 0, 0, 0, 0]) ➞ [0, 1, 2, 3, 4]'"
      ]
     },
     "execution_count": 6,
     "metadata": {},
     "output_type": "execute_result"
    }
   ],
   "source": [
    "add_indexes([0, 0, 0, 0, 0])"
   ]
  },
  {
   "cell_type": "code",
   "execution_count": 7,
   "id": "5b738daa",
   "metadata": {},
   "outputs": [
    {
     "data": {
      "text/plain": [
       "'add_indexes([1, 2, 3, 4, 5]) ➞ [1, 3, 5, 7, 9]'"
      ]
     },
     "execution_count": 7,
     "metadata": {},
     "output_type": "execute_result"
    }
   ],
   "source": [
    "add_indexes([1, 2, 3, 4, 5])"
   ]
  },
  {
   "cell_type": "code",
   "execution_count": 8,
   "id": "85b002b5",
   "metadata": {},
   "outputs": [
    {
     "data": {
      "text/plain": [
       "'add_indexes([5, 4, 3, 2, 1]) ➞ [5, 5, 5, 5, 5]'"
      ]
     },
     "execution_count": 8,
     "metadata": {},
     "output_type": "execute_result"
    }
   ],
   "source": [
    "add_indexes([5, 4, 3, 2, 1])"
   ]
  },
  {
   "cell_type": "markdown",
   "id": "fe5a9461",
   "metadata": {},
   "source": [
    "### Question3\n",
    "```\n",
    "Create a function that takes the height and radius of a cone as arguments and returns the volume of the cone rounded to the nearest hundredth. See the resources tab for the formula.\n",
    " \n",
    "Examples\n",
    "cone_volume(3, 2) ➞ 12.57\n",
    "\n",
    "cone_volume(15, 6) ➞ 565.49\n",
    "\n",
    "cone_volume(18, 0) ➞ 0\n",
    "```"
   ]
  },
  {
   "cell_type": "code",
   "execution_count": 9,
   "id": "4862ed42",
   "metadata": {},
   "outputs": [],
   "source": [
    "# ANS =\n",
    "\n",
    "def cone_volume(height, radius):\n",
    "    '''function that takes the height and radius of a cone as arguments and returns the volume of the cone'''\n",
    "    try:\n",
    "        volume = round(3.14159*height*(radius**2)/3, 2)\n",
    "        return f\"cone_volume({height}, {radius}) ➞ {volume}\"        \n",
    "    except Exception as error:\n",
    "        return error"
   ]
  },
  {
   "cell_type": "code",
   "execution_count": 10,
   "id": "928a4c28",
   "metadata": {},
   "outputs": [
    {
     "data": {
      "text/plain": [
       "'cone_volume(3, 2) ➞ 12.57'"
      ]
     },
     "execution_count": 10,
     "metadata": {},
     "output_type": "execute_result"
    }
   ],
   "source": [
    "cone_volume(3, 2)"
   ]
  },
  {
   "cell_type": "code",
   "execution_count": 11,
   "id": "9700e3d7",
   "metadata": {},
   "outputs": [
    {
     "data": {
      "text/plain": [
       "'cone_volume(15, 6) ➞ 565.49'"
      ]
     },
     "execution_count": 11,
     "metadata": {},
     "output_type": "execute_result"
    }
   ],
   "source": [
    "cone_volume(15, 6)"
   ]
  },
  {
   "cell_type": "code",
   "execution_count": 12,
   "id": "9c623579",
   "metadata": {},
   "outputs": [
    {
     "data": {
      "text/plain": [
       "'cone_volume(18, 0) ➞ 0.0'"
      ]
     },
     "execution_count": 12,
     "metadata": {},
     "output_type": "execute_result"
    }
   ],
   "source": [
    "cone_volume(18, 0)"
   ]
  },
  {
   "cell_type": "markdown",
   "id": "8a3821ad",
   "metadata": {},
   "source": [
    "### Question4\n",
    "```\n",
    "This Triangular Number Sequence is generated from a pattern of dots that form a triangle. The first 5 numbers of the sequence, or dots, are: \n",
    "1, 3, 6, 10, 15\n",
    "This means that the first triangle has just one dot, the second one has three dots, the third one has 6 dots and so on.\n",
    "Write a function that gives the number of dots with its corresponding triangle number of the sequence.\n",
    "Examples\n",
    "triangle(1) ➞ 1\n",
    "\n",
    "triangle(6) ➞ 21\n",
    "\n",
    "triangle(215) ➞ 23220\n",
    "```"
   ]
  },
  {
   "cell_type": "code",
   "execution_count": 13,
   "id": "a44765a5",
   "metadata": {},
   "outputs": [],
   "source": [
    "# ANS =\n",
    "\n",
    "def triangle(num):\n",
    "    \"\"\"function that gives the number of dots with its corresponding triangle number of the sequence\"\"\"\n",
    "    try:\n",
    "        def addition(num):            \n",
    "            if num == 0:\n",
    "                return 0\n",
    "            else:\n",
    "                return num + addition(num-1)\n",
    "        return f\"triangle({num}) ➞ {addition(num)}\"\n",
    "    except Exception as error:\n",
    "        return error"
   ]
  },
  {
   "cell_type": "code",
   "execution_count": 14,
   "id": "4ba9a43a",
   "metadata": {},
   "outputs": [
    {
     "data": {
      "text/plain": [
       "'triangle(1) ➞ 1'"
      ]
     },
     "execution_count": 14,
     "metadata": {},
     "output_type": "execute_result"
    }
   ],
   "source": [
    "triangle(1)"
   ]
  },
  {
   "cell_type": "code",
   "execution_count": 15,
   "id": "f3128918",
   "metadata": {},
   "outputs": [
    {
     "data": {
      "text/plain": [
       "'triangle(6) ➞ 21'"
      ]
     },
     "execution_count": 15,
     "metadata": {},
     "output_type": "execute_result"
    }
   ],
   "source": [
    "triangle(6)"
   ]
  },
  {
   "cell_type": "code",
   "execution_count": 16,
   "id": "96621d28",
   "metadata": {},
   "outputs": [
    {
     "data": {
      "text/plain": [
       "'triangle(215) ➞ 23220'"
      ]
     },
     "execution_count": 16,
     "metadata": {},
     "output_type": "execute_result"
    }
   ],
   "source": [
    "triangle(215)"
   ]
  },
  {
   "cell_type": "markdown",
   "id": "d1c1593e",
   "metadata": {},
   "source": [
    "### Question5\n",
    "```\n",
    "Create a function that takes a list of numbers between 1 and 10 (excluding one number) and returns the missing number.\n",
    "Examples\n",
    "missing_num([1, 2, 3, 4, 6, 7, 8, 9, 10]) ➞ 5\n",
    "\n",
    "missing_num([7, 2, 3, 6, 5, 9, 1, 4, 8]) ➞ 10\n",
    "\n",
    "missing_num([10, 5, 1, 2, 4, 6, 8, 3, 9]) ➞ 7\n",
    "```"
   ]
  },
  {
   "cell_type": "code",
   "execution_count": 17,
   "id": "34497c5e",
   "metadata": {},
   "outputs": [],
   "source": [
    "# ANS =\n",
    "\n",
    "def missing_num(num_list):\n",
    "    '''function that takes a list of numbers between 1 to 10 and returns the missing number'''\n",
    "    try:\n",
    "        for i in range(10):\n",
    "            if i+1 not in num_list:\n",
    "                missing_num = i+1\n",
    "        return f\"missing_num({num_list}) ➞ {missing_num}\"                \n",
    "    except Exception as error:\n",
    "        return error"
   ]
  },
  {
   "cell_type": "code",
   "execution_count": 18,
   "id": "f07d0f72",
   "metadata": {},
   "outputs": [
    {
     "data": {
      "text/plain": [
       "'missing_num([1, 2, 3, 4, 6, 7, 8, 9, 10]) ➞ 5'"
      ]
     },
     "execution_count": 18,
     "metadata": {},
     "output_type": "execute_result"
    }
   ],
   "source": [
    "missing_num([1, 2, 3, 4, 6, 7, 8, 9, 10])"
   ]
  },
  {
   "cell_type": "code",
   "execution_count": 19,
   "id": "8dda2501",
   "metadata": {},
   "outputs": [
    {
     "data": {
      "text/plain": [
       "'missing_num([7, 2, 3, 6, 5, 9, 1, 4, 8]) ➞ 10'"
      ]
     },
     "execution_count": 19,
     "metadata": {},
     "output_type": "execute_result"
    }
   ],
   "source": [
    "missing_num([7, 2, 3, 6, 5, 9, 1, 4, 8])"
   ]
  },
  {
   "cell_type": "code",
   "execution_count": 20,
   "id": "6ab884ce",
   "metadata": {},
   "outputs": [
    {
     "data": {
      "text/plain": [
       "'missing_num([10, 5, 1, 2, 4, 6, 8, 3, 9]) ➞ 7'"
      ]
     },
     "execution_count": 20,
     "metadata": {},
     "output_type": "execute_result"
    }
   ],
   "source": [
    "missing_num([10, 5, 1, 2, 4, 6, 8, 3, 9])"
   ]
  }
 ],
 "metadata": {
  "kernelspec": {
   "display_name": "Python 3 (ipykernel)",
   "language": "python",
   "name": "python3"
  },
  "language_info": {
   "codemirror_mode": {
    "name": "ipython",
    "version": 3
   },
   "file_extension": ".py",
   "mimetype": "text/x-python",
   "name": "python",
   "nbconvert_exporter": "python",
   "pygments_lexer": "ipython3",
   "version": "3.9.12"
  }
 },
 "nbformat": 4,
 "nbformat_minor": 5
}
