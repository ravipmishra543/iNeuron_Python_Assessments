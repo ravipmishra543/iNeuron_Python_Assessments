{
 "cells": [
  {
   "cell_type": "markdown",
   "id": "06518c95",
   "metadata": {},
   "source": [
    "# PROGRAMMING ASSIGNMENT NO 11 - SOLUTION"
   ]
  },
  {
   "cell_type": "markdown",
   "id": "018d3f58",
   "metadata": {},
   "source": [
    "### 1. Write a Python program to find words which are greater than given length k?"
   ]
  },
  {
   "cell_type": "code",
   "execution_count": 1,
   "id": "a7c88cb4",
   "metadata": {},
   "outputs": [],
   "source": [
    "# ANS =\n",
    "\n",
    "def greater_than_length(num, *args):\n",
    "    '''Python program to find words which are greater than given length k'''\n",
    "    try:\n",
    "        list1 = [*args]\n",
    "        list2 = []\n",
    "        try:\n",
    "            for i in list1 :\n",
    "                if type(i) == str:\n",
    "                    if num < len(i) :\n",
    "                        list2.append(i)\n",
    "                elif type(i) == int :\n",
    "                    if num < len(str(i)) :\n",
    "                        list2.append(str(i))\n",
    "                elif type(i) == list or type(i) == tuple or type(i) == set :\n",
    "                    try:\n",
    "                        for j in i :\n",
    "                            if type(j) == str:\n",
    "                                if num < len(j) :\n",
    "                                    list2.append(j)\n",
    "                            elif type(j) == int :\n",
    "                                if num < len(str(j)) :\n",
    "                                    list2.append(str(j))\n",
    "                    except:\n",
    "                        return\n",
    "                    \n",
    "        except:\n",
    "            return\n",
    "        return list2\n",
    "    except Exception as error:\n",
    "        return error, \"Enter characters only.\""
   ]
  },
  {
   "cell_type": "code",
   "execution_count": 2,
   "id": "b0cf2692",
   "metadata": {},
   "outputs": [
    {
     "data": {
      "text/plain": [
       "['defwqef', 'efcadsc', 'wefsdc', '123123']"
      ]
     },
     "execution_count": 2,
     "metadata": {},
     "output_type": "execute_result"
    }
   ],
   "source": [
    "greater_than_length(4, 'adfd', 'defwqef', 'efcadsc', 'wefsdc', 123123)"
   ]
  },
  {
   "cell_type": "code",
   "execution_count": 3,
   "id": "12ac7fbf",
   "metadata": {},
   "outputs": [
    {
     "data": {
      "text/plain": [
       "['ascacs', 'ascasc', '6416841']"
      ]
     },
     "execution_count": 3,
     "metadata": {},
     "output_type": "execute_result"
    }
   ],
   "source": [
    "a = ['asca', 'ascacs', 'ascasc', 6416841, 'ascc']\n",
    "\n",
    "greater_than_length(4, a)"
   ]
  },
  {
   "cell_type": "markdown",
   "id": "87b179c4",
   "metadata": {},
   "source": [
    "### 2. Write a Python program for removing i-th character from a string?"
   ]
  },
  {
   "cell_type": "code",
   "execution_count": 4,
   "id": "2d1e61a7",
   "metadata": {},
   "outputs": [],
   "source": [
    "# ANS =\n",
    "\n",
    "def remove_char_str(string1, pstn):\n",
    "    '''Python program for removing i-th character from a string'''\n",
    "    try:\n",
    "        string2 = ''\n",
    "        for i in range(len(string1)):\n",
    "            if pstn == (i+1):\n",
    "                remove_chara = string1[i]\n",
    "                continue\n",
    "            string2 = string2 + string1[i]\n",
    "        return f\"\"\"The input string is '{string1}'. The position to remove character is '{pstn}'. The output string after removing '{pstn}th' character is '{string2}'\"\"\"\n",
    "    except Exception as error:\n",
    "        return error                "
   ]
  },
  {
   "cell_type": "code",
   "execution_count": 5,
   "id": "a5629e20",
   "metadata": {},
   "outputs": [
    {
     "data": {
      "text/plain": [
       "\"The input string is 'krishnaraj'. The position to remove character is '4'. The output string after removing '4th' character is 'krihnaraj'\""
      ]
     },
     "execution_count": 5,
     "metadata": {},
     "output_type": "execute_result"
    }
   ],
   "source": [
    "remove_char_str('krishnaraj', 4)"
   ]
  },
  {
   "cell_type": "code",
   "execution_count": 6,
   "id": "73cb0f4c",
   "metadata": {},
   "outputs": [
    {
     "data": {
      "text/plain": [
       "\"The input string is 'sdkvhbsjk'. The position to remove character is '5'. The output string after removing '5th' character is 'sdkvbsjk'\""
      ]
     },
     "execution_count": 6,
     "metadata": {},
     "output_type": "execute_result"
    }
   ],
   "source": [
    "b = 'sdkvhbsjk'\n",
    "\n",
    "remove_char_str(b, 5)"
   ]
  },
  {
   "cell_type": "markdown",
   "id": "790947f2",
   "metadata": {},
   "source": [
    "### 3. Write a Python program to split and join a string?"
   ]
  },
  {
   "cell_type": "code",
   "execution_count": 7,
   "id": "90fc46ed",
   "metadata": {},
   "outputs": [],
   "source": [
    "# ANS =\n",
    "\n",
    "def split_join_string(string):\n",
    "    '''Python program to split and join a string'''\n",
    "    try:\n",
    "        string1 = string.split()\n",
    "        string2 = \" \".join(string1)\n",
    "        print(f\"\"\"The input string is \"{string}\".\n",
    "The output of split string is \"{string1}\".\n",
    "The output of join string is \"{string2}\".\"\"\")\n",
    "    except Exception as error:\n",
    "        return error"
   ]
  },
  {
   "cell_type": "code",
   "execution_count": 8,
   "id": "eb8178e8",
   "metadata": {},
   "outputs": [
    {
     "name": "stdout",
     "output_type": "stream",
     "text": [
      "The input string is \" asdfa adfadfc adfcasdc\".\n",
      "The output of split string is \"['asdfa', 'adfadfc', 'adfcasdc']\".\n",
      "The output of join string is \"asdfa adfadfc adfcasdc\".\n"
     ]
    }
   ],
   "source": [
    "split_join_string(' asdfa adfadfc adfcasdc')"
   ]
  },
  {
   "cell_type": "code",
   "execution_count": 9,
   "id": "1391805a",
   "metadata": {},
   "outputs": [
    {
     "name": "stdout",
     "output_type": "stream",
     "text": [
      "The input string is \"Ineuron Full Stack Data Science Course\".\n",
      "The output of split string is \"['Ineuron', 'Full', 'Stack', 'Data', 'Science', 'Course']\".\n",
      "The output of join string is \"Ineuron Full Stack Data Science Course\".\n"
     ]
    }
   ],
   "source": [
    "c = 'Ineuron Full Stack Data Science Course'\n",
    "\n",
    "split_join_string(c)"
   ]
  },
  {
   "cell_type": "markdown",
   "id": "a53ed722",
   "metadata": {},
   "source": [
    "### 4. Write a Python to check if a given string is binary string or not?"
   ]
  },
  {
   "cell_type": "code",
   "execution_count": 10,
   "id": "100aca95",
   "metadata": {},
   "outputs": [],
   "source": [
    "# ANS =\n",
    "\n",
    "def check_string_binary(string):\n",
    "    \"\"\"Python to check if a given string is binary string or not\"\"\"\n",
    "    try:\n",
    "        binary = ['0','1']\n",
    "        if type(string) == int:\n",
    "            string = str(string)\n",
    "        elif type(string)!= (str or int):\n",
    "            return f\"Please enter string value only.\"\n",
    "        for i in string:\n",
    "            if i in binary:\n",
    "                continue\n",
    "            else:\n",
    "                return f\"The string '{string}' is not a binary string.\"\n",
    "        return f\"The string '{string}' is a binary string.\"\n",
    "    except Exception as error:\n",
    "        return error"
   ]
  },
  {
   "cell_type": "code",
   "execution_count": 11,
   "id": "4489e4bc",
   "metadata": {},
   "outputs": [],
   "source": [
    "a = '101010'\n",
    "b = 10100001\n",
    "c = 123546310000\n",
    "d = 'kdp ok'"
   ]
  },
  {
   "cell_type": "code",
   "execution_count": 12,
   "id": "6ddb76ad",
   "metadata": {},
   "outputs": [
    {
     "data": {
      "text/plain": [
       "\"The string '101010' is a binary string.\""
      ]
     },
     "execution_count": 12,
     "metadata": {},
     "output_type": "execute_result"
    }
   ],
   "source": [
    "check_string_binary(a)"
   ]
  },
  {
   "cell_type": "code",
   "execution_count": 13,
   "id": "d2b773df",
   "metadata": {},
   "outputs": [
    {
     "data": {
      "text/plain": [
       "\"The string '10100001' is a binary string.\""
      ]
     },
     "execution_count": 13,
     "metadata": {},
     "output_type": "execute_result"
    }
   ],
   "source": [
    "check_string_binary(b)"
   ]
  },
  {
   "cell_type": "code",
   "execution_count": 14,
   "id": "c4dedff2",
   "metadata": {},
   "outputs": [
    {
     "data": {
      "text/plain": [
       "\"The string '123546310000' is not a binary string.\""
      ]
     },
     "execution_count": 14,
     "metadata": {},
     "output_type": "execute_result"
    }
   ],
   "source": [
    "check_string_binary(c)"
   ]
  },
  {
   "cell_type": "code",
   "execution_count": 15,
   "id": "4f03dec7",
   "metadata": {},
   "outputs": [
    {
     "data": {
      "text/plain": [
       "\"The string 'kdp ok' is not a binary string.\""
      ]
     },
     "execution_count": 15,
     "metadata": {},
     "output_type": "execute_result"
    }
   ],
   "source": [
    "check_string_binary(d)"
   ]
  },
  {
   "cell_type": "code",
   "execution_count": 16,
   "id": "2341cf6c",
   "metadata": {},
   "outputs": [
    {
     "data": {
      "text/plain": [
       "'Please enter string value only.'"
      ]
     },
     "execution_count": 16,
     "metadata": {},
     "output_type": "execute_result"
    }
   ],
   "source": [
    "check_string_binary([41,4,5,2,2,6,2,32,63,63])"
   ]
  },
  {
   "cell_type": "markdown",
   "id": "4e15c89d",
   "metadata": {},
   "source": [
    "### 5. Write a Python program to find uncommon words from two Strings?"
   ]
  },
  {
   "cell_type": "code",
   "execution_count": 17,
   "id": "94cf6973",
   "metadata": {},
   "outputs": [],
   "source": [
    "# ANS =\n",
    "\n",
    "def uncommon_word(string1, string2):\n",
    "    \"\"\"Python program to find uncommon words from two Strings\"\"\"\n",
    "    try:\n",
    "        uncommon_words = []\n",
    "        if type(string1) == int or type(string2) == int:\n",
    "            string1 = str(string1)\n",
    "            string2 = str(string2)        \n",
    "        if type(string1) == str and type(string2) == str:\n",
    "            for i in string1:\n",
    "                if i not in string2:\n",
    "                    uncommon_words.append(i)\n",
    "            for j in string2:\n",
    "                if j not in string1:\n",
    "                    uncommon_words.append(j)\n",
    "            return f\"The uncommon letters in '{string1}' & '{string2}' are '{set(uncommon_words)}'.\"\n",
    "        else:\n",
    "            return 'Please enter string value only.'\n",
    "        \n",
    "    except Exception as error:\n",
    "        return error"
   ]
  },
  {
   "cell_type": "code",
   "execution_count": 18,
   "id": "b2d884af",
   "metadata": {},
   "outputs": [
    {
     "data": {
      "text/plain": [
       "\"The uncommon letters in '10216840' & '2679842' are '{'7', '9', '1', '0'}'.\""
      ]
     },
     "execution_count": 18,
     "metadata": {},
     "output_type": "execute_result"
    }
   ],
   "source": [
    "a = 10216840\n",
    "b = 2679842\n",
    "\n",
    "uncommon_word(a, b)"
   ]
  },
  {
   "cell_type": "code",
   "execution_count": 19,
   "id": "4f2ac953",
   "metadata": {},
   "outputs": [
    {
     "data": {
      "text/plain": [
       "\"The uncommon letters in 'kdhf541682' & '687982' are '{'d', '5', '1', 'k', '7', 'f', '4', 'h', '9'}'.\""
      ]
     },
     "execution_count": 19,
     "metadata": {},
     "output_type": "execute_result"
    }
   ],
   "source": [
    "a = 'kdhf541682'\n",
    "b = 687982\n",
    "\n",
    "uncommon_word(a, b)"
   ]
  },
  {
   "cell_type": "markdown",
   "id": "edc3dda2",
   "metadata": {},
   "source": [
    "### 6. Write a Python to find all duplicate characters in string?"
   ]
  },
  {
   "cell_type": "code",
   "execution_count": 20,
   "id": "459e55f8",
   "metadata": {},
   "outputs": [],
   "source": [
    "# ANS =\n",
    "\n",
    "def duplicate_char(string):\n",
    "    \"\"\"Python to find all duplicate characters in a string\"\"\"\n",
    "    try:\n",
    "        duplicate = []\n",
    "        if type(string) == int :\n",
    "            string = str(string)      \n",
    "        if type(string) == str :\n",
    "            for i in string:\n",
    "                if string.count(i) >= 2 :\n",
    "                    duplicate.append(i)\n",
    "            if len(duplicate) == 0 :\n",
    "                return f\"There are no duplicate characters in '{string}'.\"\n",
    "            elif len(duplicate) == 1:\n",
    "                return f\"The duplicate characters in '{string}' is '{list(set(duplicate))}'.\"\n",
    "            else :\n",
    "                return f\"The duplicate characters in '{string}' are '{list(set(duplicate))}'.\"\n",
    "        else:\n",
    "            return 'Please enter string value only.'\n",
    "    except Exception as error:\n",
    "        return error"
   ]
  },
  {
   "cell_type": "code",
   "execution_count": 21,
   "id": "34b48a31",
   "metadata": {},
   "outputs": [
    {
     "data": {
      "text/plain": [
       "\"The duplicate characters in 'Krishnaraj Dnyaneshwar Patil' are '[' ', 'i', 's', 'n', 'a', 'r', 'h']'.\""
      ]
     },
     "execution_count": 21,
     "metadata": {},
     "output_type": "execute_result"
    }
   ],
   "source": [
    "string1 = 'Krishnaraj Dnyaneshwar Patil'\n",
    "\n",
    "duplicate_char(string1)"
   ]
  },
  {
   "cell_type": "code",
   "execution_count": 22,
   "id": "41faa7f8",
   "metadata": {},
   "outputs": [
    {
     "data": {
      "text/plain": [
       "\"The duplicate characters in '654982658468' are '['5', '4', '6', '8']'.\""
      ]
     },
     "execution_count": 22,
     "metadata": {},
     "output_type": "execute_result"
    }
   ],
   "source": [
    "word = 654982658468\n",
    "\n",
    "duplicate_char(word)"
   ]
  },
  {
   "cell_type": "code",
   "execution_count": 23,
   "id": "d90551a0",
   "metadata": {},
   "outputs": [
    {
     "data": {
      "text/plain": [
       "\"There are no duplicate characters in 'Kunal'.\""
      ]
     },
     "execution_count": 23,
     "metadata": {},
     "output_type": "execute_result"
    }
   ],
   "source": [
    "word = 'Kunal'\n",
    "\n",
    "duplicate_char(word)"
   ]
  },
  {
   "cell_type": "markdown",
   "id": "6263e41a",
   "metadata": {},
   "source": [
    "### 7. Write a Python Program to check if a string contains any special character?"
   ]
  },
  {
   "cell_type": "code",
   "execution_count": 24,
   "id": "c9cde54e",
   "metadata": {},
   "outputs": [],
   "source": [
    "# ANS =\n",
    "\n",
    "def Special_char_in_str(string):\n",
    "    '''Python Program to check if a string contains any special character'''\n",
    "    try:\n",
    "        special_character = \"\"\"`~!@#$%^&*()_-=+{}[]:;\"'\\|<>,.?/\"\"\"\n",
    "        present_char = []\n",
    "        if type(string) == int :\n",
    "            string = str(string)      \n",
    "        if type(string) == str :\n",
    "            for i in string:\n",
    "                if i in special_character:\n",
    "                    present_char.append(i)\n",
    "            if len(present_char) == 0:\n",
    "                return f\"There are no special characters present in '{string}'.\"\n",
    "            elif len(present_char) == 1:\n",
    "                return f\"The special characters in '{string}' is '{list(set(present_char))}'.\"\n",
    "            else :\n",
    "                return f\"The special characters in '{string}' are '{list(set(present_char))}'.\"\n",
    "        else:\n",
    "            return 'Please enter string value only.'\n",
    "    except Exception as error:\n",
    "        return error"
   ]
  },
  {
   "cell_type": "code",
   "execution_count": 25,
   "id": "6a0f9c29",
   "metadata": {},
   "outputs": [
    {
     "data": {
      "text/plain": [
       "\"There are no special characters present in 'Krishnaraj Dnyaneshwar Patil'.\""
      ]
     },
     "execution_count": 25,
     "metadata": {},
     "output_type": "execute_result"
    }
   ],
   "source": [
    "string1 = 'Krishnaraj Dnyaneshwar Patil'\n",
    "\n",
    "Special_char_in_str(string1)"
   ]
  },
  {
   "cell_type": "code",
   "execution_count": 26,
   "id": "93084811",
   "metadata": {},
   "outputs": [
    {
     "data": {
      "text/plain": [
       "\"The special characters in 'krishnaraj2015@gmail.com' are '['@', '.']'.\""
      ]
     },
     "execution_count": 26,
     "metadata": {},
     "output_type": "execute_result"
    }
   ],
   "source": [
    "string2 = 'krishnaraj2015@gmail.com'\n",
    "\n",
    "Special_char_in_str(string2)"
   ]
  },
  {
   "cell_type": "code",
   "execution_count": 27,
   "id": "9e2f2926",
   "metadata": {},
   "outputs": [
    {
     "data": {
      "text/plain": [
       "\"The special characters in '32135462@#$%%^^&*()' are '['@', '^', '#', '*', '(', ')', '&', '$', '%']'.\""
      ]
     },
     "execution_count": 27,
     "metadata": {},
     "output_type": "execute_result"
    }
   ],
   "source": [
    "string2 = '32135462@#$%%^^&*()'\n",
    "\n",
    "Special_char_in_str(string2)"
   ]
  }
 ],
 "metadata": {
  "kernelspec": {
   "display_name": "Python 3 (ipykernel)",
   "language": "python",
   "name": "python3"
  },
  "language_info": {
   "codemirror_mode": {
    "name": "ipython",
    "version": 3
   },
   "file_extension": ".py",
   "mimetype": "text/x-python",
   "name": "python",
   "nbconvert_exporter": "python",
   "pygments_lexer": "ipython3",
   "version": "3.9.12"
  }
 },
 "nbformat": 4,
 "nbformat_minor": 5
}
