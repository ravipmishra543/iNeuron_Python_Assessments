{
 "cells": [
  {
   "cell_type": "markdown",
   "id": "4de13542",
   "metadata": {},
   "source": [
    "# ASSIGNMENT NO 17 - SOLUTION"
   ]
  },
  {
   "cell_type": "markdown",
   "id": "8289f05e",
   "metadata": {},
   "source": [
    "### Q.1 Assign the value 7 to the variable guess_me. Then, write the conditional tests (if, else, and elif) to print the string 'too low' if guess_me is less than 7, 'too high' if greater than 7, and 'just right' if equal to 7."
   ]
  },
  {
   "cell_type": "markdown",
   "id": "1fb7c2f1",
   "metadata": {},
   "source": [
    "**ANS** = "
   ]
  },
  {
   "cell_type": "code",
   "execution_count": 1,
   "id": "eb82496e",
   "metadata": {},
   "outputs": [
    {
     "name": "stdout",
     "output_type": "stream",
     "text": [
      "just right\n",
      "too high\n",
      "too low\n"
     ]
    }
   ],
   "source": [
    "def guess_me(guess_me):\n",
    "    if guess_me < 7:\n",
    "        print(\"too low\")\n",
    "    elif guess_me > 7:\n",
    "        print(\"too high\")\n",
    "    else:\n",
    "        print(\"just right\")\n",
    "\n",
    "guess_me(guess_me=7)\n",
    "guess_me(guess_me=15)\n",
    "guess_me(guess_me=6)"
   ]
  },
  {
   "cell_type": "markdown",
   "id": "54c7d2e9",
   "metadata": {},
   "source": [
    "### Q.2 Assign the value 7 to the variable guess_me and the value 1 to the variable start. Write a while loop that compares start with guess_me. Print 'too low' if start is less than guess me. If start equals guess_me, print 'found it!' and exit the loop. If start is greater than guess_me, print 'oops' and exit the loop. Increment start at the end of the loop"
   ]
  },
  {
   "cell_type": "markdown",
   "id": "344509ac",
   "metadata": {},
   "source": [
    "**ANS** = "
   ]
  },
  {
   "cell_type": "code",
   "execution_count": 2,
   "id": "5ce1e91e",
   "metadata": {},
   "outputs": [
    {
     "name": "stdout",
     "output_type": "stream",
     "text": [
      "tool low\n",
      "tool low\n",
      "tool low\n",
      "tool low\n",
      "tool low\n",
      "tool low\n",
      "Found it!\n"
     ]
    }
   ],
   "source": [
    "guess_me = 7\n",
    "start = 1\n",
    "while True:\n",
    "    if start == guess_me:\n",
    "        print(\"Found it!\")\n",
    "        break\n",
    "    elif start > guess_me:\n",
    "        print(\"oops\")\n",
    "        break\n",
    "    else:\n",
    "        print(\"tool low\")\n",
    "    start += 1"
   ]
  },
  {
   "cell_type": "markdown",
   "id": "e2ea53a4",
   "metadata": {},
   "source": [
    "### Q.3 Print the following values of the list [3, 2, 1, 0] using a for loop."
   ]
  },
  {
   "cell_type": "markdown",
   "id": "983a1444",
   "metadata": {},
   "source": [
    "**ANS** = "
   ]
  },
  {
   "cell_type": "code",
   "execution_count": 3,
   "id": "484b49a4",
   "metadata": {},
   "outputs": [
    {
     "name": "stdout",
     "output_type": "stream",
     "text": [
      "3\n",
      "2\n",
      "1\n",
      "0\n"
     ]
    }
   ],
   "source": [
    "list_ = [3,2,1,0]\n",
    "\n",
    "for i in range(len(list_)):\n",
    "    print(list_[i])"
   ]
  },
  {
   "cell_type": "markdown",
   "id": "b60c995b",
   "metadata": {},
   "source": [
    "### Q.4 Use a list comprehension to make a list of the even numbers in range(10)¶"
   ]
  },
  {
   "cell_type": "markdown",
   "id": "c42b4afb",
   "metadata": {},
   "source": [
    "**ANS** = "
   ]
  },
  {
   "cell_type": "code",
   "execution_count": 4,
   "id": "900d987d",
   "metadata": {},
   "outputs": [
    {
     "name": "stdout",
     "output_type": "stream",
     "text": [
      "[0, 2, 4, 6, 8, 10]\n"
     ]
    }
   ],
   "source": [
    "print([ele for ele in range(10+1) if ele%2 ==0])"
   ]
  },
  {
   "cell_type": "markdown",
   "id": "be917620",
   "metadata": {},
   "source": [
    "### Q.5 Use a dictionary comprehension to create the dictionary squares. Use range(10) to return the keys, and use the square of each key as its value.¶"
   ]
  },
  {
   "cell_type": "markdown",
   "id": "8f49274a",
   "metadata": {},
   "source": [
    "**ANS** = "
   ]
  },
  {
   "cell_type": "code",
   "execution_count": 5,
   "id": "dca48c9b",
   "metadata": {},
   "outputs": [
    {
     "name": "stdout",
     "output_type": "stream",
     "text": [
      "{0: 0, 1: 1, 2: 4, 3: 9, 4: 16, 5: 25, 6: 36, 7: 49, 8: 64, 9: 81}\n"
     ]
    }
   ],
   "source": [
    "# method 1\n",
    "dict_squares = {}\n",
    "for i in range(10):\n",
    "    dict_squares[i] = i*i\n",
    "print(dict_squares)"
   ]
  },
  {
   "cell_type": "code",
   "execution_count": 6,
   "id": "a709f3ab",
   "metadata": {},
   "outputs": [
    {
     "name": "stdout",
     "output_type": "stream",
     "text": [
      "{0: 0, 1: 1, 2: 4, 3: 9, 4: 16, 5: 25, 6: 36, 7: 49, 8: 64, 9: 81}\n"
     ]
    }
   ],
   "source": [
    "# method 2\n",
    "print({x:x**2 for x in range(10)})"
   ]
  },
  {
   "cell_type": "markdown",
   "id": "23241e9c",
   "metadata": {},
   "source": [
    "### Q.6 Construct the set odd from the odd numbers in the range using a set comprehension (10)."
   ]
  },
  {
   "cell_type": "markdown",
   "id": "91af139c",
   "metadata": {},
   "source": [
    "**ANS** = "
   ]
  },
  {
   "cell_type": "code",
   "execution_count": 7,
   "id": "1d6dadba",
   "metadata": {},
   "outputs": [
    {
     "name": "stdout",
     "output_type": "stream",
     "text": [
      "{1, 3, 5, 7, 9}\n"
     ]
    }
   ],
   "source": [
    "print(set(x for x in range(10+1) if x%2 != 0))"
   ]
  },
  {
   "cell_type": "markdown",
   "id": "43a3bc73",
   "metadata": {},
   "source": [
    "### Q.7 Use a generator comprehension to return the string 'Got ' and a number for the numbers in range(10). Iterate through this by using a for loop"
   ]
  },
  {
   "cell_type": "markdown",
   "id": "8679d839",
   "metadata": {},
   "source": [
    "**ANS** =  "
   ]
  },
  {
   "cell_type": "code",
   "execution_count": 8,
   "id": "1cd91de3",
   "metadata": {},
   "outputs": [
    {
     "name": "stdout",
     "output_type": "stream",
     "text": [
      "got0, got1, got2, got3, got4, got5, got6, got7, got8, got9, "
     ]
    }
   ],
   "source": [
    "gen_comp = (\"got\" + str(x) for x in range(10))\n",
    "for ele in gen_comp:\n",
    "    print(ele, end = \", \")"
   ]
  },
  {
   "cell_type": "markdown",
   "id": "9d220029",
   "metadata": {},
   "source": [
    "### Q.8 Define a function called good that returns the list ['Harry', 'Ron', 'Hermione']."
   ]
  },
  {
   "cell_type": "markdown",
   "id": "6e63d398",
   "metadata": {},
   "source": [
    "**ANS** = "
   ]
  },
  {
   "cell_type": "code",
   "execution_count": 9,
   "id": "c0090632",
   "metadata": {},
   "outputs": [
    {
     "name": "stdout",
     "output_type": "stream",
     "text": [
      "['Harry', 'Ron', 'Hermione']\n"
     ]
    }
   ],
   "source": [
    "def good():\n",
    "    return ['Harry', 'Ron', 'Hermione']\n",
    "\n",
    "print(good())"
   ]
  },
  {
   "cell_type": "markdown",
   "id": "db4e6587",
   "metadata": {},
   "source": [
    "### Q.9  Define a generator function called get_odds that returns the odd numbers from range(10). Use a for loop to find and print the third value returned."
   ]
  },
  {
   "cell_type": "markdown",
   "id": "b1ec63a6",
   "metadata": {},
   "source": [
    "**ANS** = "
   ]
  },
  {
   "cell_type": "code",
   "execution_count": 10,
   "id": "adc3211a",
   "metadata": {
    "scrolled": true
   },
   "outputs": [
    {
     "name": "stdout",
     "output_type": "stream",
     "text": [
      "5\n"
     ]
    }
   ],
   "source": [
    "def get_odds(num):\n",
    "    odd_nums = []\n",
    "    for i in range(num+1):\n",
    "        if i%2 != 0:\n",
    "            odd_nums.append(i)\n",
    "    return odd_nums[2]\n",
    "\n",
    "print(get_odds(10))    "
   ]
  },
  {
   "cell_type": "markdown",
   "id": "5997e84b",
   "metadata": {},
   "source": [
    "### Q.10  Define an exception called OopsException. Raise this exception to see what happens. Then write the code to catch this exception and print 'Caught an oops'.¶"
   ]
  },
  {
   "cell_type": "markdown",
   "id": "2037857e",
   "metadata": {},
   "source": [
    "**ANS** = "
   ]
  },
  {
   "cell_type": "code",
   "execution_count": 11,
   "id": "096195a6",
   "metadata": {},
   "outputs": [
    {
     "name": "stdout",
     "output_type": "stream",
     "text": [
      "Caught an oops -> name 'a' is not defined\n"
     ]
    }
   ],
   "source": [
    "class OopsException(Exception):\n",
    "    pass\n",
    "\n",
    "def test(ip):\n",
    "    if ip < 0:\n",
    "        raise OopsException(a)\n",
    "\n",
    "try:\n",
    "    test(-100)\n",
    "except Exception as e:\n",
    "    print(\"Caught an oops ->\", e)\n",
    "    \n"
   ]
  },
  {
   "cell_type": "markdown",
   "id": "d2a322b2",
   "metadata": {},
   "source": [
    "### Q.11 Use zip() to make a dictionary called movies that pairs these lists: titles = ['Creature of Habit', 'Crewel Fate'] and plots = ['A nun turns into a monster', 'A haunted yarn shop']."
   ]
  },
  {
   "cell_type": "markdown",
   "id": "b52e7ee2",
   "metadata": {},
   "source": [
    "**ANS** = "
   ]
  },
  {
   "cell_type": "code",
   "execution_count": 12,
   "id": "ac8e2e23",
   "metadata": {},
   "outputs": [
    {
     "name": "stdout",
     "output_type": "stream",
     "text": [
      "{'Creature of Habit': 'A nun turns into a monster', 'Crewel Fate': 'A haunted yarn shop'}\n"
     ]
    }
   ],
   "source": [
    "titles = ['Creature of Habit', 'Crewel Fate']\n",
    "plots = ['A nun turns into a monster', 'A haunted yarn shop']\n",
    "output = dict(zip(titles,plots))\n",
    "print(output)"
   ]
  }
 ],
 "metadata": {
  "kernelspec": {
   "display_name": "Python 3 (ipykernel)",
   "language": "python",
   "name": "python3"
  },
  "language_info": {
   "codemirror_mode": {
    "name": "ipython",
    "version": 3
   },
   "file_extension": ".py",
   "mimetype": "text/x-python",
   "name": "python",
   "nbconvert_exporter": "python",
   "pygments_lexer": "ipython3",
   "version": "3.10.9"
  }
 },
 "nbformat": 4,
 "nbformat_minor": 5
}
