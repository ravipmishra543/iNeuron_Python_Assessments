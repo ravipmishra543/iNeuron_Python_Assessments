{
 "cells": [
  {
   "cell_type": "markdown",
   "id": "f336ae97",
   "metadata": {},
   "source": [
    "# PROGRAMMING ASSIGNMENT NO 1 - SOLUTION"
   ]
  },
  {
   "cell_type": "markdown",
   "id": "a4c5a943",
   "metadata": {},
   "source": [
    "Q.1 Write a Python program to print \"Hello Python\"?"
   ]
  },
  {
   "cell_type": "code",
   "execution_count": 1,
   "id": "a60b380b",
   "metadata": {},
   "outputs": [
    {
     "name": "stdout",
     "output_type": "stream",
     "text": [
      "Hello Python\n"
     ]
    }
   ],
   "source": [
    "# ANS\n",
    "\n",
    "print(\"Hello Python\")"
   ]
  },
  {
   "cell_type": "markdown",
   "id": "36c8371f",
   "metadata": {},
   "source": [
    " "
   ]
  },
  {
   "cell_type": "markdown",
   "id": "13cd9666",
   "metadata": {},
   "source": [
    "Q.2 Write a Python program to do arithmetical operations addition and division.?"
   ]
  },
  {
   "cell_type": "code",
   "execution_count": 2,
   "id": "f6e44f34",
   "metadata": {},
   "outputs": [
    {
     "name": "stdout",
     "output_type": "stream",
     "text": [
      "Enter 1st no for Arithmetic operation = 45\n",
      "Enter 2nd no for Arithmetic operation = 12\n",
      "Addition of entered no is 57\n",
      "Division of entered no is 3.75\n"
     ]
    }
   ],
   "source": [
    "# Ans \n",
    "a = int(input(\"Enter 1st no for Arithmetic operation = \"))\n",
    "b = int(input(\"Enter 2nd no for Arithmetic operation = \"))\n",
    "\n",
    "if a==0 :\n",
    "    if b==0 :\n",
    "        print(\"Addition of entered no is\",a+b)\n",
    "        print(\"Division by 0 is infinity.\")\n",
    "    else :\n",
    "        print(\"Addition of entered no is\",a+b)\n",
    "        print(\"Division of entered no is\",a/b)\n",
    "elif b==0 :\n",
    "    print(\"Addition of entered no is\",a+b)\n",
    "    print(\"Division by 0 is infinity.\")\n",
    "else :\n",
    "    print(\"Addition of entered no is\",a+b)\n",
    "    print(\"Division of entered no is\",a/b)"
   ]
  },
  {
   "cell_type": "markdown",
   "id": "4360ae12",
   "metadata": {},
   "source": [
    " "
   ]
  },
  {
   "cell_type": "markdown",
   "id": "11ff22c5",
   "metadata": {},
   "source": [
    "Q.3 Write a Python program to find the area of a triangle?"
   ]
  },
  {
   "cell_type": "code",
   "execution_count": 3,
   "id": "7940afe3",
   "metadata": {},
   "outputs": [
    {
     "name": "stdout",
     "output_type": "stream",
     "text": [
      "Enter base of triangle = 45\n",
      "Enter height of triangle = 85\n",
      "Area of Triangle is 1912.5\n"
     ]
    }
   ],
   "source": [
    "# ANS\n",
    "\n",
    "c = int(input(\"Enter base of triangle = \"))\n",
    "d = int(input(\"Enter height of triangle = \"))\n",
    "\n",
    "if c==0 :\n",
    "    print(\"Base of Triangle can not be zero.\")\n",
    "elif d==0 :\n",
    "    print(\"Height of Triangle can not be zero.\")\n",
    "else :\n",
    "    AOT = 1/2*c*d\n",
    "    print(\"Area of Triangle is\", AOT)"
   ]
  },
  {
   "cell_type": "markdown",
   "id": "c7e99083",
   "metadata": {},
   "source": [
    " "
   ]
  },
  {
   "cell_type": "markdown",
   "id": "f3b9d9ac",
   "metadata": {},
   "source": [
    "Q.4 Write a Python program to swap two variables?"
   ]
  },
  {
   "cell_type": "code",
   "execution_count": 4,
   "id": "7435f0f7",
   "metadata": {},
   "outputs": [
    {
     "name": "stdout",
     "output_type": "stream",
     "text": [
      "Enter 1st number = a = 46\n",
      "Enter 2nd number = b = 25\n",
      "Numbers before swap -> \n",
      " a =  46 \n",
      " b =  25 \n",
      "\n",
      "Numbers after swap -> \n",
      " a =  25 \n",
      " b =  46\n"
     ]
    }
   ],
   "source": [
    "# ANS\n",
    "\n",
    "e = int(input(\"Enter 1st number = a = \"))\n",
    "f = int(input(\"Enter 2nd number = b = \"))\n",
    "\n",
    "def swapno(g,h) :\n",
    "    extra = g\n",
    "    g = h\n",
    "    h = extra\n",
    "    return g,h\n",
    "\n",
    "print('Numbers before swap ->' , \"\\n\" , 'a = ' , e , \"\\n\" , 'b = ' , f , \"\\n\")\n",
    "\n",
    "e,f = swapno(e,f)\n",
    "\n",
    "print('Numbers after swap ->' , \"\\n\" , 'a = ' , e , \"\\n\" , 'b = ' , f)"
   ]
  },
  {
   "cell_type": "markdown",
   "id": "b690f3ae",
   "metadata": {},
   "source": [
    " "
   ]
  },
  {
   "cell_type": "markdown",
   "id": "7a6e01b1",
   "metadata": {},
   "source": [
    "Q.5 Write a Python program to generate a random number?"
   ]
  },
  {
   "cell_type": "code",
   "execution_count": 5,
   "id": "21b36826",
   "metadata": {},
   "outputs": [
    {
     "name": "stdout",
     "output_type": "stream",
     "text": [
      "Random number ->  85069\n",
      "Random number ->  58\n"
     ]
    }
   ],
   "source": [
    "# ANS\n",
    "\n",
    "from random import randint\n",
    "\n",
    "def generate_ran_no(start=0, end=1000000):\n",
    "    print('Random number -> ',randint(start,end))\n",
    "\n",
    "# Generating random numbers without arguments    \n",
    "generate_ran_no()\n",
    "\n",
    "# Generating random numbers with arguments    \n",
    "generate_ran_no(0,100)"
   ]
  }
 ],
 "metadata": {
  "kernelspec": {
   "display_name": "Python 3 (ipykernel)",
   "language": "python",
   "name": "python3"
  },
  "language_info": {
   "codemirror_mode": {
    "name": "ipython",
    "version": 3
   },
   "file_extension": ".py",
   "mimetype": "text/x-python",
   "name": "python",
   "nbconvert_exporter": "python",
   "pygments_lexer": "ipython3",
   "version": "3.9.12"
  }
 },
 "nbformat": 4,
 "nbformat_minor": 5
}
