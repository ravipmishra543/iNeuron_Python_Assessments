{
 "cells": [
  {
   "cell_type": "markdown",
   "id": "4de13542",
   "metadata": {},
   "source": [
    "# ASSIGNMENT NO 21 - SOLUTION"
   ]
  },
  {
   "cell_type": "markdown",
   "id": "8289f05e",
   "metadata": {},
   "source": [
    "### Q.1 Add the current date to the text file today.txt as a string.¶"
   ]
  },
  {
   "cell_type": "markdown",
   "id": "1fb7c2f1",
   "metadata": {},
   "source": [
    "**ANS** = "
   ]
  },
  {
   "cell_type": "code",
   "execution_count": 1,
   "id": "eb82496e",
   "metadata": {},
   "outputs": [
    {
     "name": "stdout",
     "output_type": "stream",
     "text": [
      "16-05-2023\n"
     ]
    }
   ],
   "source": [
    "import datetime\n",
    "\n",
    "file = open(\"today.txt\", \"w\")\n",
    "file.write(datetime.datetime.now().strftime(\"%d-%m-%Y\"))\n",
    "file.close()\n",
    "\n",
    "file = open(\"today.txt\", 'r')\n",
    "print(file.read())\n",
    "file.close()"
   ]
  },
  {
   "cell_type": "markdown",
   "id": "54c7d2e9",
   "metadata": {},
   "source": [
    "### Q.2 Read the text file today.txt into the string today_string"
   ]
  },
  {
   "cell_type": "markdown",
   "id": "344509ac",
   "metadata": {},
   "source": [
    "**ANS** = "
   ]
  },
  {
   "cell_type": "code",
   "execution_count": 2,
   "id": "5ce1e91e",
   "metadata": {},
   "outputs": [
    {
     "name": "stdout",
     "output_type": "stream",
     "text": [
      "16-05-2023\n"
     ]
    }
   ],
   "source": [
    "with open('today.txt','r') as file:\n",
    "    today_string = file.read()\n",
    "print(today_string)"
   ]
  },
  {
   "cell_type": "markdown",
   "id": "e2ea53a4",
   "metadata": {},
   "source": [
    "### Q.3 Parse the date from today_string."
   ]
  },
  {
   "cell_type": "markdown",
   "id": "983a1444",
   "metadata": {},
   "source": [
    "**ANS** = "
   ]
  },
  {
   "cell_type": "code",
   "execution_count": 3,
   "id": "484b49a4",
   "metadata": {},
   "outputs": [
    {
     "name": "stdout",
     "output_type": "stream",
     "text": [
      "2023-05-16 00:00:00\n"
     ]
    }
   ],
   "source": [
    "from datetime import datetime\n",
    "parsed_data = datetime.strptime(today_string, \"%d-%m-%Y\")\n",
    "print(parsed_data)"
   ]
  },
  {
   "cell_type": "markdown",
   "id": "b60c995b",
   "metadata": {},
   "source": [
    "### Q.4 List the files in your current directory"
   ]
  },
  {
   "cell_type": "markdown",
   "id": "c42b4afb",
   "metadata": {},
   "source": [
    "**ANS** = "
   ]
  },
  {
   "cell_type": "code",
   "execution_count": 4,
   "id": "900d987d",
   "metadata": {
    "collapsed": true
   },
   "outputs": [
    {
     "name": "stdout",
     "output_type": "stream",
     "text": [
      "application_log.txt\n",
      "Assignment 10.ipynb\n",
      "Assignment 11.ipynb\n",
      "Assignment 12.ipynb\n",
      "Assignment 13.ipynb\n",
      "Assignment 14.ipynb\n",
      "Assignment 15.ipynb\n",
      "Assignment 16.ipynb\n",
      "Assignment 17.ipynb\n",
      "Assignment 18.ipynb\n",
      "Assignment 19.ipynb\n",
      "Assignment 20.ipynb\n",
      "Assignment 21.ipynb\n",
      "Assignment 8.ipynb\n",
      "Assignment 9.ipynb\n",
      "books.csv\n",
      "books.db\n",
      "Pic.jpg\n",
      "Pic2.jpg\n",
      "test.txt\n",
      "today.txt\n",
      "COMMIT_EDITMSG\n",
      "config\n",
      "description\n",
      "HEAD\n",
      "index\n",
      "applypatch-msg.sample\n",
      "commit-msg.sample\n",
      "fsmonitor-watchman.sample\n",
      "post-update.sample\n",
      "pre-applypatch.sample\n",
      "pre-commit.sample\n",
      "pre-merge-commit.sample\n",
      "pre-push.sample\n",
      "pre-rebase.sample\n",
      "pre-receive.sample\n",
      "prepare-commit-msg.sample\n",
      "push-to-checkout.sample\n",
      "update.sample\n",
      "exclude\n",
      "HEAD\n",
      "master\n",
      "cf49b8e37fe02b0d02df67a7f77d8493db8db2\n",
      "2fe186ed04cedc9a78f36a87d88cdf0653fee8\n",
      "2607d7cfdc977b8d4fc2a93b8babd0f802a9ba\n",
      "b031df8ab7d78a04d253265fac4aebd0ef5a99\n",
      "43b4fcd763dd921d94e384226454ad04f6dba5\n",
      "416328fe43a95319027bfe64a9050b3bf78094\n",
      "857dd146c3089020c870df972c929801666f10\n",
      "d3bf9d1e7df44b3b2f9f00583de1085a375309\n",
      "5016d54808bc493e6a029686754ef35c4c1944\n",
      "30a6a0ccb985475a12ec93833457c40bb07a5c\n",
      "2dc69e0e50318ed4f202b01d5b0a5c1778b4ad\n",
      "master\n",
      "Assignment  20-checkpoint.ipynb\n",
      "Assignment  21-checkpoint.ipynb\n",
      "Assignment 10-checkpoint.ipynb\n",
      "Assignment 11-checkpoint.ipynb\n",
      "Assignment 12-checkpoint.ipynb\n",
      "Assignment 13-checkpoint.ipynb\n",
      "Assignment 14-checkpoint.ipynb\n",
      "Assignment 15-checkpoint.ipynb\n",
      "Assignment 16-checkpoint.ipynb\n",
      "Assignment 17-checkpoint.ipynb\n",
      "Assignment 18-checkpoint.ipynb\n",
      "Assignment 19-checkpoint.ipynb\n",
      "Assignment 21-checkpoint.ipynb\n",
      "Assignment 8-checkpoint.ipynb\n",
      "Assignment 9-checkpoint.ipynb\n",
      "Untitled-checkpoint.ipynb\n",
      "01.Assignment_01.ipynb\n",
      "02.Assignment_02.ipynb\n",
      "03.Assignment_03.ipynb\n",
      "04.Assignment_04.ipynb\n",
      "05.Assignment_05.ipynb\n",
      "06.Assignment_06.ipynb\n",
      "07.Assignment_07.ipynb\n",
      "08.Assignment_08.ipynb\n",
      "09.Assignment_09.ipynb\n",
      "10.Assignment_10.ipynb\n",
      "11.Assignment_11.ipynb\n",
      "12.Assignment_12.ipynb\n",
      "13.Assignment_13.ipynb\n",
      "14.Assignment_14.ipynb\n",
      "15.Assignment_15.ipynb\n",
      "16.Assignment_16.ipynb\n",
      "17.Assignment_17.ipynb\n",
      "18.Assignment_18.ipynb\n",
      "19.Assignment_19.ipynb\n",
      "20.Assignment_20.ipynb\n",
      "21.Assignment_21.ipynb\n",
      "22.Assignment_22.ipynb\n",
      "23.Assignment_23.ipynb\n",
      "24.Assignment_24.ipynb\n",
      "25.Assignment_25.ipynb\n",
      "15.Assignment_15-checkpoint.ipynb\n",
      "16.Assignment_16-checkpoint.ipynb\n",
      "17.Assignment_17-checkpoint.ipynb\n",
      "18.Assignment_18-checkpoint.ipynb\n",
      "19.Assignment_19-checkpoint.ipynb\n",
      "20.Assignment_20-checkpoint.ipynb\n",
      "21.Assignment_21-checkpoint.ipynb\n"
     ]
    }
   ],
   "source": [
    "import os\n",
    "for folders, subfolders, files in os.walk(os.getcwd()):\n",
    "    for file in files:\n",
    "        print(file)"
   ]
  },
  {
   "cell_type": "markdown",
   "id": "be917620",
   "metadata": {},
   "source": [
    "### Q.5 Create a list of all of the files in your parent directory (minimum five files should be available)."
   ]
  },
  {
   "cell_type": "markdown",
   "id": "8f49274a",
   "metadata": {},
   "source": [
    "**ANS** = "
   ]
  },
  {
   "cell_type": "code",
   "execution_count": 5,
   "id": "c997268d",
   "metadata": {},
   "outputs": [
    {
     "data": {
      "text/plain": [
       "['.git',\n",
       " '.ipynb_checkpoints',\n",
       " 'application_log.txt',\n",
       " 'Assignment 10.ipynb',\n",
       " 'Assignment 11.ipynb',\n",
       " 'Assignment 12.ipynb',\n",
       " 'Assignment 13.ipynb',\n",
       " 'Assignment 14.ipynb',\n",
       " 'Assignment 15.ipynb',\n",
       " 'Assignment 16.ipynb',\n",
       " 'Assignment 17.ipynb',\n",
       " 'Assignment 18.ipynb',\n",
       " 'Assignment 19.ipynb',\n",
       " 'Assignment 20.ipynb',\n",
       " 'Assignment 21.ipynb',\n",
       " 'Assignment 8.ipynb',\n",
       " 'Assignment 9.ipynb',\n",
       " 'books.csv',\n",
       " 'books.db',\n",
       " 'Pic.jpg',\n",
       " 'Pic2.jpg',\n",
       " 'Python Basic Assignment',\n",
       " 'test.txt',\n",
       " 'today.txt']"
      ]
     },
     "execution_count": 5,
     "metadata": {},
     "output_type": "execute_result"
    }
   ],
   "source": [
    "import os\n",
    "os.listdir()"
   ]
  },
  {
   "cell_type": "markdown",
   "id": "23241e9c",
   "metadata": {},
   "source": [
    "### Q.6 Use multiprocessing to create three separate processes. Make each one wait a random number of seconds between one and five, print the current time, and then exit."
   ]
  },
  {
   "cell_type": "markdown",
   "id": "91af139c",
   "metadata": {},
   "source": [
    "**ANS** = "
   ]
  },
  {
   "cell_type": "code",
   "execution_count": 6,
   "id": "86a8ddd4",
   "metadata": {},
   "outputs": [],
   "source": [
    "import multiprocessing\n",
    "import datetime\n",
    "import time\n",
    "import random\n",
    "\n",
    "def process_one():\n",
    "    print(f\"Proc one start time = {datetime.datetime.now()}\")\n",
    "    time.sleep(random.randint(1,5))\n",
    "    print(f\"Proc one end time = {datetime.datetime.now()}\")\n",
    "\n",
    "def process_two():\n",
    "    print(f\"Proc two start time = {datetime.datetime.now()}\")\n",
    "    time.sleep(random.randint(1,5))\n",
    "    print(f\"Proc two end time = {datetime.datetime.now()}\")\n",
    "\n",
    "def process_three():\n",
    "    print(f\"Proc three start time = {datetime.datetime.now()}\")\n",
    "    time.sleep(random.randint(1,5))\n",
    "    print(f\"Proc three end time = {datetime.datetime.now()}\")\n",
    "\n",
    "if __name__ == \"__main__\":    \n",
    "    p1 = multiprocessing.Process(target=process_one)\n",
    "    p2 = multiprocessing.Process(target=process_two)\n",
    "    p3 = multiprocessing.Process(target=process_three)\n",
    "\n",
    "    p1.start()\n",
    "    p2.start()\n",
    "    p3.start()\n",
    "\n",
    "    p1.join()\n",
    "    p2.join()\n",
    "    p3.join()"
   ]
  },
  {
   "cell_type": "markdown",
   "id": "a17a4c12",
   "metadata": {},
   "source": [
    "Due to some unknown reason. the above did not print any results in the jupyter cell. so i copied the code to a python file. executed it and pasted the ouput here  \n",
    "C:\\Users\\krish\\Jupyter Notebook>python assign-21-Q.6.py\n",
    "`Proc one start time = 2023-05-16 19:12:17.547433`  \n",
    "`Proc two start time = 2023-05-16 19:12:17.547433`  \n",
    "`Proc three start time = 2023-05-16 19:12:17.552418`  \n",
    "`Proc three end time = 2023-05-16 19:12:18.553692`  \n",
    "`Proc two end time = 2023-05-16 19:12:19.548572`  \n",
    "`Proc one end time = 2023-05-16 19:12:20.548681`  "
   ]
  },
  {
   "cell_type": "markdown",
   "id": "43a3bc73",
   "metadata": {},
   "source": [
    "### Q.7 Create a date object of your day of birth."
   ]
  },
  {
   "cell_type": "markdown",
   "id": "8679d839",
   "metadata": {},
   "source": [
    "**ANS** =  "
   ]
  },
  {
   "cell_type": "code",
   "execution_count": 7,
   "id": "1cd91de3",
   "metadata": {},
   "outputs": [
    {
     "name": "stdout",
     "output_type": "stream",
     "text": [
      "1997-05-10 00:00:00 <class 'datetime.datetime'>\n"
     ]
    }
   ],
   "source": [
    "from datetime import datetime\n",
    "my_dob = datetime.strptime(\"10/05/1997\", \"%d/%m/%Y\")\n",
    "print(my_dob, type(my_dob))"
   ]
  },
  {
   "cell_type": "markdown",
   "id": "9d220029",
   "metadata": {},
   "source": [
    "### Q.8 What day of the week was your day of birth?"
   ]
  },
  {
   "cell_type": "markdown",
   "id": "6e63d398",
   "metadata": {},
   "source": [
    "**ANS** = "
   ]
  },
  {
   "cell_type": "code",
   "execution_count": 8,
   "id": "c0090632",
   "metadata": {},
   "outputs": [
    {
     "data": {
      "text/plain": [
       "'Saturday'"
      ]
     },
     "execution_count": 8,
     "metadata": {},
     "output_type": "execute_result"
    }
   ],
   "source": [
    "from datetime import datetime\n",
    "my_dob = datetime(1997,5,10)\n",
    "my_dob.strftime(\"%A\")"
   ]
  },
  {
   "cell_type": "markdown",
   "id": "db4e6587",
   "metadata": {},
   "source": [
    "### Q.9 When will you be (or when were you) 10,000 days old?"
   ]
  },
  {
   "cell_type": "markdown",
   "id": "b1ec63a6",
   "metadata": {},
   "source": [
    "**ANS** = "
   ]
  },
  {
   "cell_type": "code",
   "execution_count": 9,
   "id": "f462b124",
   "metadata": {},
   "outputs": [
    {
     "data": {
      "text/plain": [
       "datetime.datetime(2024, 9, 25, 0, 0)"
      ]
     },
     "execution_count": 9,
     "metadata": {},
     "output_type": "execute_result"
    }
   ],
   "source": [
    "from datetime import datetime, timedelta\n",
    "my_dob = datetime.strptime(\"10/05/1997\",'%d/%m/%Y')\n",
    "future_date = my_dob+timedelta(10000)\n",
    "future_date"
   ]
  }
 ],
 "metadata": {
  "kernelspec": {
   "display_name": "Python 3 (ipykernel)",
   "language": "python",
   "name": "python3"
  },
  "language_info": {
   "codemirror_mode": {
    "name": "ipython",
    "version": 3
   },
   "file_extension": ".py",
   "mimetype": "text/x-python",
   "name": "python",
   "nbconvert_exporter": "python",
   "pygments_lexer": "ipython3",
   "version": "3.10.9"
  }
 },
 "nbformat": 4,
 "nbformat_minor": 5
}
