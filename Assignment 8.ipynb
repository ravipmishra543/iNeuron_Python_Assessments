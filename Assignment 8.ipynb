{
 "cells": [
  {
   "cell_type": "markdown",
   "id": "bc26bdb1",
   "metadata": {},
   "source": [
    "# ASSIGNMENT NO 8 - SOLUTION"
   ]
  },
  {
   "cell_type": "markdown",
   "id": "58264231",
   "metadata": {},
   "source": [
    "### Q.1 Is the Python Standard Library included with PyInputPlus?"
   ]
  },
  {
   "cell_type": "markdown",
   "id": "b76c5ad2",
   "metadata": {},
   "source": [
    "**ANS** = No, **`PyInputPlus`** is not a part of Python Standard Library, it needs to be installed explicitly using the command **`pip install pyinputplus`**"
   ]
  },
  {
   "cell_type": "markdown",
   "id": "12dcf452",
   "metadata": {},
   "source": [
    "### Q.2 Why is PyInputPlus commonly imported with import PyInputPlus as pypi?"
   ]
  },
  {
   "cell_type": "markdown",
   "id": "15aca93e",
   "metadata": {},
   "source": [
    "**ANS** = You can import the module with import **`pyinputplus`** as **`pypi`** so that you can enter a shorter name when calling the module's functions."
   ]
  },
  {
   "cell_type": "markdown",
   "id": "8ae59306",
   "metadata": {},
   "source": [
    "### Q.3 How do you distinguish between inputInt() and inputFloat()?"
   ]
  },
  {
   "cell_type": "markdown",
   "id": "ca81adde",
   "metadata": {},
   "source": [
    "**ANS** = **`inputInt()`** function Accepts an integer value. This also takes additional parameters **`min, max, greaterThan`** and **`lessThan`** for bounds and it always returns an int.\n",
    "\n",
    "Whereas **`inputFloat()`** function Accepts a floating-point numeric value. This also takes additional **`min, max, greaterThan`** and **`lessThan`** parameters and always returns a float."
   ]
  },
  {
   "cell_type": "markdown",
   "id": "35df4d78",
   "metadata": {},
   "source": [
    "### Q.4 Using PyInputPlus, how do you ensure that the user enters a whole number between 0 and 99?"
   ]
  },
  {
   "cell_type": "markdown",
   "id": "b71f68f5",
   "metadata": {},
   "source": [
    "**ANS** = **`PyInputPlus`** module provides a function called as **`inputInt()`** which only returns only integer values. Inorder to restrict the input between 0 and 99, use parameters like `min` & `max` to ensure that user enters the values between the defined range only."
   ]
  },
  {
   "cell_type": "code",
   "execution_count": 1,
   "id": "991abffe",
   "metadata": {},
   "outputs": [
    {
     "name": "stdout",
     "output_type": "stream",
     "text": [
      "Enter a number: -42\n",
      "Number must be at minimum 0.\n",
      "Enter a number: 102\n",
      "Number must be at maximum 100.\n",
      "Enter a number: 15\n",
      "15\n"
     ]
    }
   ],
   "source": [
    "import pyinputplus as pypi\n",
    "wholenumber = pypi.inputInt(prompt='Enter a number: ', min=0, max=100)\n",
    "print(wholenumber)"
   ]
  },
  {
   "cell_type": "markdown",
   "id": "17a0ffd7",
   "metadata": {},
   "source": [
    "### Q.5 What is transferred to the keyword arguments allowRegexes and blockRegexes?"
   ]
  },
  {
   "cell_type": "markdown",
   "id": "9850e08d",
   "metadata": {},
   "source": [
    "**ANS** = We can use **`allowRegexes`** and **`blockRegexes`** keyword arguments to take list of regular expression strings to determine what the pyinputplus function will reject or accept valid input."
   ]
  },
  {
   "cell_type": "markdown",
   "id": "2de93e23",
   "metadata": {},
   "source": [
    "### Q.6 If a blank input is entered three times, what does inputStr(limit=3) do?"
   ]
  },
  {
   "cell_type": "markdown",
   "id": "d875598f",
   "metadata": {},
   "source": [
    "**ANS** = The statement **`inputStr(limit=3)`** will throw two exceptions `ValidationException` and `RetryLimitException`. The first exception is thrown because blank values are not allowed by `inputStr()` function by default. It we want to consider blank values as valid input, we have to set `blank=True`.\n",
    "\n",
    "The second exception is occured because we have reached the max limit, we have specified by using `limit` parameter. Inorder to avoid this exception we can use `default` parameter to return a default value when max limit is reached."
   ]
  },
  {
   "cell_type": "markdown",
   "id": "1935d19e",
   "metadata": {},
   "source": [
    "### Q.7 If blank input is entered three times, what does inputStr(limit=3, default='hello') do?"
   ]
  },
  {
   "cell_type": "markdown",
   "id": "e9bc7cae",
   "metadata": {},
   "source": [
    "**ANS** = Since the default parameter is set to `hello`, after blank input is entered three times, `instead of raising RetryLimitException exception`, the function will return hello as response to the calling function."
   ]
  },
  {
   "cell_type": "code",
   "execution_count": 2,
   "id": "0c1d8c33",
   "metadata": {},
   "outputs": [
    {
     "name": "stdout",
     "output_type": "stream",
     "text": [
      "\n",
      "Blank values are not allowed.\n",
      "\n",
      "Blank values are not allowed.\n",
      "\n",
      "Blank values are not allowed.\n"
     ]
    },
    {
     "data": {
      "text/plain": [
       "'hello'"
      ]
     },
     "execution_count": 2,
     "metadata": {},
     "output_type": "execute_result"
    }
   ],
   "source": [
    "pypi.inputStr(limit=3, default='hello')"
   ]
  }
 ],
 "metadata": {
  "kernelspec": {
   "display_name": "Python 3 (ipykernel)",
   "language": "python",
   "name": "python3"
  },
  "language_info": {
   "codemirror_mode": {
    "name": "ipython",
    "version": 3
   },
   "file_extension": ".py",
   "mimetype": "text/x-python",
   "name": "python",
   "nbconvert_exporter": "python",
   "pygments_lexer": "ipython3",
   "version": "3.9.13"
  }
 },
 "nbformat": 4,
 "nbformat_minor": 5
}
