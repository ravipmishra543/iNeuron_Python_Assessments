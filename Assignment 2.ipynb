{
 "cells": [
  {
   "cell_type": "markdown",
   "id": "db287540",
   "metadata": {},
   "source": [
    "# ASSIGNMENT NO 2 - SOLUTION"
   ]
  },
  {
   "cell_type": "markdown",
   "id": "c5b15a64",
   "metadata": {},
   "source": [
    "### 1. What are the two values of the Boolean data type? How do you write them?"
   ]
  },
  {
   "cell_type": "markdown",
   "id": "81336436",
   "metadata": {},
   "source": [
    "````\n",
    "ANS =\n",
    "\n",
    "A variable of data type Boolean can have two values: True & False.\n",
    "Generally, it is used to represent the values of the expressions. \n",
    "For example, 1==1 is True whereas 2<1 is False.\n",
    "Numbers can be used as bool values by using Python’s built-in bool() method. Any integer, floating-point number, or complex number having zero as a value is considered as False, while if they are having value as any positive or negative number then it is considered as True.\n",
    "````"
   ]
  },
  {
   "cell_type": "code",
   "execution_count": 1,
   "id": "b2b29d02",
   "metadata": {},
   "outputs": [
    {
     "data": {
      "text/plain": [
       "False"
      ]
     },
     "execution_count": 1,
     "metadata": {},
     "output_type": "execute_result"
    }
   ],
   "source": [
    "# For example\n",
    "\n",
    "(4+12) == 20"
   ]
  },
  {
   "cell_type": "code",
   "execution_count": 2,
   "id": "b46f4275",
   "metadata": {},
   "outputs": [
    {
     "data": {
      "text/plain": [
       "True"
      ]
     },
     "execution_count": 2,
     "metadata": {},
     "output_type": "execute_result"
    }
   ],
   "source": [
    "# For example\n",
    "\n",
    "(4+12) <= 20"
   ]
  },
  {
   "cell_type": "code",
   "execution_count": 3,
   "id": "9b143770",
   "metadata": {},
   "outputs": [
    {
     "data": {
      "text/plain": [
       "True"
      ]
     },
     "execution_count": 3,
     "metadata": {},
     "output_type": "execute_result"
    }
   ],
   "source": [
    "# For example\n",
    "\n",
    "'a' in 'aspire'"
   ]
  },
  {
   "cell_type": "code",
   "execution_count": 4,
   "id": "e34c0f1e",
   "metadata": {},
   "outputs": [
    {
     "data": {
      "text/plain": [
       "False"
      ]
     },
     "execution_count": 4,
     "metadata": {},
     "output_type": "execute_result"
    }
   ],
   "source": [
    "# For example\n",
    "\n",
    "'g' in 'aspire'"
   ]
  },
  {
   "cell_type": "markdown",
   "id": "f4a7b72c",
   "metadata": {},
   "source": [
    " "
   ]
  },
  {
   "cell_type": "markdown",
   "id": "46c22256",
   "metadata": {},
   "source": [
    "### 2. What are the three different types of Boolean operators?"
   ]
  },
  {
   "cell_type": "markdown",
   "id": "752a2e89",
   "metadata": {},
   "source": [
    "```` \n",
    "ANS = \n",
    "\n",
    "Boolean operators are AND, OR & NOT.\n",
    "using these 3 operators, value of boolean operator i.e. True & False, can be manipulated.\n",
    "\n",
    "\n",
    "AND operator\n",
    "  A     B      A AND B\n",
    "True  True      True\n",
    "True  False     False\n",
    "False True      False\n",
    "False False     False\n",
    "\n",
    "OR operator\n",
    "  A     B      A OR B\n",
    "True  True      True\n",
    "True  False     True\n",
    "False True      True\n",
    "False False     False\n",
    "\n",
    "NOT operator\n",
    "  A     NOT A\n",
    "True    False\n",
    "False   True\n",
    "````"
   ]
  },
  {
   "cell_type": "markdown",
   "id": "b923da0c",
   "metadata": {},
   "source": [
    " "
   ]
  },
  {
   "cell_type": "markdown",
   "id": "7fceb417",
   "metadata": {},
   "source": [
    "### 3. Make a list of each Boolean operator's truth tables (i.e. every possible combination of Boolean values for the operator and what it evaluate)."
   ]
  },
  {
   "cell_type": "markdown",
   "id": "488c9b83",
   "metadata": {},
   "source": [
    "````\n",
    "ANS =\n",
    "\n",
    "AND operator\n",
    "  A     B      A AND B\n",
    "True  True      True\n",
    "True  False     False\n",
    "False True      False\n",
    "False False     False\n",
    "\n",
    "OR operator\n",
    "  A     B      A OR B\n",
    "True  True      True\n",
    "True  False     True\n",
    "False True      True\n",
    "False False     False\n",
    "\n",
    "NOT operator\n",
    "  A     NOT A\n",
    "True    False\n",
    "False   True\n",
    "````"
   ]
  },
  {
   "cell_type": "markdown",
   "id": "f6397ed3",
   "metadata": {},
   "source": [
    " "
   ]
  },
  {
   "cell_type": "markdown",
   "id": "f1fd1047",
   "metadata": {},
   "source": [
    "### 4. What are the values of the following expressions?\n",
    "    (5 > 4) and (3 == 5)\n",
    "    not (5 > 4)\n",
    "    (5 > 4) or (3 == 5)\n",
    "    not ((5 > 4) or (3 == 5))\n",
    "    (True and True) and (True == False)"
   ]
  },
  {
   "cell_type": "markdown",
   "id": "7755e054",
   "metadata": {},
   "source": [
    "````\n",
    "ANS =\n",
    "\n",
    "1. (5 > 4) and (3 == 5)\n",
    "    Here, (5 > 4) is True & (3 == 5) is False.\n",
    "    Hence, expression is True and False, ANS is False.\n",
    "    \n",
    "2. not (5 > 4)\n",
    "    Here, (5 > 4) is True.\n",
    "    Hence, expression is Not True, ANS is False.\n",
    "\n",
    "3. (5 > 4) or (3 == 5)\n",
    "    Here, (5 > 4) is True & (3 == 5) is False.\n",
    "    Hence, expression is True or False, ANS is True.\n",
    "\n",
    "4. not ((5 > 4) or (3 == 5))\n",
    "    Here, (5 > 4) is True & (3 == 5) is False.\n",
    "    Hence, expression is Not( True or False ), i.e. Not(True).\n",
    "    ANS is False.\n",
    "\n",
    "5. (True and True) and (True == False)\n",
    "    Here, (True and True) is True & (True == False) is False.\n",
    "    Hence, expression is True and False, ANS is False.\n",
    "\n",
    "6. (not False) or (not True)\n",
    "    Here, (not False) is True & (not True) is False.\n",
    "    Hence, expression is True or False, ANS is True.\n",
    "````"
   ]
  },
  {
   "cell_type": "code",
   "execution_count": 5,
   "id": "0f2b273f",
   "metadata": {},
   "outputs": [
    {
     "name": "stdout",
     "output_type": "stream",
     "text": [
      "False\n",
      "False\n",
      "True\n",
      "False\n",
      "False\n",
      "True\n"
     ]
    }
   ],
   "source": [
    "print( (5 > 4) and (3 == 5) )\n",
    "print( not (5 > 4) )\n",
    "print( (5 > 4) or (3 == 5) )\n",
    "print( not ((5 > 4) or (3 == 5)) )\n",
    "print( (True and True) and (True == False) )\n",
    "print( (not False) or (not True) )"
   ]
  },
  {
   "cell_type": "markdown",
   "id": "bb976f49",
   "metadata": {},
   "source": [
    " "
   ]
  },
  {
   "cell_type": "markdown",
   "id": "b0a59448",
   "metadata": {},
   "source": [
    "### 5. What are the six comparison operators?"
   ]
  },
  {
   "cell_type": "markdown",
   "id": "6bd5aa7b",
   "metadata": {},
   "source": [
    "````\n",
    "ANS =\n",
    "\n",
    "Comparison operators are used to compare two values.\n",
    "The main comparison operators are :-\n",
    "    1.   >     (Greater than)\n",
    "    2.   >=    (Greater than or equal to)\n",
    "    3.   <     (Less than)\n",
    "    4.   <=    (Less than or equal to)\n",
    "    5.   ==    (Equal)\n",
    "    6.   !=    (Not Equal) \n",
    "````"
   ]
  },
  {
   "cell_type": "markdown",
   "id": "3a5ebdd9",
   "metadata": {},
   "source": [
    "### 6. How do you tell the difference between the equal to and assignment operators?    Describe a condition and when you would use one."
   ]
  },
  {
   "cell_type": "markdown",
   "id": "2cec94c9",
   "metadata": {},
   "source": [
    "````\n",
    "ANS =\n",
    "\n",
    "The assignment operator \" = \" is used to assign the value to the variable.\n",
    "Eg. -   a = 10             here, value of variable a is assign to 10.\n",
    "        b = 'my_name'      here, value of variable b is assign to 'my_name'.\n",
    "        c = [1, 2, 3]      here, value of variable c is assign to [1, 2, 3].\n",
    "\n",
    "The Equal to \" == \" Operator ( i.e comparison operator ) checks whether the two given operands / values are equal or not. If equals, then it returns True, otherwise it returns False.\n",
    "Eg. -   a == 10   here, equal to operator checks whether value of variable a is 10 or not.\n",
    "````"
   ]
  },
  {
   "cell_type": "code",
   "execution_count": 6,
   "id": "dc934684",
   "metadata": {},
   "outputs": [],
   "source": [
    "a = 10\n",
    "b = 'my_name'\n",
    "c = [1, 2,3]"
   ]
  },
  {
   "cell_type": "code",
   "execution_count": 7,
   "id": "14e92bb1",
   "metadata": {},
   "outputs": [
    {
     "data": {
      "text/plain": [
       "True"
      ]
     },
     "execution_count": 7,
     "metadata": {},
     "output_type": "execute_result"
    }
   ],
   "source": [
    "a == 10"
   ]
  },
  {
   "cell_type": "code",
   "execution_count": 8,
   "id": "44fc1c40",
   "metadata": {},
   "outputs": [
    {
     "data": {
      "text/plain": [
       "True"
      ]
     },
     "execution_count": 8,
     "metadata": {},
     "output_type": "execute_result"
    }
   ],
   "source": [
    "b == 'my_name'"
   ]
  },
  {
   "cell_type": "code",
   "execution_count": 9,
   "id": "21c7c629",
   "metadata": {},
   "outputs": [
    {
     "data": {
      "text/plain": [
       "False"
      ]
     },
     "execution_count": 9,
     "metadata": {},
     "output_type": "execute_result"
    }
   ],
   "source": [
    "a == b"
   ]
  },
  {
   "cell_type": "code",
   "execution_count": 10,
   "id": "ecd44700",
   "metadata": {},
   "outputs": [
    {
     "data": {
      "text/plain": [
       "False"
      ]
     },
     "execution_count": 10,
     "metadata": {},
     "output_type": "execute_result"
    }
   ],
   "source": [
    "a == c"
   ]
  },
  {
   "cell_type": "markdown",
   "id": "03104e59",
   "metadata": {},
   "source": [
    " "
   ]
  },
  {
   "cell_type": "markdown",
   "id": "addf204b",
   "metadata": {},
   "source": [
    "### 7. Identify the three blocks in this code:\n",
    "    spam = 0\n",
    "    if spam == 10:\n",
    "    print('eggs')\n",
    "    if spam > 5:\n",
    "    print('bacon')\n",
    "    else:\n",
    "    print('ham')\n",
    "    print('spam')\n",
    "    print('spam')"
   ]
  },
  {
   "cell_type": "markdown",
   "id": "a73ec51c",
   "metadata": {},
   "source": [
    "````\n",
    "ANS =\n",
    "\n",
    "To identify & indicate block of code in Python, indent each line of block by same amount.\n",
    "````"
   ]
  },
  {
   "cell_type": "code",
   "execution_count": 11,
   "id": "1dd39ee2",
   "metadata": {},
   "outputs": [
    {
     "name": "stdout",
     "output_type": "stream",
     "text": [
      "ham\n",
      "spam\n",
      "spam\n"
     ]
    }
   ],
   "source": [
    "spam = 0\n",
    "if spam == 10:\n",
    "    print('eggs')    # Block 1\n",
    "if spam > 5:\n",
    "    print('bacon')   # Block 2\n",
    "else:\n",
    "    print('ham')     # Block 3\n",
    "    print('spam')\n",
    "    print('spam')"
   ]
  },
  {
   "cell_type": "markdown",
   "id": "e67fdc7f",
   "metadata": {},
   "source": [
    " "
   ]
  },
  {
   "cell_type": "markdown",
   "id": "21ecafcc",
   "metadata": {},
   "source": [
    "### 8. Write code that prints Hello if 1 is stored in spam, prints Howdy if 2 is stored in spam, and prints Greetings!"
   ]
  },
  {
   "cell_type": "code",
   "execution_count": 12,
   "id": "4e84bf67",
   "metadata": {},
   "outputs": [
    {
     "name": "stdout",
     "output_type": "stream",
     "text": [
      "Hello\n",
      "Greetings !\n"
     ]
    }
   ],
   "source": [
    "# ANS =\n",
    "\n",
    "spam = 1\n",
    "\n",
    "if spam == 1 :\n",
    "    print(\"Hello\")\n",
    "elif spam == 2 :\n",
    "    print(\"Howdy\")\n",
    "print(\"Greetings !\")"
   ]
  },
  {
   "cell_type": "code",
   "execution_count": 13,
   "id": "3701cac9",
   "metadata": {},
   "outputs": [
    {
     "name": "stdout",
     "output_type": "stream",
     "text": [
      "Howdy\n",
      "Greetings !\n"
     ]
    }
   ],
   "source": [
    "# ANS =\n",
    "\n",
    "spam = 2\n",
    "\n",
    "if spam == 1 :\n",
    "    print(\"Hello\")\n",
    "elif spam == 2 :\n",
    "    print(\"Howdy\")\n",
    "print(\"Greetings !\")"
   ]
  },
  {
   "cell_type": "markdown",
   "id": "170f1790",
   "metadata": {},
   "source": [
    " "
   ]
  },
  {
   "cell_type": "markdown",
   "id": "4a2936fd",
   "metadata": {},
   "source": [
    "### 9.If your programme is stuck in an endless loop, what keys you’ll press?"
   ]
  },
  {
   "cell_type": "markdown",
   "id": "5dba6bd2",
   "metadata": {},
   "source": [
    "````\n",
    "ANS =\n",
    "\n",
    "Press 'Interrupt the kernel' or 'ctrl-c' key to stop a programme, which is stuck in an endless loop.\n",
    "````"
   ]
  },
  {
   "cell_type": "markdown",
   "id": "01b17b4f",
   "metadata": {},
   "source": [
    " "
   ]
  },
  {
   "cell_type": "markdown",
   "id": "55853754",
   "metadata": {},
   "source": [
    "### 10. How can you tell the difference between break and continue?"
   ]
  },
  {
   "cell_type": "markdown",
   "id": "0fa29620",
   "metadata": {},
   "source": [
    "````\n",
    "ANS =\n",
    "\n",
    "Break statement eliminates the execution of remaining iteration of loop and it will resume control of programme to the end of loop.\n",
    "\n",
    "Continue statement terminates only the current iteration of loop, it will resume the control  of programe to next iteration of that loop.\n",
    "````"
   ]
  },
  {
   "cell_type": "markdown",
   "id": "e3644d03",
   "metadata": {},
   "source": [
    " "
   ]
  },
  {
   "cell_type": "markdown",
   "id": "1d9ceb61",
   "metadata": {},
   "source": [
    "### 11. In a for loop, what is the difference between range(10), range(0, 10) and range(0, 10, 1)?"
   ]
  },
  {
   "cell_type": "markdown",
   "id": "d46516a2",
   "metadata": {},
   "source": [
    "````\n",
    "ANS = \n",
    "\n",
    "range(10) calls range initially auto start from 0 to 9 (not include 10).\n",
    "range(0, 10) calls range to particularly start from 0 to the end 9 (not including 10).\n",
    "range(0, 10, 1) calls range to start from 0 to the end 9 with the jump value of 1.\n",
    "````"
   ]
  },
  {
   "cell_type": "markdown",
   "id": "835ad0f0",
   "metadata": {},
   "source": [
    " "
   ]
  },
  {
   "cell_type": "markdown",
   "id": "9d177afb",
   "metadata": {},
   "source": [
    "### 12. Write a short program that prints the numbers 1 to 10 using a for loop. Then write an equivalent program that prints the numbers 1 to 10 using a while loop."
   ]
  },
  {
   "cell_type": "code",
   "execution_count": 14,
   "id": "7c55e4d5",
   "metadata": {},
   "outputs": [
    {
     "name": "stdout",
     "output_type": "stream",
     "text": [
      "1\n",
      "2\n",
      "3\n",
      "4\n",
      "5\n",
      "6\n",
      "7\n",
      "8\n",
      "9\n",
      "10\n"
     ]
    }
   ],
   "source": [
    "# ANS =\n",
    "\n",
    "''' 1. Program that prints the numbers 1 to 10 using a for loop. '''\n",
    "\n",
    "for i in range(10):\n",
    "    print(i+1)"
   ]
  },
  {
   "cell_type": "code",
   "execution_count": 15,
   "id": "305abc1a",
   "metadata": {},
   "outputs": [
    {
     "name": "stdout",
     "output_type": "stream",
     "text": [
      "1\n",
      "2\n",
      "3\n",
      "4\n",
      "5\n",
      "6\n",
      "7\n",
      "8\n",
      "9\n",
      "10\n"
     ]
    }
   ],
   "source": [
    "''' 2. Program that prints the numbers 1 to 10 using a while loop. '''\n",
    "\n",
    "a = 1\n",
    "while a < 11 :\n",
    "    print(a)\n",
    "    a+=1"
   ]
  },
  {
   "cell_type": "markdown",
   "id": "d0091c24",
   "metadata": {},
   "source": [
    " "
   ]
  },
  {
   "cell_type": "markdown",
   "id": "818742e1",
   "metadata": {},
   "source": [
    "### 13. If you had a function named bacon() inside a module named spam, how would you call it after importing spam?"
   ]
  },
  {
   "cell_type": "markdown",
   "id": "d2c95817",
   "metadata": {},
   "source": [
    "````\n",
    "ANS =\n",
    "\n",
    "A function bacon() inside a module spam can be called with \n",
    "\n",
    "spam.bacon()\n",
    "````"
   ]
  }
 ],
 "metadata": {
  "kernelspec": {
   "display_name": "Python 3 (ipykernel)",
   "language": "python",
   "name": "python3"
  },
  "language_info": {
   "codemirror_mode": {
    "name": "ipython",
    "version": 3
   },
   "file_extension": ".py",
   "mimetype": "text/x-python",
   "name": "python",
   "nbconvert_exporter": "python",
   "pygments_lexer": "ipython3",
   "version": "3.9.12"
  }
 },
 "nbformat": 4,
 "nbformat_minor": 5
}
