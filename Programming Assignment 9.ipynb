{
 "cells": [
  {
   "cell_type": "markdown",
   "id": "86db4ded",
   "metadata": {},
   "source": [
    "# PROGRAMMING ASSIGNMENT NO 9 - SOLUTION"
   ]
  },
  {
   "cell_type": "markdown",
   "id": "819550b3",
   "metadata": {},
   "source": [
    "### 1. Write a Python program to check if the given number is a Disarium Number?"
   ]
  },
  {
   "cell_type": "code",
   "execution_count": 1,
   "id": "6460fdfb",
   "metadata": {},
   "outputs": [],
   "source": [
    "# ANS =\n",
    "\n",
    "def disarium_num(num):\n",
    "    \"\"\"Python program to check if the given number is a Disarium Number\"\"\"\n",
    "    try:\n",
    "        sum = 0\n",
    "        for i in range(len(str(num))):\n",
    "            sum = sum + int((str(num))[i])**(i+1)\n",
    "        if num == sum :\n",
    "            return f\"The given number {num} is a Disarium number.\"\n",
    "        else:\n",
    "            return f\"The given number {num} is not a Disarium number.\"\n",
    "    except Exception as error:\n",
    "        return error"
   ]
  },
  {
   "cell_type": "code",
   "execution_count": 2,
   "id": "f2c3edf3",
   "metadata": {},
   "outputs": [
    {
     "data": {
      "text/plain": [
       "'The given number 135 is a Disarium number.'"
      ]
     },
     "execution_count": 2,
     "metadata": {},
     "output_type": "execute_result"
    }
   ],
   "source": [
    "disarium_num(135)"
   ]
  },
  {
   "cell_type": "code",
   "execution_count": 3,
   "id": "0de77cce",
   "metadata": {},
   "outputs": [
    {
     "data": {
      "text/plain": [
       "'The given number 5 is a Disarium number.'"
      ]
     },
     "execution_count": 3,
     "metadata": {},
     "output_type": "execute_result"
    }
   ],
   "source": [
    "disarium_num(5)"
   ]
  },
  {
   "cell_type": "code",
   "execution_count": 4,
   "id": "090e72a8",
   "metadata": {},
   "outputs": [
    {
     "data": {
      "text/plain": [
       "'The given number 25 is not a Disarium number.'"
      ]
     },
     "execution_count": 4,
     "metadata": {},
     "output_type": "execute_result"
    }
   ],
   "source": [
    "disarium_num(25)"
   ]
  },
  {
   "cell_type": "code",
   "execution_count": 5,
   "id": "11c102ee",
   "metadata": {},
   "outputs": [
    {
     "data": {
      "text/plain": [
       "'The given number 48 is not a Disarium number.'"
      ]
     },
     "execution_count": 5,
     "metadata": {},
     "output_type": "execute_result"
    }
   ],
   "source": [
    "disarium_num(48)"
   ]
  },
  {
   "cell_type": "markdown",
   "id": "d6dfdc15",
   "metadata": {},
   "source": [
    "### 2. Write a Python program to print all disarium numbers between 1 to 100?"
   ]
  },
  {
   "cell_type": "code",
   "execution_count": 6,
   "id": "71c4b9be",
   "metadata": {},
   "outputs": [],
   "source": [
    "# ANS =\n",
    "\n",
    "def dis_num_list(start_from, to_the_end):\n",
    "    \"\"\"Python program to print all disarium numbers between range.\"\"\"\n",
    "    try :\n",
    "        dis_list = []\n",
    "        for i in range(start_from, to_the_end):\n",
    "            sum = 0\n",
    "            for j in range(len(str(i))):\n",
    "                sum = sum + int((str(i))[j])**(j+1)\n",
    "            if i == sum:\n",
    "                dis_list.append(sum)\n",
    "            else:\n",
    "                pass\n",
    "        return f\"The Disarium numbers between {start_from} to {to_the_end} are {dis_list}.\"\n",
    "    except Exception as error:\n",
    "        return error\n",
    "                "
   ]
  },
  {
   "cell_type": "code",
   "execution_count": 7,
   "id": "3aab1a23",
   "metadata": {},
   "outputs": [
    {
     "data": {
      "text/plain": [
       "'The Disarium numbers between 1 to 100 are [1, 2, 3, 4, 5, 6, 7, 8, 9, 89].'"
      ]
     },
     "execution_count": 7,
     "metadata": {},
     "output_type": "execute_result"
    }
   ],
   "source": [
    "dis_num_list(1,100)"
   ]
  },
  {
   "cell_type": "code",
   "execution_count": 8,
   "id": "3b5c788a",
   "metadata": {},
   "outputs": [
    {
     "data": {
      "text/plain": [
       "'The Disarium numbers between 1 to 1000 are [1, 2, 3, 4, 5, 6, 7, 8, 9, 89, 135, 175, 518, 598].'"
      ]
     },
     "execution_count": 8,
     "metadata": {},
     "output_type": "execute_result"
    }
   ],
   "source": [
    "dis_num_list(1,1000)"
   ]
  },
  {
   "cell_type": "code",
   "execution_count": 9,
   "id": "8efffaca",
   "metadata": {},
   "outputs": [
    {
     "data": {
      "text/plain": [
       "'The Disarium numbers between 1 to 10000 are [1, 2, 3, 4, 5, 6, 7, 8, 9, 89, 135, 175, 518, 598, 1306, 1676, 2427].'"
      ]
     },
     "execution_count": 9,
     "metadata": {},
     "output_type": "execute_result"
    }
   ],
   "source": [
    "dis_num_list(1,10000)"
   ]
  },
  {
   "cell_type": "markdown",
   "id": "c60656f7",
   "metadata": {},
   "source": [
    "### 3. Write a Python program to check if the given number is Happy Number?"
   ]
  },
  {
   "cell_type": "code",
   "execution_count": 10,
   "id": "89a879c4",
   "metadata": {},
   "outputs": [],
   "source": [
    "# ANS =\n",
    "\n",
    "def checkHappyNumber(num):\n",
    "    \"\"\"Python program to check if the given number is Happy Number or not.\"\"\"\n",
    "    try:\n",
    "        num1 = str(num)\n",
    "        num1_duplicate = num1\n",
    "        tracknum = set()   \n",
    "        while True:\n",
    "            if num1 != '1' and str(num1) not in tracknum:\n",
    "                tracknum.add(num1)\n",
    "                sum = 0\n",
    "                for i in range(len((num1))):\n",
    "                    sum = sum + int(num1[i])**2\n",
    "                num1 = str(sum)\n",
    "            elif str(num1) in tracknum:\n",
    "                print(f'{num1_duplicate} is not a Happy Number')\n",
    "                break\n",
    "            else:\n",
    "                print(f'{num1_duplicate} is a Happy Number')\n",
    "                break\n",
    "    except Exception as error:\n",
    "        return error"
   ]
  },
  {
   "cell_type": "code",
   "execution_count": 11,
   "id": "c2b8f1fe",
   "metadata": {},
   "outputs": [
    {
     "name": "stdout",
     "output_type": "stream",
     "text": [
      "5 is not a Happy Number\n"
     ]
    }
   ],
   "source": [
    "checkHappyNumber(5)"
   ]
  },
  {
   "cell_type": "code",
   "execution_count": 12,
   "id": "50b10238",
   "metadata": {},
   "outputs": [
    {
     "name": "stdout",
     "output_type": "stream",
     "text": [
      "25 is not a Happy Number\n"
     ]
    }
   ],
   "source": [
    "checkHappyNumber(25)"
   ]
  },
  {
   "cell_type": "code",
   "execution_count": 13,
   "id": "3b7250a4",
   "metadata": {},
   "outputs": [
    {
     "name": "stdout",
     "output_type": "stream",
     "text": [
      "19 is a Happy Number\n"
     ]
    }
   ],
   "source": [
    "checkHappyNumber(19)"
   ]
  },
  {
   "cell_type": "code",
   "execution_count": 14,
   "id": "e8e2aa89",
   "metadata": {},
   "outputs": [
    {
     "name": "stdout",
     "output_type": "stream",
     "text": [
      "38 is not a Happy Number\n"
     ]
    }
   ],
   "source": [
    "checkHappyNumber(38)"
   ]
  },
  {
   "cell_type": "markdown",
   "id": "ce4b14b8",
   "metadata": {},
   "source": [
    "### 4. Write a Python program to print all happy numbers between 1 and 100?"
   ]
  },
  {
   "cell_type": "code",
   "execution_count": 15,
   "id": "9f9bebc0",
   "metadata": {},
   "outputs": [],
   "source": [
    "def Happy_num_list(start, end):\n",
    "    \"\"\"Python program to print all happy numbers between range.\"\"\"\n",
    "    try:\n",
    "        happy_num_list = []\n",
    "        for num in range(start, end+1):\n",
    "            num1 = str(num)\n",
    "            num2 = num\n",
    "            tracknum = set()\n",
    "            while True:\n",
    "                if num1 != '1' and str(num1) not in tracknum:\n",
    "                    tracknum.add(num1)\n",
    "                    sum = 0\n",
    "                    for i in range(len((num1))):\n",
    "                        sum = sum + int(num1[i])**2\n",
    "                    num1 = str(sum)\n",
    "                elif str(num1) in tracknum:\n",
    "                    break\n",
    "                else:\n",
    "                    happy_num_list.append(num2)\n",
    "                    break\n",
    "        return f\"Happy numbers between {start} to {end} is {happy_num_list}.\"\n",
    "    except Exception as error:\n",
    "        return error        "
   ]
  },
  {
   "cell_type": "code",
   "execution_count": 16,
   "id": "7af10ef1",
   "metadata": {},
   "outputs": [
    {
     "data": {
      "text/plain": [
       "'Happy numbers between 1 to 100 is [1, 7, 10, 13, 19, 23, 28, 31, 32, 44, 49, 68, 70, 79, 82, 86, 91, 94, 97, 100].'"
      ]
     },
     "execution_count": 16,
     "metadata": {},
     "output_type": "execute_result"
    }
   ],
   "source": [
    "Happy_num_list(1,100)"
   ]
  },
  {
   "cell_type": "code",
   "execution_count": 17,
   "id": "4110567c",
   "metadata": {},
   "outputs": [
    {
     "data": {
      "text/plain": [
       "'Happy numbers between 1 to 1000 is [1, 7, 10, 13, 19, 23, 28, 31, 32, 44, 49, 68, 70, 79, 82, 86, 91, 94, 97, 100, 103, 109, 129, 130, 133, 139, 167, 176, 188, 190, 192, 193, 203, 208, 219, 226, 230, 236, 239, 262, 263, 280, 291, 293, 301, 302, 310, 313, 319, 320, 326, 329, 331, 338, 356, 362, 365, 367, 368, 376, 379, 383, 386, 391, 392, 397, 404, 409, 440, 446, 464, 469, 478, 487, 490, 496, 536, 556, 563, 565, 566, 608, 617, 622, 623, 632, 635, 637, 638, 644, 649, 653, 655, 656, 665, 671, 673, 680, 683, 694, 700, 709, 716, 736, 739, 748, 761, 763, 784, 790, 793, 802, 806, 818, 820, 833, 836, 847, 860, 863, 874, 881, 888, 899, 901, 904, 907, 910, 912, 913, 921, 923, 931, 932, 937, 940, 946, 964, 970, 973, 989, 998, 1000].'"
      ]
     },
     "execution_count": 17,
     "metadata": {},
     "output_type": "execute_result"
    }
   ],
   "source": [
    "Happy_num_list(1,1000)"
   ]
  },
  {
   "cell_type": "code",
   "execution_count": 18,
   "id": "38cbaa61",
   "metadata": {},
   "outputs": [
    {
     "data": {
      "text/plain": [
       "'Happy numbers between 40 to 48 is [44].'"
      ]
     },
     "execution_count": 18,
     "metadata": {},
     "output_type": "execute_result"
    }
   ],
   "source": [
    "Happy_num_list(40,48)"
   ]
  },
  {
   "cell_type": "markdown",
   "id": "94b9cafb",
   "metadata": {},
   "source": [
    "### 5. Write a Python program to determine whether the given number is a Harshad Number?"
   ]
  },
  {
   "cell_type": "code",
   "execution_count": 19,
   "id": "67ff283b",
   "metadata": {},
   "outputs": [],
   "source": [
    "# ANS =\n",
    "\n",
    "def harshad_number(num):\n",
    "    \"\"\"Python program to determine whether the given number is a Harshad Number or not\"\"\"\n",
    "    sum = 0\n",
    "    for i in range(len(str(num))):\n",
    "        sum = sum + int((str(num))[i])\n",
    "    if num % sum == 0:\n",
    "        return f\"{num} is a Harshad number.\"\n",
    "    else:\n",
    "        return f\"{num} is not a Harshad number.\""
   ]
  },
  {
   "cell_type": "code",
   "execution_count": 20,
   "id": "84e40cad",
   "metadata": {},
   "outputs": [
    {
     "data": {
      "text/plain": [
       "'5 is a Harshad number.'"
      ]
     },
     "execution_count": 20,
     "metadata": {},
     "output_type": "execute_result"
    }
   ],
   "source": [
    "harshad_number(5)"
   ]
  },
  {
   "cell_type": "code",
   "execution_count": 21,
   "id": "e8f09227",
   "metadata": {},
   "outputs": [
    {
     "data": {
      "text/plain": [
       "'15 is not a Harshad number.'"
      ]
     },
     "execution_count": 21,
     "metadata": {},
     "output_type": "execute_result"
    }
   ],
   "source": [
    "harshad_number(15)"
   ]
  },
  {
   "cell_type": "code",
   "execution_count": 22,
   "id": "0e25064f",
   "metadata": {},
   "outputs": [
    {
     "data": {
      "text/plain": [
       "'20 is a Harshad number.'"
      ]
     },
     "execution_count": 22,
     "metadata": {},
     "output_type": "execute_result"
    }
   ],
   "source": [
    "harshad_number(20)"
   ]
  },
  {
   "cell_type": "markdown",
   "id": "eb1e7fae",
   "metadata": {},
   "source": [
    "### 6. Write a Python program to print all pronic numbers between 1 and 100?"
   ]
  },
  {
   "cell_type": "code",
   "execution_count": 23,
   "id": "44b3361b",
   "metadata": {},
   "outputs": [],
   "source": [
    "# ANS =\n",
    "\n",
    "def Pronic_num(start, end):\n",
    "    \"\"\"Python program to print all pronic numbers between range.\"\"\"\n",
    "    pronic_list = []\n",
    "    for i in range(start, end):\n",
    "        number = i*(i+1)\n",
    "        pronic_list.append(number)\n",
    "    return print(pronic_list)"
   ]
  },
  {
   "cell_type": "code",
   "execution_count": 24,
   "id": "c48f6c35",
   "metadata": {},
   "outputs": [
    {
     "name": "stdout",
     "output_type": "stream",
     "text": [
      "[2, 6, 12, 20, 30, 42, 56, 72, 90, 110, 132, 156, 182, 210, 240, 272, 306, 342, 380, 420, 462, 506, 552, 600, 650, 702, 756, 812, 870, 930, 992, 1056, 1122, 1190, 1260, 1332, 1406, 1482, 1560, 1640, 1722, 1806, 1892, 1980, 2070, 2162, 2256, 2352, 2450, 2550, 2652, 2756, 2862, 2970, 3080, 3192, 3306, 3422, 3540, 3660, 3782, 3906, 4032, 4160, 4290, 4422, 4556, 4692, 4830, 4970, 5112, 5256, 5402, 5550, 5700, 5852, 6006, 6162, 6320, 6480, 6642, 6806, 6972, 7140, 7310, 7482, 7656, 7832, 8010, 8190, 8372, 8556, 8742, 8930, 9120, 9312, 9506, 9702, 9900]\n"
     ]
    }
   ],
   "source": [
    "Pronic_num(1,100)"
   ]
  },
  {
   "cell_type": "code",
   "execution_count": 25,
   "id": "2a870d2e",
   "metadata": {},
   "outputs": [
    {
     "name": "stdout",
     "output_type": "stream",
     "text": [
      "[110, 132, 156, 182, 210, 240, 272, 306, 342, 380, 420, 462, 506, 552, 600]\n"
     ]
    }
   ],
   "source": [
    "Pronic_num(10,25)"
   ]
  },
  {
   "cell_type": "code",
   "execution_count": 26,
   "id": "12181a3b",
   "metadata": {},
   "outputs": [
    {
     "name": "stdout",
     "output_type": "stream",
     "text": [
      "[2352, 2450, 2550, 2652, 2756, 2862, 2970, 3080, 3192, 3306, 3422, 3540, 3660, 3782, 3906, 4032, 4160, 4290, 4422, 4556, 4692, 4830, 4970, 5112, 5256, 5402, 5550, 5700, 5852, 6006, 6162, 6320, 6480, 6642, 6806, 6972, 7140, 7310, 7482]\n"
     ]
    }
   ],
   "source": [
    "Pronic_num(48,87)"
   ]
  }
 ],
 "metadata": {
  "kernelspec": {
   "display_name": "Python 3 (ipykernel)",
   "language": "python",
   "name": "python3"
  },
  "language_info": {
   "codemirror_mode": {
    "name": "ipython",
    "version": 3
   },
   "file_extension": ".py",
   "mimetype": "text/x-python",
   "name": "python",
   "nbconvert_exporter": "python",
   "pygments_lexer": "ipython3",
   "version": "3.9.12"
  }
 },
 "nbformat": 4,
 "nbformat_minor": 5
}
