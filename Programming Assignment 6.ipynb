{
 "cells": [
  {
   "cell_type": "markdown",
   "id": "9f732963",
   "metadata": {},
   "source": [
    "# PROGRAMMING ASSIGNMENT NO 6 - SOLUTION"
   ]
  },
  {
   "cell_type": "markdown",
   "id": "fde2bf7b",
   "metadata": {},
   "source": [
    "### 1. Write a Python Program to Display Fibonacci Sequence Using Recursion?"
   ]
  },
  {
   "cell_type": "code",
   "execution_count": 1,
   "id": "aade0e3f",
   "metadata": {},
   "outputs": [],
   "source": [
    "# ANS =\n",
    "\n",
    "def fib_recursion(num):\n",
    "    if num <= 1:\n",
    "        return num\n",
    "    return fib_recursion(num-1) + fib_recursion(num-2)"
   ]
  },
  {
   "cell_type": "code",
   "execution_count": 2,
   "id": "af8ab9c9",
   "metadata": {},
   "outputs": [
    {
     "name": "stdout",
     "output_type": "stream",
     "text": [
      "Enter your num = 5\n",
      "0\n",
      "1\n",
      "1\n",
      "2\n",
      "3\n"
     ]
    }
   ],
   "source": [
    "number = int(input('Enter your num = '))\n",
    "\n",
    "for i in range(number):\n",
    "    print(fib_recursion(i))"
   ]
  },
  {
   "cell_type": "code",
   "execution_count": 3,
   "id": "187f0bd5",
   "metadata": {},
   "outputs": [
    {
     "name": "stdout",
     "output_type": "stream",
     "text": [
      "Enter your num = 8\n",
      "0\n",
      "1\n",
      "1\n",
      "2\n",
      "3\n",
      "5\n",
      "8\n",
      "13\n"
     ]
    }
   ],
   "source": [
    "number = int(input('Enter your num = '))\n",
    "\n",
    "for i in range(number):\n",
    "    print(fib_recursion(i))"
   ]
  },
  {
   "cell_type": "markdown",
   "id": "64e5d0bf",
   "metadata": {},
   "source": [
    "### 2. Write a Python Program to Find Factorial of Number Using Recursion?"
   ]
  },
  {
   "cell_type": "code",
   "execution_count": 4,
   "id": "2e4e883c",
   "metadata": {},
   "outputs": [],
   "source": [
    "# ANS =\n",
    "\n",
    "def factorial_recr(num):\n",
    "    if num == 1:\n",
    "        return 1\n",
    "    else:\n",
    "        return num*factorial_recr(num-1)"
   ]
  },
  {
   "cell_type": "code",
   "execution_count": 5,
   "id": "ccea46d2",
   "metadata": {},
   "outputs": [
    {
     "data": {
      "text/plain": [
       "120"
      ]
     },
     "execution_count": 5,
     "metadata": {},
     "output_type": "execute_result"
    }
   ],
   "source": [
    "factorial_recr(5)"
   ]
  },
  {
   "cell_type": "code",
   "execution_count": 6,
   "id": "35bcaec3",
   "metadata": {},
   "outputs": [
    {
     "data": {
      "text/plain": [
       "40320"
      ]
     },
     "execution_count": 6,
     "metadata": {},
     "output_type": "execute_result"
    }
   ],
   "source": [
    "factorial_recr(8)"
   ]
  },
  {
   "cell_type": "markdown",
   "id": "3f5846b7",
   "metadata": {},
   "source": [
    "### 3. Write a Python Program to calculate your Body Mass Index?"
   ]
  },
  {
   "cell_type": "code",
   "execution_count": 7,
   "id": "e9d6ec96",
   "metadata": {},
   "outputs": [],
   "source": [
    "# ANS =\n",
    "\n",
    "def BMI(age, weight, height):\n",
    "    '''To calc BMI, enter your age in years, weight in kgs & height in centimeters.'''\n",
    "    try :\n",
    "        if age == 0 or weight == 0 or height == 0:\n",
    "            return \"Age, weight & height should not be zero.\"\n",
    "        bmi_value = weight / (height*0.01)**2\n",
    "        if age >= 20 :\n",
    "            if bmi_value <= 18.4 :\n",
    "                return f\"Your Body Mass Index is {round(bmi_value, 1)}. This is considered as Underweight.\"\n",
    "            elif 18.5 < bmi_value <= 24.9 :\n",
    "                return f\"Your Body Mass Index is {round(bmi_value, 1)}. This is considered as Normal.\"\n",
    "            elif 25 < bmi_value <= 39.9 :\n",
    "                return f\"Your Body Mass Index is {round(bmi_value, 1)}. This is considered as Overweight.\"\n",
    "            else :\n",
    "                return f\"Your Body Mass Index is {round(bmi_value, 1)}. This is considered as Obese.\"\n",
    "        elif 0<= age < 19.9 :\n",
    "            return \"The min age required to calc BMI is 20.\"\n",
    "        else :\n",
    "            return \"\"\"Please enter a valid age number.\n",
    "            The min age required to calc BMI is 20.\n",
    "            Age should not be negetive.\"\"\"\n",
    "    except Exception as error :\n",
    "        return error\n",
    "        "
   ]
  },
  {
   "cell_type": "code",
   "execution_count": 8,
   "id": "6c1f2459",
   "metadata": {},
   "outputs": [
    {
     "data": {
      "text/plain": [
       "'Your Body Mass Index is 21.7. This is considered as Normal.'"
      ]
     },
     "execution_count": 8,
     "metadata": {},
     "output_type": "execute_result"
    }
   ],
   "source": [
    "BMI(25,65,173)"
   ]
  },
  {
   "cell_type": "code",
   "execution_count": 9,
   "id": "dd461c24",
   "metadata": {},
   "outputs": [
    {
     "data": {
      "text/plain": [
       "'The min age required to calc BMI is 20.'"
      ]
     },
     "execution_count": 9,
     "metadata": {},
     "output_type": "execute_result"
    }
   ],
   "source": [
    "BMI(5,8,70)"
   ]
  },
  {
   "cell_type": "code",
   "execution_count": 10,
   "id": "d2f8d6ee",
   "metadata": {},
   "outputs": [
    {
     "data": {
      "text/plain": [
       "'Your Body Mass Index is 23.7. This is considered as Normal.'"
      ]
     },
     "execution_count": 10,
     "metadata": {},
     "output_type": "execute_result"
    }
   ],
   "source": [
    "BMI(35,75,178)"
   ]
  },
  {
   "cell_type": "code",
   "execution_count": 11,
   "id": "49b4d85d",
   "metadata": {},
   "outputs": [
    {
     "data": {
      "text/plain": [
       "'Your Body Mass Index is 17.9. This is considered as Underweight.'"
      ]
     },
     "execution_count": 11,
     "metadata": {},
     "output_type": "execute_result"
    }
   ],
   "source": [
    "BMI(45,62,186)"
   ]
  },
  {
   "cell_type": "code",
   "execution_count": 12,
   "id": "0edaa193",
   "metadata": {},
   "outputs": [
    {
     "data": {
      "text/plain": [
       "'Your Body Mass Index is 24.2. This is considered as Normal.'"
      ]
     },
     "execution_count": 12,
     "metadata": {},
     "output_type": "execute_result"
    }
   ],
   "source": [
    "BMI(78,82,184)"
   ]
  },
  {
   "cell_type": "markdown",
   "id": "9a3e6583",
   "metadata": {},
   "source": [
    "### 4. Write a Python Program to calculate the natural logarithm of any number?"
   ]
  },
  {
   "cell_type": "code",
   "execution_count": 13,
   "id": "de54bf5a",
   "metadata": {},
   "outputs": [],
   "source": [
    "# ANS =\n",
    "\n",
    "def log_of_num(num):\n",
    "    import math\n",
    "    return round(math.log(num), 2)"
   ]
  },
  {
   "cell_type": "code",
   "execution_count": 14,
   "id": "6c0a7ddb",
   "metadata": {},
   "outputs": [
    {
     "data": {
      "text/plain": [
       "1.61"
      ]
     },
     "execution_count": 14,
     "metadata": {},
     "output_type": "execute_result"
    }
   ],
   "source": [
    "log_of_num(5)"
   ]
  },
  {
   "cell_type": "code",
   "execution_count": 15,
   "id": "d2df470f",
   "metadata": {},
   "outputs": [
    {
     "data": {
      "text/plain": [
       "2.3"
      ]
     },
     "execution_count": 15,
     "metadata": {},
     "output_type": "execute_result"
    }
   ],
   "source": [
    "log_of_num(10)"
   ]
  },
  {
   "cell_type": "code",
   "execution_count": 16,
   "id": "2a803d4d",
   "metadata": {},
   "outputs": [
    {
     "data": {
      "text/plain": [
       "4.2"
      ]
     },
     "execution_count": 16,
     "metadata": {},
     "output_type": "execute_result"
    }
   ],
   "source": [
    "log_of_num(67)"
   ]
  },
  {
   "cell_type": "markdown",
   "id": "79fd09de",
   "metadata": {},
   "source": [
    "### 5. Write a Python Program for cube sum of first n natural numbers."
   ]
  },
  {
   "cell_type": "code",
   "execution_count": 17,
   "id": "a5640682",
   "metadata": {},
   "outputs": [],
   "source": [
    "# ANS =\n",
    "\n",
    "def cube_n_nat_no(num):\n",
    "    cube = pow(num*(num+1)/2, 2)\n",
    "    return cube"
   ]
  },
  {
   "cell_type": "code",
   "execution_count": 18,
   "id": "53702531",
   "metadata": {},
   "outputs": [
    {
     "data": {
      "text/plain": [
       "36.0"
      ]
     },
     "execution_count": 18,
     "metadata": {},
     "output_type": "execute_result"
    }
   ],
   "source": [
    "cube_n_nat_no(3)"
   ]
  },
  {
   "cell_type": "code",
   "execution_count": 19,
   "id": "bc245e93",
   "metadata": {},
   "outputs": [
    {
     "data": {
      "text/plain": [
       "441.0"
      ]
     },
     "execution_count": 19,
     "metadata": {},
     "output_type": "execute_result"
    }
   ],
   "source": [
    "cube_n_nat_no(6)"
   ]
  },
  {
   "cell_type": "code",
   "execution_count": 20,
   "id": "aaad732d",
   "metadata": {},
   "outputs": [
    {
     "data": {
      "text/plain": [
       "815409.0"
      ]
     },
     "execution_count": 20,
     "metadata": {},
     "output_type": "execute_result"
    }
   ],
   "source": [
    "cube_n_nat_no(42)"
   ]
  }
 ],
 "metadata": {
  "kernelspec": {
   "display_name": "Python 3 (ipykernel)",
   "language": "python",
   "name": "python3"
  },
  "language_info": {
   "codemirror_mode": {
    "name": "ipython",
    "version": 3
   },
   "file_extension": ".py",
   "mimetype": "text/x-python",
   "name": "python",
   "nbconvert_exporter": "python",
   "pygments_lexer": "ipython3",
   "version": "3.9.12"
  }
 },
 "nbformat": 4,
 "nbformat_minor": 5
}
