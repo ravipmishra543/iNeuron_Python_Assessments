{
 "cells": [
  {
   "cell_type": "markdown",
   "id": "06aeadf0",
   "metadata": {},
   "source": [
    "# ASSIGNMENT NO 3 - SOLUTION"
   ]
  },
  {
   "cell_type": "markdown",
   "id": "69b6f494",
   "metadata": {},
   "source": [
    "### 1. Why are functions advantageous to have in your programs?"
   ]
  },
  {
   "cell_type": "markdown",
   "id": "f8991561",
   "metadata": {},
   "source": [
    "````\n",
    "ANS =\n",
    "\n",
    "Function is a block of code that accept input, perform operation and produce results.\n",
    "Programs is set of instruction that allow computer to perform specific task.\n",
    "Using function has following advantages :-\n",
    "    1. Avoids duplication of code\n",
    "    2. Hides implementation details\n",
    "    3. Reduces overall development time\n",
    "````"
   ]
  },
  {
   "cell_type": "markdown",
   "id": "725b5b7c",
   "metadata": {},
   "source": [
    "### 2. When does the code in a function run: when it's specified or when it's called?"
   ]
  },
  {
   "cell_type": "markdown",
   "id": "22dd7e4e",
   "metadata": {},
   "source": [
    "````\n",
    "ANS =\n",
    "\n",
    "The code in a function executes when it is called, not when it is specified.\n",
    "````"
   ]
  },
  {
   "cell_type": "markdown",
   "id": "a379f405",
   "metadata": {},
   "source": [
    "### 3. What statement creates a function?"
   ]
  },
  {
   "cell_type": "markdown",
   "id": "53033b31",
   "metadata": {},
   "source": [
    "````\n",
    "ANS =\n",
    "\n",
    "The 'def' statement creates a function.\n",
    "the syntax is as follows :\n",
    "\n",
    "def function_name(parameters_as_required) :\n",
    "    '''doc string'''\n",
    "    ----function body----\n",
    "    ----function body----\n",
    "    return value\n",
    "````"
   ]
  },
  {
   "cell_type": "markdown",
   "id": "023a8238",
   "metadata": {},
   "source": [
    "### 4. What is the difference between a function and a function call?"
   ]
  },
  {
   "cell_type": "markdown",
   "id": "9275cdfb",
   "metadata": {},
   "source": [
    "```\n",
    "ANS =\n",
    "\n",
    "A function is a block of code that accept input, perform operation and produce results.\n",
    "It consist of def statement and code blocks.\n",
    "A function call is execution of code into it. When a function is called, code evaluates input parameters and returns function value.\n",
    "```"
   ]
  },
  {
   "cell_type": "markdown",
   "id": "d86cff6b",
   "metadata": {},
   "source": [
    "### 5. How many global scopes are there in a Python program? How many local scopes?"
   ]
  },
  {
   "cell_type": "markdown",
   "id": "1b1b6247",
   "metadata": {},
   "source": [
    "```\n",
    "ANS =\n",
    "\n",
    "There is a one global scope. A variable created in the main body of python code is global variable and belongs to global scope. Global variables are available from within any scope i.e global & local. A varible created outside of a function is global & can be used by anyone.\n",
    "\n",
    "A varible created inside a function belongs to the local scope of that function, and can only be used inside that function. A local variable can be accessed from a function within the function.\n",
    "```"
   ]
  },
  {
   "cell_type": "markdown",
   "id": "2cecb039",
   "metadata": {},
   "source": [
    "### 6. What happens to variables in a local scope when the function call returns?"
   ]
  },
  {
   "cell_type": "markdown",
   "id": "0252c055",
   "metadata": {},
   "source": [
    "```\n",
    "ANS =\n",
    "\n",
    "When a function call return, the local scope is destroyed and all the variable inside it are forgotten. Local variables cannot be accessed outside the function.\n",
    "```"
   ]
  },
  {
   "cell_type": "markdown",
   "id": "967bb9cf",
   "metadata": {},
   "source": [
    "### 7. What is the concept of a return value? Is it possible to have a return value in an expression?"
   ]
  },
  {
   "cell_type": "markdown",
   "id": "368e9fe6",
   "metadata": {},
   "source": [
    "```\n",
    "ANS =\n",
    "\n",
    "A return value is the value that a function call evaluates to. Like any value, a return value can be used as part of an expression.\n",
    "```"
   ]
  },
  {
   "cell_type": "markdown",
   "id": "14db9d8d",
   "metadata": {},
   "source": [
    "### 8. If a function does not have a return statement, what is the return value of a call to that function?"
   ]
  },
  {
   "cell_type": "markdown",
   "id": "d9c07ffc",
   "metadata": {},
   "source": [
    "```\n",
    "Ans =\n",
    "\n",
    "If there is no return statement for a function, its return value is None.\n",
    "```"
   ]
  },
  {
   "cell_type": "markdown",
   "id": "15245b1f",
   "metadata": {},
   "source": [
    "### 9. How do you make a function variable refer to the global variable?"
   ]
  },
  {
   "cell_type": "markdown",
   "id": "a0c5ec37",
   "metadata": {},
   "source": [
    "```\n",
    "ANS =\n",
    "\n",
    "A global statement will force a variable in a function to refer to the global variable. If you want to refer to a global variable in a function, you can use the global keyword to declare which variables are global.\n",
    "```"
   ]
  },
  {
   "cell_type": "markdown",
   "id": "d884d329",
   "metadata": {},
   "source": [
    "### 10. What is the data type of None?"
   ]
  },
  {
   "cell_type": "markdown",
   "id": "de602b80",
   "metadata": {},
   "source": [
    "```\n",
    "ANS =\n",
    "\n",
    "The data type of None is NoneType.\n",
    "```"
   ]
  },
  {
   "cell_type": "markdown",
   "id": "5afc58e2",
   "metadata": {},
   "source": [
    "### 11. What does the sentence import areallyourpetsnamederic do?"
   ]
  },
  {
   "cell_type": "markdown",
   "id": "a50240b5",
   "metadata": {},
   "source": [
    "```\n",
    "Ans = \n",
    "\n",
    "That import statement imports a module named areallyourpetsnamederic.\n",
    "```"
   ]
  },
  {
   "cell_type": "markdown",
   "id": "ed2a4d47",
   "metadata": {},
   "source": [
    "### 12. If you had a bacon() feature in a spam module, what would you call it after importing spam?"
   ]
  },
  {
   "cell_type": "markdown",
   "id": "af7fc135",
   "metadata": {},
   "source": [
    "```\n",
    "ANS =\n",
    "\n",
    "This function can be called with spam.bacon().\n",
    "```"
   ]
  },
  {
   "cell_type": "markdown",
   "id": "3a5a3093",
   "metadata": {},
   "source": [
    "### 13. What can you do to save a programme from crashing if it encounters an error?"
   ]
  },
  {
   "cell_type": "markdown",
   "id": "f1621f10",
   "metadata": {},
   "source": [
    "```\n",
    "ANS =\n",
    "\n",
    "Place the line of code that might cause an error in a try clause and use except block to handle the error.\n",
    "```"
   ]
  },
  {
   "cell_type": "markdown",
   "id": "88c945c5",
   "metadata": {},
   "source": [
    "### 14. What is the purpose of the try clause? What is the purpose of the except clause?"
   ]
  },
  {
   "cell_type": "markdown",
   "id": "6dcb53c6",
   "metadata": {},
   "source": [
    "```\n",
    "ANS =\n",
    "\n",
    "The code that could potentially cause an error goes in the try clause. The code that executes if an error happens goes in the except clause.\n",
    "```"
   ]
  }
 ],
 "metadata": {
  "kernelspec": {
   "display_name": "Python 3 (ipykernel)",
   "language": "python",
   "name": "python3"
  },
  "language_info": {
   "codemirror_mode": {
    "name": "ipython",
    "version": 3
   },
   "file_extension": ".py",
   "mimetype": "text/x-python",
   "name": "python",
   "nbconvert_exporter": "python",
   "pygments_lexer": "ipython3",
   "version": "3.9.12"
  }
 },
 "nbformat": 4,
 "nbformat_minor": 5
}
