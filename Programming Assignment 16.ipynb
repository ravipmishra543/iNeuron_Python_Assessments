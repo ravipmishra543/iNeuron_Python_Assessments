{
 "cells": [
  {
   "cell_type": "markdown",
   "id": "2ae982cd",
   "metadata": {},
   "source": [
    "# PROGRAMMING ASSIGNMENT NO 16 - SOLUTION"
   ]
  },
  {
   "cell_type": "markdown",
   "id": "45aa3c5a",
   "metadata": {},
   "source": [
    "## Question 1:\n",
    "```\n",
    "Write a function that stutters a word as if someone is struggling to read it. The first two letters are repeated twice with an ellipsis ... and space after each, and then the word is pronounced with a question mark ?.\n",
    "Examples\n",
    "stutter(\"incredible\") ➞ \"in... in... incredible?\"\n",
    "\n",
    "stutter(\"enthusiastic\") ➞ \"en... en... enthusiastic?\"\n",
    "\n",
    "stutter(\"outstanding\") ➞ \"ou... ou... outstanding?\"\n",
    "\n",
    "Hint :- Assume all input is in lower case and at least two characters long.\n",
    "```"
   ]
  },
  {
   "cell_type": "code",
   "execution_count": 1,
   "id": "c1fc5186",
   "metadata": {},
   "outputs": [],
   "source": [
    "# ANS =\n",
    "\n",
    "def stutter(word):\n",
    "    \"\"\"function that stutters a word as if someone is struggling to read it\"\"\"\n",
    "    try:\n",
    "        print(f\"{word[0]+word[1]}... {word[0]+word[1]}... {word}\")\n",
    "    except Exception as error:\n",
    "        return error"
   ]
  },
  {
   "cell_type": "code",
   "execution_count": 2,
   "id": "5d8eb4d2",
   "metadata": {},
   "outputs": [
    {
     "name": "stdout",
     "output_type": "stream",
     "text": [
      "in... in... incredible\n"
     ]
    }
   ],
   "source": [
    "stutter(\"incredible\")"
   ]
  },
  {
   "cell_type": "code",
   "execution_count": 3,
   "id": "a8d013fb",
   "metadata": {},
   "outputs": [
    {
     "name": "stdout",
     "output_type": "stream",
     "text": [
      "en... en... enthusiastic\n"
     ]
    }
   ],
   "source": [
    "stutter(\"enthusiastic\")"
   ]
  },
  {
   "cell_type": "code",
   "execution_count": 4,
   "id": "ec839580",
   "metadata": {},
   "outputs": [
    {
     "name": "stdout",
     "output_type": "stream",
     "text": [
      "ou... ou... outstanding\n"
     ]
    }
   ],
   "source": [
    "stutter(\"outstanding\")"
   ]
  },
  {
   "cell_type": "markdown",
   "id": "20328b5d",
   "metadata": {},
   "source": [
    "### Question 2:\n",
    "```\n",
    "Create a function that takes an angle in radians & returns corresponding angle in degrees rounded to one decimal place.\n",
    "\n",
    "Examples\n",
    "radians_to_degrees(1) ➞ 57.3\n",
    "radians_to_degrees(20) ➞ 1145.9\n",
    "radians_to_degrees(50) ➞ 2864.8\n",
    "```"
   ]
  },
  {
   "cell_type": "code",
   "execution_count": 5,
   "id": "83a771cf",
   "metadata": {},
   "outputs": [],
   "source": [
    "# ANS =\n",
    "\n",
    "def rad_to_degree(angle):\n",
    "    \"\"\"Function that takes an angle in radians & returns corresponding angle in degrees\"\"\"\n",
    "    try:\n",
    "        return f\"radians_to_degrees({angle}) ➞ {round(degrees(angle),1)}\"\n",
    "    except Exception as error:\n",
    "        return error"
   ]
  },
  {
   "cell_type": "code",
   "execution_count": 6,
   "id": "3e361339",
   "metadata": {},
   "outputs": [
    {
     "data": {
      "text/plain": [
       "NameError(\"name 'degrees' is not defined\")"
      ]
     },
     "execution_count": 6,
     "metadata": {},
     "output_type": "execute_result"
    }
   ],
   "source": [
    "rad_to_degree(1)"
   ]
  },
  {
   "cell_type": "code",
   "execution_count": 7,
   "id": "bb377eb4",
   "metadata": {},
   "outputs": [
    {
     "data": {
      "text/plain": [
       "NameError(\"name 'degrees' is not defined\")"
      ]
     },
     "execution_count": 7,
     "metadata": {},
     "output_type": "execute_result"
    }
   ],
   "source": [
    "rad_to_degree(20)"
   ]
  },
  {
   "cell_type": "code",
   "execution_count": 8,
   "id": "2dbeac62",
   "metadata": {},
   "outputs": [
    {
     "data": {
      "text/plain": [
       "NameError(\"name 'degrees' is not defined\")"
      ]
     },
     "execution_count": 8,
     "metadata": {},
     "output_type": "execute_result"
    }
   ],
   "source": [
    "rad_to_degree(50)"
   ]
  },
  {
   "cell_type": "markdown",
   "id": "7b13bae1",
   "metadata": {},
   "source": [
    "### Question 3:\n",
    "```\n",
    "In this challenge, establish if a given integer num is a Curzon number. If 1 plus 2 elevated to num is exactly divisible by 1 plus 2 multiplied by num, then num is a Curzon number.\n",
    "Given a non-negative integer num, implement a function that returns True if num is a Curzon number, or False otherwise.\n",
    "Examples\n",
    "is_curzon(5) ➞ True\n",
    "# 2 ** 5 + 1 = 33\n",
    "# 2 * 5 + 1 = 11\n",
    "# 33 is a multiple of 11\n",
    "\n",
    "is_curzon(10) ➞ False\n",
    "# 2 ** 10 + 1 = 1025\n",
    "# 2 * 10 + 1 = 21\n",
    "# 1025 is not a multiple of 21\n",
    "\n",
    "is_curzon(14) ➞ True\n",
    "# 2 ** 14 + 1 = 16385\n",
    "# 2 * 14 + 1 = 29\n",
    "# 16385 is a multiple of 29\n",
    "```"
   ]
  },
  {
   "cell_type": "code",
   "execution_count": 9,
   "id": "fdb3cb02",
   "metadata": {},
   "outputs": [],
   "source": [
    "# ANS =\n",
    "\n",
    "def curzon_no(num):\n",
    "    \"\"\"Python program to identify given number is curzon no or not\"\"\"\n",
    "    try:\n",
    "        eq1 = 2**num + 1\n",
    "        eq2 = 2*num +1\n",
    "        \n",
    "        if eq1 % eq2 == 0:\n",
    "            print(f\"{eq1} is a multiple of {eq2}.\")\n",
    "            print(f\"{num} is a curzon number.\")\n",
    "        else:\n",
    "            print(f\"{num} is not a curzon number.\")\n",
    "    except Exception as error:\n",
    "        return erroe"
   ]
  },
  {
   "cell_type": "code",
   "execution_count": 10,
   "id": "20ca0e70",
   "metadata": {},
   "outputs": [
    {
     "name": "stdout",
     "output_type": "stream",
     "text": [
      "33 is a multiple of 11.\n",
      "5 is a curzon number.\n"
     ]
    }
   ],
   "source": [
    "curzon_no(5)"
   ]
  },
  {
   "cell_type": "code",
   "execution_count": 11,
   "id": "25e9076e",
   "metadata": {},
   "outputs": [
    {
     "name": "stdout",
     "output_type": "stream",
     "text": [
      "10 is not a curzon number.\n"
     ]
    }
   ],
   "source": [
    "curzon_no(10)"
   ]
  },
  {
   "cell_type": "code",
   "execution_count": 12,
   "id": "a963305a",
   "metadata": {},
   "outputs": [
    {
     "name": "stdout",
     "output_type": "stream",
     "text": [
      "16385 is a multiple of 29.\n",
      "14 is a curzon number.\n"
     ]
    }
   ],
   "source": [
    "curzon_no(14)"
   ]
  },
  {
   "cell_type": "markdown",
   "id": "6b848698",
   "metadata": {},
   "source": [
    "### Question 4:\n",
    "```\n",
    "Given the side length x find the area of a hexagon.\n",
    " \n",
    "Examples\n",
    "area_of_hexagon(1) ➞ 2.6\n",
    "\n",
    "area_of_hexagon(2) ➞ 10.4\n",
    "\n",
    "area_of_hexagon(3) ➞ 23.4\n",
    "```"
   ]
  },
  {
   "cell_type": "code",
   "execution_count": 13,
   "id": "5eac3426",
   "metadata": {},
   "outputs": [],
   "source": [
    "# ANS =\n",
    "\n",
    "def area_hexagon(length):\n",
    "    \"\"\"Python program to find area of hexagon\"\"\"\n",
    "    try:\n",
    "        if length <= 0:\n",
    "            return \"Length should be greater than 0 & positive.\"\n",
    "        else:\n",
    "            from math import sqrt\n",
    "            area = 3*sqrt(3)*(length**2)/2\n",
    "        return f\"area_of_hexagon({length}) ➞ {round(area, 1)}\"\n",
    "    except Exception as error:\n",
    "        return error"
   ]
  },
  {
   "cell_type": "code",
   "execution_count": 14,
   "id": "c4d64dad",
   "metadata": {},
   "outputs": [
    {
     "data": {
      "text/plain": [
       "'area_of_hexagon(1) ➞ 2.6'"
      ]
     },
     "execution_count": 14,
     "metadata": {},
     "output_type": "execute_result"
    }
   ],
   "source": [
    "area_hexagon(1)"
   ]
  },
  {
   "cell_type": "code",
   "execution_count": 15,
   "id": "98080f94",
   "metadata": {},
   "outputs": [
    {
     "data": {
      "text/plain": [
       "'area_of_hexagon(2) ➞ 10.4'"
      ]
     },
     "execution_count": 15,
     "metadata": {},
     "output_type": "execute_result"
    }
   ],
   "source": [
    "area_hexagon(2)"
   ]
  },
  {
   "cell_type": "code",
   "execution_count": 16,
   "id": "82936b72",
   "metadata": {},
   "outputs": [
    {
     "data": {
      "text/plain": [
       "'area_of_hexagon(3) ➞ 23.4'"
      ]
     },
     "execution_count": 16,
     "metadata": {},
     "output_type": "execute_result"
    }
   ],
   "source": [
    "area_hexagon(3)"
   ]
  },
  {
   "cell_type": "code",
   "execution_count": 17,
   "id": "42dc69bb",
   "metadata": {},
   "outputs": [
    {
     "data": {
      "text/plain": [
       "'Length should be greater than 0 & positive.'"
      ]
     },
     "execution_count": 17,
     "metadata": {},
     "output_type": "execute_result"
    }
   ],
   "source": [
    "area_hexagon(-5)"
   ]
  },
  {
   "cell_type": "markdown",
   "id": "d910ea9f",
   "metadata": {},
   "source": [
    "### Question 5:\n",
    "```\n",
    "Create a function that returns a base-2 (binary) representation of a base-10 (decimal) string number.\n",
    "To convert is simple: ((2) means base-2 and (10) means base-10) 010101001(2) = 1 + 8 + 32 + 128.\n",
    "Going from right to left, the value of the most right bit is 1, now from that every bit to the left \n",
    "will be x2 the value, value of an 8 bit binary numbers are (256, 128, 64, 32, 16, 8, 4, 2, 1).\n",
    "Examples\n",
    "binary(1) ➞ \"1\"\n",
    "# 1*1 = 1\n",
    "\n",
    "binary(5) ➞ \"101\"\n",
    "# 1*1 + 1*4 = 5\n",
    "\n",
    "binary(10) ➞ \"1010\"\n",
    "# 1*2 + 1*8 = 10\n",
    "```"
   ]
  },
  {
   "cell_type": "code",
   "execution_count": 18,
   "id": "90a04215",
   "metadata": {},
   "outputs": [
    {
     "name": "stdout",
     "output_type": "stream",
     "text": [
      "Enter a Number: 1\n",
      "Binary of 1 ➞ 1\n",
      "Enter a Number: 5\n",
      "Binary of 5 ➞ 101\n",
      "Enter a Number: 10\n",
      "Binary of 10 ➞ 1010\n"
     ]
    }
   ],
   "source": [
    "# ANS =\n",
    "\n",
    "def getBinary():\n",
    "    in_num = int(input(\"Enter a Number: \"))\n",
    "    out_num = bin(in_num).replace('0b','') \n",
    "    print(f'Binary of {in_num} ➞ {out_num}')\n",
    "\n",
    "for x in range(3):\n",
    "    getBinary()"
   ]
  }
 ],
 "metadata": {
  "kernelspec": {
   "display_name": "Python 3 (ipykernel)",
   "language": "python",
   "name": "python3"
  },
  "language_info": {
   "codemirror_mode": {
    "name": "ipython",
    "version": 3
   },
   "file_extension": ".py",
   "mimetype": "text/x-python",
   "name": "python",
   "nbconvert_exporter": "python",
   "pygments_lexer": "ipython3",
   "version": "3.9.12"
  }
 },
 "nbformat": 4,
 "nbformat_minor": 5
}
