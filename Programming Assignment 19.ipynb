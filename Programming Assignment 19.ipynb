{
 "cells": [
  {
   "cell_type": "markdown",
   "id": "928cb80c",
   "metadata": {},
   "source": [
    "# PROGRAMMING ASSIGNMENT NO 19 - SOLUTION"
   ]
  },
  {
   "cell_type": "markdown",
   "id": "150701e9",
   "metadata": {},
   "source": [
    "### Question1\n",
    "```\n",
    "Create a function that takes a string and returns a string in which each character is repeated once.\n",
    "Examples\n",
    "double_char(\"String\") ➞ \"SSttrriinngg\"\n",
    "\n",
    "double_char(\"Hello World!\") ➞ \"HHeelllloo  WWoorrlldd!!\"\n",
    "\n",
    "double_char(\"1234!_ \") ➞ \"11223344!!__  \"\n",
    "```"
   ]
  },
  {
   "cell_type": "code",
   "execution_count": 1,
   "id": "c2fa3121",
   "metadata": {},
   "outputs": [],
   "source": [
    "# ANS =\n",
    "\n",
    "def double_char(string):\n",
    "    \"\"\"function that takes a string and returns a string in which each character is repeated\"\"\"\n",
    "    try:\n",
    "        new_str = ''\n",
    "        for i in string:\n",
    "            new_str += i*2\n",
    "        return f'''double_char(\"{string}\") ➞ \"{new_str}\"'''\n",
    "    except Exception as error:\n",
    "        return error"
   ]
  },
  {
   "cell_type": "code",
   "execution_count": 2,
   "id": "3942969d",
   "metadata": {},
   "outputs": [
    {
     "data": {
      "text/plain": [
       "'double_char(\"String\") ➞ \"SSttrriinngg\"'"
      ]
     },
     "execution_count": 2,
     "metadata": {},
     "output_type": "execute_result"
    }
   ],
   "source": [
    "double_char(\"String\")"
   ]
  },
  {
   "cell_type": "code",
   "execution_count": 3,
   "id": "7af7257b",
   "metadata": {},
   "outputs": [
    {
     "data": {
      "text/plain": [
       "'double_char(\"Hello World!\") ➞ \"HHeelllloo  WWoorrlldd!!\"'"
      ]
     },
     "execution_count": 3,
     "metadata": {},
     "output_type": "execute_result"
    }
   ],
   "source": [
    "double_char(\"Hello World!\")"
   ]
  },
  {
   "cell_type": "code",
   "execution_count": 4,
   "id": "89f077f4",
   "metadata": {},
   "outputs": [
    {
     "data": {
      "text/plain": [
       "'double_char(\"1234!_ \") ➞ \"11223344!!__  \"'"
      ]
     },
     "execution_count": 4,
     "metadata": {},
     "output_type": "execute_result"
    }
   ],
   "source": [
    "double_char(\"1234!_ \")"
   ]
  },
  {
   "cell_type": "markdown",
   "id": "27e15344",
   "metadata": {},
   "source": [
    "### Question2\n",
    "```\n",
    "Create a function that reverses a boolean value and \n",
    "returns the string \"boolean expected\" if another variable type is given.\n",
    "Examples\n",
    "reverse(True) ➞ False\n",
    "\n",
    "reverse(False) ➞ True\n",
    "\n",
    "reverse(0) ➞ \"boolean expected\"\n",
    "\n",
    "reverse(None) ➞ \"boolean expected\"\n",
    "```"
   ]
  },
  {
   "cell_type": "code",
   "execution_count": 5,
   "id": "9ec26f5e",
   "metadata": {},
   "outputs": [],
   "source": [
    "# ANS =\n",
    "\n",
    "def reverse_bool(bool_value):\n",
    "    \"\"\"function that reverses a boolean value\"\"\"\n",
    "    try:\n",
    "        if bool_value == True and type(bool_value)==bool:\n",
    "            return \"reverse(True) ➞ False\"\n",
    "        elif bool_value == False and type(bool_value)==bool:\n",
    "            return \"reverse(False) ➞ True\"\n",
    "        else:\n",
    "            return \"boolean expected\"\n",
    "    except Exception as error:\n",
    "        return error"
   ]
  },
  {
   "cell_type": "code",
   "execution_count": 6,
   "id": "b2a6c351",
   "metadata": {},
   "outputs": [
    {
     "data": {
      "text/plain": [
       "'reverse(True) ➞ False'"
      ]
     },
     "execution_count": 6,
     "metadata": {},
     "output_type": "execute_result"
    }
   ],
   "source": [
    "reverse_bool(True)"
   ]
  },
  {
   "cell_type": "code",
   "execution_count": 7,
   "id": "9e5b7d70",
   "metadata": {},
   "outputs": [
    {
     "data": {
      "text/plain": [
       "'reverse(False) ➞ True'"
      ]
     },
     "execution_count": 7,
     "metadata": {},
     "output_type": "execute_result"
    }
   ],
   "source": [
    "reverse_bool(False)"
   ]
  },
  {
   "cell_type": "code",
   "execution_count": 8,
   "id": "32ade47d",
   "metadata": {},
   "outputs": [
    {
     "data": {
      "text/plain": [
       "'boolean expected'"
      ]
     },
     "execution_count": 8,
     "metadata": {},
     "output_type": "execute_result"
    }
   ],
   "source": [
    "reverse_bool(0)"
   ]
  },
  {
   "cell_type": "code",
   "execution_count": 9,
   "id": "ecafde94",
   "metadata": {},
   "outputs": [
    {
     "data": {
      "text/plain": [
       "'boolean expected'"
      ]
     },
     "execution_count": 9,
     "metadata": {},
     "output_type": "execute_result"
    }
   ],
   "source": [
    "reverse_bool(None)"
   ]
  },
  {
   "cell_type": "markdown",
   "id": "69b8c8b9",
   "metadata": {},
   "source": [
    "### Question3\n",
    "```\n",
    "Create a function that returns the thickness (in meters) of a piece of paper after folding it n number of times.\n",
    "The paper starts off with a thickness of 0.5mm.\n",
    "Examples\n",
    "num_layers(1) ➞ \"0.001m\"\n",
    "# Paper folded once is 1mm (equal to 0.001m)\n",
    "\n",
    "num_layers(4) ➞ \"0.008m\"\n",
    "# Paper folded 4 times is 8mm (equal to 0.008m)\n",
    "\n",
    "num_layers(21) ➞ \"1048.576m\"\n",
    "# Paper folded 21 times is 1048576mm (equal to 1048.576m)\n",
    "```"
   ]
  },
  {
   "cell_type": "code",
   "execution_count": 10,
   "id": "d62fcc35",
   "metadata": {},
   "outputs": [],
   "source": [
    "# ANS =\n",
    "\n",
    "def num_layers(num):\n",
    "    '''function that returns the thickness (in meters) of a piece of paper after folding it n number of times'''\n",
    "    try:\n",
    "        thk = 0.5*0.001\n",
    "        for i in range(num):\n",
    "            thk *= 2\n",
    "        return thk\n",
    "    except Exception as error:\n",
    "        return error"
   ]
  },
  {
   "cell_type": "code",
   "execution_count": 11,
   "id": "a4b51f37",
   "metadata": {},
   "outputs": [
    {
     "data": {
      "text/plain": [
       "0.001"
      ]
     },
     "execution_count": 11,
     "metadata": {},
     "output_type": "execute_result"
    }
   ],
   "source": [
    "num_layers(1)"
   ]
  },
  {
   "cell_type": "code",
   "execution_count": 12,
   "id": "f9bc9d3a",
   "metadata": {},
   "outputs": [
    {
     "data": {
      "text/plain": [
       "0.008"
      ]
     },
     "execution_count": 12,
     "metadata": {},
     "output_type": "execute_result"
    }
   ],
   "source": [
    "num_layers(4)"
   ]
  },
  {
   "cell_type": "code",
   "execution_count": 13,
   "id": "29990420",
   "metadata": {},
   "outputs": [
    {
     "data": {
      "text/plain": [
       "1048.576"
      ]
     },
     "execution_count": 13,
     "metadata": {},
     "output_type": "execute_result"
    }
   ],
   "source": [
    "num_layers(21)"
   ]
  },
  {
   "cell_type": "markdown",
   "id": "4ec9c507",
   "metadata": {},
   "source": [
    "### Question4\n",
    "```\n",
    "Create a function that takes a single string as argument and returns an ordered list containing the indices of all capital letters in the string.\n",
    "Examples\n",
    "index_of_caps(\"eDaBiT\") ➞ [1, 3, 5]\n",
    "\n",
    "index_of_caps(\"eQuINoX\") ➞ [1, 3, 4, 6]\n",
    "\n",
    "index_of_caps(\"determine\") ➞ []\n",
    "\n",
    "index_of_caps(\"STRIKE\") ➞ [0, 1, 2, 3, 4, 5]\n",
    "\n",
    "index_of_caps(\"sUn\") ➞ [1]\n",
    "```"
   ]
  },
  {
   "cell_type": "code",
   "execution_count": 14,
   "id": "a24c5eb3",
   "metadata": {},
   "outputs": [],
   "source": [
    "# ANS =\n",
    "\n",
    "def index_of_caps(string):\n",
    "    \"\"\"function that takes a single string as argument and returns an ordered list containing the indices of all capital letters in the string\"\"\"\n",
    "    try:\n",
    "        index_list = []\n",
    "        for i in range(len(string)):\n",
    "            if string[i].isupper() == True:\n",
    "                index_list.append(i)\n",
    "        return index_list\n",
    "    except Exception as error:\n",
    "        return error"
   ]
  },
  {
   "cell_type": "code",
   "execution_count": 15,
   "id": "4a5d347c",
   "metadata": {},
   "outputs": [
    {
     "data": {
      "text/plain": [
       "[1, 3, 5]"
      ]
     },
     "execution_count": 15,
     "metadata": {},
     "output_type": "execute_result"
    }
   ],
   "source": [
    "index_of_caps(\"eDaBiT\")"
   ]
  },
  {
   "cell_type": "code",
   "execution_count": 16,
   "id": "758dd7be",
   "metadata": {},
   "outputs": [
    {
     "data": {
      "text/plain": [
       "[1, 3, 4, 6]"
      ]
     },
     "execution_count": 16,
     "metadata": {},
     "output_type": "execute_result"
    }
   ],
   "source": [
    "index_of_caps(\"eQuINoX\")"
   ]
  },
  {
   "cell_type": "code",
   "execution_count": 17,
   "id": "210048d9",
   "metadata": {},
   "outputs": [
    {
     "data": {
      "text/plain": [
       "[]"
      ]
     },
     "execution_count": 17,
     "metadata": {},
     "output_type": "execute_result"
    }
   ],
   "source": [
    "index_of_caps(\"determine\")"
   ]
  },
  {
   "cell_type": "code",
   "execution_count": 18,
   "id": "c349cdff",
   "metadata": {},
   "outputs": [
    {
     "data": {
      "text/plain": [
       "[0, 1, 2, 3, 4, 5]"
      ]
     },
     "execution_count": 18,
     "metadata": {},
     "output_type": "execute_result"
    }
   ],
   "source": [
    "index_of_caps(\"STRIKE\")"
   ]
  },
  {
   "cell_type": "code",
   "execution_count": 19,
   "id": "16f82f6d",
   "metadata": {},
   "outputs": [
    {
     "data": {
      "text/plain": [
       "[1]"
      ]
     },
     "execution_count": 19,
     "metadata": {},
     "output_type": "execute_result"
    }
   ],
   "source": [
    "index_of_caps(\"sUn\")"
   ]
  },
  {
   "cell_type": "markdown",
   "id": "81ac8d19",
   "metadata": {},
   "source": [
    "### Question5\n",
    "```\n",
    "Using list comprehensions, create a function that finds all even numbers from 1 to the given number.\n",
    "Examples\n",
    "find_even_nums(8) ➞ [2, 4, 6, 8]\n",
    "\n",
    "find_even_nums(4) ➞ [2, 4]\n",
    "\n",
    "find_even_nums(2) ➞ [2]\n",
    "```"
   ]
  },
  {
   "cell_type": "code",
   "execution_count": 20,
   "id": "b6939d24",
   "metadata": {},
   "outputs": [],
   "source": [
    "# ANS =\n",
    "\n",
    "def find_even_nums(num):\n",
    "    '''unction that finds all even numbers from 1 to the given number'''\n",
    "    try:\n",
    "        even_nums = []\n",
    "        [ even_nums.append(i) for i in range(1,num+1) if i%2==0]   \n",
    "        return even_nums\n",
    "    except Exception as error:\n",
    "        return error"
   ]
  },
  {
   "cell_type": "code",
   "execution_count": 21,
   "id": "b27c0242",
   "metadata": {},
   "outputs": [
    {
     "data": {
      "text/plain": [
       "[2, 4, 6, 8]"
      ]
     },
     "execution_count": 21,
     "metadata": {},
     "output_type": "execute_result"
    }
   ],
   "source": [
    "find_even_nums(8)"
   ]
  },
  {
   "cell_type": "code",
   "execution_count": 22,
   "id": "f23d9e18",
   "metadata": {},
   "outputs": [
    {
     "data": {
      "text/plain": [
       "[2, 4]"
      ]
     },
     "execution_count": 22,
     "metadata": {},
     "output_type": "execute_result"
    }
   ],
   "source": [
    "find_even_nums(4)"
   ]
  },
  {
   "cell_type": "code",
   "execution_count": 23,
   "id": "efd2213f",
   "metadata": {},
   "outputs": [
    {
     "data": {
      "text/plain": [
       "[2]"
      ]
     },
     "execution_count": 23,
     "metadata": {},
     "output_type": "execute_result"
    }
   ],
   "source": [
    "find_even_nums(2)"
   ]
  }
 ],
 "metadata": {
  "kernelspec": {
   "display_name": "Python 3 (ipykernel)",
   "language": "python",
   "name": "python3"
  },
  "language_info": {
   "codemirror_mode": {
    "name": "ipython",
    "version": 3
   },
   "file_extension": ".py",
   "mimetype": "text/x-python",
   "name": "python",
   "nbconvert_exporter": "python",
   "pygments_lexer": "ipython3",
   "version": "3.9.12"
  }
 },
 "nbformat": 4,
 "nbformat_minor": 5
}
