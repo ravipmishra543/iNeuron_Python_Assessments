{
 "cells": [
  {
   "cell_type": "markdown",
   "id": "dcfc1c46",
   "metadata": {},
   "source": [
    "# PROGRAMMING ASSIGNMENT NO 7 - SOLUTION"
   ]
  },
  {
   "cell_type": "markdown",
   "id": "f3462f7e",
   "metadata": {},
   "source": [
    "### 1. Write a Python Program to find sum of array?"
   ]
  },
  {
   "cell_type": "code",
   "execution_count": 1,
   "id": "05aef4df",
   "metadata": {},
   "outputs": [],
   "source": [
    "# ANS = (1) by iterative method\n",
    "\n",
    "def sum_of_array(array):\n",
    "    \"\"\"Python program to find sum of array.\"\"\"\n",
    "    if type(array) == (list or tuple or set):\n",
    "        sum_1 = 0\n",
    "        for i in range(len(array)):\n",
    "            sum_1 = sum_1 + array[i]\n",
    "        return sum_1\n",
    "    else:\n",
    "        return \"Enter numeric array only.\"            "
   ]
  },
  {
   "cell_type": "code",
   "execution_count": 2,
   "id": "2dbfb58e",
   "metadata": {},
   "outputs": [
    {
     "data": {
      "text/plain": [
       "15"
      ]
     },
     "execution_count": 2,
     "metadata": {},
     "output_type": "execute_result"
    }
   ],
   "source": [
    "sum_of_array([1,2,3,4,5])"
   ]
  },
  {
   "cell_type": "code",
   "execution_count": 3,
   "id": "30df97c8",
   "metadata": {},
   "outputs": [],
   "source": [
    "# ANS = (2) by recursive method\n",
    "\n",
    "def sum_of_array2(array):\n",
    "    return f\"The sum of {array} is {sum(array)}\""
   ]
  },
  {
   "cell_type": "code",
   "execution_count": 4,
   "id": "c0caecc0",
   "metadata": {},
   "outputs": [
    {
     "data": {
      "text/plain": [
       "'The sum of [1, 2, 3, 4, 5] is 15'"
      ]
     },
     "execution_count": 4,
     "metadata": {},
     "output_type": "execute_result"
    }
   ],
   "source": [
    "sum_of_array2([1,2,3,4,5])"
   ]
  },
  {
   "cell_type": "markdown",
   "id": "20e99962",
   "metadata": {},
   "source": [
    "### 2. Write a Python Program to find largest element in an array?"
   ]
  },
  {
   "cell_type": "code",
   "execution_count": 5,
   "id": "ba24debd",
   "metadata": {},
   "outputs": [],
   "source": [
    "# ANS =\n",
    "\n",
    "def large_in_array(array):\n",
    "    \"\"\"Python program to find largest element in an array.\"\"\"\n",
    "    try:\n",
    "        return f\"The Largest element in given array is {sorted(array, reverse = True)[0]}.\"\n",
    "    except Exception as error :\n",
    "        return error"
   ]
  },
  {
   "cell_type": "code",
   "execution_count": 6,
   "id": "201899db",
   "metadata": {},
   "outputs": [
    {
     "data": {
      "text/plain": [
       "'The Largest element in given array is 5.'"
      ]
     },
     "execution_count": 6,
     "metadata": {},
     "output_type": "execute_result"
    }
   ],
   "source": [
    "large_in_array([1,2,3,4,5])"
   ]
  },
  {
   "cell_type": "code",
   "execution_count": 7,
   "id": "09d54cb1",
   "metadata": {},
   "outputs": [
    {
     "data": {
      "text/plain": [
       "'The Largest element in given array is 65.'"
      ]
     },
     "execution_count": 7,
     "metadata": {},
     "output_type": "execute_result"
    }
   ],
   "source": [
    "large_in_array({4,6,8,2,9,5,4,56,5,65,23,65,56,65,48})"
   ]
  },
  {
   "cell_type": "markdown",
   "id": "642bf430",
   "metadata": {},
   "source": [
    "### 3. Write a Python Program for array rotation?"
   ]
  },
  {
   "cell_type": "code",
   "execution_count": 8,
   "id": "897a23bd",
   "metadata": {},
   "outputs": [],
   "source": [
    "# ANS =\n",
    "\n",
    "def rotate_array(array):\n",
    "    \"\"\"Python Program for array rotation.\"\"\"\n",
    "    try :\n",
    "        return f\"The rotation / reverse of array {array} is {array[::-1]}\"\n",
    "    except Exception as error :\n",
    "        return error"
   ]
  },
  {
   "cell_type": "code",
   "execution_count": 9,
   "id": "79fa5bd7",
   "metadata": {},
   "outputs": [
    {
     "data": {
      "text/plain": [
       "'The rotation / reverse of array [1, 2, 4, 5, 9, 5] is [5, 9, 5, 4, 2, 1]'"
      ]
     },
     "execution_count": 9,
     "metadata": {},
     "output_type": "execute_result"
    }
   ],
   "source": [
    "rotate_array([1,2,4,5,9,5])"
   ]
  },
  {
   "cell_type": "code",
   "execution_count": 10,
   "id": "c9f9564b",
   "metadata": {},
   "outputs": [
    {
     "data": {
      "text/plain": [
       "TypeError(\"'set' object is not subscriptable\")"
      ]
     },
     "execution_count": 10,
     "metadata": {},
     "output_type": "execute_result"
    }
   ],
   "source": [
    "rotate_array({7,89,5,9,5,2,6,5,5,9})"
   ]
  },
  {
   "cell_type": "code",
   "execution_count": 11,
   "id": "090ac415",
   "metadata": {},
   "outputs": [
    {
     "data": {
      "text/plain": [
       "'The rotation / reverse of array (1, 2, 47, 5, 8, 95, 5, 9, 71, 64) is (64, 71, 9, 5, 95, 8, 5, 47, 2, 1)'"
      ]
     },
     "execution_count": 11,
     "metadata": {},
     "output_type": "execute_result"
    }
   ],
   "source": [
    "rotate_array((1,2,47,5,8,95,5,9,71,64))"
   ]
  },
  {
   "cell_type": "markdown",
   "id": "94cf8928",
   "metadata": {},
   "source": [
    "### 4. Write a Python Program to Split the array and add the first part to the end?"
   ]
  },
  {
   "cell_type": "code",
   "execution_count": 12,
   "id": "25f40411",
   "metadata": {},
   "outputs": [],
   "source": [
    "# ANS =\n",
    "\n",
    "def sum_split(array):\n",
    "    \"\"\"Python Program to Split the array and add the first part to the end.\"\"\"\n",
    "    try:\n",
    "        return f\"The su of First and Last element of {array} is {array[0]+array[-1]}\"\n",
    "    except Exception as error :\n",
    "        return error"
   ]
  },
  {
   "cell_type": "code",
   "execution_count": 13,
   "id": "cedf3212",
   "metadata": {},
   "outputs": [
    {
     "data": {
      "text/plain": [
       "'The su of First and Last element of [4, 2, 6, 4, 5, 6, 56] is 60'"
      ]
     },
     "execution_count": 13,
     "metadata": {},
     "output_type": "execute_result"
    }
   ],
   "source": [
    "sum_split([4,2,6,4,5,6,56])"
   ]
  },
  {
   "cell_type": "code",
   "execution_count": 14,
   "id": "eef8f189",
   "metadata": {},
   "outputs": [
    {
     "data": {
      "text/plain": [
       "'The su of First and Last element of (4, 5, 2, 6, 6, 63) is 67'"
      ]
     },
     "execution_count": 14,
     "metadata": {},
     "output_type": "execute_result"
    }
   ],
   "source": [
    "sum_split((4,5,2,6,6,63))"
   ]
  },
  {
   "cell_type": "markdown",
   "id": "f4f3789f",
   "metadata": {},
   "source": [
    "### 5. Write a Python Program to check if given array is Monotonic?"
   ]
  },
  {
   "cell_type": "code",
   "execution_count": 15,
   "id": "cef5cf3c",
   "metadata": {},
   "outputs": [],
   "source": [
    "# ANS =\n",
    "\n",
    "def monotonic_array(array):\n",
    "    \"\"\"Python Program to check if given array is Monotonic or not.\"\"\"\n",
    "    if all(array[i] <= array[i+1] for i in range(len(array)-1)) or all(array[i] >= array[i+1] for i in range(len(array)-1)):\n",
    "        return f\"Array {array} is monotonic.\"\n",
    "    else :\n",
    "        return f\"Array {array} is not monotonic.\""
   ]
  },
  {
   "cell_type": "code",
   "execution_count": 16,
   "id": "d1de191a",
   "metadata": {},
   "outputs": [
    {
     "data": {
      "text/plain": [
       "'Array [1, 2, 89, 656, 3524] is monotonic.'"
      ]
     },
     "execution_count": 16,
     "metadata": {},
     "output_type": "execute_result"
    }
   ],
   "source": [
    "monotonic_array([1,2,89,656,3524])"
   ]
  },
  {
   "cell_type": "code",
   "execution_count": 17,
   "id": "4c583b1e",
   "metadata": {},
   "outputs": [
    {
     "data": {
      "text/plain": [
       "'Array (74, 52, 46, 32, 20, 19, 5, 2) is monotonic.'"
      ]
     },
     "execution_count": 17,
     "metadata": {},
     "output_type": "execute_result"
    }
   ],
   "source": [
    "monotonic_array((74,52,46,32,20,19,5,2))"
   ]
  },
  {
   "cell_type": "code",
   "execution_count": 18,
   "id": "37426898",
   "metadata": {},
   "outputs": [
    {
     "data": {
      "text/plain": [
       "'Array [1, 2, 5, 5, 65, 65, 48, 65] is not monotonic.'"
      ]
     },
     "execution_count": 18,
     "metadata": {},
     "output_type": "execute_result"
    }
   ],
   "source": [
    "monotonic_array([1,2,5,5,65,65,48,65])"
   ]
  }
 ],
 "metadata": {
  "kernelspec": {
   "display_name": "Python 3 (ipykernel)",
   "language": "python",
   "name": "python3"
  },
  "language_info": {
   "codemirror_mode": {
    "name": "ipython",
    "version": 3
   },
   "file_extension": ".py",
   "mimetype": "text/x-python",
   "name": "python",
   "nbconvert_exporter": "python",
   "pygments_lexer": "ipython3",
   "version": "3.9.12"
  }
 },
 "nbformat": 4,
 "nbformat_minor": 5
}
