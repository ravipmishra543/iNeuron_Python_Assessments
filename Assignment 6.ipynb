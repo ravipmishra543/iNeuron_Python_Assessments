{
 "cells": [
  {
   "cell_type": "markdown",
   "id": "3f0b8ada",
   "metadata": {},
   "source": [
    "# ASSIGNMENT NO 6 - SOLUTION"
   ]
  },
  {
   "cell_type": "markdown",
   "id": "7ff4f57e",
   "metadata": {},
   "source": [
    "### Q.1 What are escape characters, and how do you use them?"
   ]
  },
  {
   "cell_type": "markdown",
   "id": "49639ce4",
   "metadata": {},
   "source": [
    "```\n",
    "ANS = \n",
    "\n",
    "The escape character is used to invoke alternative interpretations for the specified character set. Escape characters behave differently than their normal meaning and generally consist of two or more characters. Python provides different characters that are generally available in other popular programming languages in strings. Escape characters are only used inside a string. Escape characters start with the backslash '\\' character.\n",
    "\n",
    "Python provides the following escape characters in order to use inside strings to express special cases.\n",
    "\n",
    "    ESCAPE CHARACTER       MEANING\n",
    "    \n",
    "            \\’\t           Single Quote\n",
    "            \\”\t           Double Quote\n",
    "            \\\\\t           Backslash\n",
    "            \\n\t           New Line\n",
    "            \\r\t           Carriage Retrun\n",
    "            \\t\t           Tab\n",
    "            \\b\t           Backspace\n",
    "            \\f\t           Form Feed\n",
    "            \\ooo\t       Octal Value\n",
    "            \\xhh\t       Hex Value\n",
    "```"
   ]
  },
  {
   "cell_type": "markdown",
   "id": "901e7ff8",
   "metadata": {},
   "source": [
    "### Q.2 What do the escape characters n and t stand for?"
   ]
  },
  {
   "cell_type": "markdown",
   "id": "c3057bca",
   "metadata": {},
   "source": [
    "```\n",
    "Escape character n ie \\n = New Line\n",
    "Escape character t ie \\t = Tab\n",
    "\n",
    "```"
   ]
  },
  {
   "cell_type": "markdown",
   "id": "a670aac8",
   "metadata": {},
   "source": [
    "### Q.3 What is the way to include backslash characters in a string?"
   ]
  },
  {
   "cell_type": "markdown",
   "id": "3dbb6dd1",
   "metadata": {},
   "source": [
    "```\n",
    "ANS =  To insert characters that are illegal in a string, use an escape character. An escape character is a backslash \\ followed by the character you want to insert.\n",
    " ```"
   ]
  },
  {
   "cell_type": "markdown",
   "id": "5f7f5859",
   "metadata": {},
   "source": [
    "### Q.4 The string \"Howl's Moving Castle\" is a correct value. Why isn't the single quote character in the word Howl's not escaped a problem?"
   ]
  },
  {
   "cell_type": "markdown",
   "id": "53119f4c",
   "metadata": {},
   "source": [
    "```\n",
    "ANS = Because the whole string is encapsulated by double quotes.\n",
    "```"
   ]
  },
  {
   "cell_type": "markdown",
   "id": "59f69712",
   "metadata": {},
   "source": [
    "### Q.5 How do you write a string of newlines if you don't want to use the n character?"
   ]
  },
  {
   "cell_type": "markdown",
   "id": "057ff519",
   "metadata": {},
   "source": [
    "```\n",
    "ANS = With triple-quoted string literals, you can use actual newlines instead of \\n.\n",
    "```"
   ]
  },
  {
   "cell_type": "markdown",
   "id": "645c9499",
   "metadata": {},
   "source": [
    "### Q.6 What are the values of the given expressions?"
   ]
  },
  {
   "cell_type": "markdown",
   "id": "caa5e86f",
   "metadata": {},
   "source": [
    "```\n",
    "ANS =\n",
    "    'Hello, world!'[1]     = 'e'\n",
    "    'Hello, world!'[0:5]   = 'hell'\n",
    "    'Hello, world!'[:5]    = 'hell'\n",
    "    'Hello, world!'[3:]    = 'lo, world!'\n",
    "```"
   ]
  },
  {
   "cell_type": "markdown",
   "id": "46cd3c6b",
   "metadata": {},
   "source": [
    "### Q.7 What are the values of the following expressions?"
   ]
  },
  {
   "cell_type": "markdown",
   "id": "cc2e0875",
   "metadata": {},
   "source": [
    "```\n",
    "ANS =\n",
    "    'Hello'.upper()             = 'HELLO'\n",
    "    'Hello'.upper().isupper()   = True\n",
    "    'Hello'.upper().lower()     = 'hello\n",
    "```"
   ]
  },
  {
   "cell_type": "markdown",
   "id": "23670fbf",
   "metadata": {},
   "source": [
    "### Q.8 What are the values of the following expressions?"
   ]
  },
  {
   "cell_type": "markdown",
   "id": "b6dc326d",
   "metadata": {},
   "source": [
    "```\n",
    "ANS =\n",
    "    'Remember, remember, the fifth of July.'.split() =  ['Remember,', 'remember,', 'the', 'fifth', 'of', 'july.']\n",
    "    '-'.join('There can only one.'.split())          =  'There-can-only-one.'\n",
    "```"
   ]
  },
  {
   "cell_type": "markdown",
   "id": "80afe221",
   "metadata": {},
   "source": [
    "### Q.9 What are the methods for right-justifying, left-justifying, and centering a string?"
   ]
  },
  {
   "cell_type": "markdown",
   "id": "72a23e00",
   "metadata": {},
   "source": [
    "```\n",
    "ANS = rjust(), ljust(), Center()\n",
    "```"
   ]
  },
  {
   "cell_type": "markdown",
   "id": "a247fcbe",
   "metadata": {},
   "source": [
    "### Q.10 What is the best way to remove whitespace characters from the start or end?"
   ]
  },
  {
   "cell_type": "markdown",
   "id": "385259f2",
   "metadata": {},
   "source": [
    "```\n",
    "ANS = trimStart() or trimEnd()\n",
    "```"
   ]
  }
 ],
 "metadata": {
  "kernelspec": {
   "display_name": "Python 3 (ipykernel)",
   "language": "python",
   "name": "python3"
  },
  "language_info": {
   "codemirror_mode": {
    "name": "ipython",
    "version": 3
   },
   "file_extension": ".py",
   "mimetype": "text/x-python",
   "name": "python",
   "nbconvert_exporter": "python",
   "pygments_lexer": "ipython3",
   "version": "3.9.12"
  }
 },
 "nbformat": 4,
 "nbformat_minor": 5
}
