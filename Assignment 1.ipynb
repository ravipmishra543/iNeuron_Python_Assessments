{
 "cells": [
  {
   "cell_type": "markdown",
   "id": "9f6834b0",
   "metadata": {},
   "source": [
    "# ASSIGNMENT NO 1 - SOLUTION"
   ]
  },
  {
   "cell_type": "markdown",
   "id": "e277ba89",
   "metadata": {},
   "source": [
    "Q.1 In the below elements which of them are values or an expression? eg:- values can be integer or string and expressions will be mathematical operators.\n",
    "* , 'hello' , 87.8 , - , / , + , 6 "
   ]
  },
  {
   "cell_type": "markdown",
   "id": "f62414c8",
   "metadata": {},
   "source": [
    "ANS = \n",
    "\n",
    "Operators are * , - , + , / . \n",
    "\n",
    "Values are 'hello', 87.8 , 6 . "
   ]
  },
  {
   "cell_type": "markdown",
   "id": "7f33882f",
   "metadata": {},
   "source": [
    " "
   ]
  },
  {
   "cell_type": "markdown",
   "id": "a6dc1d3d",
   "metadata": {},
   "source": [
    "Q.2 What is the difference between string and variable?"
   ]
  },
  {
   "cell_type": "markdown",
   "id": "11db0596",
   "metadata": {},
   "source": [
    "ANS = \n",
    "\n",
    "Variables are used to store different data types and String is the type of one of data type which includes minimum one letter, number or character enclosed in ' ' , \" \" or ''' '''."
   ]
  },
  {
   "cell_type": "markdown",
   "id": "0c77bc16",
   "metadata": {},
   "source": [
    " "
   ]
  },
  {
   "cell_type": "markdown",
   "id": "3be0e511",
   "metadata": {},
   "source": [
    "Q.3 Describe three different data types."
   ]
  },
  {
   "cell_type": "markdown",
   "id": "db7df6d3",
   "metadata": {},
   "source": [
    "ANS = \n",
    "\n",
    "(1) Integer - it contains atleast one numeric value or whole number. Eg - 1,52,28466,235,etc.\n",
    "\n",
    "(2) Float - it represents decial numeric values. Eg - 0.254, 53.89, 4.46894, etc.\n",
    "\n",
    "(3) Complex - it contains complex value no. Specified as (real no)+(imaginary no)j. Eg - (8+8j), (6+7j), (24.5+69j)."
   ]
  },
  {
   "cell_type": "markdown",
   "id": "9291f64a",
   "metadata": {},
   "source": [
    " "
   ]
  },
  {
   "cell_type": "markdown",
   "id": "244e4ca7",
   "metadata": {},
   "source": [
    "Q.4 What is an expression made up of? What do all expressions do?"
   ]
  },
  {
   "cell_type": "markdown",
   "id": "48bedbec",
   "metadata": {},
   "source": [
    "ANS =\n",
    "\n",
    "Expression is made up of different values, variables and operators with function. Expressions are need to be evaluated in a function. Expressions gives us evaluated value from the combination of values, variables and operators.\n",
    "If we use print() as a function to call an expression, python interpreter evaluates it and gives output result"
   ]
  },
  {
   "cell_type": "code",
   "execution_count": 1,
   "id": "5d331050",
   "metadata": {},
   "outputs": [
    {
     "name": "stdout",
     "output_type": "stream",
     "text": [
      "output of expression is 74\n"
     ]
    }
   ],
   "source": [
    "# example of expression\n",
    "a=45  # this is a variable\n",
    "\n",
    "print('output of expression is',a*2+36+-52)\n",
    "# this is an expression called in function print()"
   ]
  },
  {
   "cell_type": "markdown",
   "id": "e768f762",
   "metadata": {},
   "source": [
    " "
   ]
  },
  {
   "cell_type": "markdown",
   "id": "e1757049",
   "metadata": {},
   "source": [
    "Q.5 This assignment statements, like spam = 10. What is the difference between an expression and a statement?"
   ]
  },
  {
   "cell_type": "markdown",
   "id": "6ac4eca9",
   "metadata": {},
   "source": [
    "ANS =\n",
    "\n",
    "Expression is made up of different values, variables and operators with function. Expressions are need to be evaluated in a function. Evaluation of an expression provide result value.\n",
    "Statement executes command and doesn't return anything.\n",
    "All statements can be expressions but all expressions can not be statement.\n",
    "\n",
    "Eg :- \n",
    "1) 45+32*4-146 - this is statement\n",
    "\n",
    "2) print(45+32*4-146) - this is a expression"
   ]
  },
  {
   "cell_type": "markdown",
   "id": "c7b10ca3",
   "metadata": {},
   "source": [
    " "
   ]
  },
  {
   "cell_type": "markdown",
   "id": "6a0b1719",
   "metadata": {},
   "source": [
    "Q.6 After running the following code, what does the variable bacon contain?\n",
    "bacon = 22\n",
    " , bacon + 1\n"
   ]
  },
  {
   "cell_type": "markdown",
   "id": "c0c16d94",
   "metadata": {},
   "source": [
    "ANS =\n",
    "\n",
    "At 1st step, assigning a variable ( bacon = 22 ) , it stores value 22. \n",
    "\n",
    "At 2nd step, expression ( bacon + 1 ) add value 1 with 22 and gives output as 23. Here value of bacon remains same as 22. Here, code just performs a addition."
   ]
  },
  {
   "cell_type": "code",
   "execution_count": 2,
   "id": "7b810ebc",
   "metadata": {},
   "outputs": [
    {
     "data": {
      "text/plain": [
       "23"
      ]
     },
     "execution_count": 2,
     "metadata": {},
     "output_type": "execute_result"
    }
   ],
   "source": [
    "# ANS =\n",
    "bacon = 22\n",
    "bacon +1"
   ]
  },
  {
   "cell_type": "markdown",
   "id": "dc073d0a",
   "metadata": {},
   "source": [
    " "
   ]
  },
  {
   "cell_type": "markdown",
   "id": "9b8b5966",
   "metadata": {},
   "source": [
    "Q.7 What should the values of the following two terms be?\n",
    "'spam' + 'spamspam' &\n",
    "'spam' * 3\n"
   ]
  },
  {
   "cell_type": "markdown",
   "id": "19bf5e43",
   "metadata": {},
   "source": [
    "ANS =\n",
    "\n",
    "1) 'spam'+'spamspam' - it is addition of two string  values, which is acceptable and gives output as 'spamspamspam'.\n",
    "\n",
    "2) 'spam'*3 - it is multiplication of string value, gives output as 'spamspamspam'"
   ]
  },
  {
   "cell_type": "code",
   "execution_count": 3,
   "id": "a3a47822",
   "metadata": {},
   "outputs": [
    {
     "data": {
      "text/plain": [
       "'spamspamspam'"
      ]
     },
     "execution_count": 3,
     "metadata": {},
     "output_type": "execute_result"
    }
   ],
   "source": [
    "'spam'+'spamspam'"
   ]
  },
  {
   "cell_type": "code",
   "execution_count": 4,
   "id": "71a3ac44",
   "metadata": {},
   "outputs": [
    {
     "data": {
      "text/plain": [
       "'spamspamspam'"
      ]
     },
     "execution_count": 4,
     "metadata": {},
     "output_type": "execute_result"
    }
   ],
   "source": [
    "'spam'*3"
   ]
  },
  {
   "cell_type": "markdown",
   "id": "9d3f7de8",
   "metadata": {},
   "source": [
    " "
   ]
  },
  {
   "cell_type": "markdown",
   "id": "0a41f32a",
   "metadata": {},
   "source": [
    "Q.8 Why is eggs a valid variable name while 100 is invalid?"
   ]
  },
  {
   "cell_type": "markdown",
   "id": "c5b74283",
   "metadata": {},
   "source": [
    "ANS =\n",
    "\n",
    "For naming a python variable, there are few rules as below :\n",
    "\n",
    "1) Variable name must be start with alphabate or underscore only.\n",
    "\n",
    "2) Variable name can not start with any number.\n",
    "\n",
    "3) Variable name can contain alpha-numeric characters and underscore only.\n",
    "\n",
    "4) Variable name is case sensitive. Eg - 'kdp', 'Kdp', 'KDP , all three are different variable names.\n",
    "\n",
    "Thus, eggs is alphabate character while 100 is a number. That's why 100 is a invalid variable name.\n"
   ]
  },
  {
   "cell_type": "markdown",
   "id": "3084d5b9",
   "metadata": {},
   "source": [
    " "
   ]
  },
  {
   "cell_type": "markdown",
   "id": "c9525f47",
   "metadata": {},
   "source": [
    "Q.9 What three functions can be used to get the integer, floating-point number, or string version of a value"
   ]
  },
  {
   "cell_type": "markdown",
   "id": "2e893548",
   "metadata": {},
   "source": [
    "ANS =\n",
    "\n",
    "For interger value - int() ,\n",
    "for floating-poiny number - float() ,\n",
    "for string value - str()"
   ]
  },
  {
   "cell_type": "code",
   "execution_count": 5,
   "id": "66b349f7",
   "metadata": {},
   "outputs": [
    {
     "name": "stdout",
     "output_type": "stream",
     "text": [
      "10\n",
      "25.0\n",
      "45\n"
     ]
    }
   ],
   "source": [
    "# examples\n",
    "\n",
    "print(int(10.0))\n",
    "print(float(25))\n",
    "print(str(45))"
   ]
  },
  {
   "cell_type": "markdown",
   "id": "56f86bb2",
   "metadata": {},
   "source": [
    " "
   ]
  },
  {
   "cell_type": "markdown",
   "id": "cf9b5139",
   "metadata": {},
   "source": [
    "Q.10 Why does this expression cause an error? How can you fix it?\n",
    "'I have eaten ' + 99 + ' burritos.'"
   ]
  },
  {
   "cell_type": "code",
   "execution_count": 6,
   "id": "f50e4da2",
   "metadata": {},
   "outputs": [
    {
     "ename": "TypeError",
     "evalue": "can only concatenate str (not \"int\") to str",
     "output_type": "error",
     "traceback": [
      "\u001b[1;31m---------------------------------------------------------------------------\u001b[0m",
      "\u001b[1;31mTypeError\u001b[0m                                 Traceback (most recent call last)",
      "Input \u001b[1;32mIn [6]\u001b[0m, in \u001b[0;36m<cell line: 2>\u001b[1;34m()\u001b[0m\n\u001b[0;32m      1\u001b[0m \u001b[38;5;66;03m# ANS =\u001b[39;00m\n\u001b[1;32m----> 2\u001b[0m \u001b[38;5;124;43m'\u001b[39;49m\u001b[38;5;124;43mI have eaten \u001b[39;49m\u001b[38;5;124;43m'\u001b[39;49m\u001b[43m \u001b[49m\u001b[38;5;241;43m+\u001b[39;49m\u001b[43m \u001b[49m\u001b[38;5;241;43m99\u001b[39;49m \u001b[38;5;241m+\u001b[39m \u001b[38;5;124m'\u001b[39m\u001b[38;5;124m burritos.\u001b[39m\u001b[38;5;124m'\u001b[39m\n",
      "\u001b[1;31mTypeError\u001b[0m: can only concatenate str (not \"int\") to str"
     ]
    }
   ],
   "source": [
    "# ANS =\n",
    "'I have eaten ' + 99 + ' burritos.'"
   ]
  },
  {
   "cell_type": "markdown",
   "id": "46a1436b",
   "metadata": {},
   "source": [
    "Here, in concatenate operation, type of all values must be same. Since, 'i have eaten' & 'burritos' are string values & 99 is a integer value, operation will give error always.\n",
    "\n",
    "To fix above error, integer value must be changed to string value, by adding single colon."
   ]
  },
  {
   "cell_type": "code",
   "execution_count": 7,
   "id": "a92aaff3",
   "metadata": {},
   "outputs": [
    {
     "data": {
      "text/plain": [
       "'I have eaten 99 burritos.'"
      ]
     },
     "execution_count": 7,
     "metadata": {},
     "output_type": "execute_result"
    }
   ],
   "source": [
    "# Hence,\n",
    "'I have eaten ' + '99' + ' burritos.'"
   ]
  },
  {
   "cell_type": "markdown",
   "id": "98b33483",
   "metadata": {},
   "source": [
    "'I have eaten 99 burritos.', this is final answer."
   ]
  }
 ],
 "metadata": {
  "kernelspec": {
   "display_name": "Python 3 (ipykernel)",
   "language": "python",
   "name": "python3"
  },
  "language_info": {
   "codemirror_mode": {
    "name": "ipython",
    "version": 3
   },
   "file_extension": ".py",
   "mimetype": "text/x-python",
   "name": "python",
   "nbconvert_exporter": "python",
   "pygments_lexer": "ipython3",
   "version": "3.9.12"
  }
 },
 "nbformat": 4,
 "nbformat_minor": 5
}
