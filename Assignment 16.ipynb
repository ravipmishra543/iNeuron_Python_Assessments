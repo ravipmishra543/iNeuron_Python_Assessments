{
 "cells": [
  {
   "cell_type": "markdown",
   "id": "4de13542",
   "metadata": {},
   "source": [
    "# ASSIGNMENT NO 16 - SOLUTION"
   ]
  },
  {
   "cell_type": "markdown",
   "id": "8289f05e",
   "metadata": {},
   "source": [
    "### Q.1 Create a list called years_list, starting with the year of your birth, and each year thereafter until the year of your fifth birthday. For example, if you were born in 1980. the list would be years_list = [1980, 1981, 1982, 1983, 1984, 1985]."
   ]
  },
  {
   "cell_type": "markdown",
   "id": "1fb7c2f1",
   "metadata": {},
   "source": [
    "**ANS** = "
   ]
  },
  {
   "cell_type": "code",
   "execution_count": 5,
   "id": "eb82496e",
   "metadata": {},
   "outputs": [
    {
     "name": "stdout",
     "output_type": "stream",
     "text": [
      "[1997, 1998, 1999, 2000, 2001, 2002]\n"
     ]
    }
   ],
   "source": [
    "birth_year = 1997\n",
    "years_list = [i for i in range(birth_year, birth_year+6)]\n",
    "print(years_list)"
   ]
  },
  {
   "cell_type": "markdown",
   "id": "54c7d2e9",
   "metadata": {},
   "source": [
    "### Q.2 In which year in years_list was your third birthday? Remember, you were 0 years of age for your first year."
   ]
  },
  {
   "cell_type": "markdown",
   "id": "344509ac",
   "metadata": {},
   "source": [
    "**ANS** = "
   ]
  },
  {
   "cell_type": "code",
   "execution_count": 6,
   "id": "5ce1e91e",
   "metadata": {},
   "outputs": [
    {
     "name": "stdout",
     "output_type": "stream",
     "text": [
      "2000\n"
     ]
    }
   ],
   "source": [
    "print(years_list[3])"
   ]
  },
  {
   "cell_type": "markdown",
   "id": "e2ea53a4",
   "metadata": {},
   "source": [
    "### Q.3 In the years list, which year were you the oldest?"
   ]
  },
  {
   "cell_type": "markdown",
   "id": "983a1444",
   "metadata": {},
   "source": [
    "**ANS** = "
   ]
  },
  {
   "cell_type": "code",
   "execution_count": 8,
   "id": "484b49a4",
   "metadata": {},
   "outputs": [
    {
     "name": "stdout",
     "output_type": "stream",
     "text": [
      "2002\n"
     ]
    }
   ],
   "source": [
    "print(years_list[-1])"
   ]
  },
  {
   "cell_type": "markdown",
   "id": "b60c995b",
   "metadata": {},
   "source": [
    "### Q.4 Make a list called things with these three strings as elements: \"mozzarella\", \"cinderella\", \"salmonella\"."
   ]
  },
  {
   "cell_type": "markdown",
   "id": "c42b4afb",
   "metadata": {},
   "source": [
    "**ANS** = "
   ]
  },
  {
   "cell_type": "code",
   "execution_count": 11,
   "id": "900d987d",
   "metadata": {},
   "outputs": [
    {
     "name": "stdout",
     "output_type": "stream",
     "text": [
      "['mozzarella', 'cinderella', 'salmonella']\n"
     ]
    }
   ],
   "source": [
    "things = [ele+'ella' for ele in ['mozzar', 'cinder', 'salmon']]\n",
    "print(things)"
   ]
  },
  {
   "cell_type": "markdown",
   "id": "be917620",
   "metadata": {},
   "source": [
    "### Q.5 Capitalize the element in things that refers to a person and then print the list. Did it change the element in the list?"
   ]
  },
  {
   "cell_type": "markdown",
   "id": "8f49274a",
   "metadata": {},
   "source": [
    "**ANS** = "
   ]
  },
  {
   "cell_type": "code",
   "execution_count": 19,
   "id": "dca48c9b",
   "metadata": {},
   "outputs": [
    {
     "name": "stdout",
     "output_type": "stream",
     "text": [
      "['mozzarella', 'Cinderella', 'salmonella']\n"
     ]
    }
   ],
   "source": [
    "for ele in range(len(things)):\n",
    "    if things[ele] == \"cinderella\":\n",
    "        things[ele] = things[ele].capitalize()\n",
    "print(things)"
   ]
  },
  {
   "cell_type": "markdown",
   "id": "23241e9c",
   "metadata": {},
   "source": [
    "### Q.6 Make a surprise list with the elements \"Groucho\", \"Chico\", and \"Harpo\"."
   ]
  },
  {
   "cell_type": "markdown",
   "id": "91af139c",
   "metadata": {},
   "source": [
    "**ANS** = "
   ]
  },
  {
   "cell_type": "code",
   "execution_count": 20,
   "id": "1d6dadba",
   "metadata": {},
   "outputs": [
    {
     "name": "stdout",
     "output_type": "stream",
     "text": [
      "['Groucho', 'Chico', 'Harpo']\n"
     ]
    }
   ],
   "source": [
    "surprise_list = [\"Groucho\", \"Chico\", \"Harpo\"]\n",
    "print(surprise_list)"
   ]
  },
  {
   "cell_type": "markdown",
   "id": "43a3bc73",
   "metadata": {},
   "source": [
    "### Q.7 Lowercase the last element of the surprise list, reverse it, and then capitalize it."
   ]
  },
  {
   "cell_type": "markdown",
   "id": "8679d839",
   "metadata": {},
   "source": [
    "**ANS** =  "
   ]
  },
  {
   "cell_type": "code",
   "execution_count": 23,
   "id": "1cd91de3",
   "metadata": {},
   "outputs": [
    {
     "name": "stdout",
     "output_type": "stream",
     "text": [
      "Oprah\n"
     ]
    }
   ],
   "source": [
    "print(surprise_list[-1].lower()[::-1].capitalize())"
   ]
  },
  {
   "cell_type": "markdown",
   "id": "9d220029",
   "metadata": {},
   "source": [
    "### Q.8 Make an English-to-French dictionary called e2f and print it. Here are your starter words: dog is chien, cat is chat, and walrus is morse."
   ]
  },
  {
   "cell_type": "markdown",
   "id": "6e63d398",
   "metadata": {},
   "source": [
    "**ANS** = "
   ]
  },
  {
   "cell_type": "code",
   "execution_count": 46,
   "id": "c0090632",
   "metadata": {},
   "outputs": [
    {
     "name": "stdout",
     "output_type": "stream",
     "text": [
      "e2f dictionary is {'dog': 'chien', 'cat': 'chat', 'walrus': 'morse'}\n"
     ]
    }
   ],
   "source": [
    "e2f = {\"dog\" : \"chien\", \"cat\" : \"chat\", \"walrus\":\"morse\"}\n",
    "print(f\"e2f dictionary is {e2f}\")"
   ]
  },
  {
   "cell_type": "markdown",
   "id": "db4e6587",
   "metadata": {},
   "source": [
    "### Q.9 Write the French word for walrus in your three-word dictionary e2f."
   ]
  },
  {
   "cell_type": "markdown",
   "id": "b1ec63a6",
   "metadata": {},
   "source": [
    "**ANS** = "
   ]
  },
  {
   "cell_type": "code",
   "execution_count": 43,
   "id": "adc3211a",
   "metadata": {
    "scrolled": true
   },
   "outputs": [
    {
     "name": "stdout",
     "output_type": "stream",
     "text": [
      "French word of ENglish word walrus is morse\n"
     ]
    }
   ],
   "source": [
    "print(f\"French word of English word walrus is {e2f['walrus']}\")"
   ]
  },
  {
   "cell_type": "markdown",
   "id": "5997e84b",
   "metadata": {},
   "source": [
    "### Q.10 Make a French-to-English dictionary called f2e from e2f. Use the items method."
   ]
  },
  {
   "cell_type": "markdown",
   "id": "2037857e",
   "metadata": {},
   "source": [
    "**ANS** = "
   ]
  },
  {
   "cell_type": "code",
   "execution_count": 33,
   "id": "096195a6",
   "metadata": {},
   "outputs": [
    {
     "name": "stdout",
     "output_type": "stream",
     "text": [
      "{'chien': 'dog', 'chat': 'cat', 'morse': 'walrus'}\n"
     ]
    }
   ],
   "source": [
    "f2e = {}\n",
    "for key, value in e2f.items():\n",
    "    f2e[value] = key\n",
    "print(f2e)"
   ]
  },
  {
   "cell_type": "markdown",
   "id": "d2a322b2",
   "metadata": {},
   "source": [
    "### Q.11 Print the English version of the French word chien using f2e."
   ]
  },
  {
   "cell_type": "markdown",
   "id": "b52e7ee2",
   "metadata": {},
   "source": [
    "**ANS** = "
   ]
  },
  {
   "cell_type": "code",
   "execution_count": 42,
   "id": "ac8e2e23",
   "metadata": {},
   "outputs": [
    {
     "name": "stdout",
     "output_type": "stream",
     "text": [
      "English word of French word chien is dog.\n"
     ]
    }
   ],
   "source": [
    "print(f\"English word of French word chien is {f2e['chien']}.\")"
   ]
  },
  {
   "cell_type": "markdown",
   "id": "f20f76e3",
   "metadata": {},
   "source": [
    "### Q.12 Make and print a set of English words from the keys in e2f."
   ]
  },
  {
   "cell_type": "markdown",
   "id": "186ac33f",
   "metadata": {},
   "source": [
    "**ANS** = "
   ]
  },
  {
   "cell_type": "code",
   "execution_count": 44,
   "id": "e668e7fb",
   "metadata": {},
   "outputs": [
    {
     "name": "stdout",
     "output_type": "stream",
     "text": [
      "['dog', 'cat', 'walrus']\n"
     ]
    }
   ],
   "source": [
    "print(list(e2f.keys()))"
   ]
  },
  {
   "cell_type": "markdown",
   "id": "7bfb9ebd",
   "metadata": {},
   "source": [
    "### Q.13 Make a multilevel dictionary called life. Use these strings for the topmost keys: 'animals', 'plants', and 'other'. Make the 'animals' key refer to another dictionary with the keys 'cats', 'octopi', and 'emus'. Make the 'cats' key refer to a list of strings with the values 'Henri', 'Grumpy', and 'Lucy'. Make all the other keys refer to empty dictionaries."
   ]
  },
  {
   "cell_type": "markdown",
   "id": "941d7edf",
   "metadata": {},
   "source": [
    "**ANS** = "
   ]
  },
  {
   "cell_type": "code",
   "execution_count": 48,
   "id": "211a6651",
   "metadata": {},
   "outputs": [
    {
     "name": "stdout",
     "output_type": "stream",
     "text": [
      "{'animals': {'cats': ['Henri', 'Grumpy', 'Lucy'], 'octopi': {}, 'emus': {}}, 'plants': {}, 'other': {}}\n"
     ]
    }
   ],
   "source": [
    "life = {\n",
    "    \"animals\" : {\n",
    "        \"cats\" : [\"Henri\", \"Grumpy\", \"Lucy\"],\n",
    "        \"octopi\" : {},\n",
    "        \"emus\" : {}\n",
    "    },\n",
    "    \"plants\" : {},\n",
    "    \"other\" : {}\n",
    "}\n",
    "print(life)"
   ]
  },
  {
   "cell_type": "markdown",
   "id": "99a08e66",
   "metadata": {},
   "source": [
    "### Q.14 Print the top-level keys of life."
   ]
  },
  {
   "cell_type": "markdown",
   "id": "99b4f2dc",
   "metadata": {},
   "source": [
    "**ANS** = "
   ]
  },
  {
   "cell_type": "code",
   "execution_count": 49,
   "id": "cf8e9cea",
   "metadata": {},
   "outputs": [
    {
     "name": "stdout",
     "output_type": "stream",
     "text": [
      "dict_keys(['animals', 'plants', 'other'])\n"
     ]
    }
   ],
   "source": [
    "print(life.keys())"
   ]
  },
  {
   "cell_type": "markdown",
   "id": "d9fc6777",
   "metadata": {},
   "source": [
    "### Q.15  Print the keys for life['animals']."
   ]
  },
  {
   "cell_type": "markdown",
   "id": "6e5cef99",
   "metadata": {},
   "source": [
    "**ANS** = "
   ]
  },
  {
   "cell_type": "code",
   "execution_count": 55,
   "id": "f50b1a51",
   "metadata": {},
   "outputs": [
    {
     "name": "stdout",
     "output_type": "stream",
     "text": [
      "dict_keys(['cats', 'octopi', 'emus'])\n"
     ]
    }
   ],
   "source": [
    "print(life['animals'].keys())"
   ]
  },
  {
   "cell_type": "markdown",
   "id": "8eca5556",
   "metadata": {},
   "source": [
    "### Q.16 Print the values for life['animals']['cats']"
   ]
  },
  {
   "cell_type": "markdown",
   "id": "6d043461",
   "metadata": {},
   "source": [
    "**ANS** = "
   ]
  },
  {
   "cell_type": "code",
   "execution_count": 54,
   "id": "7fad94fa",
   "metadata": {},
   "outputs": [
    {
     "name": "stdout",
     "output_type": "stream",
     "text": [
      "['Henri', 'Grumpy', 'Lucy']\n"
     ]
    }
   ],
   "source": [
    "print(life['animals']['cats'])"
   ]
  }
 ],
 "metadata": {
  "kernelspec": {
   "display_name": "Python 3 (ipykernel)",
   "language": "python",
   "name": "python3"
  },
  "language_info": {
   "codemirror_mode": {
    "name": "ipython",
    "version": 3
   },
   "file_extension": ".py",
   "mimetype": "text/x-python",
   "name": "python",
   "nbconvert_exporter": "python",
   "pygments_lexer": "ipython3",
   "version": "3.10.9"
  }
 },
 "nbformat": 4,
 "nbformat_minor": 5
}
