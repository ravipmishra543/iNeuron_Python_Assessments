{
 "cells": [
  {
   "cell_type": "markdown",
   "id": "70d1d891",
   "metadata": {},
   "source": [
    "# PROGRAMMING ASSIGNMENT NO 14 - SOLUTION"
   ]
  },
  {
   "cell_type": "markdown",
   "id": "1eb77db1",
   "metadata": {},
   "source": [
    "### Question 1:\n",
    "\n",
    "Define a class with a generator which can iterate the numbers, which are divisible by 7, between a given range 0 and n."
   ]
  },
  {
   "cell_type": "code",
   "execution_count": 1,
   "id": "c1b660e9",
   "metadata": {},
   "outputs": [],
   "source": [
    "# ANS =\n",
    "\n",
    "class div_generator:\n",
    "    \"\"\"Generator which can iterate the numbers, which are divisible by a_num, between a given range 0 and n.\"\"\"\n",
    "    def __init__(self, range_num, div_by):\n",
    "        self.range_num = range_num\n",
    "        self.div_by = div_by\n",
    "    \n",
    "    def get_num(self):\n",
    "        div_list = []\n",
    "        for i in range(self.range_num +1):\n",
    "            if i % self.div_by == 0:\n",
    "                div_list.append(i)\n",
    "        return div_list            "
   ]
  },
  {
   "cell_type": "code",
   "execution_count": 2,
   "id": "506d7a84",
   "metadata": {},
   "outputs": [
    {
     "name": "stdout",
     "output_type": "stream",
     "text": [
      "[0, 7, 14, 21, 28, 35, 42, 49, 56, 63, 70, 77, 84, 91, 98, 105, 112, 119, 126, 133, 140, 147, 154, 161, 168, 175, 182, 189, 196, 203, 210, 217, 224, 231, 238, 245, 252, 259, 266, 273, 280, 287, 294, 301, 308, 315, 322, 329, 336, 343, 350]\n"
     ]
    }
   ],
   "source": [
    "a = div_generator(350, 7)\n",
    "\n",
    "print(a.get_num())"
   ]
  },
  {
   "cell_type": "markdown",
   "id": "72963280",
   "metadata": {},
   "source": [
    "### Question 2:\n",
    "\n",
    "Write a program to compute the frequency of the words from the input. The output should output after sorting the key alphanumerically. \n",
    "\n",
    "Suppose the following input is supplied to the program:\n",
    "\n",
    "New to Python or choosing between Python 2 and Python 3? Read Python 2 or Python 3.\n",
    "\n",
    "Then, the output should be:\n",
    "\n",
    "2:2\n",
    "\n",
    "3.:1\n",
    "\n",
    "3?:1\n",
    "\n",
    "New:1\n",
    "\n",
    "Python:5\n",
    "\n",
    "Read:1\n",
    "\n",
    "and:1\n",
    "\n",
    "between:1\n",
    "\n",
    "choosing:1\n",
    "\n",
    "or:2\n",
    "\n",
    "to:1"
   ]
  },
  {
   "cell_type": "code",
   "execution_count": 3,
   "id": "e3ff4fd7",
   "metadata": {},
   "outputs": [],
   "source": [
    "# ANS =\n",
    "\n",
    "def freq_of_words(user_input):\n",
    "    \"\"\"Program to compute the frequency of the words from the input\"\"\"\n",
    "    try:\n",
    "        string = user_input.split(' ')\n",
    "        frequency = {}\n",
    "        for i in string :\n",
    "            frequency[i] = string.count(i)\n",
    "        keys = frequency.keys()\n",
    "        keys = (','.join(keys)).split(',')\n",
    "        keys.sort()\n",
    "        for j in keys:\n",
    "            print(f\"{j}:{frequency[j]}\")\n",
    "    except Exception as error:\n",
    "        return error"
   ]
  },
  {
   "cell_type": "code",
   "execution_count": 4,
   "id": "00e1a55d",
   "metadata": {},
   "outputs": [
    {
     "data": {
      "text/plain": [
       "AttributeError(\"'div_generator' object has no attribute 'split'\")"
      ]
     },
     "execution_count": 4,
     "metadata": {},
     "output_type": "execute_result"
    }
   ],
   "source": [
    "freq_of_words(a)"
   ]
  },
  {
   "cell_type": "markdown",
   "id": "3eae7b65",
   "metadata": {},
   "source": [
    "### Question 3:\n",
    "\n",
    "Define a class Person and its two child classes: Male and Female. All classes have a method \"getGender\" which can print \"Male\" for Male class and \"Female\" for Female class."
   ]
  },
  {
   "cell_type": "code",
   "execution_count": 5,
   "id": "cd769983",
   "metadata": {},
   "outputs": [],
   "source": [
    "# ANS =\n",
    "\n",
    "class Person:\n",
    "    def getGender():\n",
    "        pass\n",
    "\n",
    "class Male(Person):\n",
    "    def getGender():\n",
    "        return \"Male\"\n",
    "\n",
    "class Female(Person):\n",
    "    def getGender():\n",
    "        return \"Female\"        "
   ]
  },
  {
   "cell_type": "code",
   "execution_count": 6,
   "id": "2557603f",
   "metadata": {},
   "outputs": [
    {
     "data": {
      "text/plain": [
       "'Male'"
      ]
     },
     "execution_count": 6,
     "metadata": {},
     "output_type": "execute_result"
    }
   ],
   "source": [
    "Male.getGender()"
   ]
  },
  {
   "cell_type": "code",
   "execution_count": 7,
   "id": "803ab283",
   "metadata": {},
   "outputs": [
    {
     "data": {
      "text/plain": [
       "'Female'"
      ]
     },
     "execution_count": 7,
     "metadata": {},
     "output_type": "execute_result"
    }
   ],
   "source": [
    "Female.getGender()"
   ]
  },
  {
   "cell_type": "markdown",
   "id": "d62f4ab1",
   "metadata": {},
   "source": [
    "### Question 4:\n",
    "\n",
    "Please write a program to generate all sentences where subject is in [\"I\", \"You\"] and verb is in [\"Play\", \"Love\"] and the object is in [\"Hockey\",\"Football\"].\n"
   ]
  },
  {
   "cell_type": "code",
   "execution_count": 8,
   "id": "effe08aa",
   "metadata": {},
   "outputs": [],
   "source": [
    "# ANS =\n",
    "\n",
    "def gen_sentence():\n",
    "    \"\"\"Program to generate all sentences when subject, verb & object is provided\"\"\"\n",
    "    try:\n",
    "        subject = (input(\"Enter subject : \")).split(',')\n",
    "        verb = (input(\"Enter verb : \")).split(',')\n",
    "        obj = (input(\"Enter object : \")).split(',')\n",
    "        for i in subject:\n",
    "            for j in verb:\n",
    "                for k in obj:\n",
    "                    print(f\"{i} {j} {k}.\")\n",
    "    except Excepton as error:\n",
    "        return error"
   ]
  },
  {
   "cell_type": "code",
   "execution_count": 9,
   "id": "d33de1b0",
   "metadata": {},
   "outputs": [
    {
     "name": "stdout",
     "output_type": "stream",
     "text": [
      "Enter subject : I,You\n",
      "Enter verb : play,love\n",
      "Enter object : hockey,foorball\n",
      "I play hockey.\n",
      "I play foorball.\n",
      "I love hockey.\n",
      "I love foorball.\n",
      "You play hockey.\n",
      "You play foorball.\n",
      "You love hockey.\n",
      "You love foorball.\n"
     ]
    }
   ],
   "source": [
    "gen_sentence()"
   ]
  },
  {
   "cell_type": "code",
   "execution_count": 20,
   "id": "b8908cff",
   "metadata": {},
   "outputs": [
    {
     "name": "stdout",
     "output_type": "stream",
     "text": [
      "Enter subject : I,You\n",
      "Enter verb : play,love,hate\n",
      "Enter object : hockey,cricket,kabbadi\n",
      "I play hockey.\n",
      "I play cricket.\n",
      "I play kabbadi.\n",
      "I love hockey.\n",
      "I love cricket.\n",
      "I love kabbadi.\n",
      "I hate hockey.\n",
      "I hate cricket.\n",
      "I hate kabbadi.\n",
      "You play hockey.\n",
      "You play cricket.\n",
      "You play kabbadi.\n",
      "You love hockey.\n",
      "You love cricket.\n",
      "You love kabbadi.\n",
      "You hate hockey.\n",
      "You hate cricket.\n",
      "You hate kabbadi.\n"
     ]
    }
   ],
   "source": [
    "gen_sentence()"
   ]
  },
  {
   "cell_type": "markdown",
   "id": "a63991c1",
   "metadata": {},
   "source": [
    "### Question 5:\n",
    "\n",
    "Please write a program to compress and decompress the string \"hello world!hello world!hello world!hello world!\"."
   ]
  },
  {
   "cell_type": "code",
   "execution_count": 11,
   "id": "610af6d0",
   "metadata": {},
   "outputs": [],
   "source": [
    "# ANS =\n",
    "\n",
    "def comp_str(string):\n",
    "    \"\"\"Program to compress the string\"\"\"\n",
    "    new_string = ''\n",
    "    count = 1\n",
    "    for i in range(len(string)-1):\n",
    "        if string[i] != string[i+1]:\n",
    "            if count > 1:\n",
    "                new_string += string[i]\n",
    "                new_string += str(count)\n",
    "                count = 1\n",
    "            else:\n",
    "                new_string += string[i]\n",
    "        elif string[i] == string[i+1]:\n",
    "            count +=1\n",
    "    if count > 1:\n",
    "        new_string += string[-1]\n",
    "        new_string += str(count)\n",
    "    else:\n",
    "        new_string += string[-1]\n",
    "    return new_string"
   ]
  },
  {
   "cell_type": "code",
   "execution_count": 12,
   "id": "1d7ead8c",
   "metadata": {},
   "outputs": [],
   "source": [
    "def decomp_str(string):\n",
    "    \"\"\"Program to decompress the string\"\"\"\n",
    "    new_string = ''\n",
    "    for i in range(len(string)):\n",
    "        if string[i].isnumeric():\n",
    "            num = int(string[i])\n",
    "            new_string += string[i-1]*(num-1)\n",
    "        else:\n",
    "            new_string += string[i]\n",
    "    return new_string"
   ]
  },
  {
   "cell_type": "code",
   "execution_count": 13,
   "id": "c31c7e8f",
   "metadata": {},
   "outputs": [
    {
     "data": {
      "text/plain": [
       "'hel2o world!hel2o world!hel2o world!hel2o world!'"
      ]
     },
     "execution_count": 13,
     "metadata": {},
     "output_type": "execute_result"
    }
   ],
   "source": [
    "comp_str(\"hello world!hello world!hello world!hello world!\")"
   ]
  },
  {
   "cell_type": "code",
   "execution_count": 14,
   "id": "826f6019",
   "metadata": {},
   "outputs": [
    {
     "data": {
      "text/plain": [
       "'hello world!hello world!hello world!hello world!'"
      ]
     },
     "execution_count": 14,
     "metadata": {},
     "output_type": "execute_result"
    }
   ],
   "source": [
    "decomp_str('hel2o world!hel2o world!hel2o world!hel2o world!')"
   ]
  },
  {
   "cell_type": "code",
   "execution_count": 15,
   "id": "959da0fb",
   "metadata": {},
   "outputs": [
    {
     "data": {
      "text/plain": [
       "'Ineuron Ful2stack Data science couse'"
      ]
     },
     "execution_count": 15,
     "metadata": {},
     "output_type": "execute_result"
    }
   ],
   "source": [
    "comp_str('Ineuron Fullstack Data science couse')"
   ]
  },
  {
   "cell_type": "code",
   "execution_count": 16,
   "id": "20fc1716",
   "metadata": {},
   "outputs": [
    {
     "data": {
      "text/plain": [
       "'Ineuron Fullstack Data science couse'"
      ]
     },
     "execution_count": 16,
     "metadata": {},
     "output_type": "execute_result"
    }
   ],
   "source": [
    "decomp_str('Ineuron Ful2stack Data science couse')"
   ]
  },
  {
   "cell_type": "markdown",
   "id": "7f2b357d",
   "metadata": {},
   "source": [
    "### Question 6:\n",
    "Please write a binary search function which searches an item in a sorted list. The function should return the index of element to be searched in the list ?"
   ]
  },
  {
   "cell_type": "code",
   "execution_count": 17,
   "id": "1bf8c516",
   "metadata": {},
   "outputs": [],
   "source": [
    "# ANS =\n",
    "\n",
    "def binary_search(in_list,in_num):\n",
    "    low = 0\n",
    "    high = len(in_list)-1\n",
    "    while low <= high:\n",
    "        mid = high+low//2\n",
    "        if in_list[mid] < in_num:\n",
    "            low = mid+1\n",
    "        elif in_list[mid] > in_num:\n",
    "            high = mid-1\n",
    "        else:\n",
    "            return mid\n",
    "    else:\n",
    "        return 'Input Element not in the list'"
   ]
  },
  {
   "cell_type": "code",
   "execution_count": 18,
   "id": "f36625d5",
   "metadata": {},
   "outputs": [],
   "source": [
    "sorted_list = [1,2,3,4,5,6,7,8,9,10]"
   ]
  },
  {
   "cell_type": "code",
   "execution_count": 19,
   "id": "e9f0dd4d",
   "metadata": {},
   "outputs": [
    {
     "name": "stdout",
     "output_type": "stream",
     "text": [
      "7\n",
      "Input Element not in the list\n"
     ]
    }
   ],
   "source": [
    "print(binary_search(sorted_list,8))\n",
    "print(binary_search(sorted_list,100))"
   ]
  }
 ],
 "metadata": {
  "kernelspec": {
   "display_name": "Python 3 (ipykernel)",
   "language": "python",
   "name": "python3"
  },
  "language_info": {
   "codemirror_mode": {
    "name": "ipython",
    "version": 3
   },
   "file_extension": ".py",
   "mimetype": "text/x-python",
   "name": "python",
   "nbconvert_exporter": "python",
   "pygments_lexer": "ipython3",
   "version": "3.9.12"
  }
 },
 "nbformat": 4,
 "nbformat_minor": 5
}
