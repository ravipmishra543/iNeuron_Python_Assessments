{
 "cells": [
  {
   "cell_type": "markdown",
   "id": "4de13542",
   "metadata": {},
   "source": [
    "# PYTHON ADVANCED ASSIGNMENT NO 1 - SOLUTION"
   ]
  },
  {
   "cell_type": "markdown",
   "id": "8289f05e",
   "metadata": {},
   "source": [
    "### Q.1 What is the purpose of Python's OOP?"
   ]
  },
  {
   "cell_type": "markdown",
   "id": "1fb7c2f1",
   "metadata": {},
   "source": [
    "**ANS** = Object-oriented programming is a programming paradigm that provides a means of structuring programs so that properties and behaviors are bundled into individual objects\n",
    "- In Python, object-oriented Programming (OOPs) uses objects and classes in programming. \n",
    "- It aims to implement real-world entities like inheritance, polymorphisms, encapsulation, etc. in the programming.\n",
    "- The main concept of OOPs is to bind the data and the functions that work on that together as a single unit so that no other part of the code can access this data. \n",
    "\n",
    "It comes up with the following advantages:\n",
    "- It helps to divide our over all program into different small segments and thus making it solving easy with the use of objects\n",
    "- Helps in easy maintenance and modification of existing program\n",
    "- Multiple instances of an object can be made."
   ]
  },
  {
   "cell_type": "markdown",
   "id": "54c7d2e9",
   "metadata": {},
   "source": [
    "### Q.2 Where does an inheritance search look for an attribute?"
   ]
  },
  {
   "cell_type": "markdown",
   "id": "344509ac",
   "metadata": {},
   "source": [
    "**ANS** = Python searches for an attribute in an upward tree of attributes. It first searches for the attribute in its instance and then looks in the class it is generated from, to all super classes listed in its class header."
   ]
  },
  {
   "cell_type": "markdown",
   "id": "e2ea53a4",
   "metadata": {},
   "source": [
    "### Q.3 How do you distinguish between a class object and an instance object?"
   ]
  },
  {
   "cell_type": "markdown",
   "id": "983a1444",
   "metadata": {},
   "source": [
    "**ANS** = The differences between a class object and an instance object are:\n",
    "1. Class is a template for creating objects whereas object is an instance of class\n",
    "2. Seperate memory is allocated for each object whenever an object is created. but for a class this doesnot happens.\n",
    "3. A Class is created once. Many objects are created using a class.\n",
    "4. As Classes have no allocated memory. they can't be manipulated. but objects can be manipulated."
   ]
  },
  {
   "cell_type": "markdown",
   "id": "b60c995b",
   "metadata": {},
   "source": [
    "### Q.4 What makes the first argument in a class’s method function special?"
   ]
  },
  {
   "cell_type": "markdown",
   "id": "c42b4afb",
   "metadata": {},
   "source": [
    "**ANS** = Python Classes usually have three types of methods which are:\n",
    "- Instance Methods (object level methods)\n",
    "- Class Methods (class level methods)\n",
    "- Static Methods (general utility methods)\n",
    "- **`self`** is the first argument for instance methods. which refers to the object itself\n",
    "- **`cls`** is the first argument for class methods which refers to the class itself"
   ]
  },
  {
   "cell_type": "markdown",
   "id": "be917620",
   "metadata": {},
   "source": [
    "### Q.5 What is the purpose of the `__init__` method?"
   ]
  },
  {
   "cell_type": "markdown",
   "id": "8f49274a",
   "metadata": {},
   "source": [
    "**ANS** = **`__init__`** is a reseved method in python classes. It serves the role of a **constructor** in object oriented terminology. This method is called when an object is created from a class and it allows the class to initialize the attributes of the class"
   ]
  },
  {
   "cell_type": "markdown",
   "id": "23241e9c",
   "metadata": {},
   "source": [
    "### Q.6 What is the process for creating a class instance?"
   ]
  },
  {
   "cell_type": "markdown",
   "id": "91af139c",
   "metadata": {},
   "source": [
    "**ANS** = To create a class instance, we need to call the class by its name and pass the arguments to the class, which its **`init`** method accepts.\n",
    "\n",
    "**Example:** **`my_name = my_class(\"Mano\",\"vishnu\")`** Here `my_name` is an instance of class `my_class` with attributes \"Mano\" and \"Vishnu\"."
   ]
  },
  {
   "cell_type": "markdown",
   "id": "43a3bc73",
   "metadata": {},
   "source": [
    "### Q.7 What is the process for creating a class?"
   ]
  },
  {
   "cell_type": "markdown",
   "id": "8679d839",
   "metadata": {},
   "source": [
    "**ANS** =  **`class`** keyword is used to created a class in python. The syntax to create a class in python is **`class <classname>:`**\n",
    "\n",
    "**Example:** **`class Car:`**  ➞  this creates a class called Car"
   ]
  },
  {
   "cell_type": "markdown",
   "id": "9d220029",
   "metadata": {},
   "source": [
    "### Q.8 How would you define the superclasses of a class?"
   ]
  },
  {
   "cell_type": "markdown",
   "id": "6e63d398",
   "metadata": {},
   "source": [
    "**ANS** = Superclass/Parent class is given as a arugment to the child class\n",
    "\n",
    "**Example:** `class Employee(Person):` Here child class `Employee` inherits attributes and methofs from Superclass/Parent `Person`"
   ]
  }
 ],
 "metadata": {
  "kernelspec": {
   "display_name": "Python 3 (ipykernel)",
   "language": "python",
   "name": "python3"
  },
  "language_info": {
   "codemirror_mode": {
    "name": "ipython",
    "version": 3
   },
   "file_extension": ".py",
   "mimetype": "text/x-python",
   "name": "python",
   "nbconvert_exporter": "python",
   "pygments_lexer": "ipython3",
   "version": "3.10.9"
  }
 },
 "nbformat": 4,
 "nbformat_minor": 5
}
