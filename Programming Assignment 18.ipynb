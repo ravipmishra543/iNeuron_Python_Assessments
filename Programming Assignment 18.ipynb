{
 "cells": [
  {
   "cell_type": "markdown",
   "id": "08b56b8b",
   "metadata": {},
   "source": [
    "# PROGRAMMING ASSIGNMENT NO 18 - SOLUTION"
   ]
  },
  {
   "cell_type": "markdown",
   "id": "93292089",
   "metadata": {},
   "source": [
    "### Question 1\n",
    "```\n",
    "Create a function that takes a list of non-negative integers and strings and return a new list without the strings.\n",
    "Examples\n",
    "filter_list([1, 2, \"a\", \"b\"]) ➞ [1, 2]\n",
    "\n",
    "filter_list([1, \"a\", \"b\", 0, 15]) ➞ [1, 0, 15]\n",
    "\n",
    "filter_list([1, 2, \"aasf\", \"1\", \"123\", 123]) ➞ [1, 2, 123]\n",
    "```"
   ]
  },
  {
   "cell_type": "code",
   "execution_count": 1,
   "id": "609650db",
   "metadata": {},
   "outputs": [],
   "source": [
    "# ANS =\n",
    "\n",
    "def filter_list(list1):\n",
    "    \"\"\"function that takes a list of non-negative integers and strings and return a new list without the strings\"\"\"\n",
    "    try:\n",
    "        filtered = []\n",
    "        for i in list1:\n",
    "            if type(i) == int:\n",
    "                filtered.append(i)\n",
    "        return f\"filter_list({list1}) ➞ {filtered}\"\n",
    "    except Exception as error:\n",
    "        return error"
   ]
  },
  {
   "cell_type": "code",
   "execution_count": 2,
   "id": "114c4dda",
   "metadata": {},
   "outputs": [
    {
     "data": {
      "text/plain": [
       "\"filter_list([1, 2, 'a', 'b']) ➞ [1, 2]\""
      ]
     },
     "execution_count": 2,
     "metadata": {},
     "output_type": "execute_result"
    }
   ],
   "source": [
    "filter_list([1, 2, \"a\", \"b\"])"
   ]
  },
  {
   "cell_type": "code",
   "execution_count": 3,
   "id": "b668b08a",
   "metadata": {},
   "outputs": [
    {
     "data": {
      "text/plain": [
       "\"filter_list([1, 'a', 'b', 0, 15]) ➞ [1, 0, 15]\""
      ]
     },
     "execution_count": 3,
     "metadata": {},
     "output_type": "execute_result"
    }
   ],
   "source": [
    "filter_list([1, \"a\", \"b\", 0, 15])"
   ]
  },
  {
   "cell_type": "code",
   "execution_count": 4,
   "id": "7351c7ca",
   "metadata": {},
   "outputs": [
    {
     "data": {
      "text/plain": [
       "\"filter_list([1, 2, 'aasf', '1', '123', 123]) ➞ [1, 2, 123]\""
      ]
     },
     "execution_count": 4,
     "metadata": {},
     "output_type": "execute_result"
    }
   ],
   "source": [
    "filter_list([1, 2, \"aasf\", \"1\", \"123\", 123])"
   ]
  },
  {
   "cell_type": "markdown",
   "id": "64fb1551",
   "metadata": {},
   "source": [
    "### Question 2\n",
    "```\n",
    "The \"Reverse\" takes a string as input and returns that string in reverse order, with the opposite case.\n",
    "Examples\n",
    "reverse(\"Hello World\") ➞ \"DLROw OLLEh\"\n",
    "\n",
    "reverse(\"ReVeRsE\") ➞ \"eSrEvEr\"\n",
    "\n",
    "reverse(\"Radar\") ➞ \"RADAr\"\n",
    "```"
   ]
  },
  {
   "cell_type": "code",
   "execution_count": 5,
   "id": "c963c596",
   "metadata": {},
   "outputs": [],
   "source": [
    "# ANS =\n",
    "\n",
    "def reverse(string):\n",
    "    \"\"\"reverse takes string as input & returns string in reverse order with opposite case\"\"\"\n",
    "    try:\n",
    "        return f'''reverse({string}) ➞ \"{string[::-1].swapcase()}\"'''\n",
    "    except Exception as error:\n",
    "        return error"
   ]
  },
  {
   "cell_type": "code",
   "execution_count": 6,
   "id": "5718f5c9",
   "metadata": {},
   "outputs": [
    {
     "data": {
      "text/plain": [
       "'reverse(Hello World) ➞ \"DLROw OLLEh\"'"
      ]
     },
     "execution_count": 6,
     "metadata": {},
     "output_type": "execute_result"
    }
   ],
   "source": [
    "reverse(\"Hello World\")"
   ]
  },
  {
   "cell_type": "code",
   "execution_count": 7,
   "id": "0887795f",
   "metadata": {},
   "outputs": [
    {
     "data": {
      "text/plain": [
       "'reverse(ReVeRsE) ➞ \"eSrEvEr\"'"
      ]
     },
     "execution_count": 7,
     "metadata": {},
     "output_type": "execute_result"
    }
   ],
   "source": [
    "reverse(\"ReVeRsE\")"
   ]
  },
  {
   "cell_type": "code",
   "execution_count": 8,
   "id": "292ee011",
   "metadata": {},
   "outputs": [
    {
     "data": {
      "text/plain": [
       "'reverse(Radar) ➞ \"RADAr\"'"
      ]
     },
     "execution_count": 8,
     "metadata": {},
     "output_type": "execute_result"
    }
   ],
   "source": [
    "reverse(\"Radar\")"
   ]
  },
  {
   "cell_type": "markdown",
   "id": "d739e129",
   "metadata": {},
   "source": [
    "### Question 3\n",
    "```\n",
    "You can assign variables from lists like this:\n",
    "lst = [1, 2, 3, 4, 5, 6]\n",
    "first = lst[0]\n",
    "middle = lst[1:-1]\n",
    "last = lst[-1]\n",
    "\n",
    "print(first) ➞ outputs 1\n",
    "print(middle) ➞ outputs [2, 3, 4, 5]\n",
    "print(last) ➞ outputs 6\n",
    "\n",
    "With Python 3, you can assign variables from lists in a much more succinct way. Create variables first, middle and last from the given list using destructuring assignment (check the Resources tab for some examples), where:\n",
    "first  ➞ 1\n",
    "\n",
    "middle ➞ [2, 3, 4, 5]\n",
    "\n",
    "last ➞ 6\n",
    "Your task is to unpack the list writeyourcodehere into three variables, being first, middle, and last, with middle being everything in between the first and last element. Then print all three variables.\n",
    "```"
   ]
  },
  {
   "cell_type": "code",
   "execution_count": 9,
   "id": "d6612144",
   "metadata": {},
   "outputs": [],
   "source": [
    "# ANS =\n",
    "\n",
    "first, *middle, last = [1, 2, 3, 4, 5, 6]"
   ]
  },
  {
   "cell_type": "code",
   "execution_count": 10,
   "id": "79f869b3",
   "metadata": {},
   "outputs": [
    {
     "name": "stdout",
     "output_type": "stream",
     "text": [
      "first  ➞ 1\n",
      "middle  ➞ [2, 3, 4, 5]\n",
      "last  ➞ 6\n"
     ]
    }
   ],
   "source": [
    "print(f\"first  ➞ {first}\")\n",
    "print(f\"middle  ➞ {middle}\")\n",
    "print(f\"last  ➞ {last}\")"
   ]
  },
  {
   "cell_type": "markdown",
   "id": "2e9902f6",
   "metadata": {},
   "source": [
    "### Question 4\n",
    "```\n",
    "Write a function that calculates the factorial of a number recursively.\n",
    "Examples\n",
    "factorial(5) ➞ 120\n",
    "\n",
    "factorial(3) ➞ 6\n",
    "\n",
    "factorial(1) ➞ 1\n",
    "\n",
    "factorial(0) ➞ 1\n",
    "```"
   ]
  },
  {
   "cell_type": "code",
   "execution_count": 11,
   "id": "e21ea5ea",
   "metadata": {},
   "outputs": [],
   "source": [
    "# ANS =\n",
    "\n",
    "def factorial(num):\n",
    "    \"\"\"function that calculates the factorial of a number recursively\"\"\"\n",
    "    try:\n",
    "        if num == 0:\n",
    "            return 1\n",
    "        else:\n",
    "            return num*factorial(num-1)\n",
    "    except Exception as error:\n",
    "        return error"
   ]
  },
  {
   "cell_type": "code",
   "execution_count": 12,
   "id": "8fd37aa3",
   "metadata": {},
   "outputs": [
    {
     "name": "stdout",
     "output_type": "stream",
     "text": [
      "factorial(5) ➞ 120\n"
     ]
    }
   ],
   "source": [
    "print(f\"factorial(5) ➞ {factorial(5)}\")"
   ]
  },
  {
   "cell_type": "code",
   "execution_count": 13,
   "id": "8ef757c7",
   "metadata": {},
   "outputs": [
    {
     "name": "stdout",
     "output_type": "stream",
     "text": [
      "factorial(3) ➞ 6\n"
     ]
    }
   ],
   "source": [
    "print(f\"factorial(3) ➞ {factorial(3)}\")"
   ]
  },
  {
   "cell_type": "code",
   "execution_count": 14,
   "id": "cddbfd2a",
   "metadata": {},
   "outputs": [
    {
     "name": "stdout",
     "output_type": "stream",
     "text": [
      "factorial(1) ➞ 1\n"
     ]
    }
   ],
   "source": [
    "print(f\"factorial(1) ➞ {factorial(1)}\")"
   ]
  },
  {
   "cell_type": "code",
   "execution_count": 15,
   "id": "56f2e3e1",
   "metadata": {},
   "outputs": [
    {
     "name": "stdout",
     "output_type": "stream",
     "text": [
      "factorial(0) ➞ 1\n"
     ]
    }
   ],
   "source": [
    "print(f\"factorial(0) ➞ {factorial(0)}\")"
   ]
  },
  {
   "cell_type": "markdown",
   "id": "1f0b903c",
   "metadata": {},
   "source": [
    "### Question 5\n",
    "```\n",
    "Write a function that moves all elements of one type to the end of the list.\n",
    "Examples\n",
    "move_to_end([1, 3, 2, 4, 4, 1], 1) ➞ [3, 2, 4, 4, 1, 1]\n",
    "# Move all the 1s to the end of the array.\n",
    "\n",
    "move_to_end([7, 8, 9, 1, 2, 3, 4], 9) ➞ [7, 8, 1, 2, 3, 4, 9]\n",
    "\n",
    "move_to_end([\"a\", \"a\", \"a\", \"b\"], \"a\") ➞ [\"b\", \"a\", \"a\", \"a\"]\n",
    "```"
   ]
  },
  {
   "cell_type": "code",
   "execution_count": 16,
   "id": "beb41d98",
   "metadata": {},
   "outputs": [],
   "source": [
    "# ANS =\n",
    "\n",
    "def move_to_end(list_of_char, char):\n",
    "    '''function that moves all elements of one type to the end of the list'''\n",
    "    try:\n",
    "        similar = []\n",
    "        remaining = []\n",
    "        for i in list_of_char:\n",
    "            if i == char:\n",
    "                similar.append(i)\n",
    "            else:\n",
    "                remaining.append(i)\n",
    "        remaining.extend(similar)\n",
    "        return f\"move_to_end({list_of_char}, {char}) ➞ {remaining}\"        \n",
    "    except Exception as error:\n",
    "        return error"
   ]
  },
  {
   "cell_type": "code",
   "execution_count": 17,
   "id": "0006628d",
   "metadata": {},
   "outputs": [
    {
     "data": {
      "text/plain": [
       "'move_to_end([1, 3, 2, 4, 4, 1], 1) ➞ [3, 2, 4, 4, 1, 1]'"
      ]
     },
     "execution_count": 17,
     "metadata": {},
     "output_type": "execute_result"
    }
   ],
   "source": [
    "move_to_end([1, 3, 2, 4, 4, 1], 1)"
   ]
  },
  {
   "cell_type": "code",
   "execution_count": 18,
   "id": "6bce0d1f",
   "metadata": {},
   "outputs": [
    {
     "data": {
      "text/plain": [
       "'move_to_end([7, 8, 9, 1, 2, 3, 4], 9) ➞ [7, 8, 1, 2, 3, 4, 9]'"
      ]
     },
     "execution_count": 18,
     "metadata": {},
     "output_type": "execute_result"
    }
   ],
   "source": [
    "move_to_end([7, 8, 9, 1, 2, 3, 4], 9)"
   ]
  },
  {
   "cell_type": "code",
   "execution_count": 19,
   "id": "b0073a51",
   "metadata": {},
   "outputs": [
    {
     "data": {
      "text/plain": [
       "\"move_to_end(['a', 'a', 'a', 'b'], a) ➞ ['b', 'a', 'a', 'a']\""
      ]
     },
     "execution_count": 19,
     "metadata": {},
     "output_type": "execute_result"
    }
   ],
   "source": [
    "move_to_end([\"a\", \"a\", \"a\", \"b\"], \"a\")"
   ]
  }
 ],
 "metadata": {
  "kernelspec": {
   "display_name": "Python 3 (ipykernel)",
   "language": "python",
   "name": "python3"
  },
  "language_info": {
   "codemirror_mode": {
    "name": "ipython",
    "version": 3
   },
   "file_extension": ".py",
   "mimetype": "text/x-python",
   "name": "python",
   "nbconvert_exporter": "python",
   "pygments_lexer": "ipython3",
   "version": "3.9.12"
  }
 },
 "nbformat": 4,
 "nbformat_minor": 5
}
