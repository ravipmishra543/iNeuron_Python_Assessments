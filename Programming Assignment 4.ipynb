{
 "cells": [
  {
   "cell_type": "markdown",
   "id": "ebb27933",
   "metadata": {},
   "source": [
    "# PROGRAMMING ASSIGNMENT NO 4 - SOLUTION"
   ]
  },
  {
   "cell_type": "markdown",
   "id": "abdc73c4",
   "metadata": {},
   "source": [
    "### 1. Write a Python Program to Find the Factorial of a Number?"
   ]
  },
  {
   "cell_type": "code",
   "execution_count": 1,
   "id": "b88a403d",
   "metadata": {},
   "outputs": [],
   "source": [
    "# ANS =\n",
    "\n",
    "def Factorial(num) :\n",
    "    try :\n",
    "        num1 = 1\n",
    "        if num > 0 :\n",
    "            for i in range(1,num+1):\n",
    "                num1 = i * num1\n",
    "        elif num < 0 :\n",
    "            return \"Factorial of negetive number is not possible.\"\n",
    "        else :\n",
    "            return \"Factorial of 0 is 0.\"\n",
    "        return num1\n",
    "    except TypeError as error :\n",
    "        return \"Give input as a integer only.\", error"
   ]
  },
  {
   "cell_type": "code",
   "execution_count": 2,
   "id": "91f3a8a4",
   "metadata": {},
   "outputs": [
    {
     "data": {
      "text/plain": [
       "'Factorial of 0 is 0.'"
      ]
     },
     "execution_count": 2,
     "metadata": {},
     "output_type": "execute_result"
    }
   ],
   "source": [
    "Factorial(0)"
   ]
  },
  {
   "cell_type": "code",
   "execution_count": 3,
   "id": "5e21f261",
   "metadata": {},
   "outputs": [
    {
     "data": {
      "text/plain": [
       "'Factorial of negetive number is not possible.'"
      ]
     },
     "execution_count": 3,
     "metadata": {},
     "output_type": "execute_result"
    }
   ],
   "source": [
    "Factorial(-8)"
   ]
  },
  {
   "cell_type": "code",
   "execution_count": 4,
   "id": "8bda27f3",
   "metadata": {},
   "outputs": [
    {
     "data": {
      "text/plain": [
       "40320"
      ]
     },
     "execution_count": 4,
     "metadata": {},
     "output_type": "execute_result"
    }
   ],
   "source": [
    "Factorial(8)"
   ]
  },
  {
   "cell_type": "code",
   "execution_count": 5,
   "id": "da1bbb95",
   "metadata": {},
   "outputs": [
    {
     "data": {
      "text/plain": [
       "120"
      ]
     },
     "execution_count": 5,
     "metadata": {},
     "output_type": "execute_result"
    }
   ],
   "source": [
    "Factorial(5)"
   ]
  },
  {
   "cell_type": "code",
   "execution_count": 6,
   "id": "73059628",
   "metadata": {},
   "outputs": [
    {
     "data": {
      "text/plain": [
       "('Give input as a integer only.',\n",
       " TypeError(\"'>' not supported between instances of 'str' and 'int'\"))"
      ]
     },
     "execution_count": 6,
     "metadata": {},
     "output_type": "execute_result"
    }
   ],
   "source": [
    "Factorial('av')"
   ]
  },
  {
   "cell_type": "markdown",
   "id": "cb2f74f1",
   "metadata": {},
   "source": [
    " "
   ]
  },
  {
   "cell_type": "markdown",
   "id": "f38f7ed9",
   "metadata": {},
   "source": [
    "### 2. Write a Python Program to Display the multiplication Table?"
   ]
  },
  {
   "cell_type": "code",
   "execution_count": 7,
   "id": "0cebd579",
   "metadata": {},
   "outputs": [],
   "source": [
    "# ANS =\n",
    "\n",
    "def Multiplication_table(num) :\n",
    "    try :\n",
    "        num1 = 1\n",
    "        if num == 0 :\n",
    "            return \"Multiplication of 0 is not possible.\"\n",
    "        else :\n",
    "            print(f\"Multiplication table of {num} is as below:\")\n",
    "            for i in range(1, 10 + 1):\n",
    "                print(f\"{num} x {i} = {num*i}\")\n",
    "    except TypeError as error :\n",
    "        return \"Please give input ineteger value only.\", error"
   ]
  },
  {
   "cell_type": "code",
   "execution_count": 8,
   "id": "6dd04b49",
   "metadata": {},
   "outputs": [
    {
     "name": "stdout",
     "output_type": "stream",
     "text": [
      "Enter number = 5\n",
      "Multiplication table of 5 is as below:\n",
      "5 x 1 = 5\n",
      "5 x 2 = 10\n",
      "5 x 3 = 15\n",
      "5 x 4 = 20\n",
      "5 x 5 = 25\n",
      "5 x 6 = 30\n",
      "5 x 7 = 35\n",
      "5 x 8 = 40\n",
      "5 x 9 = 45\n",
      "5 x 10 = 50\n"
     ]
    }
   ],
   "source": [
    "a = int(input(\"Enter number = \"))\n",
    "Multiplication_table(a)"
   ]
  },
  {
   "cell_type": "code",
   "execution_count": 9,
   "id": "cd842606",
   "metadata": {},
   "outputs": [
    {
     "name": "stdout",
     "output_type": "stream",
     "text": [
      "Enter number = -24\n",
      "Multiplication table of -24 is as below:\n",
      "-24 x 1 = -24\n",
      "-24 x 2 = -48\n",
      "-24 x 3 = -72\n",
      "-24 x 4 = -96\n",
      "-24 x 5 = -120\n",
      "-24 x 6 = -144\n",
      "-24 x 7 = -168\n",
      "-24 x 8 = -192\n",
      "-24 x 9 = -216\n",
      "-24 x 10 = -240\n"
     ]
    }
   ],
   "source": [
    "a = int(input(\"Enter number = \"))\n",
    "Multiplication_table(a)"
   ]
  },
  {
   "cell_type": "markdown",
   "id": "61728e80",
   "metadata": {},
   "source": [
    " "
   ]
  },
  {
   "cell_type": "markdown",
   "id": "b7b813aa",
   "metadata": {},
   "source": [
    "### 3. Write a Python Program to Print the Fibonacci sequence?"
   ]
  },
  {
   "cell_type": "code",
   "execution_count": 10,
   "id": "4e2dc657",
   "metadata": {},
   "outputs": [],
   "source": [
    "# ANS =\n",
    "\n",
    "def fibonacci(num) :\n",
    "    try:\n",
    "        if num == 0 :\n",
    "            print([0])\n",
    "        elif num == 1 :\n",
    "            print([0, 1])\n",
    "        elif num > 1:\n",
    "            fiblist = [0]\n",
    "            num1 = 0\n",
    "            num2 = 1\n",
    "            for i in range(1,num+1):\n",
    "                fiblist.append(num2)\n",
    "                num3 = num2\n",
    "                num2 = num1 + num2\n",
    "                num1 = num3\n",
    "            return fiblist\n",
    "    except TypeError as error :\n",
    "        return \"Please give input ineteger value only.\", error"
   ]
  },
  {
   "cell_type": "code",
   "execution_count": 11,
   "id": "b4fcff64",
   "metadata": {},
   "outputs": [
    {
     "data": {
      "text/plain": [
       "[0, 1, 1, 2, 3, 5, 8, 13, 21, 34]"
      ]
     },
     "execution_count": 11,
     "metadata": {},
     "output_type": "execute_result"
    }
   ],
   "source": [
    "fibonacci(9)"
   ]
  },
  {
   "cell_type": "code",
   "execution_count": 12,
   "id": "b409d654",
   "metadata": {},
   "outputs": [
    {
     "data": {
      "text/plain": [
       "[0, 1, 1, 2, 3, 5, 8, 13, 21, 34, 55, 89, 144, 233, 377, 610]"
      ]
     },
     "execution_count": 12,
     "metadata": {},
     "output_type": "execute_result"
    }
   ],
   "source": [
    "fibonacci(15)"
   ]
  },
  {
   "cell_type": "markdown",
   "id": "e5f411e1",
   "metadata": {},
   "source": [
    " \n"
   ]
  },
  {
   "cell_type": "markdown",
   "id": "c63cbac9",
   "metadata": {},
   "source": [
    "### 4. Write a Python Program to Check Armstrong Number?"
   ]
  },
  {
   "cell_type": "code",
   "execution_count": 13,
   "id": "3f32b6c8",
   "metadata": {},
   "outputs": [],
   "source": [
    "# ANS =\n",
    "\n",
    "def armstrong_num(num) :\n",
    "    try :\n",
    "        num1 = str(num)\n",
    "        addition = 0\n",
    "        for i in range(len(num1)) :\n",
    "            num2 = int(num1[i])\n",
    "            addition = addition + (num2)**(len(num1))\n",
    "        if addition == num :\n",
    "            return f\"{num} is a Armstrong number.\"\n",
    "        else :\n",
    "            return f\"{num} is not a Armstrong number.\"\n",
    "    except TypeError as error :\n",
    "        return \"Please give input ineteger value only.\", error"
   ]
  },
  {
   "cell_type": "code",
   "execution_count": 14,
   "id": "f28e5b30",
   "metadata": {},
   "outputs": [
    {
     "data": {
      "text/plain": [
       "'6 is a Armstrong number.'"
      ]
     },
     "execution_count": 14,
     "metadata": {},
     "output_type": "execute_result"
    }
   ],
   "source": [
    "armstrong_num(6)"
   ]
  },
  {
   "cell_type": "code",
   "execution_count": 15,
   "id": "95315c50",
   "metadata": {},
   "outputs": [
    {
     "data": {
      "text/plain": [
       "'153 is a Armstrong number.'"
      ]
     },
     "execution_count": 15,
     "metadata": {},
     "output_type": "execute_result"
    }
   ],
   "source": [
    "armstrong_num(153)"
   ]
  },
  {
   "cell_type": "code",
   "execution_count": 16,
   "id": "c4ce255b",
   "metadata": {},
   "outputs": [
    {
     "data": {
      "text/plain": [
       "'370 is a Armstrong number.'"
      ]
     },
     "execution_count": 16,
     "metadata": {},
     "output_type": "execute_result"
    }
   ],
   "source": [
    "armstrong_num(370)"
   ]
  },
  {
   "cell_type": "code",
   "execution_count": 17,
   "id": "eb63792e",
   "metadata": {},
   "outputs": [
    {
     "data": {
      "text/plain": [
       "'406 is not a Armstrong number.'"
      ]
     },
     "execution_count": 17,
     "metadata": {},
     "output_type": "execute_result"
    }
   ],
   "source": [
    "armstrong_num(406)"
   ]
  },
  {
   "cell_type": "markdown",
   "id": "5202cf08",
   "metadata": {},
   "source": [
    " "
   ]
  },
  {
   "cell_type": "markdown",
   "id": "b7bc68fb",
   "metadata": {},
   "source": [
    "### 5. Write a Python Program to Find Armstrong Number in an Interval?"
   ]
  },
  {
   "cell_type": "code",
   "execution_count": 18,
   "id": "4379f00e",
   "metadata": {},
   "outputs": [],
   "source": [
    "# ANS =\n",
    "\n",
    "def armstrng_num_list(num1, num2) :\n",
    "    try :\n",
    "        if num1 > num2 or num1 == num2 :\n",
    "            return 'num1 should be greater than num2.'\n",
    "        elif num1 < 0 or num2 < 0 :\n",
    "            return 'Enter positive numbers only.'\n",
    "        else :\n",
    "            arm_list = []\n",
    "            for i in range(num1, num2) :\n",
    "                addition = 0\n",
    "                num3 = str(i)\n",
    "                for j in range(len(num3)) :\n",
    "                    num4 = int(num3[j])\n",
    "                    addition = addition + (num4)**(len(num3))\n",
    "                if addition == i :\n",
    "                    arm_list.append(i)\n",
    "                else :\n",
    "                    pass\n",
    "            return print(arm_list)\n",
    "    except Exception as error :\n",
    "        return error"
   ]
  },
  {
   "cell_type": "code",
   "execution_count": 19,
   "id": "e77c0baf",
   "metadata": {},
   "outputs": [
    {
     "name": "stdout",
     "output_type": "stream",
     "text": [
      "[1, 2, 3, 4, 5, 6, 7, 8, 9, 153, 370, 371, 407, 1634, 8208, 9474, 54748, 92727, 93084]\n"
     ]
    }
   ],
   "source": [
    "num1 = 1\n",
    "num2 = 100000\n",
    "\n",
    "armstrng_num_list(num1, num2)"
   ]
  },
  {
   "cell_type": "markdown",
   "id": "16f4f1a8",
   "metadata": {},
   "source": [
    " "
   ]
  },
  {
   "cell_type": "markdown",
   "id": "ba146459",
   "metadata": {},
   "source": [
    "### 6. Write a Python Program to Find the Sum of Natural Numbers?"
   ]
  },
  {
   "cell_type": "code",
   "execution_count": 20,
   "id": "8be4a91d",
   "metadata": {},
   "outputs": [],
   "source": [
    "# ANS =\n",
    "\n",
    "def sum_nat_num(num1):\n",
    "    try :\n",
    "        if num1 < 0 :\n",
    "            return 'Natural numbers include only positive integers.'\n",
    "        else :\n",
    "            add = 0\n",
    "            for i in range(num1+1):\n",
    "                add = add + i\n",
    "            return f'The sum of natural numbers upto {num1} is {add}.'\n",
    "    except Exception as error :\n",
    "        return error"
   ]
  },
  {
   "cell_type": "code",
   "execution_count": 21,
   "id": "8e31569a",
   "metadata": {},
   "outputs": [
    {
     "data": {
      "text/plain": [
       "'The sum of natural numbers upto 50 is 1275.'"
      ]
     },
     "execution_count": 21,
     "metadata": {},
     "output_type": "execute_result"
    }
   ],
   "source": [
    "sum_nat_num(50)"
   ]
  },
  {
   "cell_type": "code",
   "execution_count": 22,
   "id": "c9f74fc6",
   "metadata": {},
   "outputs": [
    {
     "data": {
      "text/plain": [
       "'Natural numbers include only positive integers.'"
      ]
     },
     "execution_count": 22,
     "metadata": {},
     "output_type": "execute_result"
    }
   ],
   "source": [
    "sum_nat_num(-5)"
   ]
  }
 ],
 "metadata": {
  "kernelspec": {
   "display_name": "Python 3 (ipykernel)",
   "language": "python",
   "name": "python3"
  },
  "language_info": {
   "codemirror_mode": {
    "name": "ipython",
    "version": 3
   },
   "file_extension": ".py",
   "mimetype": "text/x-python",
   "name": "python",
   "nbconvert_exporter": "python",
   "pygments_lexer": "ipython3",
   "version": "3.9.12"
  }
 },
 "nbformat": 4,
 "nbformat_minor": 5
}
