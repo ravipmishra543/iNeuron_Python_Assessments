{
 "cells": [
  {
   "cell_type": "markdown",
   "id": "a8c145bc",
   "metadata": {},
   "source": [
    "# PROGRAMMING ASSIGNMENT NO 8 - SOLUTION"
   ]
  },
  {
   "cell_type": "markdown",
   "id": "02f66670",
   "metadata": {},
   "source": [
    "### 1. Write a Python Program to Add Two Matrices?"
   ]
  },
  {
   "cell_type": "code",
   "execution_count": 1,
   "id": "31748b84",
   "metadata": {},
   "outputs": [],
   "source": [
    "# ANS =\n",
    "\n",
    "def add_matrix(matrix1, matrix2):\n",
    "    \"\"\"Python Program to Add Two Matrices\"\"\"\n",
    "    try:\n",
    "        print(f\"Input matrices are {matrix1} & {matrix2}.\")\n",
    "        matrix_add = []\n",
    "        if len(matrix1) == len(matrix2):\n",
    "            for i in range(len(matrix1)):\n",
    "                if len(matrix1[i]) == len(matrix2[i]):\n",
    "                    matrix_add.append([])\n",
    "                    for j in range(len(matrix1[i])):\n",
    "                        matrix_add[i].append(matrix1[i][j]+matrix2[i][j])        \n",
    "                else:\n",
    "                    return f\"Rows & columns of {matrix1} & {matrix2} are not same. Addition is not possible.\"\n",
    "        else :\n",
    "            return f\"Rows & columns of {matrix1} & {matrix2} are not same. Addition is not possible.\"\n",
    "        return f\"Addition is {matrix_add}.\"\n",
    "    except Exception as error:\n",
    "        return error"
   ]
  },
  {
   "cell_type": "code",
   "execution_count": 2,
   "id": "45fa9ef1",
   "metadata": {},
   "outputs": [
    {
     "name": "stdout",
     "output_type": "stream",
     "text": [
      "Input matrices are [[3, 2, 1], [3, 2, 1], [3, 2, 1]] & [[1, 2, 3], [1, 2, 3], [1, 2, 3]].\n"
     ]
    },
    {
     "data": {
      "text/plain": [
       "'Addition is [[4, 4, 4], [4, 4, 4], [4, 4, 4]].'"
      ]
     },
     "execution_count": 2,
     "metadata": {},
     "output_type": "execute_result"
    }
   ],
   "source": [
    "a = [[3,2,1],[3,2,1],[3,2,1]]\n",
    "b = [[1,2,3],[1,2,3],[1,2,3]]\n",
    "\n",
    "add_matrix(a, b)"
   ]
  },
  {
   "cell_type": "code",
   "execution_count": 3,
   "id": "3f7580b1",
   "metadata": {},
   "outputs": [
    {
     "name": "stdout",
     "output_type": "stream",
     "text": [
      "Input matrices are [[1, 2, 3], [4, 5, 6]] & [[10, 20, 30], [11, 21, 31]].\n"
     ]
    },
    {
     "data": {
      "text/plain": [
       "'Addition is [[11, 22, 33], [15, 26, 37]].'"
      ]
     },
     "execution_count": 3,
     "metadata": {},
     "output_type": "execute_result"
    }
   ],
   "source": [
    "matrix_1 = [[1,2,3],[4,5,6]]\n",
    "matrix_2 = [[10,20,30],[11,21,31]]\n",
    "\n",
    "add_matrix(matrix_1, matrix_2)"
   ]
  },
  {
   "cell_type": "code",
   "execution_count": 4,
   "id": "f234c07f",
   "metadata": {},
   "outputs": [
    {
     "name": "stdout",
     "output_type": "stream",
     "text": [
      "Input matrices are [[2, 1], [5, 4]] & [[2, 0], [7, 3]].\n"
     ]
    },
    {
     "data": {
      "text/plain": [
       "'Addition is [[4, 1], [12, 7]].'"
      ]
     },
     "execution_count": 4,
     "metadata": {},
     "output_type": "execute_result"
    }
   ],
   "source": [
    "matrix_1 = [[2,1],[5,4]]\n",
    "matrix_2 = [[2,0],[7,3]]\n",
    "\n",
    "add_matrix(matrix_1, matrix_2)"
   ]
  },
  {
   "cell_type": "markdown",
   "id": "659ef18e",
   "metadata": {},
   "source": [
    "### 2. Write a Python Program to Multiply Two Matrices?"
   ]
  },
  {
   "cell_type": "code",
   "execution_count": 5,
   "id": "8dd3ac07",
   "metadata": {},
   "outputs": [],
   "source": [
    "# ANS =\n",
    "\n",
    "def mult_matrix(matrix1, matrix2):\n",
    "    \"\"\"Python Program to Multiply Two Matrices.\"\"\"\n",
    "    try:\n",
    "        mat_mult = []\n",
    "        print(f\"The input matrices are {matrix1} & {matrix2}.\")\n",
    "        for i in range(len(matrix1)):\n",
    "            mat_mult.append([])\n",
    "            for j in range(len(matrix2)):\n",
    "                if len(matrix1[i]) == len(matrix2[j]):                \n",
    "                    mat_mult[i].append(0)\n",
    "                else:\n",
    "                    return \"Not ok\"\n",
    "            for k in range(len(mat_mult[i])):\n",
    "                for l in range(len(matrix1[i])):\n",
    "                    mat_mult[i][k] = mat_mult[i][k] + matrix1[i][l]*matrix2[k][l]\n",
    "        return f\"The multiplication is {mat_mult}\"\n",
    "    except Exception as error:\n",
    "        return error"
   ]
  },
  {
   "cell_type": "code",
   "execution_count": 6,
   "id": "05804309",
   "metadata": {},
   "outputs": [
    {
     "name": "stdout",
     "output_type": "stream",
     "text": [
      "The input matrices are [[3, 2, 1], [3, 2, 1], [3, 2, 1]] & [[1, 2, 3], [1, 2, 3], [1, 2, 3]].\n"
     ]
    },
    {
     "data": {
      "text/plain": [
       "'The multiplication is [[10, 10, 10], [10, 10, 10], [10, 10, 10]]'"
      ]
     },
     "execution_count": 6,
     "metadata": {},
     "output_type": "execute_result"
    }
   ],
   "source": [
    "a = [[3,2,1],[3,2,1],[3,2,1]]\n",
    "b = [[1,2,3],[1,2,3],[1,2,3]]\n",
    "\n",
    "mult_matrix(a, b)"
   ]
  },
  {
   "cell_type": "code",
   "execution_count": 7,
   "id": "0bba0067",
   "metadata": {},
   "outputs": [
    {
     "name": "stdout",
     "output_type": "stream",
     "text": [
      "The input matrices are [[1, 2, 3], [4, 5, 6]] & [[10, 20, 30], [11, 21, 31]].\n"
     ]
    },
    {
     "data": {
      "text/plain": [
       "'The multiplication is [[140, 146], [320, 335]]'"
      ]
     },
     "execution_count": 7,
     "metadata": {},
     "output_type": "execute_result"
    }
   ],
   "source": [
    "matrix_1 = [[1,2,3],[4,5,6]]\n",
    "matrix_2 = [[10,20,30],[11,21,31]]\n",
    "\n",
    "mult_matrix(matrix_1, matrix_2)"
   ]
  },
  {
   "cell_type": "code",
   "execution_count": 8,
   "id": "5a9e739b",
   "metadata": {},
   "outputs": [
    {
     "name": "stdout",
     "output_type": "stream",
     "text": [
      "The input matrices are [[1, 2], [3, 4]] & [[5, 8], [6, 9], [7, 10]].\n"
     ]
    },
    {
     "data": {
      "text/plain": [
       "'The multiplication is [[21, 24, 27], [47, 54, 61]]'"
      ]
     },
     "execution_count": 8,
     "metadata": {},
     "output_type": "execute_result"
    }
   ],
   "source": [
    "mult_matrix([[1,2],[3,4]],[[5,8],[6,9],[7,10]])"
   ]
  },
  {
   "cell_type": "markdown",
   "id": "ad9249bb",
   "metadata": {},
   "source": [
    "### 3. Write a Python Program to Transpose a Matrix?"
   ]
  },
  {
   "cell_type": "code",
   "execution_count": 9,
   "id": "5a0ed91e",
   "metadata": {},
   "outputs": [],
   "source": [
    "# ANS =\n",
    "\n",
    "def matr_trans(matrix):\n",
    "    trans_mat = []\n",
    "    for i in range(len(matrix[0])):\n",
    "        trans_mat.append([])\n",
    "        for j in range(len(matrix)):\n",
    "            trans_mat[i].append(0)\n",
    "    for k in range(len(matrix)):\n",
    "        for l in range(len(matrix[k])):\n",
    "            trans_mat[l][k] = matrix[k][l]\n",
    "    return f\"The transpose of {matrix} is {trans_mat}.\""
   ]
  },
  {
   "cell_type": "code",
   "execution_count": 10,
   "id": "397ce9f6",
   "metadata": {},
   "outputs": [
    {
     "data": {
      "text/plain": [
       "'The transpose of [[1, 2, 3], [4, 5, 6]] is [[1, 4], [2, 5], [3, 6]].'"
      ]
     },
     "execution_count": 10,
     "metadata": {},
     "output_type": "execute_result"
    }
   ],
   "source": [
    "matr_trans([[1,2,3],[4,5,6]])"
   ]
  },
  {
   "cell_type": "code",
   "execution_count": 11,
   "id": "c70a79d8",
   "metadata": {},
   "outputs": [
    {
     "name": "stdout",
     "output_type": "stream",
     "text": [
      "The transpose of [[1, 2], [3, 4], [5, 6]] is [[1, 3, 5], [2, 4, 6]]. \n",
      "\n",
      "The transpose of [[45, 78, 12, 55], [85, 87, 22, 36], [85, 97, 54, 11]] is [[45, 85, 85], [78, 87, 97], [12, 22, 54], [55, 36, 11]].\n"
     ]
    }
   ],
   "source": [
    "a = [[1,2],[3,4],[5,6]]\n",
    "b = [[45,78,12,55], [85,87,22,36],[85,97,54,11]]\n",
    "\n",
    "print(matr_trans(a),'\\n')\n",
    "print(matr_trans(b))"
   ]
  },
  {
   "cell_type": "markdown",
   "id": "0f3e217e",
   "metadata": {},
   "source": [
    "### 4. Write a Python Program to Sort Words in Alphabetic Order?"
   ]
  },
  {
   "cell_type": "code",
   "execution_count": 12,
   "id": "8f1141e8",
   "metadata": {},
   "outputs": [],
   "source": [
    "# ANS =\n",
    "\n",
    "def sort_alpha(*args):\n",
    "    \"\"\"Python Program to Sort Words in Alphabetic Order\n",
    "    Enter n numbers of words to sort\"\"\"\n",
    "    try:\n",
    "        args_ = list(args)\n",
    "        print(f\"The input words are {args_}.\")\n",
    "        args_.sort()\n",
    "        print(f\"The sorted words are {args_}.\")\n",
    "    except Exception as error:\n",
    "        return error"
   ]
  },
  {
   "cell_type": "code",
   "execution_count": 13,
   "id": "09b29804",
   "metadata": {},
   "outputs": [
    {
     "name": "stdout",
     "output_type": "stream",
     "text": [
      "The input words are ['kdp', 'name', 'abcd', 'ok'].\n",
      "The sorted words are ['abcd', 'kdp', 'name', 'ok'].\n"
     ]
    }
   ],
   "source": [
    "sort_alpha('kdp', 'name', 'abcd', 'ok')"
   ]
  },
  {
   "cell_type": "code",
   "execution_count": 14,
   "id": "34483dbd",
   "metadata": {},
   "outputs": [
    {
     "name": "stdout",
     "output_type": "stream",
     "text": [
      "The input words are ['ham', 'hen', 'harry', 'hero', 'haunted', 'hamster'].\n",
      "The sorted words are ['ham', 'hamster', 'harry', 'haunted', 'hen', 'hero'].\n"
     ]
    }
   ],
   "source": [
    "sort_alpha('ham', 'hen', 'harry', 'hero', 'haunted', 'hamster')"
   ]
  },
  {
   "cell_type": "markdown",
   "id": "0b745c52",
   "metadata": {},
   "source": [
    "### 5. Write a Python Program to Remove Punctuation From a String?"
   ]
  },
  {
   "cell_type": "code",
   "execution_count": 15,
   "id": "c96a02d9",
   "metadata": {},
   "outputs": [],
   "source": [
    "# ANS =\n",
    "\n",
    "def remove_punct(string):\n",
    "    '''Python Program to Remove Punctuation From a String'''\n",
    "    punctuations = '''!()-[]{};:'\"\\,<>./?@#$%^&*_~'''\n",
    "    otpt_string = \"\"\n",
    "    for i in string:\n",
    "        if i not in punctuations:\n",
    "            otpt_string += i\n",
    "    return otpt_string"
   ]
  },
  {
   "cell_type": "code",
   "execution_count": 16,
   "id": "6af69eb7",
   "metadata": {},
   "outputs": [
    {
     "data": {
      "text/plain": [
       "'Python Program to  remove Punctuations  String'"
      ]
     },
     "execution_count": 16,
     "metadata": {},
     "output_type": "execute_result"
    }
   ],
   "source": [
    "remove_punct(\"Python 'Program' to # remove 'Punctuations' @ 'String'\")"
   ]
  },
  {
   "cell_type": "code",
   "execution_count": 17,
   "id": "5ca942d4",
   "metadata": {},
   "outputs": [
    {
     "data": {
      "text/plain": [
       "'Punctuation question marks  and exclamation marks '"
      ]
     },
     "execution_count": 17,
     "metadata": {},
     "output_type": "execute_result"
    }
   ],
   "source": [
    "remove_punct(\"Punctuation: question marks (?) and exclamation marks (!)\")"
   ]
  }
 ],
 "metadata": {
  "kernelspec": {
   "display_name": "Python 3 (ipykernel)",
   "language": "python",
   "name": "python3"
  },
  "language_info": {
   "codemirror_mode": {
    "name": "ipython",
    "version": 3
   },
   "file_extension": ".py",
   "mimetype": "text/x-python",
   "name": "python",
   "nbconvert_exporter": "python",
   "pygments_lexer": "ipython3",
   "version": "3.9.12"
  }
 },
 "nbformat": 4,
 "nbformat_minor": 5
}
