{
 "cells": [
  {
   "cell_type": "markdown",
   "id": "bc26bdb1",
   "metadata": {},
   "source": [
    "# ASSIGNMENT NO 7 - SOLUTION"
   ]
  },
  {
   "cell_type": "markdown",
   "id": "58264231",
   "metadata": {},
   "source": [
    "### Q.1 What is the name of the feature responsible for generating Regex objects?"
   ]
  },
  {
   "cell_type": "markdown",
   "id": "d471024d",
   "metadata": {},
   "source": [
    "**ANS** = A RegEx is a powerful tool for matching text, based on a pre-defined pattern. It can detect the presence or absence of a text by matching it with a particular pattern, and also can split a pattern into one or more sub-patterns. The Python standard library provides a **`re`** module for regular expressions. Its primary function is to offer a search, where it takes a regular expression and a string. Here, it either returns the first match or else none."
   ]
  },
  {
   "cell_type": "code",
   "execution_count": 1,
   "id": "aa7723a7",
   "metadata": {},
   "outputs": [
    {
     "name": "stdout",
     "output_type": "stream",
     "text": [
      "<class 're.Pattern'>\n",
      "re.compile('some_random_pattern')\n"
     ]
    }
   ],
   "source": [
    "import re\n",
    "x = re.compile(\"some_random_pattern\")\n",
    "print(type(x))\n",
    "print(x)"
   ]
  },
  {
   "cell_type": "code",
   "execution_count": 2,
   "id": "a2c997a3",
   "metadata": {},
   "outputs": [
    {
     "name": "stdout",
     "output_type": "stream",
     "text": [
      "<re.Match object; span=(0, 3), match='kdp'>\n",
      "kdp\n",
      "Start Index: 0\n",
      "End Index: 3\n"
     ]
    }
   ],
   "source": [
    "match = re.search(r'kdp', 'kdp is not my full name.')\n",
    "print(match)\n",
    "print(match.group())\n",
    "print('Start Index:', match.start())\n",
    "print('End Index:', match.end())"
   ]
  },
  {
   "cell_type": "code",
   "execution_count": 3,
   "id": "11d7cb94",
   "metadata": {},
   "outputs": [
    {
     "data": {
      "text/plain": [
       "<re.Match object; span=(0, 3), match='kdp'>"
      ]
     },
     "execution_count": 3,
     "metadata": {},
     "output_type": "execute_result"
    }
   ],
   "source": [
    "re.match('kdp', 'kdp is not full name kdp')"
   ]
  },
  {
   "cell_type": "code",
   "execution_count": 4,
   "id": "087994f2",
   "metadata": {},
   "outputs": [
    {
     "name": "stdout",
     "output_type": "stream",
     "text": [
      "kd\n",
      "<re.Match object; span=(0, 2), match='kd'>\n",
      "<re.Match object; span=(21, 23), match='kd'>\n"
     ]
    }
   ],
   "source": [
    "ip = input()\n",
    "matching = re.finditer(ip, 'kdp is not full name kdp')\n",
    "for matched in matching:\n",
    "    print(matched)"
   ]
  },
  {
   "cell_type": "code",
   "execution_count": 5,
   "id": "e0d30cf4",
   "metadata": {},
   "outputs": [
    {
     "name": "stdout",
     "output_type": "stream",
     "text": [
      "<re.Match object; span=(9, 13), match='Khan'>\n",
      "<re.Match object; span=(81, 85), match='Khan'>\n",
      "<re.Match object; span=(972, 976), match='Khan'>\n"
     ]
    }
   ],
   "source": [
    "string = \"\"\"In 1994, Khan appeared in Rajkumar Santoshi's Andaz Apna Apna, co-starring Aamir Khan. At the time of its release, the film failed at the box office but has gained a cult status over the years.[47] Later in the year he collaborated with director Sooraj Barjatya in the romance Hum Aapke Hain Koun..! co-starring Madhuri Dixit. During the 1995 awards season, the film won 3 Filmfare Awards for Best Film, Best Director and Best Actress. It also won the National Award for being the most popular film of the year.[48] Earning more than ₹2 billion[49][50][51] ($63.8 million) worldwide, the film became the biggest Bollywood hit of the year and the highest-grossing Indian film up until then.[52] It is one of the films on Box Office India's list of \"Biggest Blockbusters Ever in Hindi Cinema\".[53] In 2006, it was still the fourth-highest grossing Bollywood film ever, according to Box Office India.[54] In 1995 he starred in Rakesh Roshan's Karan Arjun alongside Shah Rukh Khan. The two played brothers who are reincarnated after being killed by family enemies.\"\"\"\n",
    "pat = re.compile(r'Khan')\n",
    "matching = pat.finditer(string)\n",
    "for matched in matching:\n",
    "    print(matched)"
   ]
  },
  {
   "cell_type": "markdown",
   "id": "7b68a9e2",
   "metadata": {},
   "source": [
    "### Q.2 Why do raw strings often appear in Regex objects?"
   ]
  },
  {
   "cell_type": "markdown",
   "id": "56f53415",
   "metadata": {},
   "source": [
    "**ANS** = Regular expressions use the backslash character `('\\')` to indicate special forms `(Metacharacters)` or to allow special characters `(speical sequences)` to be used without invoking their special meaning. This collides with Python’s usage of the same character for the same purpose in string literals. Hence, Raw strings are used (e.g. r\"\\n\") so that backslashes do not have to be escaped."
   ]
  },
  {
   "cell_type": "markdown",
   "id": "297adc3c",
   "metadata": {},
   "source": [
    "### Q.3 What is the return value of the search() method?"
   ]
  },
  {
   "cell_type": "markdown",
   "id": "9918f921",
   "metadata": {},
   "source": [
    "**ANS** = `re.search()` function returns the first match for a pattern in a string. The search happens from left to right."
   ]
  },
  {
   "cell_type": "code",
   "execution_count": 6,
   "id": "faa24d69",
   "metadata": {},
   "outputs": [
    {
     "name": "stdout",
     "output_type": "stream",
     "text": [
      "<re.Match object; span=(3, 12), match='Tutorials'>\n",
      "Tutorials\n"
     ]
    }
   ],
   "source": [
    "result = re.search(r'Tutorials', 'TP Tutorials Point TP')\n",
    "print(result)\n",
    "print(result.group())"
   ]
  },
  {
   "cell_type": "code",
   "execution_count": 7,
   "id": "5e14abad",
   "metadata": {},
   "outputs": [
    {
     "name": "stdout",
     "output_type": "stream",
     "text": [
      "<re.Match object; span=(0, 1), match='I'>\n"
     ]
    }
   ],
   "source": [
    "match = re.search('i','Ineuron Full Stack Data Science Program', flags=re.IGNORECASE)\n",
    "print(match)"
   ]
  },
  {
   "cell_type": "markdown",
   "id": "6701c561",
   "metadata": {},
   "source": [
    "### Q.4 From a Match item, how do you get the actual strings that match the pattern?"
   ]
  },
  {
   "cell_type": "markdown",
   "id": "85a72c7b",
   "metadata": {},
   "source": [
    "**ANS** = For Matched items group() methods returns actual strings that match the pattern."
   ]
  },
  {
   "cell_type": "code",
   "execution_count": 8,
   "id": "4c3bd6e2",
   "metadata": {},
   "outputs": [
    {
     "name": "stdout",
     "output_type": "stream",
     "text": [
      "<re.Match object; span=(0, 7), match='Ineuron'>\n",
      "Ineuron\n"
     ]
    }
   ],
   "source": [
    "match = re.search('ineuron','Ineuron Full Stack Data Science Program', flags=re.IGNORECASE)\n",
    "print(match)\n",
    "print(match.group())"
   ]
  },
  {
   "cell_type": "markdown",
   "id": "ca2003e7",
   "metadata": {},
   "source": [
    "### Q.5 In the regex which created from the r'(\\d\\d\\d)-(\\d\\d\\d-\\d\\d\\d\\d)', what does group zero cover?\n",
    "   **Group 2? Group 1?**"
   ]
  },
  {
   "cell_type": "markdown",
   "id": "5ecc5e24",
   "metadata": {},
   "source": [
    "**ANS** = In the Regex `r'(\\d\\d\\d)-(\\d\\d\\d-\\d\\d\\d\\d)'` the zero group covers the entire pattern match where as the first group cover `(\\d\\d\\d)` and the second group cover `(\\d\\d\\d-\\d\\d\\d\\d)`."
   ]
  },
  {
   "cell_type": "code",
   "execution_count": 9,
   "id": "899bf10d",
   "metadata": {},
   "outputs": [
    {
     "name": "stdout",
     "output_type": "stream",
     "text": [
      "('415', '555-4242')\n",
      "415-555-4242\n",
      "415\n",
      "555-4242\n"
     ]
    }
   ],
   "source": [
    "import re\n",
    "phoneNumRegex = re.compile(r'(\\d\\d\\d)-(\\d\\d\\d-\\d\\d\\d\\d)')\n",
    "mo = phoneNumRegex.search('My number is 415-555-4242.')\n",
    "print(mo.groups()) # Prints all groups in a tuple format\n",
    "print(mo.group()) # Always returns the fully matched string \n",
    "print(mo.group(1)) # Returns the first group\n",
    "print(mo.group(2)) # Returns the second grou"
   ]
  },
  {
   "cell_type": "markdown",
   "id": "297bc431",
   "metadata": {},
   "source": [
    "### Q.6 In standard expression syntax, parentheses and intervals have distinct meanings. How can you tell a regex that you want it to fit real parentheses and periods?"
   ]
  },
  {
   "cell_type": "markdown",
   "id": "68297e74",
   "metadata": {},
   "source": [
    "**ANS** = Periods and parentheses can be escaped with a backslash: `\\.`, `\\(` and `\\)`. The `\\.`, `\\(` and `\\)` escape characters in the raw string passed to re.compile() will match actual parenthesis characters.|"
   ]
  },
  {
   "cell_type": "code",
   "execution_count": 10,
   "id": "30d7d813",
   "metadata": {},
   "outputs": [
    {
     "name": "stdout",
     "output_type": "stream",
     "text": [
      "(415) 555-4242\n"
     ]
    }
   ],
   "source": [
    "pat = r'(\\(\\d\\d\\d\\)) (\\d\\d\\d-\\d\\d\\d\\d)'\n",
    "phoneNumRegex = re.compile(pat)\n",
    "mo = phoneNumRegex.search('My phone number is (415) 555-4242.')\n",
    "print(mo.group())"
   ]
  },
  {
   "cell_type": "markdown",
   "id": "4d409410",
   "metadata": {},
   "source": [
    "### Q.7 The findall() method returns a string list or a list of string tuples. What causes it to return one of the two options?"
   ]
  },
  {
   "cell_type": "markdown",
   "id": "4d78e11c",
   "metadata": {},
   "source": [
    "**ANS** = If the regex has no groups, a list of strings is returned. If the regex has groups, a list of tuples of strings is returned."
   ]
  },
  {
   "cell_type": "code",
   "execution_count": 11,
   "id": "e4987946",
   "metadata": {},
   "outputs": [
    {
     "name": "stdout",
     "output_type": "stream",
     "text": [
      "[('(415)', '555-4242')]\n",
      "['415-555-4242']\n"
     ]
    }
   ],
   "source": [
    "import re\n",
    "phoneNumRegex = re.compile(r'(\\(\\d\\d\\d\\)) (\\d\\d\\d-\\d\\d\\d\\d)')\n",
    "mo = phoneNumRegex.findall('My phone number is (415) 555-4242.')\n",
    "print(mo)\n",
    "\n",
    "import re\n",
    "phoneNumRegex = re.compile(r'\\d{3}-\\d{3}-\\d{4}')\n",
    "mo = phoneNumRegex.findall('My number is 415-555-4242.')\n",
    "print(mo) # Prints all groups in a tuple format"
   ]
  },
  {
   "cell_type": "markdown",
   "id": "eb4b3f17",
   "metadata": {},
   "source": [
    "### Q.8 In standard expressions, what does the | character mean?"
   ]
  },
  {
   "cell_type": "markdown",
   "id": "b9645e36",
   "metadata": {},
   "source": [
    "**ANS** = In Standard Expressions `|` means `OR` operator."
   ]
  },
  {
   "cell_type": "markdown",
   "id": "00af4d20",
   "metadata": {},
   "source": [
    "### Q.9 In regular expressions, what does the `?` character stand for?"
   ]
  },
  {
   "cell_type": "markdown",
   "id": "983fff1a",
   "metadata": {},
   "source": [
    "**ANS** = In regular Expressions, `?` characters represents zero or one match of the preceeding group."
   ]
  },
  {
   "cell_type": "code",
   "execution_count": 12,
   "id": "9e259522",
   "metadata": {},
   "outputs": [
    {
     "name": "stdout",
     "output_type": "stream",
     "text": [
      "<re.Match object; span=(0, 6), match='Batman'>\n",
      "<re.Match object; span=(0, 8), match='Batwoman'>\n"
     ]
    }
   ],
   "source": [
    "match_1 = re.search(\"Bat(wo)?man\",\"Batman returns\")\n",
    "print(match_1)\n",
    "match_2 = re.search(\"Bat(wo)?man\",\"Batwoman returns\")\n",
    "print(match_2)"
   ]
  },
  {
   "cell_type": "markdown",
   "id": "96251000",
   "metadata": {},
   "source": [
    "### Q.10 In regular expressions, what is the difference between the + and * characters?"
   ]
  },
  {
   "cell_type": "markdown",
   "id": "1a6a8dae",
   "metadata": {},
   "source": [
    "**ANS** = In Regular Expressions, `*` Represents Zero ore more occurances of the preceeding group, whereas `+` represents one or more occurances of the preceeding group."
   ]
  },
  {
   "cell_type": "code",
   "execution_count": 13,
   "id": "71c36152",
   "metadata": {},
   "outputs": [
    {
     "name": "stdout",
     "output_type": "stream",
     "text": [
      "None\n",
      "<re.Match object; span=(0, 8), match='Batwoman'>\n"
     ]
    }
   ],
   "source": [
    "match_1 = re.search(\"Bat(wo)+man\",\"Batman returns\")\n",
    "print(match_1)\n",
    "match_2 = re.search(\"Bat(wo)*man\",\"Batwoman returns\")\n",
    "print(match_2)"
   ]
  },
  {
   "cell_type": "markdown",
   "id": "e8ffdb2f",
   "metadata": {},
   "source": [
    "### Q.11 What is the difference between {4} and {4,5} in regular expression?"
   ]
  },
  {
   "cell_type": "markdown",
   "id": "64ccb394",
   "metadata": {},
   "source": [
    "**ANS** = `{4}` means that its preceeding group should `repeat 4 times` where as `{4,5}` means that its preceeding group should repeat `mininum 4 times` and `maximum 5 times` inclusively."
   ]
  },
  {
   "cell_type": "code",
   "execution_count": 14,
   "id": "bbe70941",
   "metadata": {},
   "outputs": [
    {
     "name": "stdout",
     "output_type": "stream",
     "text": [
      "HaHaHa\n",
      "None\n"
     ]
    }
   ],
   "source": [
    "haRegex = re.compile(r'(Ha){3}')\n",
    "mo1 = haRegex.search('HaHaHa')\n",
    "mo2 = haRegex.search('Ha')\n",
    "print(mo1.group())\n",
    "print(mo2)"
   ]
  },
  {
   "cell_type": "markdown",
   "id": "7ef7fb59",
   "metadata": {},
   "source": [
    "### Q.12 What do you mean by the \\d, \\w, and \\s shorthand character classes signify in regular expressions?"
   ]
  },
  {
   "cell_type": "markdown",
   "id": "85b87b04",
   "metadata": {},
   "source": [
    "**ANS** = The \\d, \\w, and \\s shorthand character classes match a single digit, word, or space character, respectively.\n",
    "\n",
    "   1. `\\w` – Matches a word character equivalent to [a-zA-Z0-9_]\n",
    "   2. `\\d` – Matches digit character equivalent to [0-9]\n",
    "   3. `\\s` – Matches whitespace character (space, tab, newline, etc.)"
   ]
  },
  {
   "cell_type": "markdown",
   "id": "fef3c3e1",
   "metadata": {},
   "source": [
    "### Q.13 What do means by \\D, \\W, and \\S shorthand character classes signify in regular expressions?"
   ]
  },
  {
   "cell_type": "markdown",
   "id": "01c5841a",
   "metadata": {},
   "source": [
    "**ANS** =\n",
    "\n",
    "   1. `\\W` – Matches any non-alphanumeric character equivalent to [^a-zA-Z0-9_]\n",
    "   2. `\\D` – Matches any non-digit character, this is equivalent to the set class [^0-9]\n",
    "   3. `\\S` – Matches any non-whitespace character"
   ]
  },
  {
   "cell_type": "markdown",
   "id": "1f3db0f0",
   "metadata": {},
   "source": [
    "### Q.14 What is the difference between `.*?` and `.*` ?"
   ]
  },
  {
   "cell_type": "markdown",
   "id": "9a89bb34",
   "metadata": {},
   "source": [
    "**ANS** = `.*` is a Greedy mode, which returns the longest string that meets the condition. Whereas `.*?` is a non greedy mode which returns the shortest string that meets the condition."
   ]
  },
  {
   "cell_type": "markdown",
   "id": "9bdcc8a7",
   "metadata": {},
   "source": [
    "### Q.15 What is the syntax for matching both numbers and lowercase letters with a character class?"
   ]
  },
  {
   "cell_type": "markdown",
   "id": "bf80d3c4",
   "metadata": {},
   "source": [
    "**ANS** = The Synatax is Either `[a-z0-9]` or `[0-9a-z]`."
   ]
  },
  {
   "cell_type": "markdown",
   "id": "209b2028",
   "metadata": {},
   "source": [
    "### Q.16 What is the procedure for making a normal expression in regax case insensitive?"
   ]
  },
  {
   "cell_type": "markdown",
   "id": "0231b09a",
   "metadata": {},
   "source": [
    "**ANS** = We can pass `re.IGNORECASE` as a flag to make a noraml expression case insensitive."
   ]
  },
  {
   "cell_type": "markdown",
   "id": "0e97b9f1",
   "metadata": {},
   "source": [
    "### Q.17 What does the `.` character normally match? What does it match if re.DOTALL is passed as 2nd argument in re.compile()?"
   ]
  },
  {
   "cell_type": "markdown",
   "id": "8a09d0b6",
   "metadata": {},
   "source": [
    "**ANS** = Dot `.` character matches everything in input except newline character. By passing `re.DOTALL` as a flag to `re.compile()`, you can make the dot character match all characters, including the newline character."
   ]
  },
  {
   "cell_type": "markdown",
   "id": "4fa4b2c7",
   "metadata": {},
   "source": [
    "### Q.18 If numReg = re.compile(r'\\d+'), what will numRegex.sub('X', '11 drummers, 10 pipers, five rings, 4 hen') return?"
   ]
  },
  {
   "cell_type": "markdown",
   "id": "3d761452",
   "metadata": {},
   "source": [
    "**ANS** = The Ouput will be `'X drummers, X pipers, five rings, X hen'`."
   ]
  },
  {
   "cell_type": "code",
   "execution_count": 15,
   "id": "1195026b",
   "metadata": {},
   "outputs": [
    {
     "data": {
      "text/plain": [
       "'X drummers, X pipers, five rings, X hen'"
      ]
     },
     "execution_count": 15,
     "metadata": {},
     "output_type": "execute_result"
    }
   ],
   "source": [
    "import re\n",
    "numReg = re.compile(r'\\d+')\n",
    "numReg.sub('X', '11 drummers, 10 pipers, five rings, 4 hen')"
   ]
  },
  {
   "cell_type": "markdown",
   "id": "6281af62",
   "metadata": {},
   "source": [
    "### Q.19 What does passing re.VERBOSE as the 2nd argument to re.compile() allow to do?"
   ]
  },
  {
   "cell_type": "markdown",
   "id": "80a2227f",
   "metadata": {},
   "source": [
    "**ANS** = `re.VERBOSE` will allow to add whitespace and comments to string passed to `re.compile()`."
   ]
  },
  {
   "cell_type": "code",
   "execution_count": 16,
   "id": "301da6d5",
   "metadata": {},
   "outputs": [],
   "source": [
    "# Without Using VERBOSE\n",
    "regex_email = re.compile(r'^([a-z0-9_\\.-]+)@([0-9a-z\\.-]+)\\.([a-z\\.]{2, 6})$', re.IGNORECASE)"
   ]
  },
  {
   "cell_type": "code",
   "execution_count": 17,
   "id": "c9a1456e",
   "metadata": {},
   "outputs": [
    {
     "data": {
      "text/plain": [
       "re.compile(r'^([a-z0-9_\\.-]+)@([0-9a-z\\.-]+)\\.([a-z\\.]{2, 6})$',\n",
       "re.IGNORECASE|re.UNICODE)"
      ]
     },
     "execution_count": 17,
     "metadata": {},
     "output_type": "execute_result"
    }
   ],
   "source": [
    "regex_email"
   ]
  },
  {
   "cell_type": "code",
   "execution_count": 18,
   "id": "baeaeba3",
   "metadata": {},
   "outputs": [],
   "source": [
    "# Using VERBOSE\n",
    "regex_email = re.compile(r\"\"\"\n",
    "                            ^([a-z0-9_\\.-]+)              # local Part like username\n",
    "                            @                             # single @ sign \n",
    "                            ([0-9a-z\\.-]+)                # Domain name like google\n",
    "                            \\.                            # single Dot .\n",
    "                            ([a-z]{2,6})$                 # Top level Domain  like com/in/org\n",
    "                         \"\"\",re.VERBOSE | re.IGNORECASE)   "
   ]
  },
  {
   "cell_type": "code",
   "execution_count": 19,
   "id": "b05064b5",
   "metadata": {},
   "outputs": [
    {
     "data": {
      "text/plain": [
       "re.compile(r'\\n                            ^([a-z0-9_\\.-]+)              # local Part like username\\n                            @                             # single @ sign \\n                            ([0-9a-z\\.-]+)                # Domain name like google\\n                            \\.                            # single Dot .\\n                            ([a-z]{2,6})$                 # Top level Domain  like com/in/org\\n                         ',\n",
       "re.IGNORECASE|re.UNICODE|re.VERBOSE)"
      ]
     },
     "execution_count": 19,
     "metadata": {},
     "output_type": "execute_result"
    }
   ],
   "source": [
    "regex_email"
   ]
  },
  {
   "cell_type": "markdown",
   "id": "5bd7f835",
   "metadata": {},
   "source": [
    "### Q.20 How would you write a regex that match a number with comma for every three digits? It must match the given following:\n",
    "    '42'\n",
    "    '1,234'\n",
    "    '6,368,745'\n",
    "    but not the following:\n",
    "    '12,34,567' (which has only two digits between the commas)\n",
    "    '1234' (which lacks commas)"
   ]
  },
  {
   "cell_type": "code",
   "execution_count": 20,
   "id": "de77a0b0",
   "metadata": {},
   "outputs": [
    {
     "name": "stdout",
     "output_type": "stream",
     "text": [
      "Output: 42 -> <re.Match object; span=(0, 2), match='42'>\n",
      "Output: 1,234 -> <re.Match object; span=(0, 5), match='1,234'>\n",
      "Output: 6,368,745 -> <re.Match object; span=(0, 9), match='6,368,745'>\n",
      "Output: 12,34,567 -> None\n",
      "Output: 1234 -> None\n"
     ]
    }
   ],
   "source": [
    "import re\n",
    "pattern = r'^\\d{1,3}(,\\d{3})*$'\n",
    "pagex = re.compile(pattern)\n",
    "for ele in ['42','1,234', '6,368,745','12,34,567','1234']:\n",
    "    print('Output:',ele, '->', pagex.search(ele))"
   ]
  },
  {
   "cell_type": "markdown",
   "id": "36596c1a",
   "metadata": {},
   "source": [
    "### Q.21 How would you write a regex that matches the full name of someone whose last name is Watanabe? You can assume that the first name that comes before it will always be one word that begins with a capital letter. The regex must match the following:\n",
    "    'Haruto Watanabe'\n",
    "    'Alice Watanabe'\n",
    "    'RoboCop Watanabe'\n",
    "**but not the following:**\n",
    "```\n",
    "'haruto Watanabe' (where the first name is not capitalized)\n",
    "'Mr. Watanabe' (where the preceding word has a nonletter character)\n",
    "'Watanabe' (which has no first name)\n",
    "'Haruto watanabe' (where Watanabe is not capitalized)\n",
    "```"
   ]
  },
  {
   "cell_type": "code",
   "execution_count": 21,
   "id": "7e94c098",
   "metadata": {},
   "outputs": [
    {
     "name": "stdout",
     "output_type": "stream",
     "text": [
      "Output:  Haruto Watanabe -> <re.Match object; span=(0, 15), match='Haruto Watanabe'>\n",
      "Output:  Alice Watanabe -> <re.Match object; span=(0, 14), match='Alice Watanabe'>\n",
      "Output:  RoboCop Watanabe -> <re.Match object; span=(4, 16), match='Cop Watanabe'>\n",
      "Output:  haruto Watanabe -> None\n",
      "Output:  Mr. Watanabe -> None\n",
      "Output:  Watanabe -> None\n",
      "Output:  Haruto watanabe -> None\n"
     ]
    }
   ],
   "source": [
    "import re\n",
    "pattern = r'[A-Z]{1}[a-z]*\\sWatanabe'\n",
    "namex = re.compile(pattern)\n",
    "for name in ['Haruto Watanabe','Alice Watanabe','RoboCop Watanabe','haruto Watanabe','Mr. Watanabe','Watanabe','Haruto watanabe']:\n",
    "    print('Output: ',name,'->',namex.search(name))"
   ]
  },
  {
   "cell_type": "markdown",
   "id": "11997774",
   "metadata": {},
   "source": [
    "### Q.22 How would you write a regex that matches a sentence where the first word is either Alice, Bob, or Carol; the second word is either eats, pets, or throws; the third word is apples, cats, or baseballs; and the sentence ends with a period? This regex should be case-insensitive. It must match the following:\n",
    "    'Alice eats apples.'\n",
    "    'Bob pets cats.'\n",
    "    'Carol throws baseballs.'\n",
    "    'Alice throws Apples.'\n",
    "    'BOB EATS CATS.'\n",
    "**but not the following:**\n",
    "```\n",
    "'RoboCop eats apples.'\n",
    "'ALICE THROWS FOOTBALLS.'\n",
    "'Carol eats 7 cats.'\n",
    "```"
   ]
  },
  {
   "cell_type": "code",
   "execution_count": 22,
   "id": "c27886fb",
   "metadata": {},
   "outputs": [
    {
     "name": "stdout",
     "output_type": "stream",
     "text": [
      "Output:  Alice eats apples. -> <re.Match object; span=(0, 18), match='Alice eats apples.'>\n",
      "Output:  Bob pets cats. -> <re.Match object; span=(0, 14), match='Bob pets cats.'>\n",
      "Output:  Carol throws baseballs. -> <re.Match object; span=(0, 23), match='Carol throws baseballs.'>\n",
      "Output:  Alice throws Apples. -> <re.Match object; span=(0, 20), match='Alice throws Apples.'>\n",
      "Output:  BOB EATS CATS. -> <re.Match object; span=(0, 14), match='BOB EATS CATS.'>\n",
      "Output:  RoboCop eats apples. -> None\n",
      "Output:  ALICE THROWS FOOTBALLS. -> None\n",
      "Output:  Carol eats 7 cats. -> None\n"
     ]
    }
   ],
   "source": [
    "import re\n",
    "pattern = r'(Alice|Bob|Carol)\\s(eats|pets|throws)\\s(apples|cats|baseballs)\\.'\n",
    "casex = re.compile(pattern,re.IGNORECASE)\n",
    "for ele in ['Alice eats apples.','Bob pets cats.','Carol throws baseballs.','Alice throws Apples.','BOB EATS CATS.','RoboCop eats apples.'\n",
    ",'ALICE THROWS FOOTBALLS.','Carol eats 7 cats.']:\n",
    "    print('Output: ',ele,'->',casex.search(ele))"
   ]
  }
 ],
 "metadata": {
  "kernelspec": {
   "display_name": "Python 3 (ipykernel)",
   "language": "python",
   "name": "python3"
  },
  "language_info": {
   "codemirror_mode": {
    "name": "ipython",
    "version": 3
   },
   "file_extension": ".py",
   "mimetype": "text/x-python",
   "name": "python",
   "nbconvert_exporter": "python",
   "pygments_lexer": "ipython3",
   "version": "3.9.13"
  }
 },
 "nbformat": 4,
 "nbformat_minor": 5
}
