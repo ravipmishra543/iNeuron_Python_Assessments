{
 "cells": [
  {
   "cell_type": "markdown",
   "id": "4de13542",
   "metadata": {},
   "source": [
    "# ASSIGNMENT NO 11 - SOLUTION"
   ]
  },
  {
   "cell_type": "markdown",
   "id": "8289f05e",
   "metadata": {},
   "source": [
    "### Q.1 Create an assert statement that throws an AssertionError if the variable spam is a negative integer."
   ]
  },
  {
   "cell_type": "markdown",
   "id": "1fb7c2f1",
   "metadata": {},
   "source": [
    "**ANS** ="
   ]
  },
  {
   "cell_type": "code",
   "execution_count": 1,
   "id": "d54168b5",
   "metadata": {
    "scrolled": true
   },
   "outputs": [
    {
     "ename": "AssertionError",
     "evalue": "Variable Spam should not be a -ve number",
     "output_type": "error",
     "traceback": [
      "\u001b[1;31m---------------------------------------------------------------------------\u001b[0m",
      "\u001b[1;31mAssertionError\u001b[0m                            Traceback (most recent call last)",
      "Cell \u001b[1;32mIn[1], line 2\u001b[0m\n\u001b[0;32m      1\u001b[0m spam \u001b[38;5;241m=\u001b[39m \u001b[38;5;241m-\u001b[39m\u001b[38;5;241m22\u001b[39m\n\u001b[1;32m----> 2\u001b[0m \u001b[38;5;28;01massert\u001b[39;00m spam \u001b[38;5;241m>\u001b[39m\u001b[38;5;241m=\u001b[39m\u001b[38;5;241m0\u001b[39m, \u001b[38;5;124m'\u001b[39m\u001b[38;5;124mVariable Spam should not be a -ve number\u001b[39m\u001b[38;5;124m'\u001b[39m\n",
      "\u001b[1;31mAssertionError\u001b[0m: Variable Spam should not be a -ve number"
     ]
    }
   ],
   "source": [
    "spam = -22\n",
    "assert spam >=0, 'Variable Spam should not be a -ve number'"
   ]
  },
  {
   "cell_type": "markdown",
   "id": "54c7d2e9",
   "metadata": {},
   "source": [
    "### Q.2 Write an assert statement that triggers an AssertionError if the variables eggs and bacon contain strings that are the same as each other, even if their cases are different (that is, 'hello' and 'hello' are considered the same, and 'goodbye' and 'GOODbye' are also considered the same)."
   ]
  },
  {
   "cell_type": "markdown",
   "id": "344509ac",
   "metadata": {},
   "source": [
    "**ANS** ="
   ]
  },
  {
   "cell_type": "code",
   "execution_count": 2,
   "id": "69555a9a",
   "metadata": {},
   "outputs": [],
   "source": [
    "def raise_assert(egg,bacon):\n",
    "    egg = egg.upper()\n",
    "    bacon = bacon.upper()\n",
    "    assert not(egg == bacon), 'Eggs/Bacon should not be same, which are same now'"
   ]
  },
  {
   "cell_type": "code",
   "execution_count": 3,
   "id": "c73278ac",
   "metadata": {},
   "outputs": [
    {
     "ename": "AssertionError",
     "evalue": "Eggs/Bacon should not be same, which are same now",
     "output_type": "error",
     "traceback": [
      "\u001b[1;31m---------------------------------------------------------------------------\u001b[0m",
      "\u001b[1;31mAssertionError\u001b[0m                            Traceback (most recent call last)",
      "Cell \u001b[1;32mIn[3], line 1\u001b[0m\n\u001b[1;32m----> 1\u001b[0m \u001b[43mraise_assert\u001b[49m\u001b[43m(\u001b[49m\u001b[38;5;124;43m\"\u001b[39;49m\u001b[38;5;124;43mhello\u001b[39;49m\u001b[38;5;124;43m\"\u001b[39;49m\u001b[43m,\u001b[49m\u001b[38;5;124;43m'\u001b[39;49m\u001b[38;5;124;43mhello\u001b[39;49m\u001b[38;5;124;43m'\u001b[39;49m\u001b[43m)\u001b[49m\n",
      "Cell \u001b[1;32mIn[2], line 4\u001b[0m, in \u001b[0;36mraise_assert\u001b[1;34m(egg, bacon)\u001b[0m\n\u001b[0;32m      2\u001b[0m egg \u001b[38;5;241m=\u001b[39m egg\u001b[38;5;241m.\u001b[39mupper()\n\u001b[0;32m      3\u001b[0m bacon \u001b[38;5;241m=\u001b[39m bacon\u001b[38;5;241m.\u001b[39mupper()\n\u001b[1;32m----> 4\u001b[0m \u001b[38;5;28;01massert\u001b[39;00m \u001b[38;5;129;01mnot\u001b[39;00m(egg \u001b[38;5;241m==\u001b[39m bacon), \u001b[38;5;124m'\u001b[39m\u001b[38;5;124mEggs/Bacon should not be same, which are same now\u001b[39m\u001b[38;5;124m'\u001b[39m\n",
      "\u001b[1;31mAssertionError\u001b[0m: Eggs/Bacon should not be same, which are same now"
     ]
    }
   ],
   "source": [
    "raise_assert(\"hello\",'hello')"
   ]
  },
  {
   "cell_type": "code",
   "execution_count": 4,
   "id": "530b0762",
   "metadata": {},
   "outputs": [
    {
     "ename": "AssertionError",
     "evalue": "Eggs/Bacon should not be same, which are same now",
     "output_type": "error",
     "traceback": [
      "\u001b[1;31m---------------------------------------------------------------------------\u001b[0m",
      "\u001b[1;31mAssertionError\u001b[0m                            Traceback (most recent call last)",
      "Cell \u001b[1;32mIn[4], line 1\u001b[0m\n\u001b[1;32m----> 1\u001b[0m \u001b[43mraise_assert\u001b[49m\u001b[43m(\u001b[49m\u001b[38;5;124;43m'\u001b[39;49m\u001b[38;5;124;43mgoodbye\u001b[39;49m\u001b[38;5;124;43m'\u001b[39;49m\u001b[43m,\u001b[49m\u001b[38;5;124;43m'\u001b[39;49m\u001b[38;5;124;43mGOODbye\u001b[39;49m\u001b[38;5;124;43m'\u001b[39;49m\u001b[43m)\u001b[49m\n",
      "Cell \u001b[1;32mIn[2], line 4\u001b[0m, in \u001b[0;36mraise_assert\u001b[1;34m(egg, bacon)\u001b[0m\n\u001b[0;32m      2\u001b[0m egg \u001b[38;5;241m=\u001b[39m egg\u001b[38;5;241m.\u001b[39mupper()\n\u001b[0;32m      3\u001b[0m bacon \u001b[38;5;241m=\u001b[39m bacon\u001b[38;5;241m.\u001b[39mupper()\n\u001b[1;32m----> 4\u001b[0m \u001b[38;5;28;01massert\u001b[39;00m \u001b[38;5;129;01mnot\u001b[39;00m(egg \u001b[38;5;241m==\u001b[39m bacon), \u001b[38;5;124m'\u001b[39m\u001b[38;5;124mEggs/Bacon should not be same, which are same now\u001b[39m\u001b[38;5;124m'\u001b[39m\n",
      "\u001b[1;31mAssertionError\u001b[0m: Eggs/Bacon should not be same, which are same now"
     ]
    }
   ],
   "source": [
    "raise_assert('goodbye','GOODbye')"
   ]
  },
  {
   "cell_type": "markdown",
   "id": "e2ea53a4",
   "metadata": {},
   "source": [
    "### Q.3 Create an assert statement that throws an AssertionError every time."
   ]
  },
  {
   "cell_type": "markdown",
   "id": "983a1444",
   "metadata": {},
   "source": [
    "**ANS** ="
   ]
  },
  {
   "cell_type": "code",
   "execution_count": 5,
   "id": "16054df1",
   "metadata": {},
   "outputs": [
    {
     "ename": "AssertionError",
     "evalue": "Always Shows Assertion Error",
     "output_type": "error",
     "traceback": [
      "\u001b[1;31m---------------------------------------------------------------------------\u001b[0m",
      "\u001b[1;31mAssertionError\u001b[0m                            Traceback (most recent call last)",
      "Cell \u001b[1;32mIn[5], line 3\u001b[0m\n\u001b[0;32m      1\u001b[0m \u001b[38;5;28;01mdef\u001b[39;00m \u001b[38;5;21massert_always\u001b[39m():\n\u001b[0;32m      2\u001b[0m     \u001b[38;5;28;01massert\u001b[39;00m \u001b[38;5;28;01mFalse\u001b[39;00m, \u001b[38;5;124m'\u001b[39m\u001b[38;5;124mAlways Shows Assertion Error\u001b[39m\u001b[38;5;124m'\u001b[39m\n\u001b[1;32m----> 3\u001b[0m \u001b[43massert_always\u001b[49m\u001b[43m(\u001b[49m\u001b[43m)\u001b[49m\n",
      "Cell \u001b[1;32mIn[5], line 2\u001b[0m, in \u001b[0;36massert_always\u001b[1;34m()\u001b[0m\n\u001b[0;32m      1\u001b[0m \u001b[38;5;28;01mdef\u001b[39;00m \u001b[38;5;21massert_always\u001b[39m():\n\u001b[1;32m----> 2\u001b[0m     \u001b[38;5;28;01massert\u001b[39;00m \u001b[38;5;28;01mFalse\u001b[39;00m, \u001b[38;5;124m'\u001b[39m\u001b[38;5;124mAlways Shows Assertion Error\u001b[39m\u001b[38;5;124m'\u001b[39m\n",
      "\u001b[1;31mAssertionError\u001b[0m: Always Shows Assertion Error"
     ]
    }
   ],
   "source": [
    "def assert_always():\n",
    "    assert False, 'Always Shows Assertion Error'\n",
    "assert_always()"
   ]
  },
  {
   "cell_type": "markdown",
   "id": "a700a8b8",
   "metadata": {},
   "source": [
    "### Q.4 What are the two lines that must be present in your software in order to call logging.debug()?"
   ]
  },
  {
   "cell_type": "markdown",
   "id": "d9b78117",
   "metadata": {},
   "source": [
    "**ANS** ="
   ]
  },
  {
   "cell_type": "code",
   "execution_count": 6,
   "id": "746bd767",
   "metadata": {},
   "outputs": [],
   "source": [
    "import logging\n",
    "logging.basicConfig(filename = 'application_log.txt',level=logging.DEBUG, format=' %(asctime)s - %(levelname)s - %(message)s')"
   ]
  },
  {
   "cell_type": "markdown",
   "id": "1c800082",
   "metadata": {},
   "source": [
    "### Q.5 What are the two lines that your program must have in order to have logging.debug() send a logging message to a file named programLog.txt?"
   ]
  },
  {
   "cell_type": "markdown",
   "id": "2af39c59",
   "metadata": {},
   "source": [
    "**ANS** ="
   ]
  },
  {
   "cell_type": "code",
   "execution_count": 7,
   "id": "df15b024",
   "metadata": {},
   "outputs": [],
   "source": [
    "import logging\n",
    "logging.basicConfig(filename = 'application_log.txt',level=logging.DEBUG, format=' %(asctime)s - %(levelname)s - %(message)s')\n",
    "logging.debug(\"Data Inserted Successfully\")\n",
    "logging.debug('Connection Closed Successfully')"
   ]
  },
  {
   "cell_type": "markdown",
   "id": "f1aac870",
   "metadata": {},
   "source": [
    "### Q.6 What are the five levels of logging?"
   ]
  },
  {
   "cell_type": "markdown",
   "id": "947e7d85",
   "metadata": {},
   "source": [
    "**ANS** = The Five levels of Logging provided by python's logging module are **CRITICAL (50)**, **ERROR (40)**, **WARNING (30)**, **INFO (20)**, **DEBUG(10)**, **NOTSET (0)**."
   ]
  },
  {
   "cell_type": "markdown",
   "id": "0a8b3af9",
   "metadata": {},
   "source": [
    "### Q.7 What line of code would you add to your software to disable all logging messages?"
   ]
  },
  {
   "cell_type": "markdown",
   "id": "aa4b9288",
   "metadata": {},
   "source": [
    "**ANS** = logging.disable = **True**"
   ]
  },
  {
   "cell_type": "markdown",
   "id": "f86477b8",
   "metadata": {},
   "source": [
    "### Q.8 Why is using logging messages better than using print() to display the same message?"
   ]
  },
  {
   "cell_type": "markdown",
   "id": "2724ffb9",
   "metadata": {},
   "source": [
    "**ANS** = Post devlopment of your code, you can disable logging messages without removing the logging function, whereas you need to manually remove print() statements, which is tedious activity. and also print is used when you want to display any particular message or help whereas logging is used to record all events like error, info, debug messages, timestamps."
   ]
  },
  {
   "cell_type": "markdown",
   "id": "59361c37",
   "metadata": {},
   "source": [
    "### Q.9 What are the differences between the Step Over, Step In, and Step Out buttons in the debugger?"
   ]
  },
  {
   "cell_type": "markdown",
   "id": "91749f45",
   "metadata": {},
   "source": [
    "**ANS** =  The Differences between Step Over, Step In, Step Out buttons in debugger are:\n",
    "\n",
    "**Step in** - Step In button will cause the debugger to execute the next line of code and then pause again.\n",
    "\n",
    "**Step Over** - Step Over button will execute the next line of code, similar to the Step In button. However, if the next line of code is a function call, the Step Over button will “step over” the code in the function. The function’s code will be executed at full speed, and the debugger will pause as soon as the function call returns.\n",
    "\n",
    "**Step out** - Step Out button will cause the debugger to execute lines of code at full speed until it returns from the current function."
   ]
  },
  {
   "cell_type": "markdown",
   "id": "3b1169b0",
   "metadata": {},
   "source": [
    "### Q.10 After you click Continue, when will the debugger stop ?"
   ]
  },
  {
   "cell_type": "markdown",
   "id": "23a767b7",
   "metadata": {},
   "source": [
    "**ANS** = This will cause the program to continue running normally, without pausing for debugging untill it terminates or reaches a breakpoint."
   ]
  },
  {
   "cell_type": "markdown",
   "id": "13d38044",
   "metadata": {},
   "source": [
    "### Q.11 What is the concept of a breakpoint?"
   ]
  },
  {
   "cell_type": "markdown",
   "id": "df9404cd",
   "metadata": {},
   "source": [
    "**ANS** = Breakpoint is a setting on a line of code that causes the debugger to pause when the program execution reaches the line"
   ]
  }
 ],
 "metadata": {
  "kernelspec": {
   "display_name": "Python 3 (ipykernel)",
   "language": "python",
   "name": "python3"
  },
  "language_info": {
   "codemirror_mode": {
    "name": "ipython",
    "version": 3
   },
   "file_extension": ".py",
   "mimetype": "text/x-python",
   "name": "python",
   "nbconvert_exporter": "python",
   "pygments_lexer": "ipython3",
   "version": "3.10.9"
  }
 },
 "nbformat": 4,
 "nbformat_minor": 5
}
