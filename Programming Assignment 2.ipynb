{
 "cells": [
  {
   "cell_type": "markdown",
   "id": "05aef439",
   "metadata": {},
   "source": [
    "# PROGRAMMING ASSIGNMENT NO 2 - SOLUTION"
   ]
  },
  {
   "cell_type": "markdown",
   "id": "8b923b21",
   "metadata": {},
   "source": [
    "Q.1 Write a Python program to convert kilometers to miles?"
   ]
  },
  {
   "cell_type": "code",
   "execution_count": 1,
   "id": "8c1832d0",
   "metadata": {},
   "outputs": [],
   "source": [
    "# ANS\n",
    "\n",
    "def km_to_mil(a):\n",
    "    try:\n",
    "        if type(eval(a))==int:\n",
    "            a=int(a)\n",
    "            if a == 0 :\n",
    "                return \"Zero kilometer is equals to zero miles.\"\n",
    "            else :\n",
    "                b = a*0.62137119\n",
    "                return \"{} kilometer is equals to {} miles.\".format(a,b)\n",
    "        elif type(eval(a))==float:\n",
    "            a=float(a)\n",
    "            b = a*0.62137119\n",
    "            return \"{} kilometer is equals to {} miles.\".format(a,b)\n",
    "    except Exception as c:\n",
    "        return \"Please enter numeric value only\",c"
   ]
  },
  {
   "cell_type": "code",
   "execution_count": 2,
   "id": "935d9d47",
   "metadata": {},
   "outputs": [
    {
     "name": "stdout",
     "output_type": "stream",
     "text": [
      "Enter length of kilometer to converted = 254\n"
     ]
    },
    {
     "data": {
      "text/plain": [
       "'254 kilometer is equals to 157.82828225999998 miles.'"
      ]
     },
     "execution_count": 2,
     "metadata": {},
     "output_type": "execute_result"
    }
   ],
   "source": [
    "d = input(\"Enter length of kilometer to converted = \")\n",
    "\n",
    "km_to_mil(d)"
   ]
  },
  {
   "cell_type": "code",
   "execution_count": 3,
   "id": "3abcb8e2",
   "metadata": {},
   "outputs": [
    {
     "name": "stdout",
     "output_type": "stream",
     "text": [
      "Enter length of kilometer to converted = 26.5\n"
     ]
    },
    {
     "data": {
      "text/plain": [
       "'26.5 kilometer is equals to 16.466336535 miles.'"
      ]
     },
     "execution_count": 3,
     "metadata": {},
     "output_type": "execute_result"
    }
   ],
   "source": [
    "d = input(\"Enter length of kilometer to converted = \")\n",
    "\n",
    "km_to_mil(d)"
   ]
  },
  {
   "cell_type": "code",
   "execution_count": 4,
   "id": "3b39122c",
   "metadata": {},
   "outputs": [
    {
     "name": "stdout",
     "output_type": "stream",
     "text": [
      "Enter length of kilometer to converted = 0\n"
     ]
    },
    {
     "data": {
      "text/plain": [
       "'Zero kilometer is equals to zero miles.'"
      ]
     },
     "execution_count": 4,
     "metadata": {},
     "output_type": "execute_result"
    }
   ],
   "source": [
    "d = input(\"Enter length of kilometer to converted = \")\n",
    "\n",
    "km_to_mil(d)"
   ]
  },
  {
   "cell_type": "code",
   "execution_count": 5,
   "id": "69e9c1b3",
   "metadata": {},
   "outputs": [
    {
     "name": "stdout",
     "output_type": "stream",
     "text": [
      "Enter length of kilometer to converted = hfuj\n"
     ]
    },
    {
     "data": {
      "text/plain": [
       "('Please enter numeric value only', NameError(\"name 'hfuj' is not defined\"))"
      ]
     },
     "execution_count": 5,
     "metadata": {},
     "output_type": "execute_result"
    }
   ],
   "source": [
    "d = input(\"Enter length of kilometer to converted = \")\n",
    "\n",
    "km_to_mil(d)"
   ]
  },
  {
   "cell_type": "markdown",
   "id": "595fc91e",
   "metadata": {},
   "source": [
    " "
   ]
  },
  {
   "cell_type": "markdown",
   "id": "64c9a9bf",
   "metadata": {},
   "source": [
    "Q.2 Write a Python program to convert Celsius to Fahrenheit?"
   ]
  },
  {
   "cell_type": "code",
   "execution_count": 6,
   "id": "c4ef3911",
   "metadata": {},
   "outputs": [],
   "source": [
    "# ANS\n",
    "\n",
    "def cel_to_farh(e):\n",
    "    try :\n",
    "        if type(eval(e))==int:\n",
    "            e=int(e)\n",
    "            f = e*1.8 + 32\n",
    "            return \"{}° celcius is equals to {}° Fahrenheit.\".format(e,f)\n",
    "        elif type(eval(e))==float:\n",
    "            e=float(e)\n",
    "            f = e*1.8 + 32\n",
    "            return \"{}° celcius is equals to {}° Fahrenheit.\".format(e,f)\n",
    "    except Exception as g :\n",
    "        return \"Please enter numeric value only.\""
   ]
  },
  {
   "cell_type": "code",
   "execution_count": 7,
   "id": "7fbff5b6",
   "metadata": {},
   "outputs": [
    {
     "name": "stdout",
     "output_type": "stream",
     "text": [
      "Enter temperature in ° celcius = 254\n"
     ]
    },
    {
     "data": {
      "text/plain": [
       "'254° celcius is equals to 489.2° Fahrenheit.'"
      ]
     },
     "execution_count": 7,
     "metadata": {},
     "output_type": "execute_result"
    }
   ],
   "source": [
    "h=input(\"Enter temperature in ° celcius = \",)\n",
    "\n",
    "cel_to_farh(h)"
   ]
  },
  {
   "cell_type": "code",
   "execution_count": 8,
   "id": "d28b3afe",
   "metadata": {},
   "outputs": [
    {
     "name": "stdout",
     "output_type": "stream",
     "text": [
      "Enter temperature in ° celcius = 26.8\n"
     ]
    },
    {
     "data": {
      "text/plain": [
       "'26.8° celcius is equals to 80.24000000000001° Fahrenheit.'"
      ]
     },
     "execution_count": 8,
     "metadata": {},
     "output_type": "execute_result"
    }
   ],
   "source": [
    "h=input(\"Enter temperature in ° celcius = \",)\n",
    "\n",
    "cel_to_farh(h)"
   ]
  },
  {
   "cell_type": "code",
   "execution_count": 9,
   "id": "edc94239",
   "metadata": {},
   "outputs": [
    {
     "name": "stdout",
     "output_type": "stream",
     "text": [
      "Enter temperature in ° celcius = hgc\n"
     ]
    },
    {
     "data": {
      "text/plain": [
       "'Please enter numeric value only.'"
      ]
     },
     "execution_count": 9,
     "metadata": {},
     "output_type": "execute_result"
    }
   ],
   "source": [
    "h=input(\"Enter temperature in ° celcius = \",)\n",
    "\n",
    "cel_to_farh(h)"
   ]
  },
  {
   "cell_type": "markdown",
   "id": "201db3ec",
   "metadata": {},
   "source": [
    " "
   ]
  },
  {
   "cell_type": "markdown",
   "id": "b723f1e6",
   "metadata": {},
   "source": [
    "Q.3 Write a Python program to display calendar?"
   ]
  },
  {
   "cell_type": "code",
   "execution_count": 10,
   "id": "0e167601",
   "metadata": {},
   "outputs": [
    {
     "name": "stdout",
     "output_type": "stream",
     "text": [
      "Enter a year to display = 2005\n",
      "                                  2005\n",
      "\n",
      "      January                   February                   March\n",
      "Mo Tu We Th Fr Sa Su      Mo Tu We Th Fr Sa Su      Mo Tu We Th Fr Sa Su\n",
      "                1  2          1  2  3  4  5  6          1  2  3  4  5  6\n",
      " 3  4  5  6  7  8  9       7  8  9 10 11 12 13       7  8  9 10 11 12 13\n",
      "10 11 12 13 14 15 16      14 15 16 17 18 19 20      14 15 16 17 18 19 20\n",
      "17 18 19 20 21 22 23      21 22 23 24 25 26 27      21 22 23 24 25 26 27\n",
      "24 25 26 27 28 29 30      28                        28 29 30 31\n",
      "31\n",
      "\n",
      "       April                      May                       June\n",
      "Mo Tu We Th Fr Sa Su      Mo Tu We Th Fr Sa Su      Mo Tu We Th Fr Sa Su\n",
      "             1  2  3                         1             1  2  3  4  5\n",
      " 4  5  6  7  8  9 10       2  3  4  5  6  7  8       6  7  8  9 10 11 12\n",
      "11 12 13 14 15 16 17       9 10 11 12 13 14 15      13 14 15 16 17 18 19\n",
      "18 19 20 21 22 23 24      16 17 18 19 20 21 22      20 21 22 23 24 25 26\n",
      "25 26 27 28 29 30         23 24 25 26 27 28 29      27 28 29 30\n",
      "                          30 31\n",
      "\n",
      "        July                     August                  September\n",
      "Mo Tu We Th Fr Sa Su      Mo Tu We Th Fr Sa Su      Mo Tu We Th Fr Sa Su\n",
      "             1  2  3       1  2  3  4  5  6  7                1  2  3  4\n",
      " 4  5  6  7  8  9 10       8  9 10 11 12 13 14       5  6  7  8  9 10 11\n",
      "11 12 13 14 15 16 17      15 16 17 18 19 20 21      12 13 14 15 16 17 18\n",
      "18 19 20 21 22 23 24      22 23 24 25 26 27 28      19 20 21 22 23 24 25\n",
      "25 26 27 28 29 30 31      29 30 31                  26 27 28 29 30\n",
      "\n",
      "      October                   November                  December\n",
      "Mo Tu We Th Fr Sa Su      Mo Tu We Th Fr Sa Su      Mo Tu We Th Fr Sa Su\n",
      "                1  2          1  2  3  4  5  6                1  2  3  4\n",
      " 3  4  5  6  7  8  9       7  8  9 10 11 12 13       5  6  7  8  9 10 11\n",
      "10 11 12 13 14 15 16      14 15 16 17 18 19 20      12 13 14 15 16 17 18\n",
      "17 18 19 20 21 22 23      21 22 23 24 25 26 27      19 20 21 22 23 24 25\n",
      "24 25 26 27 28 29 30      28 29 30                  26 27 28 29 30 31\n",
      "31\n",
      "\n"
     ]
    }
   ],
   "source": [
    "# ANS\n",
    "\n",
    "import calendar\n",
    "\n",
    "def displaycalendar(i) :\n",
    "    \n",
    "    print(calendar.calendar(i))\n",
    "    \n",
    "\n",
    "j = int(input(\"Enter a year to display = \"))\n",
    "\n",
    "displaycalendar(j)"
   ]
  },
  {
   "cell_type": "markdown",
   "id": "4814d383",
   "metadata": {},
   "source": [
    " "
   ]
  },
  {
   "cell_type": "markdown",
   "id": "403c390c",
   "metadata": {},
   "source": [
    "Q.4 Write a Python program to solve quadratic equation?"
   ]
  },
  {
   "cell_type": "code",
   "execution_count": 11,
   "id": "8b27e3df",
   "metadata": {},
   "outputs": [],
   "source": [
    "# ANS\n",
    "\n",
    "def QEsol(k,l,m):\n",
    "    import math\n",
    "    import cmath\n",
    "    # print(\"Your quadratic is {}x^2+{}x+{}=0\".format(k,l,m))\n",
    "    descriminant = (l*l)-(4*k*m)\n",
    "    \n",
    "    if descriminant == 0 :\n",
    "        x1 = x2 = (-l/2*k)\n",
    "        return \"The roots are real & equal, i.e {}.\".format(x1)\n",
    "    elif descriminant > 0 :\n",
    "        x1 = (-l + math.sqrt(descriminant)) / (2*k)\n",
    "        x2 = (-l - math.sqrt(descriminant)) / (2*k)\n",
    "        return \"The roots are real & different, i.e {} & {}.\".format(x1,x2)\n",
    "    else :\n",
    "        x1 = (-l + cmath.sqrt(descriminant)) / (2*k)\n",
    "        x2 = (-l - cmath.sqrt(descriminant)) / (2*k)\n",
    "        return \"The roots are imaginary, i.e {} & {}.\".format(x1,x2)"
   ]
  },
  {
   "cell_type": "code",
   "execution_count": 12,
   "id": "86b8d9b7",
   "metadata": {},
   "outputs": [
    {
     "data": {
      "text/plain": [
       "'The roots are real & equal, i.e 5.0.'"
      ]
     },
     "execution_count": 12,
     "metadata": {},
     "output_type": "execute_result"
    }
   ],
   "source": [
    "QEsol(1,-10,25)"
   ]
  },
  {
   "cell_type": "code",
   "execution_count": 13,
   "id": "10598bc0",
   "metadata": {},
   "outputs": [
    {
     "data": {
      "text/plain": [
       "'The roots are real & different, i.e 2.0 & -0.8.'"
      ]
     },
     "execution_count": 13,
     "metadata": {},
     "output_type": "execute_result"
    }
   ],
   "source": [
    "QEsol(5,-6,-8)"
   ]
  },
  {
   "cell_type": "code",
   "execution_count": 14,
   "id": "07030ab1",
   "metadata": {},
   "outputs": [
    {
     "data": {
      "text/plain": [
       "'The roots are imaginary, i.e (-1+1j) & (-1-1j).'"
      ]
     },
     "execution_count": 14,
     "metadata": {},
     "output_type": "execute_result"
    }
   ],
   "source": [
    "QEsol(1,2,2)"
   ]
  },
  {
   "cell_type": "markdown",
   "id": "ac5bdc37",
   "metadata": {},
   "source": [
    " "
   ]
  },
  {
   "cell_type": "markdown",
   "id": "b1736eca",
   "metadata": {},
   "source": [
    "Q.5 Write a Python program to swap two variables without temp variable?"
   ]
  },
  {
   "cell_type": "code",
   "execution_count": 15,
   "id": "3fe612a3",
   "metadata": {},
   "outputs": [],
   "source": [
    "# ANS\n",
    "\n",
    "def swap_var(num1,num2):\n",
    "    print(\"Number before swap {} & {}.\".format(num1,num2))\n",
    "    num1=num1+num2\n",
    "    num2=num1-num2\n",
    "    num1=num1-num2\n",
    "    return \"Number after Swap {} & {}.\".format(num1,num2)"
   ]
  },
  {
   "cell_type": "code",
   "execution_count": 16,
   "id": "20651ad1",
   "metadata": {},
   "outputs": [
    {
     "name": "stdout",
     "output_type": "stream",
     "text": [
      "Number before swap 15 & 85.\n"
     ]
    },
    {
     "data": {
      "text/plain": [
       "'Number after Swap 85 & 15.'"
      ]
     },
     "execution_count": 16,
     "metadata": {},
     "output_type": "execute_result"
    }
   ],
   "source": [
    "swap_var(15,85)"
   ]
  }
 ],
 "metadata": {
  "kernelspec": {
   "display_name": "Python 3 (ipykernel)",
   "language": "python",
   "name": "python3"
  },
  "language_info": {
   "codemirror_mode": {
    "name": "ipython",
    "version": 3
   },
   "file_extension": ".py",
   "mimetype": "text/x-python",
   "name": "python",
   "nbconvert_exporter": "python",
   "pygments_lexer": "ipython3",
   "version": "3.9.12"
  }
 },
 "nbformat": 4,
 "nbformat_minor": 5
}
