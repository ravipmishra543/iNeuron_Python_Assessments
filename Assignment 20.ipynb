{
 "cells": [
  {
   "cell_type": "markdown",
   "id": "4de13542",
   "metadata": {},
   "source": [
    "# ASSIGNMENT NO 20 - SOLUTION"
   ]
  },
  {
   "cell_type": "markdown",
   "id": "8289f05e",
   "metadata": {},
   "source": [
    "### Q.1 Set the variable test1 to the string 'This is a test of the emergency text system', and save test1 to a file named test.txt.¶"
   ]
  },
  {
   "cell_type": "markdown",
   "id": "1fb7c2f1",
   "metadata": {},
   "source": [
    "**ANS** = "
   ]
  },
  {
   "cell_type": "code",
   "execution_count": 1,
   "id": "eb82496e",
   "metadata": {},
   "outputs": [],
   "source": [
    "test1 = 'This is a test of the emergency text system'\n",
    "\n",
    "with open(\"test.txt\", \"w\") as file:\n",
    "    file.write(test1)\n",
    "    file.close()"
   ]
  },
  {
   "cell_type": "code",
   "execution_count": 2,
   "id": "8f3da90c",
   "metadata": {},
   "outputs": [
    {
     "name": "stdout",
     "output_type": "stream",
     "text": [
      "This is a test of the emergency text system\n"
     ]
    }
   ],
   "source": [
    "!type test.txt "
   ]
  },
  {
   "cell_type": "markdown",
   "id": "54c7d2e9",
   "metadata": {},
   "source": [
    "### Q.2 Read the contents of the file test.txt into the variable test2. Is there a difference between test 1 and test 2?¶"
   ]
  },
  {
   "cell_type": "markdown",
   "id": "344509ac",
   "metadata": {},
   "source": [
    "**ANS** = "
   ]
  },
  {
   "cell_type": "code",
   "execution_count": 3,
   "id": "5ce1e91e",
   "metadata": {},
   "outputs": [
    {
     "name": "stdout",
     "output_type": "stream",
     "text": [
      "This is a test of the emergency text system\n",
      "True\n"
     ]
    }
   ],
   "source": [
    "with open('test.txt','r') as file:\n",
    "    test2 = file.read()\n",
    "    \n",
    "print(test2)   \n",
    "print(test1 == test2)"
   ]
  },
  {
   "cell_type": "markdown",
   "id": "e2ea53a4",
   "metadata": {},
   "source": [
    "### Q.3 Create a CSV file called books.csv by using these lines:\n",
    "`title,author,year`  \n",
    "`The Weirdstone of Brisingamen,Alan Garner,1960`  \n",
    "`Perdido Street Station,China Miéville,2000`  \n",
    "`Thud!,Terry Pratchett,2005`  \n",
    "`The Spellman Files,Lisa Lutz,2007`  \n",
    "`Small Gods,Terry Pratchett,1992`"
   ]
  },
  {
   "cell_type": "markdown",
   "id": "983a1444",
   "metadata": {},
   "source": [
    "**ANS** = "
   ]
  },
  {
   "cell_type": "code",
   "execution_count": 4,
   "id": "484b49a4",
   "metadata": {},
   "outputs": [],
   "source": [
    "data = '''title,author,year\n",
    "The Weirdstone of Brisingamen,Alan Garner,1960\n",
    "Perdido Street Station,China Miéville,2000\n",
    "Thud!,Terry Pratchett,2005\n",
    "The Spellman Files,Lisa Lutz,2007\n",
    "Small Gods,Terry Pratchett,1992'''\n",
    "\n",
    "with open('books.csv','w') as file:\n",
    "    file.write(data)"
   ]
  },
  {
   "cell_type": "markdown",
   "id": "b60c995b",
   "metadata": {},
   "source": [
    "### Q.4 Use the sqlite3 module to create a SQLite database called books.db, and a table called books with these fields: title (text), author (text), and year (integer)."
   ]
  },
  {
   "cell_type": "markdown",
   "id": "c42b4afb",
   "metadata": {},
   "source": [
    "**ANS** = "
   ]
  },
  {
   "cell_type": "code",
   "execution_count": 5,
   "id": "900d987d",
   "metadata": {},
   "outputs": [],
   "source": [
    "import sqlite3\n",
    "db = sqlite3.connect(\"books.db\")\n",
    "cursor = db.cursor()\n",
    "cursor.execute(\"CREATE Table books(title text, author text, year int)\")\n",
    "db.commit()\n",
    "db.close()"
   ]
  },
  {
   "cell_type": "markdown",
   "id": "be917620",
   "metadata": {},
   "source": [
    "### Q.5 Read books.csv and insert its data into the books table."
   ]
  },
  {
   "cell_type": "markdown",
   "id": "8f49274a",
   "metadata": {},
   "source": [
    "**ANS** = "
   ]
  },
  {
   "cell_type": "code",
   "execution_count": 6,
   "id": "c997268d",
   "metadata": {},
   "outputs": [],
   "source": [
    "import sqlite3\n",
    "import csv\n",
    "db = sqlite3.connect(\"books.db\")\n",
    "cursor = db.cursor()\n",
    "with open(\"books.csv\", \"r\") as file:\n",
    "    books = csv.DictReader(file)\n",
    "    for book in books:\n",
    "        cursor.execute(\"insert into books values(?, ?, ?)\", (book[\"title\"], book[\"author\"], book[\"year\"]))\n",
    "db.commit()\n",
    "db.close()"
   ]
  },
  {
   "cell_type": "markdown",
   "id": "23241e9c",
   "metadata": {},
   "source": [
    "### Q.6 Select and print the title column from the books table in alphabetical order."
   ]
  },
  {
   "cell_type": "markdown",
   "id": "91af139c",
   "metadata": {},
   "source": [
    "**ANS** = "
   ]
  },
  {
   "cell_type": "code",
   "execution_count": 7,
   "id": "1d6dadba",
   "metadata": {},
   "outputs": [
    {
     "name": "stdout",
     "output_type": "stream",
     "text": [
      "Perdido Street Station\n",
      "Small Gods\n",
      "The Spellman Files\n",
      "The Weirdstone of Brisingamen\n",
      "Thud!\n"
     ]
    }
   ],
   "source": [
    "import sqlite3\n",
    "conn = sqlite3.connect(\"books.db\")\n",
    "cursor = conn.cursor()\n",
    "output = cursor.execute(\"select title from books order by title asc\")\n",
    "for ele in output:\n",
    "    print(ele[0])\n",
    "conn.commit()\n",
    "conn.close()"
   ]
  },
  {
   "cell_type": "markdown",
   "id": "43a3bc73",
   "metadata": {},
   "source": [
    "### Q.7 From the books table, select and print all columns in the order of publication.¶"
   ]
  },
  {
   "cell_type": "markdown",
   "id": "8679d839",
   "metadata": {},
   "source": [
    "**ANS** =  "
   ]
  },
  {
   "cell_type": "code",
   "execution_count": 8,
   "id": "1cd91de3",
   "metadata": {},
   "outputs": [
    {
     "name": "stdout",
     "output_type": "stream",
     "text": [
      "('The Weirdstone of Brisingamen', 'Alan Garner', 1960)\n",
      "('Small Gods', 'Terry Pratchett', 1992)\n",
      "('Perdido Street Station', 'China Miéville', 2000)\n",
      "('Thud!', 'Terry Pratchett', 2005)\n",
      "('The Spellman Files', 'Lisa Lutz', 2007)\n"
     ]
    }
   ],
   "source": [
    "import sqlite3\n",
    "conn = sqlite3.connect(\"books.db\")\n",
    "curs = conn.cursor()\n",
    "output = curs.execute(\"select * from books order by year\")\n",
    "for record in output:\n",
    "    print(record)\n",
    "conn.commit()\n",
    "conn.close()"
   ]
  },
  {
   "cell_type": "markdown",
   "id": "9d220029",
   "metadata": {},
   "source": [
    "### Q.8 Use the sqlalchemy module to connect to the sqlite3 database books.db that you just made in exercise 6."
   ]
  },
  {
   "cell_type": "markdown",
   "id": "6e63d398",
   "metadata": {},
   "source": [
    "**ANS** = "
   ]
  },
  {
   "cell_type": "code",
   "execution_count": 9,
   "id": "c0090632",
   "metadata": {},
   "outputs": [
    {
     "data": {
      "text/plain": [
       "Engine(sqlite:///books.db)"
      ]
     },
     "execution_count": 9,
     "metadata": {},
     "output_type": "execute_result"
    }
   ],
   "source": [
    "import sqlalchemy\n",
    "conn = sqlalchemy.create_engine(\"sqlite:///books.db\")\n",
    "conn"
   ]
  },
  {
   "cell_type": "markdown",
   "id": "db4e6587",
   "metadata": {},
   "source": [
    "### Q.9 Install the Redis server and the Python redis library (pip install redis) on your computer. Create a Redis hash called test with the fields count (1) and name ('Fester Bestertester'). Print all the fields for test."
   ]
  },
  {
   "cell_type": "markdown",
   "id": "b1ec63a6",
   "metadata": {},
   "source": [
    "**ANS** = "
   ]
  },
  {
   "cell_type": "code",
   "execution_count": 10,
   "id": "f462b124",
   "metadata": {},
   "outputs": [
    {
     "name": "stdout",
     "output_type": "stream",
     "text": [
      "Defaulting to user installation because normal site-packages is not writeable\n",
      "Requirement already satisfied: redis in c:\\users\\krish\\appdata\\roaming\\python\\python310\\site-packages (4.5.5)\n",
      "Requirement already satisfied: async-timeout>=4.0.2 in c:\\users\\krish\\appdata\\roaming\\python\\python310\\site-packages (from redis) (4.0.2)\n"
     ]
    }
   ],
   "source": [
    "!python -m pip install redis"
   ]
  },
  {
   "cell_type": "code",
   "execution_count": null,
   "id": "04fd3fbd",
   "metadata": {},
   "outputs": [],
   "source": [
    "import redis\n",
    "conn = redis.Redis()\n",
    "conn.hset('test',{\n",
    "    'count':1,\n",
    "    'name':'Fester Bestertester'\n",
    "})\n",
    "conn.hgetall('test')"
   ]
  },
  {
   "cell_type": "markdown",
   "id": "5997e84b",
   "metadata": {},
   "source": [
    "### Q.10  Increment the count field of test and print it.¶"
   ]
  },
  {
   "cell_type": "markdown",
   "id": "2037857e",
   "metadata": {},
   "source": [
    "**ANS** = "
   ]
  },
  {
   "cell_type": "code",
   "execution_count": null,
   "id": "096195a6",
   "metadata": {},
   "outputs": [],
   "source": [
    "conn.hincrby('test', 'count', 1)\n",
    "conn.hget('test', 'count')"
   ]
  }
 ],
 "metadata": {
  "kernelspec": {
   "display_name": "Python 3 (ipykernel)",
   "language": "python",
   "name": "python3"
  },
  "language_info": {
   "codemirror_mode": {
    "name": "ipython",
    "version": 3
   },
   "file_extension": ".py",
   "mimetype": "text/x-python",
   "name": "python",
   "nbconvert_exporter": "python",
   "pygments_lexer": "ipython3",
   "version": "3.10.9"
  }
 },
 "nbformat": 4,
 "nbformat_minor": 5
}
