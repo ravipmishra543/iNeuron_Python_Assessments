{
 "cells": [
  {
   "cell_type": "markdown",
   "id": "f0970e55",
   "metadata": {},
   "source": [
    "# PROGRAMMING ASSIGNMENT NO 12 - SOLUTION"
   ]
  },
  {
   "cell_type": "markdown",
   "id": "41c59e57",
   "metadata": {},
   "source": [
    "### 1. Write a Python program to Extract Unique values dictionary values ?"
   ]
  },
  {
   "cell_type": "code",
   "execution_count": 1,
   "id": "7cf321ea",
   "metadata": {},
   "outputs": [],
   "source": [
    "# ANS =\n",
    "\n",
    "def unique_values(dictionary):\n",
    "    \"\"\"Python program to Extract Unique values dictionary values\"\"\"\n",
    "    try:\n",
    "        if type(dictionary) == dict:\n",
    "            print(f\"The present values in a dictionary are '{list(dictionary.values())}'.\")\n",
    "            return f\"The Unique values in a dictionary are '{list(set(dictionary.values()))}'.\"\n",
    "        else :\n",
    "            return \"Kindly enter a dict value only.\"\n",
    "    except Exception as error:\n",
    "        return error"
   ]
  },
  {
   "cell_type": "code",
   "execution_count": 2,
   "id": "72770719",
   "metadata": {},
   "outputs": [
    {
     "name": "stdout",
     "output_type": "stream",
     "text": [
      "The present values in a dictionary are '['kdp', 'kdp', 'krish']'.\n"
     ]
    },
    {
     "data": {
      "text/plain": [
       "\"The Unique values in a dictionary are '['kdp', 'krish']'.\""
      ]
     },
     "execution_count": 2,
     "metadata": {},
     "output_type": "execute_result"
    }
   ],
   "source": [
    "dictionary  = {'mailid_1_name':'kdp', 'mailid_2_name':'kdp', 'mailid_3_name':'krish'}\n",
    "\n",
    "unique_values(dictionary)"
   ]
  },
  {
   "cell_type": "code",
   "execution_count": 3,
   "id": "97dcb995",
   "metadata": {},
   "outputs": [
    {
     "name": "stdout",
     "output_type": "stream",
     "text": [
      "The present values in a dictionary are '[20, 100, 50, 50, 50, 20, 40, 40]'.\n"
     ]
    },
    {
     "data": {
      "text/plain": [
       "\"The Unique values in a dictionary are '[100, 50, 40, 20]'.\""
      ]
     },
     "execution_count": 3,
     "metadata": {},
     "output_type": "execute_result"
    }
   ],
   "source": [
    "fruits = {'mango': 20, \"banana\" : 100, 'apple': 50, 'orange': 50, 'grapes': 50, 'avocado': 20, 'watermelon': 40, 'pineapple':40}\n",
    "\n",
    "unique_values(fruits)"
   ]
  },
  {
   "cell_type": "markdown",
   "id": "c47ebab4",
   "metadata": {},
   "source": [
    "### 2. Write a Python program to find the sum of all items in a dictionary?"
   ]
  },
  {
   "cell_type": "code",
   "execution_count": 4,
   "id": "7789aec1",
   "metadata": {},
   "outputs": [],
   "source": [
    "# ANS =\n",
    "\n",
    "def sum_of_values(dictionary):\n",
    "    \"\"\"Python program to find the sum of all items in a dictionary\"\"\"\n",
    "    try:\n",
    "        if type(dictionary) == dict:\n",
    "            print(f\"The present values in a dictionary are '{list(dictionary.values())}'.\")\n",
    "            return f\"The sum of values in a dictionary are '{sum(dictionary.values())}'.\"\n",
    "        else :\n",
    "            return \"Kindly enter a dict value only.\"\n",
    "    except Exception as error:\n",
    "        return error"
   ]
  },
  {
   "cell_type": "code",
   "execution_count": 5,
   "id": "4640a50b",
   "metadata": {},
   "outputs": [
    {
     "name": "stdout",
     "output_type": "stream",
     "text": [
      "The present values in a dictionary are '[20, 100, 50, 50, 50, 20, 40, 40]'.\n"
     ]
    },
    {
     "data": {
      "text/plain": [
       "\"The sum of values in a dictionary are '370'.\""
      ]
     },
     "execution_count": 5,
     "metadata": {},
     "output_type": "execute_result"
    }
   ],
   "source": [
    "sum_of_values(fruits)"
   ]
  },
  {
   "cell_type": "markdown",
   "id": "e4d6c9f8",
   "metadata": {},
   "source": [
    "### 3. Write a Python program to Merging two Dictionaries?"
   ]
  },
  {
   "cell_type": "code",
   "execution_count": 6,
   "id": "1627a811",
   "metadata": {},
   "outputs": [
    {
     "name": "stdout",
     "output_type": "stream",
     "text": [
      "{'student1': 'kdp', 'teacher1': 'sudh', 'teacher2': 'sunny', 'teacher3': 'krish', 'company': 'ineuron', 'batch': 'FSDS 2.0'}\n"
     ]
    }
   ],
   "source": [
    "# ANS =\n",
    "\n",
    "names = {'student1':'kdp', \"teacher1\":'sudh', \"teacher2\": 'sunny', 'teacher3':'krish'}\n",
    "\n",
    "classname = {'company': 'ineuron', 'batch':'FSDS 2.0'}\n",
    "\n",
    "names.update(classname)\n",
    "\n",
    "print(names)"
   ]
  },
  {
   "cell_type": "markdown",
   "id": "f196d54e",
   "metadata": {},
   "source": [
    "### 4. Write a Python program to convert key-values list to flat dictionary?"
   ]
  },
  {
   "cell_type": "code",
   "execution_count": 7,
   "id": "3c19203f",
   "metadata": {},
   "outputs": [],
   "source": [
    "# ANS = \n",
    "dictionary1 = [('A',10),('B',20),('C',30),('D',40),('E',50),('F',60),('G',70),('H',80),('I',90),('J',100)]"
   ]
  },
  {
   "cell_type": "code",
   "execution_count": 8,
   "id": "0b9d1a3b",
   "metadata": {},
   "outputs": [
    {
     "name": "stdout",
     "output_type": "stream",
     "text": [
      "{'A': 10, 'B': 20, 'C': 30, 'D': 40, 'E': 50, 'F': 60, 'G': 70, 'H': 80, 'I': 90, 'J': 100}\n"
     ]
    }
   ],
   "source": [
    "# Method1\n",
    "\n",
    "dictionary2 = dict(dictionary1)\n",
    "print(dictionary2)"
   ]
  },
  {
   "cell_type": "code",
   "execution_count": 9,
   "id": "68627284",
   "metadata": {},
   "outputs": [
    {
     "name": "stdout",
     "output_type": "stream",
     "text": [
      "{'A': 10, 'B': 20, 'C': 30, 'D': 40, 'E': 50, 'F': 60, 'G': 70, 'H': 80, 'I': 90, 'J': 100}\n"
     ]
    }
   ],
   "source": [
    "#Method2\n",
    "\n",
    "dict3 = {}\n",
    "for i in dictionary1:\n",
    "    dict3[i[0]] = i[1]\n",
    "    \n",
    "print(dict3)"
   ]
  },
  {
   "cell_type": "markdown",
   "id": "7c75e44f",
   "metadata": {},
   "source": [
    "### 5. Write a Python program to insertion at the beginning in OrderedDict?"
   ]
  },
  {
   "cell_type": "code",
   "execution_count": 10,
   "id": "833e5b95",
   "metadata": {},
   "outputs": [
    {
     "name": "stdout",
     "output_type": "stream",
     "text": [
      "new dictionary is\n",
      "OrderedDict([('Apple', 'Iphone'), ('Microsoft', 'Windows'), ('Google', 'chrome')]).\n",
      "\n",
      "The updates dictionary is\n",
      "OrderedDict([('Apple', 'Iphone'), ('Microsoft', 'Windows'), ('Google', 'chrome'), ('tesla', 'Spacex')]).\n",
      "\n",
      "The insertion at the beginning in OrderedDict is\n",
      "OrderedDict([('tesla', 'Spacex'), ('Apple', 'Iphone'), ('Microsoft', 'Windows'), ('Google', 'chrome')]).\n",
      "\n"
     ]
    }
   ],
   "source": [
    "# ANS =\n",
    "\n",
    "from collections import OrderedDict\n",
    "dict4 = OrderedDict({'Apple':'Iphone','Microsoft':'Windows','Google':'chrome'})\n",
    "print(f\"new dictionary is\\n{dict4}.\\n\")\n",
    "dict4['tesla'] = 'Spacex'\n",
    "print(f\"The updates dictionary is\\n{dict4}.\\n\")\n",
    "dict4.move_to_end('tesla', last=False)\n",
    "print(f\"The insertion at the beginning in OrderedDict is\\n{dict4}.\\n\")\n",
    "\n"
   ]
  },
  {
   "cell_type": "markdown",
   "id": "185601a5",
   "metadata": {},
   "source": [
    "### 6. Write a Python program to check order of character in string using OrderedDict()?"
   ]
  },
  {
   "cell_type": "code",
   "execution_count": 11,
   "id": "41ff3a44",
   "metadata": {},
   "outputs": [
    {
     "name": "stdout",
     "output_type": "stream",
     "text": [
      "The initial dictionary is\n",
      "{'a': 1000, 'f': 200, 'd': 300, 'c': 400, 'b': 500, 'e': 600}.\n",
      "\n",
      "Final dictionary after ordering keys is\n",
      "OrderedDict([('a', 1000), ('b', 500), ('c', 400), ('d', 300), ('e', 600), ('f', 200)]).\n",
      "\n"
     ]
    }
   ],
   "source": [
    "# ANS =\n",
    "\n",
    "from collections import OrderedDict\n",
    "\n",
    "dict5 = {'a': 1000, 'f': 200, 'd': 300, 'c': 400, 'b': 500, 'e': 600}\n",
    "print(f\"The initial dictionary is\\n{dict5}.\\n\")\n",
    "\n",
    "final_dict = OrderedDict(dict(sorted(dict5.items())))\n",
    "print(f\"Final dictionary after ordering keys is\\n{final_dict}.\\n\")"
   ]
  },
  {
   "cell_type": "markdown",
   "id": "4d45a519",
   "metadata": {},
   "source": [
    "### 7. Write a Python program to sort Python Dictionaries by Key or Value?"
   ]
  },
  {
   "cell_type": "code",
   "execution_count": 12,
   "id": "a56cea09",
   "metadata": {},
   "outputs": [],
   "source": [
    "# ANS =\n",
    "\n",
    "def sort_dict(in_dict,sort_type):\n",
    "    \"\"\"Python program to sort Python Dictionaries by Key or Value\"\"\"\n",
    "    if sort_type == 'key':\n",
    "        print(dict(sorted(in_dict.items(), key=lambda x:x[0], reverse=False)))\n",
    "    elif sort_type == 'value':\n",
    "        print(dict(sorted(in_dict.items(), key=lambda x:x[1], reverse=False)))\n",
    "    else :\n",
    "        return \"Please enter sort type as 'key' or 'value' only.\""
   ]
  },
  {
   "cell_type": "code",
   "execution_count": 13,
   "id": "d3ff4baf",
   "metadata": {},
   "outputs": [],
   "source": [
    "d_items = {'Mango':100,'PineApple':22,'Banana':60,'Grape':13}"
   ]
  },
  {
   "cell_type": "code",
   "execution_count": 14,
   "id": "c266990d",
   "metadata": {},
   "outputs": [
    {
     "name": "stdout",
     "output_type": "stream",
     "text": [
      "{'Banana': 60, 'Grape': 13, 'Mango': 100, 'PineApple': 22}\n"
     ]
    }
   ],
   "source": [
    "sort_dict(d_items,'key')        "
   ]
  },
  {
   "cell_type": "code",
   "execution_count": 15,
   "id": "96d86093",
   "metadata": {},
   "outputs": [
    {
     "name": "stdout",
     "output_type": "stream",
     "text": [
      "{'Grape': 13, 'PineApple': 22, 'Banana': 60, 'Mango': 100}\n"
     ]
    }
   ],
   "source": [
    "sort_dict(d_items,'value')"
   ]
  }
 ],
 "metadata": {
  "kernelspec": {
   "display_name": "Python 3 (ipykernel)",
   "language": "python",
   "name": "python3"
  },
  "language_info": {
   "codemirror_mode": {
    "name": "ipython",
    "version": 3
   },
   "file_extension": ".py",
   "mimetype": "text/x-python",
   "name": "python",
   "nbconvert_exporter": "python",
   "pygments_lexer": "ipython3",
   "version": "3.9.12"
  }
 },
 "nbformat": 4,
 "nbformat_minor": 5
}
