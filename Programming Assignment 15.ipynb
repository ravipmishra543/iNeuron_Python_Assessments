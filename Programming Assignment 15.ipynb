{
 "cells": [
  {
   "cell_type": "markdown",
   "id": "cfdb44fa",
   "metadata": {},
   "source": [
    "# PROGRAMMING ASSIGNMENT NO 15 - SOLUTION"
   ]
  },
  {
   "cell_type": "markdown",
   "id": "5dbf8def",
   "metadata": {},
   "source": [
    "### Question 1:\n",
    "```\n",
    "Please write a program using generator to print the numbers which can be divisible by 5 and 7 between 0 and n in comma separated form while n is input by console.\n",
    "Example:\n",
    "If the following n is given as input to the program:\n",
    "100\n",
    "Then, the output of the program should be:\n",
    "0,35,70\n",
    "```"
   ]
  },
  {
   "cell_type": "code",
   "execution_count": 1,
   "id": "4cdd9a7e",
   "metadata": {},
   "outputs": [],
   "source": [
    "# ANS =\n",
    "\n",
    "def div_by_5_and_7():\n",
    "    \"\"\"Program to print the numbers which can be divisible by 5 and 7 between 0 and n\"\"\"\n",
    "    try:\n",
    "        Range = int(input(\"Enter the range : 0 to \"))\n",
    "        divisible = []\n",
    "        for i in range(Range):\n",
    "            if i % 5 == 0 and i % 7 == 0 :\n",
    "                divisible.append(str(i))\n",
    "        return ','.join(divisible)\n",
    "    except Exception as error:\n",
    "        return error"
   ]
  },
  {
   "cell_type": "code",
   "execution_count": 2,
   "id": "758beabb",
   "metadata": {},
   "outputs": [
    {
     "name": "stdout",
     "output_type": "stream",
     "text": [
      "Enter the range : 0 to 100\n"
     ]
    },
    {
     "data": {
      "text/plain": [
       "'0,35,70'"
      ]
     },
     "execution_count": 2,
     "metadata": {},
     "output_type": "execute_result"
    }
   ],
   "source": [
    "div_by_5_and_7()"
   ]
  },
  {
   "cell_type": "markdown",
   "id": "1f0eff24",
   "metadata": {},
   "source": [
    "### Question 2:\n",
    "```\n",
    "Please write a program using generator to print the even numbers between 0 and n in comma separated form while n is input by console.\n",
    "Example:\n",
    "If the following n is given as input to the program:\n",
    "10\n",
    "Then, the output of the program should be:\n",
    "0,2,4,6,8,10\n",
    "```"
   ]
  },
  {
   "cell_type": "code",
   "execution_count": 3,
   "id": "45822f48",
   "metadata": {},
   "outputs": [],
   "source": [
    "# ANS =\n",
    "\n",
    "def even_numbers():\n",
    "    '''Program to print the even numbers between 0 and n'''\n",
    "    try:\n",
    "        num = int(input(\"Provide range 0 to n, n = \"))\n",
    "        even_no = []\n",
    "        for i in range(num+1):\n",
    "            if i % 2 == 0:\n",
    "                even_no.append(str(i))\n",
    "        return ','.join(even_no)\n",
    "    except Exception as error:\n",
    "        return error"
   ]
  },
  {
   "cell_type": "code",
   "execution_count": 4,
   "id": "1859932e",
   "metadata": {},
   "outputs": [
    {
     "name": "stdout",
     "output_type": "stream",
     "text": [
      "Provide range 0 to n, n = 10\n"
     ]
    },
    {
     "data": {
      "text/plain": [
       "'0,2,4,6,8,10'"
      ]
     },
     "execution_count": 4,
     "metadata": {},
     "output_type": "execute_result"
    }
   ],
   "source": [
    "even_numbers()"
   ]
  },
  {
   "cell_type": "markdown",
   "id": "8a7f3e5f",
   "metadata": {},
   "source": [
    "### Question 3:\n",
    "```\n",
    "The Fibonacci Sequence is computed based on the following formula:\n",
    "f(n)=0 if n=0\n",
    "f(n)=1 if n=1\n",
    "f(n)=f(n-1)+f(n-2) if n>1\n",
    "Please write a program using list comprehension to print the Fibonacci Sequence in comma separated form with a given n input by console.\n",
    "Example:\n",
    "If the following n is given as input to the program:\n",
    "7\n",
    "Then, the output of the program should be:\n",
    "0,1,1,2,3,5,8,13\n",
    "```"
   ]
  },
  {
   "cell_type": "code",
   "execution_count": 5,
   "id": "18e4e1a4",
   "metadata": {},
   "outputs": [],
   "source": [
    "# ANS =\n",
    "\n",
    "def fib_seq(n):\n",
    "    \"\"\"Program to print Fibonacci sequence.\"\"\"\n",
    "    try:\n",
    "        if n == 0 :\n",
    "            return \"0\"\n",
    "        elif n == 1:\n",
    "            return \"0,1\"\n",
    "        elif n > 1:\n",
    "            fib = ['0','1']\n",
    "            [ fib.append(str(int(fib[i-1]) + int(fib[i-2]))) for i in range(2,n+1)]\n",
    "            return ','.join(fib)\n",
    "    except Exception as error:\n",
    "        return error"
   ]
  },
  {
   "cell_type": "code",
   "execution_count": 6,
   "id": "8bf6562c",
   "metadata": {},
   "outputs": [
    {
     "data": {
      "text/plain": [
       "'0,1,1,2,3,5,8,13'"
      ]
     },
     "execution_count": 6,
     "metadata": {},
     "output_type": "execute_result"
    }
   ],
   "source": [
    "fib_seq(7)"
   ]
  },
  {
   "cell_type": "markdown",
   "id": "e7de9406",
   "metadata": {},
   "source": [
    "### Question 4:\n",
    "```\n",
    "Assuming that we have some email addresses in the \"username@companyname.com\" format, please write program to print user name of a given email address. Both user names and company names are composed of letters only.\n",
    "Example:\n",
    "If the following email address is given as input to the program:\n",
    "john@google.com\n",
    "Then, the output of the program should be:\n",
    "john\n",
    "```"
   ]
  },
  {
   "cell_type": "code",
   "execution_count": 7,
   "id": "260907af",
   "metadata": {},
   "outputs": [],
   "source": [
    "# ANS =\n",
    "\n",
    "def print_username(email):\n",
    "    \"\"\"Program to print user name of a given email address\"\"\"\n",
    "    try:\n",
    "        username = ''\n",
    "        for i in email:\n",
    "            if i == '@':\n",
    "                break\n",
    "            else:\n",
    "                username += i\n",
    "        return username        \n",
    "    except Exception as error:\n",
    "        return error"
   ]
  },
  {
   "cell_type": "code",
   "execution_count": 8,
   "id": "67174f00",
   "metadata": {},
   "outputs": [
    {
     "data": {
      "text/plain": [
       "'john'"
      ]
     },
     "execution_count": 8,
     "metadata": {},
     "output_type": "execute_result"
    }
   ],
   "source": [
    "print_username('john@google.com')"
   ]
  },
  {
   "cell_type": "code",
   "execution_count": 9,
   "id": "c41eefd9",
   "metadata": {},
   "outputs": [
    {
     "data": {
      "text/plain": [
       "'krisahnaraj2015'"
      ]
     },
     "execution_count": 9,
     "metadata": {},
     "output_type": "execute_result"
    }
   ],
   "source": [
    "print_username('krisahnaraj2015@gmail.com')"
   ]
  },
  {
   "cell_type": "markdown",
   "id": "1a1a2d69",
   "metadata": {},
   "source": [
    "### Question 5:\n",
    "```\n",
    "Define a class named Shape and its subclass Square. \n",
    "The Square class has an init function which takes a length as argument. \n",
    "Both classes have a area function which can print the area of the shape where Shape's area is 0 by default.\n",
    "```"
   ]
  },
  {
   "cell_type": "code",
   "execution_count": 10,
   "id": "6e4a2588",
   "metadata": {},
   "outputs": [],
   "source": [
    "# ANS =\n",
    "\n",
    "class shape:\n",
    "    def area():\n",
    "        print(\"Area of shape is 0.\")\n",
    "\n",
    "class square(shape):\n",
    "    def __init__(self,length):\n",
    "        self.length = length\n",
    "        \n",
    "    def area(self):\n",
    "        area = self.length**2\n",
    "        print(f\"Area of square is {area}\")"
   ]
  },
  {
   "cell_type": "code",
   "execution_count": 11,
   "id": "76bd00e8",
   "metadata": {},
   "outputs": [],
   "source": [
    "square_area = shape"
   ]
  },
  {
   "cell_type": "code",
   "execution_count": 12,
   "id": "143294b0",
   "metadata": {},
   "outputs": [
    {
     "name": "stdout",
     "output_type": "stream",
     "text": [
      "Area of shape is 0.\n"
     ]
    }
   ],
   "source": [
    "square_area.area()"
   ]
  },
  {
   "cell_type": "code",
   "execution_count": 13,
   "id": "7f2cbbc5",
   "metadata": {},
   "outputs": [],
   "source": [
    "square_area_2 = square(25)"
   ]
  },
  {
   "cell_type": "code",
   "execution_count": 14,
   "id": "350df16b",
   "metadata": {},
   "outputs": [
    {
     "name": "stdout",
     "output_type": "stream",
     "text": [
      "Area of square is 625\n"
     ]
    }
   ],
   "source": [
    "square_area_2.area()"
   ]
  }
 ],
 "metadata": {
  "kernelspec": {
   "display_name": "Python 3 (ipykernel)",
   "language": "python",
   "name": "python3"
  },
  "language_info": {
   "codemirror_mode": {
    "name": "ipython",
    "version": 3
   },
   "file_extension": ".py",
   "mimetype": "text/x-python",
   "name": "python",
   "nbconvert_exporter": "python",
   "pygments_lexer": "ipython3",
   "version": "3.9.12"
  }
 },
 "nbformat": 4,
 "nbformat_minor": 5
}
