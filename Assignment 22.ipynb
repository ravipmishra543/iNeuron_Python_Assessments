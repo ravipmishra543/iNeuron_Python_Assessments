{
 "cells": [
  {
   "cell_type": "markdown",
   "id": "4de13542",
   "metadata": {},
   "source": [
    "# ASSIGNMENT NO 22 - SOLUTION"
   ]
  },
  {
   "cell_type": "markdown",
   "id": "8289f05e",
   "metadata": {},
   "source": [
    "### Q.1 What is the result of the code, and explain?\n",
    "`>>> X = 'iNeuron'`  \n",
    "`>>> def func():`  \n",
    "`        print(X)`  \n",
    "`>>> func()`  "
   ]
  },
  {
   "cell_type": "markdown",
   "id": "1fb7c2f1",
   "metadata": {},
   "source": [
    "**ANS** = The Result of this code is **`iNeuron`**, it's because the function intially looks for the variable X in its local scope,But since there is no local variable **`X`**, its returns the value of global variable **`X`** ie iNeuron"
   ]
  },
  {
   "cell_type": "code",
   "execution_count": 1,
   "id": "eb82496e",
   "metadata": {},
   "outputs": [
    {
     "name": "stdout",
     "output_type": "stream",
     "text": [
      "iNeuron\n"
     ]
    }
   ],
   "source": [
    "X = 'iNeuron'\n",
    "def func():\n",
    "    print(X)\n",
    "func()"
   ]
  },
  {
   "cell_type": "markdown",
   "id": "54c7d2e9",
   "metadata": {},
   "source": [
    "### Q.2 What is the result of the code, and explain?\n",
    "`>>> X = 'iNeuron'`  \n",
    "`>>> def func():`  \n",
    "`X = 'NI!'`  \n",
    "`>>> func()`  \n",
    "`>>> print(X)`  "
   ]
  },
  {
   "cell_type": "markdown",
   "id": "344509ac",
   "metadata": {},
   "source": [
    "**ANS** = The Result of this cide is **`NI!`**, because the function initially looks for the variable `X` in its local scope if **`X`** is not available then it checks for variable **`X`** in the global scope, Since here the **`X`** is present in the local scope. it prints the value **`NI!`**."
   ]
  },
  {
   "cell_type": "code",
   "execution_count": 2,
   "id": "5ce1e91e",
   "metadata": {},
   "outputs": [
    {
     "name": "stdout",
     "output_type": "stream",
     "text": [
      "NI!\n"
     ]
    }
   ],
   "source": [
    "X = 'iNeuron'\n",
    "def func():\n",
    "    X = 'NI!'\n",
    "    print(X)\n",
    "func()"
   ]
  },
  {
   "cell_type": "markdown",
   "id": "e2ea53a4",
   "metadata": {},
   "source": [
    "### Q.3 What does this code print, and why?\n",
    "`>>> X = 'iNeuron'`  \n",
    "`>>> def func():`  \n",
    "`        X = 'NI'`  \n",
    "`        print(X)`  \n",
    "`>>> func()`  \n",
    "`>>> print(X)`"
   ]
  },
  {
   "cell_type": "markdown",
   "id": "983a1444",
   "metadata": {},
   "source": [
    "**ANS** = The output of the code is **`NI`** and **`iNeuron`**. **`X=NI`** is in the local scope of the function **`func()`** hence the function prints the x value as **`NI`**. **`X = 'iNeuron'`** is in the global scope. Hence **`print(X)`** prints output as **`iNeuron`**."
   ]
  },
  {
   "cell_type": "code",
   "execution_count": 3,
   "id": "484b49a4",
   "metadata": {},
   "outputs": [
    {
     "name": "stdout",
     "output_type": "stream",
     "text": [
      "NI\n",
      "iNeuron\n"
     ]
    }
   ],
   "source": [
    "X = 'iNeuron'\n",
    "def func():\n",
    "    X = 'NI'\n",
    "    print(X)\n",
    "func()\n",
    "print(X)"
   ]
  },
  {
   "cell_type": "markdown",
   "id": "b60c995b",
   "metadata": {},
   "source": [
    "### Q.4 What output does this code produce? Why?\n",
    "`>>> X = 'iNeuron'`   \n",
    "`>>> def func():`   \n",
    "`       global X`   \n",
    "`       X = 'NI'`   \n",
    "`>>> func()`   \n",
    "`>>> print(X)`  "
   ]
  },
  {
   "cell_type": "markdown",
   "id": "c42b4afb",
   "metadata": {},
   "source": [
    "**ANS** = The output of the code is **`NI`**. The **`global`** keyword allows a variable to be accessible in the current scope. since we are using global keyword inside the function **`func`** it directly access the variable in **`X`** in global scope. and changes its value to `NI`. hence the output of the code is **`NI`**."
   ]
  },
  {
   "cell_type": "code",
   "execution_count": 4,
   "id": "900d987d",
   "metadata": {},
   "outputs": [
    {
     "name": "stdout",
     "output_type": "stream",
     "text": [
      "NI\n",
      "NI\n"
     ]
    }
   ],
   "source": [
    "X = 'iNeuron'\n",
    "def func():\n",
    "    global X\n",
    "    X = 'NI'\n",
    "    print(X)\n",
    "func()\n",
    "print(X)"
   ]
  },
  {
   "cell_type": "markdown",
   "id": "be917620",
   "metadata": {},
   "source": [
    "### Q.5 What about this code—what’s the output, and why?\n",
    "`>>> X = 'iNeuron'`   \n",
    "`>>> def func():`   \n",
    "`       X = 'NI'`   \n",
    "`       def nested():`   \n",
    "`           print(X)`   \n",
    "`       nested()`   \n",
    "`>>> func()`   \n",
    "`>>> X`   "
   ]
  },
  {
   "cell_type": "markdown",
   "id": "8f49274a",
   "metadata": {},
   "source": [
    "**ANS** = The output of the code is **`NI`**. the reason for this output is if a function wants to access a variable, if its not available in its localscope. it looks for the variable in its global scope. similarly here also function **`nested`** looks for variable **`X`** in its global scope. hence the output of the code is **`NI`**."
   ]
  },
  {
   "cell_type": "code",
   "execution_count": 5,
   "id": "c997268d",
   "metadata": {},
   "outputs": [
    {
     "name": "stdout",
     "output_type": "stream",
     "text": [
      "NI\n"
     ]
    },
    {
     "data": {
      "text/plain": [
       "'iNeuron'"
      ]
     },
     "execution_count": 5,
     "metadata": {},
     "output_type": "execute_result"
    }
   ],
   "source": [
    "X = 'iNeuron'\n",
    "def func():\n",
    "    X = 'NI'\n",
    "    def nested():\n",
    "        print(X)\n",
    "    nested()\n",
    "func()\n",
    "X"
   ]
  },
  {
   "cell_type": "markdown",
   "id": "23241e9c",
   "metadata": {},
   "source": [
    "### Q.6 How about this code: what is its output in Python 3, and explain?\n",
    "`>>> def func():`  \n",
    "`       X = 'NI'`  \n",
    "`       def nested():`  \n",
    "`           nonlocal X`  \n",
    "`           X = 'Spam'`  \n",
    "`       nested()`  \n",
    "`       print(X)`  \n",
    "`>>> func()`  "
   ]
  },
  {
   "cell_type": "markdown",
   "id": "91af139c",
   "metadata": {},
   "source": [
    "**ANS** = The output of the code is **`Spam`**. **`nonlocal`** keyword in python is used to declare a variable as not local.Hence the statement **`X = \"Spam\"`** is modified in the global scope. hence the output of **`print(X)`** statement is **`Spam`**."
   ]
  },
  {
   "cell_type": "code",
   "execution_count": 6,
   "id": "61d5efec",
   "metadata": {},
   "outputs": [
    {
     "name": "stdout",
     "output_type": "stream",
     "text": [
      "Spam\n"
     ]
    }
   ],
   "source": [
    "def func():\n",
    "    X = 'NI'\n",
    "    def nested():\n",
    "        nonlocal X\n",
    "        X = 'Spam'\n",
    "    nested()\n",
    "    print(X)\n",
    "func()"
   ]
  }
 ],
 "metadata": {
  "kernelspec": {
   "display_name": "Python 3 (ipykernel)",
   "language": "python",
   "name": "python3"
  },
  "language_info": {
   "codemirror_mode": {
    "name": "ipython",
    "version": 3
   },
   "file_extension": ".py",
   "mimetype": "text/x-python",
   "name": "python",
   "nbconvert_exporter": "python",
   "pygments_lexer": "ipython3",
   "version": "3.10.9"
  }
 },
 "nbformat": 4,
 "nbformat_minor": 5
}
