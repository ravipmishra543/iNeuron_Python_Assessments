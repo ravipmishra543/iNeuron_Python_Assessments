{
 "cells": [
  {
   "cell_type": "markdown",
   "id": "af2bd01c",
   "metadata": {},
   "source": [
    "# PROGRAMMING ASSIGNMENT NO 10 - SOLUTION"
   ]
  },
  {
   "cell_type": "markdown",
   "id": "678414ac",
   "metadata": {},
   "source": [
    "### 1. Write a Python program to find sum of elements in list?"
   ]
  },
  {
   "cell_type": "code",
   "execution_count": 1,
   "id": "a4a34940",
   "metadata": {},
   "outputs": [],
   "source": [
    "# ANS =\n",
    "\n",
    "def sum_list(list_1) :\n",
    "    '''Python program to find sum of elements in list'''\n",
    "    try:\n",
    "        sum1 = 0\n",
    "        list_2 = []\n",
    "        for i in range(len(list_1)):\n",
    "            try:\n",
    "                if type(list_1[i]) == str and type(int(list_1[i])) == int:\n",
    "                    sum1 = sum1 + int(list_1[i])\n",
    "                    list_2.append(int(list_1[i]))\n",
    "                elif type(list_1[i]) == int:\n",
    "                    sum1 = sum1 + list_1[i]\n",
    "                    list_2.append(list_1[i])\n",
    "            except:\n",
    "                pass\n",
    "        return f\"The sum of elements in list {list_2} is {sum1}.\"\n",
    "    except Exception as error:\n",
    "        return \"Enter integer values only\", error"
   ]
  },
  {
   "cell_type": "code",
   "execution_count": 2,
   "id": "e45d68b4",
   "metadata": {},
   "outputs": [
    {
     "data": {
      "text/plain": [
       "'The sum of elements in list [1, 2, 4, 5, 6] is 18.'"
      ]
     },
     "execution_count": 2,
     "metadata": {},
     "output_type": "execute_result"
    }
   ],
   "source": [
    "sum_list([1,2,4,5,6])"
   ]
  },
  {
   "cell_type": "code",
   "execution_count": 3,
   "id": "00172ad0",
   "metadata": {},
   "outputs": [
    {
     "data": {
      "text/plain": [
       "'The sum of elements in list [1, 2, 4, 5, 6] is 18.'"
      ]
     },
     "execution_count": 3,
     "metadata": {},
     "output_type": "execute_result"
    }
   ],
   "source": [
    "sum_list([1,2,'4',5,'6'])"
   ]
  },
  {
   "cell_type": "code",
   "execution_count": 4,
   "id": "c7f9c6fe",
   "metadata": {},
   "outputs": [
    {
     "data": {
      "text/plain": [
       "'The sum of elements in list [1, 2, 5, 6] is 14.'"
      ]
     },
     "execution_count": 4,
     "metadata": {},
     "output_type": "execute_result"
    }
   ],
   "source": [
    "sum_list([1,2,'kdp',5,'6'])"
   ]
  },
  {
   "cell_type": "code",
   "execution_count": 5,
   "id": "292f39bb",
   "metadata": {},
   "outputs": [
    {
     "data": {
      "text/plain": [
       "'The sum of elements in list [489, 87, 956, 2588, 144, 252] is 4516.'"
      ]
     },
     "execution_count": 5,
     "metadata": {},
     "output_type": "execute_result"
    }
   ],
   "source": [
    "list1 = [489,87,956,2588,144,252]\n",
    "\n",
    "sum_list(list1)"
   ]
  },
  {
   "cell_type": "markdown",
   "id": "4e74b4dc",
   "metadata": {},
   "source": [
    "### 2. Write a Python program to  Multiply all numbers in the list?"
   ]
  },
  {
   "cell_type": "code",
   "execution_count": 6,
   "id": "f5f838a5",
   "metadata": {},
   "outputs": [],
   "source": [
    "# ANS =\n",
    "\n",
    "def mult_list(list1):\n",
    "    \"\"\"Python program to Multiply all numbers in the lis\"\"\"\n",
    "    try:\n",
    "        mult = 1\n",
    "        list2 = []\n",
    "        for i in range(len(list1)):\n",
    "            try:\n",
    "                if type(list1[i]) == str and type(int(list1[i])) == int:\n",
    "                    mult = mult*int(list1[i])\n",
    "                    list2.append(int(list1[i]))\n",
    "                elif type(list1[i]) == int:\n",
    "                    mult = mult*list1[i]\n",
    "                    list2.append(list1[i])\n",
    "            except:\n",
    "                pass\n",
    "        return f\"The multiplication of all elements in list {list2} is {mult}.\"\n",
    "    except Exception as error:\n",
    "        return error"
   ]
  },
  {
   "cell_type": "code",
   "execution_count": 7,
   "id": "6323cd9f",
   "metadata": {},
   "outputs": [
    {
     "data": {
      "text/plain": [
       "'The multiplication of all elements in list [1, 2, 4, 5, 6] is 240.'"
      ]
     },
     "execution_count": 7,
     "metadata": {},
     "output_type": "execute_result"
    }
   ],
   "source": [
    "mult_list([1,2,4,5,6])"
   ]
  },
  {
   "cell_type": "code",
   "execution_count": 8,
   "id": "d0ced734",
   "metadata": {},
   "outputs": [
    {
     "data": {
      "text/plain": [
       "'The multiplication of all elements in list [1, 2, 4, 5, 6] is 240.'"
      ]
     },
     "execution_count": 8,
     "metadata": {},
     "output_type": "execute_result"
    }
   ],
   "source": [
    "mult_list([1,2,'4',5,'6'])"
   ]
  },
  {
   "cell_type": "code",
   "execution_count": 9,
   "id": "4ad5f52b",
   "metadata": {},
   "outputs": [
    {
     "data": {
      "text/plain": [
       "'The multiplication of all elements in list [489, 87, 956, 2588, 144, 252] is 3819559756465152.'"
      ]
     },
     "execution_count": 9,
     "metadata": {},
     "output_type": "execute_result"
    }
   ],
   "source": [
    "list1 = [489,87,956,2588,144,252]\n",
    "\n",
    "mult_list(list1)"
   ]
  },
  {
   "cell_type": "markdown",
   "id": "9c6bf80a",
   "metadata": {},
   "source": [
    "### 3. Write a Python program to find smallest number in a list?"
   ]
  },
  {
   "cell_type": "code",
   "execution_count": 10,
   "id": "c9b58786",
   "metadata": {},
   "outputs": [],
   "source": [
    "# ANS =\n",
    "\n",
    "def small_num_in_list(ip):\n",
    "    '''Python program to find smallest number in a list'''\n",
    "    try:\n",
    "        small = 0\n",
    "        list1 = []\n",
    "        for i in range(len(ip)):\n",
    "            try:\n",
    "                if type(ip[i]) == str and type(int(ip[i])) == int:\n",
    "                    list1.append(int(ip[i]))\n",
    "                    if small > ip[i]:\n",
    "                        small = ip[i]\n",
    "                elif type(ip[i]) == int:\n",
    "                    list1.append(ip[i])\n",
    "                    if small > ip[i]:\n",
    "                        small = ip[i]\n",
    "            except:\n",
    "                pass\n",
    "        return f\"The smallest number in a list {list1} is {small}.\"\n",
    "    except Exception as error:\n",
    "        return error"
   ]
  },
  {
   "cell_type": "code",
   "execution_count": 11,
   "id": "5fb69872",
   "metadata": {},
   "outputs": [
    {
     "data": {
      "text/plain": [
       "'The smallest number in a list [1, 2, 4, 6, 1, 3, -5] is -5.'"
      ]
     },
     "execution_count": 11,
     "metadata": {},
     "output_type": "execute_result"
    }
   ],
   "source": [
    "small_num_in_list([1,2,4,6,1,3,-5])"
   ]
  },
  {
   "cell_type": "code",
   "execution_count": 12,
   "id": "2eec171f",
   "metadata": {},
   "outputs": [
    {
     "data": {
      "text/plain": [
       "'The smallest number in a list [1, 2, 4, 66, 3, -5] is -5.'"
      ]
     },
     "execution_count": 12,
     "metadata": {},
     "output_type": "execute_result"
    }
   ],
   "source": [
    "small_num_in_list([1,2,4,66,[1],3,-5])"
   ]
  },
  {
   "cell_type": "markdown",
   "id": "dbac68d0",
   "metadata": {},
   "source": [
    "### 4. Write a Python program to find largest number in a list?"
   ]
  },
  {
   "cell_type": "code",
   "execution_count": 13,
   "id": "a3a4233f",
   "metadata": {},
   "outputs": [],
   "source": [
    "# ANS =\n",
    "\n",
    "def large_num_in_list(ip):\n",
    "    '''Python program to find smallest number in a list'''\n",
    "    try:\n",
    "        large = 0\n",
    "        list1 = []\n",
    "        for i in range(len(ip)):\n",
    "            try:\n",
    "                if type(ip[i]) == str and type(int(ip[i])) == int:\n",
    "                    list1.append(int(ip[i]))\n",
    "                    if large < ip[i]:\n",
    "                        large = ip[i]\n",
    "                elif type(ip[i]) == int:\n",
    "                    list1.append(ip[i])\n",
    "                    if large < ip[i]:\n",
    "                        large = ip[i]\n",
    "            except:\n",
    "                pass\n",
    "        return f\"The largest number in a list {list1} is {large}.\"\n",
    "    except Exception as error:\n",
    "        return error"
   ]
  },
  {
   "cell_type": "code",
   "execution_count": 14,
   "id": "bddd6b05",
   "metadata": {},
   "outputs": [
    {
     "data": {
      "text/plain": [
       "'The largest number in a list [1, 2, 4, 66, 3, -5] is 66.'"
      ]
     },
     "execution_count": 14,
     "metadata": {},
     "output_type": "execute_result"
    }
   ],
   "source": [
    "large_num_in_list([1,2,4,66,[1],3,-5])"
   ]
  },
  {
   "cell_type": "code",
   "execution_count": 15,
   "id": "7e7d4942",
   "metadata": {},
   "outputs": [
    {
     "data": {
      "text/plain": [
       "'The largest number in a list [489, 87, 956, 2588, 144, 252] is 2588.'"
      ]
     },
     "execution_count": 15,
     "metadata": {},
     "output_type": "execute_result"
    }
   ],
   "source": [
    "list1 = [489,87,956,2588,144,252]\n",
    "\n",
    "large_num_in_list(list1)"
   ]
  },
  {
   "cell_type": "markdown",
   "id": "4ebac3ec",
   "metadata": {},
   "source": [
    "### 5. Write a Python program to find second largest number in a list?"
   ]
  },
  {
   "cell_type": "code",
   "execution_count": 16,
   "id": "fb2804f4",
   "metadata": {},
   "outputs": [],
   "source": [
    "# ANS =\n",
    "\n",
    "def large_2nd_num_in_list(ip):\n",
    "    '''Python program to find second largest number in a list'''\n",
    "    try:\n",
    "        if len(ip) == 1:\n",
    "            return f\"Largest number in a list is {ip[-1]}.\"\n",
    "        elif len(ip) > 1 :\n",
    "            ip.sort()\n",
    "            return f\"The 2nd largest number in a list is {ip[-2]}.\"            \n",
    "    except Exception as error:\n",
    "        return error"
   ]
  },
  {
   "cell_type": "code",
   "execution_count": 17,
   "id": "4228cdcc",
   "metadata": {},
   "outputs": [
    {
     "data": {
      "text/plain": [
       "'The 2nd largest number in a list is 956.'"
      ]
     },
     "execution_count": 17,
     "metadata": {},
     "output_type": "execute_result"
    }
   ],
   "source": [
    "list1 = [489,87,956,2588,144,252]\n",
    "\n",
    "large_2nd_num_in_list(list1)"
   ]
  },
  {
   "cell_type": "code",
   "execution_count": 18,
   "id": "a175cd47",
   "metadata": {},
   "outputs": [
    {
     "data": {
      "text/plain": [
       "'The 2nd largest number in a list is 252.'"
      ]
     },
     "execution_count": 18,
     "metadata": {},
     "output_type": "execute_result"
    }
   ],
   "source": [
    "list1 = [2588,144,252]\n",
    "\n",
    "large_2nd_num_in_list(list1)"
   ]
  },
  {
   "cell_type": "code",
   "execution_count": 19,
   "id": "a82ba153",
   "metadata": {},
   "outputs": [
    {
     "data": {
      "text/plain": [
       "TypeError(\"'<' not supported between instances of 'str' and 'int'\")"
      ]
     },
     "execution_count": 19,
     "metadata": {},
     "output_type": "execute_result"
    }
   ],
   "source": [
    "list1 = [2588,'kdp',252]\n",
    "\n",
    "large_2nd_num_in_list(list1)"
   ]
  },
  {
   "cell_type": "code",
   "execution_count": 20,
   "id": "77faf83c",
   "metadata": {},
   "outputs": [
    {
     "data": {
      "text/plain": [
       "'Largest number in a list is 1.'"
      ]
     },
     "execution_count": 20,
     "metadata": {},
     "output_type": "execute_result"
    }
   ],
   "source": [
    "large_2nd_num_in_list([1])"
   ]
  },
  {
   "cell_type": "markdown",
   "id": "45726623",
   "metadata": {},
   "source": [
    "### 6. Write a Python program to find N largest elements from a list?"
   ]
  },
  {
   "cell_type": "code",
   "execution_count": 21,
   "id": "6d4f7137",
   "metadata": {},
   "outputs": [],
   "source": [
    "# ANS =\n",
    "\n",
    "def N_large_num_in_list(ip, N):\n",
    "    '''Python program to find N largest elements from a list'''\n",
    "    try:\n",
    "        if len(ip) == 1:\n",
    "            return f\"Largest number in a list is {ip[-1]}.\"\n",
    "        elif len(ip) > 1 :\n",
    "            if len(ip) > N :\n",
    "                ip.sort()\n",
    "            else :\n",
    "                return f\"The value of N should be less than length of list.\"\n",
    "            return f\"Thr output is {ip[-N::]}.\"            \n",
    "    except Exception as error:\n",
    "        return error"
   ]
  },
  {
   "cell_type": "code",
   "execution_count": 22,
   "id": "f3983915",
   "metadata": {},
   "outputs": [
    {
     "data": {
      "text/plain": [
       "'Thr output is [489, 956, 2588].'"
      ]
     },
     "execution_count": 22,
     "metadata": {},
     "output_type": "execute_result"
    }
   ],
   "source": [
    "list1 = [489,87,956,2588,144,252]\n",
    "\n",
    "N_large_num_in_list(list1, 3)"
   ]
  },
  {
   "cell_type": "code",
   "execution_count": 23,
   "id": "60a12e25",
   "metadata": {},
   "outputs": [
    {
     "data": {
      "text/plain": [
       "'Thr output is [2588].'"
      ]
     },
     "execution_count": 23,
     "metadata": {},
     "output_type": "execute_result"
    }
   ],
   "source": [
    "list1 = [489,87,956,2588,144,252]\n",
    "\n",
    "N_large_num_in_list(list1, 1)"
   ]
  },
  {
   "cell_type": "code",
   "execution_count": 24,
   "id": "0fb0ca26",
   "metadata": {},
   "outputs": [
    {
     "data": {
      "text/plain": [
       "'The value of N should be less than length of list.'"
      ]
     },
     "execution_count": 24,
     "metadata": {},
     "output_type": "execute_result"
    }
   ],
   "source": [
    "list1 = [489,87,956,2588,144,252]\n",
    "\n",
    "N_large_num_in_list(list1, 7)"
   ]
  },
  {
   "cell_type": "markdown",
   "id": "36af903b",
   "metadata": {},
   "source": [
    "### 7. Write a Python program to print even numbers in a list?"
   ]
  },
  {
   "cell_type": "code",
   "execution_count": 25,
   "id": "77990b6a",
   "metadata": {},
   "outputs": [],
   "source": [
    "# ANS =\n",
    "\n",
    "def even_no_in_list(list_1) :\n",
    "    '''Python program to print even numbers in a list'''\n",
    "    try:\n",
    "        even_no = []\n",
    "        list2 = []\n",
    "        for i in range(len(list_1)):\n",
    "            try:\n",
    "                if type(list_1[i]) == str and type(int(list_1[i])) == int:\n",
    "                    list2.append(int(list_1[i]))\n",
    "                    if int(list_1[i]) % 2 == 0 :\n",
    "                        even_no.append(int(list_1[i]))\n",
    "                elif type(list_1[i]) == int:\n",
    "                    list2.append(list_1[i])\n",
    "                    if list_1[i] % 2 == 0 :\n",
    "                        even_no.append(list_1[i])\n",
    "            except:\n",
    "                pass\n",
    "        return f\"Even numbers present in a list {list2} are {even_no}\"\n",
    "    except Exception as error:\n",
    "        return error"
   ]
  },
  {
   "cell_type": "code",
   "execution_count": 26,
   "id": "7f029e96",
   "metadata": {},
   "outputs": [
    {
     "data": {
      "text/plain": [
       "'Even numbers present in a list [489, 87, 956, 2583, 144, 252] are [956, 144, 252]'"
      ]
     },
     "execution_count": 26,
     "metadata": {},
     "output_type": "execute_result"
    }
   ],
   "source": [
    "list1 = [489,87,956,2583,144,252]\n",
    "\n",
    "even_no_in_list(list1)"
   ]
  },
  {
   "cell_type": "code",
   "execution_count": 27,
   "id": "4aeed712",
   "metadata": {},
   "outputs": [
    {
     "data": {
      "text/plain": [
       "'Even numbers present in a list [5, 5, 5, 6, 6, 51, 5, 5, 23, 5, 5, 51] are [6, 6]'"
      ]
     },
     "execution_count": 27,
     "metadata": {},
     "output_type": "execute_result"
    }
   ],
   "source": [
    "even_no_in_list([5,5,5,6,6,51,5,5,23,5,5,51])"
   ]
  },
  {
   "cell_type": "markdown",
   "id": "e23ea7cb",
   "metadata": {},
   "source": [
    "### 8. Write a Python program to print odd numbers in a List?"
   ]
  },
  {
   "cell_type": "code",
   "execution_count": 28,
   "id": "d7d5d6db",
   "metadata": {},
   "outputs": [],
   "source": [
    "# ANS =\n",
    "\n",
    "def odd_no_in_list(list_1) :\n",
    "    '''Python program to print odd numbers in a list'''\n",
    "    try:\n",
    "        odd_no = []\n",
    "        list2 = []\n",
    "        for i in range(len(list_1)):\n",
    "            try:\n",
    "                if type(list_1[i]) == str and type(int(list_1[i])) == int:\n",
    "                    list2.append(int(list_1[i]))\n",
    "                    if int(list_1[i]) % 2 != 0 :\n",
    "                        odd_no.append(int(list_1[i]))\n",
    "                elif type(list_1[i]) == int:\n",
    "                    list2.append(list_1[i])\n",
    "                    if list_1[i] % 2 != 0 :\n",
    "                        odd_no.append(list_1[i])\n",
    "            except:\n",
    "                pass\n",
    "        return f\"Odd numbers present in a list {list2} are {odd_no}\"\n",
    "    except Exception as error:\n",
    "        return error"
   ]
  },
  {
   "cell_type": "code",
   "execution_count": 29,
   "id": "86e4c72f",
   "metadata": {},
   "outputs": [
    {
     "data": {
      "text/plain": [
       "'Odd numbers present in a list [489, 87, 956, 2583, 144, 252] are [489, 87, 2583]'"
      ]
     },
     "execution_count": 29,
     "metadata": {},
     "output_type": "execute_result"
    }
   ],
   "source": [
    "list1 = [489,87,956,2583,144,252]\n",
    "\n",
    "odd_no_in_list(list1)"
   ]
  },
  {
   "cell_type": "code",
   "execution_count": 30,
   "id": "f51ab4f5",
   "metadata": {},
   "outputs": [
    {
     "data": {
      "text/plain": [
       "'Odd numbers present in a list [5, 5, 5, 6, 6, 51, 5, 5, 23, 5, 5, 51] are [5, 5, 5, 51, 5, 5, 23, 5, 5, 51]'"
      ]
     },
     "execution_count": 30,
     "metadata": {},
     "output_type": "execute_result"
    }
   ],
   "source": [
    "odd_no_in_list([5,5,5,6,6,51,5,5,23,5,5,51])"
   ]
  },
  {
   "cell_type": "markdown",
   "id": "e68046cd",
   "metadata": {},
   "source": [
    "### 9. Write a Python program to Remove empty List from List?"
   ]
  },
  {
   "cell_type": "code",
   "execution_count": 31,
   "id": "39c75eca",
   "metadata": {},
   "outputs": [],
   "source": [
    "# ANS =\n",
    "\n",
    "def remove_empty_list(list1) :\n",
    "    '''Python program to Remove empty List from List'''\n",
    "    try:\n",
    "        list2 = []\n",
    "        for i in range(len(list1)):\n",
    "            try:\n",
    "                if list1[i] != []:\n",
    "                        list2.append(list1[i])\n",
    "                else:\n",
    "                    pass\n",
    "            except:\n",
    "                pass\n",
    "        return f\"List {list1} after removing the empty list from list is {list2}\"\n",
    "    except Exception as error:\n",
    "        return error"
   ]
  },
  {
   "cell_type": "code",
   "execution_count": 32,
   "id": "0e96d8f6",
   "metadata": {},
   "outputs": [
    {
     "data": {
      "text/plain": [
       "'List [[5], 5, [], 5, [], [6], 51, [5], 5, [2], [], [], 51] after removing the empty list from list is [[5], 5, 5, [6], 51, [5], 5, [2], 51]'"
      ]
     },
     "execution_count": 32,
     "metadata": {},
     "output_type": "execute_result"
    }
   ],
   "source": [
    "remove_empty_list([[5],5,[],5,[],[6],51,[5],5,[2],[],[],51])"
   ]
  },
  {
   "cell_type": "code",
   "execution_count": 33,
   "id": "c7c2b6f8",
   "metadata": {},
   "outputs": [
    {
     "data": {
      "text/plain": [
       "'List [[], [], 956, 2583, 144, 252] after removing the empty list from list is [956, 2583, 144, 252]'"
      ]
     },
     "execution_count": 33,
     "metadata": {},
     "output_type": "execute_result"
    }
   ],
   "source": [
    "list1 = [[],[],956,2583,144,252]\n",
    "\n",
    "remove_empty_list(list1)"
   ]
  },
  {
   "cell_type": "markdown",
   "id": "40e469fe",
   "metadata": {},
   "source": [
    "### 10. Write a Python program to Cloning or Copying a list?"
   ]
  },
  {
   "cell_type": "code",
   "execution_count": 34,
   "id": "31099a0a",
   "metadata": {},
   "outputs": [],
   "source": [
    "# ANS =\n",
    "\n",
    "def copy_list(list1):\n",
    "    '''Python program to Cloning or Copying a list'''\n",
    "    try:\n",
    "        print(f\"The entered list is {list1} & its id is {id(list1)}\")\n",
    "        copylist = list1.copy()\n",
    "        return f\"The copied list is {copylist} & its id is {id(copylist)}\"\n",
    "    except Exception as error:\n",
    "        return error"
   ]
  },
  {
   "cell_type": "code",
   "execution_count": 35,
   "id": "37b295ba",
   "metadata": {},
   "outputs": [
    {
     "name": "stdout",
     "output_type": "stream",
     "text": [
      "The entered list is [[], [], 956, 2583, 144, 252] & its id is 2230039951296\n"
     ]
    },
    {
     "data": {
      "text/plain": [
       "'The copied list is [[], [], 956, 2583, 144, 252] & its id is 2230039933952'"
      ]
     },
     "execution_count": 35,
     "metadata": {},
     "output_type": "execute_result"
    }
   ],
   "source": [
    "copy_list([[],[],956,2583,144,252])"
   ]
  },
  {
   "cell_type": "markdown",
   "id": "b933c9ab",
   "metadata": {},
   "source": [
    "### 11. Write a Python program to Count occurrences of an element in a list?"
   ]
  },
  {
   "cell_type": "code",
   "execution_count": 36,
   "id": "e8df50c5",
   "metadata": {},
   "outputs": [],
   "source": [
    "# ANS =\n",
    "\n",
    "def count_occurance(list1):\n",
    "    '''Python program to Count occurrences of an element in a list'''\n",
    "    try:\n",
    "        count = 0\n",
    "        list2 = []\n",
    "        for num in list1:\n",
    "            if num not in list2:\n",
    "                list2.append(num)\n",
    "                print(num, list1.count(num))\n",
    "            else :\n",
    "                continue\n",
    "    except Exception as error:\n",
    "        return error"
   ]
  },
  {
   "cell_type": "code",
   "execution_count": 37,
   "id": "65da67c4",
   "metadata": {},
   "outputs": [
    {
     "name": "stdout",
     "output_type": "stream",
     "text": [
      "5 7\n",
      "6 2\n",
      "51 2\n",
      "23 1\n"
     ]
    }
   ],
   "source": [
    "count_occurance([5,5,5,6,6,51,5,5,23,5,5,51])"
   ]
  },
  {
   "cell_type": "code",
   "execution_count": 38,
   "id": "e7f92776",
   "metadata": {},
   "outputs": [
    {
     "name": "stdout",
     "output_type": "stream",
     "text": [
      "45 2\n",
      "5 4\n",
      "48 1\n",
      "15 3\n",
      "33 2\n",
      "65 1\n",
      "24 2\n",
      "22 1\n",
      "51 2\n",
      "32 2\n",
      "56 1\n"
     ]
    }
   ],
   "source": [
    "list1 = [45,5,48,15,33,65,24,22,5,15,45,5,51,51,33,5,32,32,56,15,24]\n",
    "\n",
    "count_occurance(list1)"
   ]
  }
 ],
 "metadata": {
  "kernelspec": {
   "display_name": "Python 3 (ipykernel)",
   "language": "python",
   "name": "python3"
  },
  "language_info": {
   "codemirror_mode": {
    "name": "ipython",
    "version": 3
   },
   "file_extension": ".py",
   "mimetype": "text/x-python",
   "name": "python",
   "nbconvert_exporter": "python",
   "pygments_lexer": "ipython3",
   "version": "3.9.12"
  }
 },
 "nbformat": 4,
 "nbformat_minor": 5
}
