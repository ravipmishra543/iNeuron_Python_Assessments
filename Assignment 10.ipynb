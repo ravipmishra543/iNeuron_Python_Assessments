{
 "cells": [
  {
   "cell_type": "markdown",
   "id": "bc26bdb1",
   "metadata": {},
   "source": [
    "# ASSIGNMENT NO 10 - SOLUTION"
   ]
  },
  {
   "cell_type": "markdown",
   "id": "4d632b13",
   "metadata": {},
   "source": [
    "### Q.1 How do you distinguish between `shutil.copy()` and `shutil.copytree()`?"
   ]
  },
  {
   "cell_type": "markdown",
   "id": "4c1faa98",
   "metadata": {},
   "source": [
    "**ANS** = **`shutil.copy()`** method is used to copy the contents of a file from one file to another file/folder, it primary takes two arguments `src` & `dest`. `src` represents the file to be copied where as destination refers to the file/folder to where the src data should be copied. If `dest` is a folder name the `src` with exact name will be copied to the dest folder, if its a file then the contents of `src` will be copied to `dest` where `dest` retains it name.\n",
    "\n",
    "**`shutil.copytree()`** function is used to copy the entire contents of a folder to other folder. It also takes two arguments `src` & `dest`, it copies all the content recursively and stores it in dest. The important catch here is `dest` must not exist prior to this and it will be created during the copy operation. Permissions and times of directories are copied with `shutil.copystat()` and individual files are copied using `shutil.copy2()` by default which can be modified using `copy_function` attribute."
   ]
  },
  {
   "cell_type": "markdown",
   "id": "103ffbf8",
   "metadata": {},
   "source": [
    "### Q.2 What function is used to rename files?"
   ]
  },
  {
   "cell_type": "markdown",
   "id": "e40f1bbe",
   "metadata": {},
   "source": [
    "**ANS** = **`os.rename()`** function is used to rename files or directories using a python program, this function takes two arguments `src and dest`, `src` represents the name file/directory which we want to rename, whereas `dest` represents the new name of the file/directory."
   ]
  },
  {
   "cell_type": "markdown",
   "id": "581ddb8d",
   "metadata": {},
   "source": [
    "### Q.3 What is the difference between the delete functions in the send2trash and shutil modules?"
   ]
  },
  {
   "cell_type": "markdown",
   "id": "616a3556",
   "metadata": {},
   "source": [
    "**ANS** = Shutil module provides a funciton called as **`shutil.rmtree()`** which deletes a directory and all its contents. The other functions with similar functionality are **`os.remove()`**` -> removes a file, `**`os.rmdir()`**` -> removes a empty directory`. The problem with these functions is once a file is deleted. It will be lost permanently, if a file is deleted accidentally using these methods there is no way we can recover the deleted file\n",
    "\n",
    "Where as **`send2trash`** module provides a function called **`send2trash.send2trash()`** to delete a file/directory. `These methods moves the files/directories to trash folder instead of permanently deleting them`. Hence if a file/folder is deleted accidentally it can be still recovered from trash folder, if is deleted using the `send2trash.send2trash()` function. `send2trash` is not included with python standard libary like os & shutil modules, it needs to be installed explicitly using the command **`pip install send2trash`**."
   ]
  },
  {
   "cell_type": "markdown",
   "id": "1c4ddec3",
   "metadata": {},
   "source": [
    "### Q.4 ZipFile objects have a `close() method` just like File object's `close() method`. \n",
    "### What ZipFile method is equivalent to File objects’ `open()` method?"
   ]
  },
  {
   "cell_type": "markdown",
   "id": "fd78cdfb",
   "metadata": {},
   "source": [
    "**ANS** = ZipFile Module provides a method called as **`zipfile.ZipFile()`** to read and write to zipFiles. It takes arugments like filename and mode etc., **`zipfile.ZipFile('filename', mode = 'r')`**."
   ]
  },
  {
   "cell_type": "markdown",
   "id": "49b4db76",
   "metadata": {},
   "source": [
    "### Q.5 Create a programme that searches a folder tree for files with a certain file extension (such as .pdf or .jpg). Copy these files from whatever location they are in to a new folder."
   ]
  },
  {
   "cell_type": "code",
   "execution_count": 1,
   "id": "0d0043fe",
   "metadata": {},
   "outputs": [
    {
     "name": "stdout",
     "output_type": "stream",
     "text": [
      "C:\\Users\\krish\\Jupyter Notebook\\ML Krish Hindi\n",
      "C:\\Users\\krish\\Jupyter Notebook\\Dummy Destination\n",
      "Folder Name ➞ C:\\Users\\krish\\Jupyter Notebook\\ML Krish Hindi\n",
      "\n",
      "Sub Folders ➞ []\n",
      "\n",
      "Files ➞ ['1. Linear Regression.ipynb']\n",
      "\n",
      "Files copied successfully from C:\\Users\\krish\\Jupyter Notebook\\ML Krish Hindi to C:\\Users\\krish\\Jupyter Notebook\\Dummy Destination\n"
     ]
    }
   ],
   "source": [
    "def search_and_copy(source,destination,extensions):\n",
    "    import os\n",
    "    import shutil\n",
    "    source = os.path.abspath(source)\n",
    "    print(source)\n",
    "    destination = os.path.abspath(destination)\n",
    "    print(destination)\n",
    "    for foldername, subfolder, filenames in os.walk(source):\n",
    "        print(f'Folder Name ➞ {foldername}',end='\\n\\n')\n",
    "        print(f'Sub Folders ➞ {subfolder}',end='\\n\\n')\n",
    "        print(f'Files ➞ {filenames}',end='\\n\\n')\n",
    "        for filename in filenames:\n",
    "            fileName,extension = os.path.splitext(filename)\n",
    "            if extension in extensions:\n",
    "                targetFile = foldername+os.path.sep+fileName+extension\n",
    "                shutil.copy(targetFile, destination)\n",
    "        print(f'Files copied successfully from {source} to {destination}')\n",
    "    \n",
    "extensions = ['.pdf','.jpg','.ipynb']\n",
    "source = 'C:/Users/krish/Jupyter Notebook/ML Krish Hindi'\n",
    "destination = 'C:/Users/krish/Jupyter Notebook/Dummy Destination'\n",
    "search_and_copy(source, destination, extensions)"
   ]
  }
 ],
 "metadata": {
  "kernelspec": {
   "display_name": "Python 3 (ipykernel)",
   "language": "python",
   "name": "python3"
  },
  "language_info": {
   "codemirror_mode": {
    "name": "ipython",
    "version": 3
   },
   "file_extension": ".py",
   "mimetype": "text/x-python",
   "name": "python",
   "nbconvert_exporter": "python",
   "pygments_lexer": "ipython3",
   "version": "3.9.13"
  }
 },
 "nbformat": 4,
 "nbformat_minor": 5
}
