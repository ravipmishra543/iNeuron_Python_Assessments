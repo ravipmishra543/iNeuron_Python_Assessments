{
 "cells": [
  {
   "cell_type": "markdown",
   "id": "364a5562",
   "metadata": {},
   "source": [
    "# ASSIGNMENT NO 4 - SOLUTION"
   ]
  },
  {
   "cell_type": "markdown",
   "id": "0a615b96",
   "metadata": {},
   "source": [
    "### 1. What exactly is [ ]?"
   ]
  },
  {
   "cell_type": "markdown",
   "id": "be454e53",
   "metadata": {},
   "source": [
    "```\n",
    "ANS = '[ ]', this are called Index Brackets.\n",
    "First, they are used to define \"list literals\", allowing you to declare a list and its contents in your program. Index brackets are also used to write expressions that evaluates to a single item within a list, or a single character in a string.\n",
    "Also, empty list is also represented by [ ].\n",
    "```"
   ]
  },
  {
   "cell_type": "markdown",
   "id": "514b0359",
   "metadata": {},
   "source": [
    "### 2. In a list of values stored in a variable called spam, how would you assign the value 'hello' as the third value? (Assume [2, 4, 6, 8, 10] are in spam.)"
   ]
  },
  {
   "cell_type": "markdown",
   "id": "db046574",
   "metadata": {},
   "source": [
    "```\n",
    "ANS = spam[2] = 'Hello' (by indexing & index value)\n",
    "```"
   ]
  },
  {
   "cell_type": "code",
   "execution_count": 1,
   "id": "14d99422",
   "metadata": {},
   "outputs": [],
   "source": [
    "spam = [2,4,6,8,10]"
   ]
  },
  {
   "cell_type": "code",
   "execution_count": 2,
   "id": "e9793ec8",
   "metadata": {},
   "outputs": [],
   "source": [
    "spam[2] = 'Hello'"
   ]
  },
  {
   "cell_type": "code",
   "execution_count": 3,
   "id": "953f79d5",
   "metadata": {},
   "outputs": [
    {
     "data": {
      "text/plain": [
       "[2, 4, 'Hello', 8, 10]"
      ]
     },
     "execution_count": 3,
     "metadata": {},
     "output_type": "execute_result"
    }
   ],
   "source": [
    "spam"
   ]
  },
  {
   "cell_type": "markdown",
   "id": "cb36b73b",
   "metadata": {},
   "source": [
    "## Let's pretend the spam includes the list ['a', 'b', 'c', 'd'] for the next three queries."
   ]
  },
  {
   "cell_type": "code",
   "execution_count": 4,
   "id": "da2e852e",
   "metadata": {},
   "outputs": [],
   "source": [
    "spam = ['a', 'b', 'c', 'd']"
   ]
  },
  {
   "cell_type": "markdown",
   "id": "e81420f4",
   "metadata": {},
   "source": [
    "### 3. What is the value of spam[int(int('3' * 2) / 11)]?"
   ]
  },
  {
   "cell_type": "markdown",
   "id": "e404c61c",
   "metadata": {},
   "source": [
    "```\n",
    "ANS = Here, '3'*2 (string multiplication) gives '33' (string value) & int('33') gives integer 33 value. These 33 can be divide by 11, ans is 3.0, which is float value. int(3.0) gives 3 as integer value. So,  spam[int(int('3'*2)/11)] calls spam[3], which is 'd'.\n",
    "```"
   ]
  },
  {
   "cell_type": "code",
   "execution_count": 5,
   "id": "e5c62db4",
   "metadata": {},
   "outputs": [
    {
     "data": {
      "text/plain": [
       "'d'"
      ]
     },
     "execution_count": 5,
     "metadata": {},
     "output_type": "execute_result"
    }
   ],
   "source": [
    "spam[int(int('3'*2)/11)]"
   ]
  },
  {
   "cell_type": "markdown",
   "id": "c900a07f",
   "metadata": {},
   "source": [
    "### 4. What is the value of spam[-1]?"
   ]
  },
  {
   "cell_type": "markdown",
   "id": "5893a3ac",
   "metadata": {},
   "source": [
    "```\n",
    "ANS = Negative indexing starts from the end of the iterable. The last element is at index -1, the second last at -2, and so on. Hence, spam[-1] gives 'd' as output.\n",
    "```"
   ]
  },
  {
   "cell_type": "code",
   "execution_count": 6,
   "id": "68911df7",
   "metadata": {},
   "outputs": [
    {
     "data": {
      "text/plain": [
       "'d'"
      ]
     },
     "execution_count": 6,
     "metadata": {},
     "output_type": "execute_result"
    }
   ],
   "source": [
    "spam[-1]"
   ]
  },
  {
   "cell_type": "markdown",
   "id": "6556e92a",
   "metadata": {},
   "source": [
    "### 5. What is the value of spam[:2]?"
   ]
  },
  {
   "cell_type": "markdown",
   "id": "ab291142",
   "metadata": {},
   "source": [
    "```\n",
    "ANS = Here, spam[:2] calls elements from 0 (if starting index is not mention, it selects 0 by-default) to 2, but exclude 2, with jump interval of 1 (if not mentioned then by-default 1. \n",
    "Hence, spam[:2] gives ['a', 'b'].\n",
    "```"
   ]
  },
  {
   "cell_type": "code",
   "execution_count": 7,
   "id": "08ea5e02",
   "metadata": {},
   "outputs": [
    {
     "data": {
      "text/plain": [
       "['a', 'b']"
      ]
     },
     "execution_count": 7,
     "metadata": {},
     "output_type": "execute_result"
    }
   ],
   "source": [
    "spam[:2]"
   ]
  },
  {
   "cell_type": "markdown",
   "id": "79decedb",
   "metadata": {},
   "source": [
    "## Let's pretend bacon has the list [3.14, 'cat,' 11, 'cat,' True] for the next three questions."
   ]
  },
  {
   "cell_type": "code",
   "execution_count": 8,
   "id": "a9619948",
   "metadata": {},
   "outputs": [],
   "source": [
    "bacon = [3.14, 'cat', 11, 'cat', True]"
   ]
  },
  {
   "cell_type": "markdown",
   "id": "06049ba6",
   "metadata": {},
   "source": [
    "### 6. What is the value of bacon.index('cat')?"
   ]
  },
  {
   "cell_type": "markdown",
   "id": "8ceb3e85",
   "metadata": {},
   "source": [
    "```\n",
    "ANS = The value of bacon.index('cat') is 1. As index method returns index value of first occurance of 'cat'.\n",
    "```"
   ]
  },
  {
   "cell_type": "code",
   "execution_count": 9,
   "id": "5a54b628",
   "metadata": {},
   "outputs": [
    {
     "data": {
      "text/plain": [
       "1"
      ]
     },
     "execution_count": 9,
     "metadata": {},
     "output_type": "execute_result"
    }
   ],
   "source": [
    "bacon.index('cat')"
   ]
  },
  {
   "cell_type": "markdown",
   "id": "e50cddf3",
   "metadata": {},
   "source": [
    "### 7. How does bacon.append(99) change the look of the list value in bacon?"
   ]
  },
  {
   "cell_type": "markdown",
   "id": "b2afbcad",
   "metadata": {},
   "source": [
    "```\n",
    "ANS = The 'append' method adds new element to the end of the list.\n",
    "```"
   ]
  },
  {
   "cell_type": "code",
   "execution_count": 10,
   "id": "85101658",
   "metadata": {},
   "outputs": [
    {
     "data": {
      "text/plain": [
       "[3.14, 'cat', 11, 'cat', True, 99]"
      ]
     },
     "execution_count": 10,
     "metadata": {},
     "output_type": "execute_result"
    }
   ],
   "source": [
    "bacon.append(99)\n",
    "bacon"
   ]
  },
  {
   "cell_type": "markdown",
   "id": "288e0cdf",
   "metadata": {},
   "source": [
    "### 8. How does bacon.remove('cat') change the look of the list in bacon?"
   ]
  },
  {
   "cell_type": "markdown",
   "id": "ede0775e",
   "metadata": {},
   "source": [
    "```\n",
    "ANS = The 'remove' method removes the first matching element (which is passed as an argument) from the list.\n",
    "```"
   ]
  },
  {
   "cell_type": "code",
   "execution_count": 11,
   "id": "7690d82a",
   "metadata": {},
   "outputs": [
    {
     "data": {
      "text/plain": [
       "[3.14, 11, 'cat', True, 99]"
      ]
     },
     "execution_count": 11,
     "metadata": {},
     "output_type": "execute_result"
    }
   ],
   "source": [
    "bacon.remove('cat')\n",
    "bacon"
   ]
  },
  {
   "cell_type": "markdown",
   "id": "5433cb35",
   "metadata": {},
   "source": [
    "### 9. What are the list concatenation and list replication operators?"
   ]
  },
  {
   "cell_type": "markdown",
   "id": "f16aaf46",
   "metadata": {},
   "source": [
    "```\n",
    "ANS = The operator for list concatenation is + and the operator for replication is *.\n",
    "```"
   ]
  },
  {
   "cell_type": "code",
   "execution_count": 12,
   "id": "e716cc26",
   "metadata": {},
   "outputs": [],
   "source": [
    "# Example\n",
    "list1 = [1, 2, 3, 4]\n",
    "list2 = ['name', 'address', 'age']"
   ]
  },
  {
   "cell_type": "code",
   "execution_count": 13,
   "id": "351b62bb",
   "metadata": {},
   "outputs": [
    {
     "name": "stdout",
     "output_type": "stream",
     "text": [
      "[1, 2, 3, 4, 'name', 'address', 'age']\n"
     ]
    }
   ],
   "source": [
    "# list concatination\n",
    "print( list1 + list2 )"
   ]
  },
  {
   "cell_type": "code",
   "execution_count": 14,
   "id": "b63f1e35",
   "metadata": {},
   "outputs": [
    {
     "name": "stdout",
     "output_type": "stream",
     "text": [
      "[1, 2, 3, 4, 1, 2, 3, 4]\n"
     ]
    }
   ],
   "source": [
    "# list replication\n",
    "print( list1*2 )"
   ]
  },
  {
   "cell_type": "markdown",
   "id": "a8561240",
   "metadata": {},
   "source": [
    "### 10. What is difference between the list methods append() and insert()?"
   ]
  },
  {
   "cell_type": "markdown",
   "id": "cf69685b",
   "metadata": {},
   "source": [
    "```\n",
    "ANS = The only difference between append() and insert() is that insert function allows us to add a specific element at a specified index of the list unlike append() where we can add the element only at end of the list.\n",
    "```"
   ]
  },
  {
   "cell_type": "code",
   "execution_count": 15,
   "id": "fcf79125",
   "metadata": {},
   "outputs": [],
   "source": [
    "# Example\n",
    "list1.append(45)\n",
    "list1.insert(2, 99)"
   ]
  },
  {
   "cell_type": "code",
   "execution_count": 16,
   "id": "1f9cf28c",
   "metadata": {},
   "outputs": [
    {
     "name": "stdout",
     "output_type": "stream",
     "text": [
      "[1, 2, 99, 3, 4, 45]\n"
     ]
    }
   ],
   "source": [
    "print( list1 )"
   ]
  },
  {
   "cell_type": "markdown",
   "id": "f57a3873",
   "metadata": {},
   "source": [
    "### 11. What are the two methods for removing items from a list?"
   ]
  },
  {
   "cell_type": "markdown",
   "id": "2e269375",
   "metadata": {},
   "source": [
    "```\n",
    "ANS = In Python, there are many methods available to remove an element from a list data type. The methods are remove(), pop() & clear(), also by del keyword.\n",
    "\n",
    "    1. remove() method = \n",
    "        1. The remove() method is a built-in method available with list. \n",
    "        2. It removes the given element very first matching from the list. \n",
    "        3. It takes the value as an argument, so the value has to pass with the correct datatype. \n",
    "        4. If the given element is not present in the list, it will throw an error saying \n",
    "           the element is not in the list.\n",
    "        5. Syntax : list.remove(element)\n",
    "    \n",
    "    2. pop() method = \n",
    "        1. The pop() method removes an element from the list based on the index given. \n",
    "        2. This method has only one argument called index. \n",
    "        3. If the index given is not present, or out of range, the pop() method throws \n",
    "           an error saying IndexError: pop index.\n",
    "        4. The index argument is optional. If not passed, the default value is considered -1, \n",
    "           and the last element from the list is returned.\n",
    "        5. Syntax : list.pop(index)\n",
    "    \n",
    "    3. clear() method =\n",
    "        1. The clear() method will remove the elements present in the list.\n",
    "        2. Syntax : list.clear()\n",
    "        3. The clear() method will empty the given list.\n",
    "    \n",
    "    4. del keyword =\n",
    "        1. To remove an element from the list, we have to pass the index of the element to \n",
    "           the list. The index starts at 0.\n",
    "        2. Syntax : del list[index] / del list[start:stop]\n",
    "        3. We can also slice a range of elements from the list using del keyword. \n",
    "        4. The start/stop index from the list can be given to del keyword, and the elements \n",
    "           falling in that range will be removed.\n",
    "```"
   ]
  },
  {
   "cell_type": "code",
   "execution_count": 17,
   "id": "611f5b1c",
   "metadata": {},
   "outputs": [],
   "source": [
    "remove_items = ['kdp', 'Mumbai', 25, 1, 2, 45,8,62,5,8,9,855,6989, 15]"
   ]
  },
  {
   "cell_type": "code",
   "execution_count": 18,
   "id": "b2b59bc2",
   "metadata": {},
   "outputs": [
    {
     "name": "stdout",
     "output_type": "stream",
     "text": [
      "['kdp', 'Mumbai', 25, 1, 2, 45, 8, 62, 5, 8, 9, 6989, 15]\n"
     ]
    }
   ],
   "source": [
    "# remove() method\n",
    "remove_items.remove(855)\n",
    "print(remove_items)"
   ]
  },
  {
   "cell_type": "code",
   "execution_count": 19,
   "id": "a3d9bade",
   "metadata": {},
   "outputs": [
    {
     "name": "stdout",
     "output_type": "stream",
     "text": [
      "['kdp', 'Mumbai', 25, 1, 45, 8, 62, 5, 8, 9, 6989]\n"
     ]
    }
   ],
   "source": [
    "# pop() method\n",
    "remove_items.pop()\n",
    "remove_items.pop(4)\n",
    "print(remove_items)"
   ]
  },
  {
   "cell_type": "code",
   "execution_count": 20,
   "id": "43e2aaad",
   "metadata": {},
   "outputs": [
    {
     "name": "stdout",
     "output_type": "stream",
     "text": [
      "['kdp', 'Mumbai', 1, 45, 8, 62, 5, 8, 9, 6989]\n"
     ]
    }
   ],
   "source": [
    "# del keyword\n",
    "del remove_items[2]\n",
    "print(remove_items)"
   ]
  },
  {
   "cell_type": "code",
   "execution_count": 21,
   "id": "78e42721",
   "metadata": {},
   "outputs": [
    {
     "name": "stdout",
     "output_type": "stream",
     "text": [
      "['kdp', 8, 62, 5, 8, 9, 6989]\n"
     ]
    }
   ],
   "source": [
    "# del keyword\n",
    "del remove_items[1:4]\n",
    "print(remove_items)"
   ]
  },
  {
   "cell_type": "code",
   "execution_count": 22,
   "id": "be8ee84c",
   "metadata": {},
   "outputs": [
    {
     "name": "stdout",
     "output_type": "stream",
     "text": [
      "[]\n"
     ]
    }
   ],
   "source": [
    "# clear method\n",
    "remove_items.clear()\n",
    "print(remove_items)"
   ]
  },
  {
   "cell_type": "markdown",
   "id": "5eb6c455",
   "metadata": {},
   "source": [
    "### 12. Describe how list values and string values are identical."
   ]
  },
  {
   "cell_type": "markdown",
   "id": "4b848b68",
   "metadata": {},
   "source": [
    "```\n",
    "ANS = A List is an organized sequence of object types and a String is an ordered sequence of characters.\n",
    "\n",
    "The Similarities Between Strings And Lists Are:-\n",
    "    1. The main similarity between Strings and List is that in Python both are sequences. A string is a character's sequence between single or double quotations. A list is an item sequence in which each item could be anything such as a float, an integer, a string, etc.\n",
    "    \n",
    "    2. The second similarity between Strings and Lists is that both have lengths. A length of a string is the number of characters in the string and a length of a list is the number of items in the list.\n",
    "    \n",
    "    3. The third similarity between Strings and Lists is that both strings and lists have a position. Every character in a string as well as every item in a list has a position which is known as an index.\n",
    "```"
   ]
  },
  {
   "cell_type": "markdown",
   "id": "4b97aaed",
   "metadata": {},
   "source": [
    "### 13. What's the difference between tuples and lists?"
   ]
  },
  {
   "cell_type": "markdown",
   "id": "f0c5d1ca",
   "metadata": {},
   "source": [
    "```\n",
    "ANS = List and Tuple in python are classes of python data structures. List is dynamic, means it can be modified whereas Tuple is static means it cannot be modified.\n",
    "\n",
    "Important differences between List & Tuple in puthon as below :\n",
    "    1. List are mutable.\n",
    "       Tuples are immutable.\n",
    "    2. List   -  Iterations are time consuming.\n",
    "       Tuple  -  Iterations are comparatively faster.\n",
    "    3. List   -  Denoted by [ ].\n",
    "       Tuple  -  Denoted by ( ).\n",
    "    4. List   -  Consume more memory.\n",
    "       Tuple  -  Consume less memory.\n",
    "    5. List   -  Several built-in method.\n",
    "       Tuple  -  Does not have many built in method.\n",
    "    6. List   -  Unexpected changes & errors are more likely to occur.\n",
    "       Tuple  -  It is hard to take place a error.\n",
    "```"
   ]
  },
  {
   "cell_type": "markdown",
   "id": "12f34da2",
   "metadata": {},
   "source": [
    "### 14. How do you type a tuple value that only contains the integer 42?"
   ]
  },
  {
   "cell_type": "markdown",
   "id": "551d45d3",
   "metadata": {},
   "source": [
    "```\n",
    "ANS = (42,). The trailing comma is mandetory otherwise it is considered as a integer by python interpreter.\n",
    "```"
   ]
  },
  {
   "cell_type": "code",
   "execution_count": 23,
   "id": "1ce998ea",
   "metadata": {},
   "outputs": [
    {
     "name": "stdout",
     "output_type": "stream",
     "text": [
      "<class 'int'>\n",
      "<class 'tuple'>\n"
     ]
    }
   ],
   "source": [
    "tup1 = (42)\n",
    "tup2 = (42,)\n",
    "print(type(tup1))\n",
    "print(type(tup2))"
   ]
  },
  {
   "cell_type": "markdown",
   "id": "c3142b4e",
   "metadata": {},
   "source": [
    "### 15. How do you get a list value's tuple form? How do you get a tuple value's list form?"
   ]
  },
  {
   "cell_type": "markdown",
   "id": "dab2696a",
   "metadata": {},
   "source": [
    "```\n",
    "ANS = To convert list into tuple, use tuple() function.\n",
    "      To convert tuple unto list, use list() function.\n",
    "```"
   ]
  },
  {
   "cell_type": "markdown",
   "id": "1537d588",
   "metadata": {},
   "source": [
    "### 16. Variables that \"contain\" list values are not necessarily lists themselves. Instead, what do they contain?"
   ]
  },
  {
   "cell_type": "markdown",
   "id": "1b60b590",
   "metadata": {},
   "source": [
    "```\n",
    "ANS = They contain references to list values.\n",
    "```"
   ]
  },
  {
   "cell_type": "markdown",
   "id": "0f1da382",
   "metadata": {},
   "source": [
    "### 17. How do you distinguish between copy.copy() and copy.deepcopy()?"
   ]
  },
  {
   "cell_type": "markdown",
   "id": "85c21eb0",
   "metadata": {},
   "source": [
    "```\n",
    "ANS = The copy.copy() function will do a shallow copy of a list, while the copy.deepcopy() function will do a deep copy of a list. That is, only copy.deepcopy() will duplicate any lists inside the list.\n",
    "```"
   ]
  }
 ],
 "metadata": {
  "kernelspec": {
   "display_name": "Python 3 (ipykernel)",
   "language": "python",
   "name": "python3"
  },
  "language_info": {
   "codemirror_mode": {
    "name": "ipython",
    "version": 3
   },
   "file_extension": ".py",
   "mimetype": "text/x-python",
   "name": "python",
   "nbconvert_exporter": "python",
   "pygments_lexer": "ipython3",
   "version": "3.9.12"
  }
 },
 "nbformat": 4,
 "nbformat_minor": 5
}
