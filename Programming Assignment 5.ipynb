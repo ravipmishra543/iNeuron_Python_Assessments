{
 "cells": [
  {
   "cell_type": "markdown",
   "id": "3cc591b4",
   "metadata": {},
   "source": [
    "# PROGRAMMING ASSIGNMENT NO 5 - SOLUTION"
   ]
  },
  {
   "cell_type": "markdown",
   "id": "b64d46fa",
   "metadata": {},
   "source": [
    "### 1. Write a Python Program to Find LCM?"
   ]
  },
  {
   "cell_type": "code",
   "execution_count": 1,
   "id": "2f458182",
   "metadata": {},
   "outputs": [],
   "source": [
    "# ANS =\n",
    "\n",
    "def LCM(num1, num2) :\n",
    "    '''This function helps to find LCM of two numbers.'''\n",
    "    try :\n",
    "        if num1 == 0 or num2 == 0:\n",
    "            return 'LCM of 0 is not possible.'\n",
    "        else :\n",
    "            num3 = abs(num1)\n",
    "            # abs() function is used to convert -ve integer into +ve integer.\n",
    "            # similarly, -abs() function is used to convert +ve integer into -ve integer.\n",
    "            num4 = abs(num2)\n",
    "            if num3 < num4 :\n",
    "                greater = num4 \n",
    "            else :\n",
    "                greater = num3\n",
    "            while True :\n",
    "                if (greater % num3 == 0) and (greater % num4 == 0):\n",
    "                    lcm = greater\n",
    "                    break\n",
    "                else :\n",
    "                    greater += 1\n",
    "            return f\"The LCM of {num1} & {num2} is {lcm}.\"\n",
    "    except Exception as error :\n",
    "        return error"
   ]
  },
  {
   "cell_type": "code",
   "execution_count": 2,
   "id": "8d3b5252",
   "metadata": {},
   "outputs": [
    {
     "data": {
      "text/plain": [
       "'The LCM of -1 & 45 is 45.'"
      ]
     },
     "execution_count": 2,
     "metadata": {},
     "output_type": "execute_result"
    }
   ],
   "source": [
    "LCM(-1,45)"
   ]
  },
  {
   "cell_type": "code",
   "execution_count": 3,
   "id": "7c0e2ff9",
   "metadata": {},
   "outputs": [
    {
     "data": {
      "text/plain": [
       "'LCM of 0 is not possible.'"
      ]
     },
     "execution_count": 3,
     "metadata": {},
     "output_type": "execute_result"
    }
   ],
   "source": [
    "LCM(0,5)"
   ]
  },
  {
   "cell_type": "code",
   "execution_count": 4,
   "id": "f8076315",
   "metadata": {},
   "outputs": [
    {
     "data": {
      "text/plain": [
       "'The LCM of 29 & 67 is 1943.'"
      ]
     },
     "execution_count": 4,
     "metadata": {},
     "output_type": "execute_result"
    }
   ],
   "source": [
    "LCM(29,67)"
   ]
  },
  {
   "cell_type": "code",
   "execution_count": 5,
   "id": "e988c7b2",
   "metadata": {},
   "outputs": [
    {
     "data": {
      "text/plain": [
       "'The LCM of 5 & 5 is 5.'"
      ]
     },
     "execution_count": 5,
     "metadata": {},
     "output_type": "execute_result"
    }
   ],
   "source": [
    "LCM(5,5)"
   ]
  },
  {
   "cell_type": "markdown",
   "id": "8aa37839",
   "metadata": {},
   "source": [
    "### 2. Write a Python Program to Find HCF?"
   ]
  },
  {
   "cell_type": "code",
   "execution_count": 6,
   "id": "4d7e9c36",
   "metadata": {},
   "outputs": [],
   "source": [
    "# ANS =\n",
    "\n",
    "def HCF(num1, num2):\n",
    "    \"\"\"This function helps to find HCM of given two numbers.\"\"\"\n",
    "    try:\n",
    "        if num1 == 0 or num2 == 0:\n",
    "            return 'HCF of 0 is not possible.'\n",
    "        else:\n",
    "            if num1 > num2 :\n",
    "                smaller = abs(num2)\n",
    "            else:\n",
    "                smaller = abs(num1)\n",
    "            for i in range(1, smaller+1):\n",
    "                if (num1 % i == 0) and (num2 % i == 0):\n",
    "                    hcf = i\n",
    "            return f\"The HCF of {num1} & {num2} is {hcf}.\"      \n",
    "    except Exception as error:\n",
    "        return error"
   ]
  },
  {
   "cell_type": "code",
   "execution_count": 7,
   "id": "864c84cc",
   "metadata": {},
   "outputs": [
    {
     "data": {
      "text/plain": [
       "'The HCF of 5 & 10 is 5.'"
      ]
     },
     "execution_count": 7,
     "metadata": {},
     "output_type": "execute_result"
    }
   ],
   "source": [
    "HCF(5,10)"
   ]
  },
  {
   "cell_type": "code",
   "execution_count": 8,
   "id": "3d5ee89b",
   "metadata": {},
   "outputs": [
    {
     "name": "stdout",
     "output_type": "stream",
     "text": [
      "Enter 1st no = -9\n",
      "Enter 2nd no = 45\n"
     ]
    },
    {
     "data": {
      "text/plain": [
       "'The HCF of -9 & 45 is 9.'"
      ]
     },
     "execution_count": 8,
     "metadata": {},
     "output_type": "execute_result"
    }
   ],
   "source": [
    "num1 = int(input(\"Enter 1st no = \"))\n",
    "num2 = int(input(\"Enter 2nd no = \"))\n",
    "\n",
    "HCF(num1, num2)"
   ]
  },
  {
   "cell_type": "code",
   "execution_count": 9,
   "id": "665f40f5",
   "metadata": {},
   "outputs": [
    {
     "name": "stdout",
     "output_type": "stream",
     "text": [
      "Enter 1st no = 15\n",
      "Enter 2nd no = 469\n"
     ]
    },
    {
     "data": {
      "text/plain": [
       "'The HCF of 15 & 469 is 1.'"
      ]
     },
     "execution_count": 9,
     "metadata": {},
     "output_type": "execute_result"
    }
   ],
   "source": [
    "num1 = int(input(\"Enter 1st no = \"))\n",
    "num2 = int(input(\"Enter 2nd no = \"))\n",
    "\n",
    "HCF(num1, num2)"
   ]
  },
  {
   "cell_type": "markdown",
   "id": "d98f2a37",
   "metadata": {},
   "source": [
    "### 3. Write a Python Program to Convert Decimal to Binary, Octal and Hexadecimal?"
   ]
  },
  {
   "cell_type": "code",
   "execution_count": 10,
   "id": "975b4211",
   "metadata": {},
   "outputs": [],
   "source": [
    "# ANS =\n",
    "\n",
    "def bin_oct_hexD(num):\n",
    "    '''This function converts decimal to Binary, Octal & Hexadecimal values.'''\n",
    "    try :\n",
    "        return print(f\"Binary number of {num} is {bin(num)}.\", f\"Octal number of {num} is {oct(num)}.\", f\"Hexadecimal number of {num} is {hex(num)}\", sep = '\\n')\n",
    "    except Exception as error :\n",
    "        return error"
   ]
  },
  {
   "cell_type": "code",
   "execution_count": 11,
   "id": "b326f9b6",
   "metadata": {},
   "outputs": [
    {
     "name": "stdout",
     "output_type": "stream",
     "text": [
      "Enter a number to convert = 9\n",
      "Binary number of 9 is 0b1001.\n",
      "Octal number of 9 is 0o11.\n",
      "Hexadecimal number of 9 is 0x9\n"
     ]
    }
   ],
   "source": [
    "num = int(input(\"Enter a number to convert = \"))\n",
    "\n",
    "bin_oct_hexD(num)"
   ]
  },
  {
   "cell_type": "code",
   "execution_count": 12,
   "id": "3dec4190",
   "metadata": {},
   "outputs": [
    {
     "name": "stdout",
     "output_type": "stream",
     "text": [
      "Enter a number to convert = 20\n",
      "Binary number of 20 is 0b10100.\n",
      "Octal number of 20 is 0o24.\n",
      "Hexadecimal number of 20 is 0x14\n"
     ]
    }
   ],
   "source": [
    "num = int(input(\"Enter a number to convert = \"))\n",
    "\n",
    "bin_oct_hexD(num)"
   ]
  },
  {
   "cell_type": "markdown",
   "id": "52813455",
   "metadata": {},
   "source": [
    "### 4. Write a Python Program To Find ASCII value of a character?"
   ]
  },
  {
   "cell_type": "code",
   "execution_count": 13,
   "id": "fb51b865",
   "metadata": {},
   "outputs": [],
   "source": [
    "# ANS =\n",
    "\n",
    "def ascii_value(character):\n",
    "    '''This function gives ASCII value of character.\n",
    "    The ASCII value represents the character variable in numbers.'''\n",
    "    try:\n",
    "        if type(character) == int :\n",
    "            character = str(character)\n",
    "        if len(character) == 1:\n",
    "            return f\"The ASCII value of '{character}' is {ord(character)}.\"\n",
    "        else:\n",
    "            raise TypeError(\"Enter only single character.\")\n",
    "    except Exception as error :\n",
    "        return error"
   ]
  },
  {
   "cell_type": "code",
   "execution_count": 14,
   "id": "07573abe",
   "metadata": {},
   "outputs": [
    {
     "data": {
      "text/plain": [
       "TypeError('Enter only single character.')"
      ]
     },
     "execution_count": 14,
     "metadata": {},
     "output_type": "execute_result"
    }
   ],
   "source": [
    "ascii_value('aa')"
   ]
  },
  {
   "cell_type": "code",
   "execution_count": 15,
   "id": "133d1887",
   "metadata": {},
   "outputs": [
    {
     "data": {
      "text/plain": [
       "\"The ASCII value of 'g' is 103.\""
      ]
     },
     "execution_count": 15,
     "metadata": {},
     "output_type": "execute_result"
    }
   ],
   "source": [
    "ascii_value('g')"
   ]
  },
  {
   "cell_type": "code",
   "execution_count": 16,
   "id": "e0507257",
   "metadata": {},
   "outputs": [
    {
     "data": {
      "text/plain": [
       "\"The ASCII value of '5' is 53.\""
      ]
     },
     "execution_count": 16,
     "metadata": {},
     "output_type": "execute_result"
    }
   ],
   "source": [
    "ascii_value(5)"
   ]
  },
  {
   "cell_type": "code",
   "execution_count": 17,
   "id": "96f4449b",
   "metadata": {},
   "outputs": [
    {
     "data": {
      "text/plain": [
       "TypeError('Enter only single character.')"
      ]
     },
     "execution_count": 17,
     "metadata": {},
     "output_type": "execute_result"
    }
   ],
   "source": [
    "ascii_value([1,2])"
   ]
  },
  {
   "cell_type": "markdown",
   "id": "7269e24f",
   "metadata": {},
   "source": [
    "### 5. Write a Python Program to Make a Simple Calculator with 4 basic mathematical operations?"
   ]
  },
  {
   "cell_type": "code",
   "execution_count": 18,
   "id": "bc21bc96",
   "metadata": {},
   "outputs": [
    {
     "name": "stdout",
     "output_type": "stream",
     "text": [
      "Select a Arithmetic Operation:         \n",
      "1.Addition(+)        \n",
      "2.Division(-)        \n",
      "2.Multiplication(*)        \n",
      "4.Division(/)        \n",
      "3.Stop(0)\n",
      "\n",
      "Enter a arithmetic operation -> +\n",
      "\n",
      "Enter 1st Number: 15\n",
      "Enter 2nd Number: -76\n",
      "15+-76=-61\n",
      "\n",
      "Enter a arithmetic operation -> -\n",
      "\n",
      "Enter 1st Number: -12\n",
      "Enter 2nd Number: 25\n",
      "-12-25=-37\n",
      "\n",
      "Enter a arithmetic operation -> *\n",
      "\n",
      "Enter 1st Number: -4\n",
      "Enter 2nd Number: -5\n",
      "-4*-5=20\n",
      "\n",
      "Enter a arithmetic operation -> /\n",
      "\n",
      "Enter 1st Number: 25\n",
      "Enter 2nd Number: 10\n",
      "25/10=2.5\n",
      "\n",
      "Enter a arithmetic operation -> 0\n",
      "Program Stopped successfully\n"
     ]
    }
   ],
   "source": [
    "# ANS =\n",
    "\n",
    "import operator\n",
    "\n",
    "calc = { \"+\": operator.add, \"-\": operator.sub, \"*\":operator.mul, \"/\":operator.truediv }\n",
    "\n",
    "print('Select a Arithmetic Operation: \\\n",
    "        \\n1.Addition(+)\\\n",
    "        \\n2.Division(-)\\\n",
    "        \\n2.Multiplication(*)\\\n",
    "        \\n4.Division(/)\\\n",
    "        \\n3.Stop(0)\\n')\n",
    "\n",
    "while True:\n",
    "    operator = input('Enter a arithmetic operation -> ')\n",
    "    if operator == '0':\n",
    "        print(\"Program Stopped successfully\")\n",
    "        break\n",
    "    elif operator not in ['+','-','*','/']:\n",
    "        print(\"Please enter a valid operator\")\n",
    "    else:\n",
    "        num_1 = int(input('\\nEnter 1st Number: '))\n",
    "        num_2 = int(input('Enter 2nd Number: '))\n",
    "        print(f'{num_1}{operator}{num_2}={calc[operator](num_1,num_2)}\\n')"
   ]
  }
 ],
 "metadata": {
  "kernelspec": {
   "display_name": "Python 3 (ipykernel)",
   "language": "python",
   "name": "python3"
  },
  "language_info": {
   "codemirror_mode": {
    "name": "ipython",
    "version": 3
   },
   "file_extension": ".py",
   "mimetype": "text/x-python",
   "name": "python",
   "nbconvert_exporter": "python",
   "pygments_lexer": "ipython3",
   "version": "3.9.12"
  }
 },
 "nbformat": 4,
 "nbformat_minor": 5
}
